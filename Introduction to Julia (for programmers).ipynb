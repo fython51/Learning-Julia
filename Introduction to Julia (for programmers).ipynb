{
 "cells": [
  {
   "cell_type": "markdown",
   "metadata": {},
   "source": [
    "# Introduction to Julia (for programmers)\n",
    "---\n",
    "This markdown document contains notes related to [this](https://juliaacademy.com/courses/enrolled/375479) Julia Academy course. \n",
    "[This](https://github.com/JuliaAcademy/Introduction-to-Julia) repo contains the notebooks from the course instructors.\n",
    "\n",
    "<br>\n",
    "\n",
    "## Introduction and setup\n",
    "### [First steps](https://juliaacademy.com/courses/375479/lectures/16882463)\n",
    "Follow [these instructions](https://juliaacademy.com/p/getting-started-with-juliaacademy) to set up your Julia environment. \\\n",
    "Follow [these instructions](https://datatofish.com/add-julia-to-jupyter/) to use Julia in Jupyter Notebooks.\n",
    "\n",
    "<br>\n",
    "\n",
    "## Basics\n",
    "### [Variables and Printing](https://juliaacademy.com/courses/375479/lectures/5815852)\n",
    "- Use `println(x)` to print a variable `x` onto a **new line** (that's the `ln` part).\n",
    "- Julia has dynamic typing, so you don't need to explicitly state the variable type:"
   ]
  },
  {
   "cell_type": "code",
   "execution_count": 1,
   "metadata": {},
   "outputs": [
    {
     "data": {
      "text/plain": [
       "Int64"
      ]
     },
     "execution_count": 1,
     "metadata": {},
     "output_type": "execute_result"
    }
   ],
   "source": [
    "my_answer = 42\n",
    "typeof(my_answer)"
   ]
  },
  {
   "cell_type": "code",
   "execution_count": 2,
   "metadata": {},
   "outputs": [
    {
     "data": {
      "text/plain": [
       "Float64"
      ]
     },
     "execution_count": 2,
     "metadata": {},
     "output_type": "execute_result"
    }
   ],
   "source": [
    "my_pi = 3.14159\n",
    "typeof(my_pi)"
   ]
  },
  {
   "cell_type": "code",
   "execution_count": 3,
   "metadata": {},
   "outputs": [],
   "source": [
    "# You can leave comments on a single line using the pound/hash key\n",
    "\n",
    "#=\n",
    "For multi-line comments use the '#= =#' sequence.\n",
    "=#"
   ]
  },
  {
   "cell_type": "markdown",
   "metadata": {},
   "source": [
    "Operators are standard, see the examples below:"
   ]
  },
  {
   "cell_type": "code",
   "execution_count": 4,
   "metadata": {},
   "outputs": [
    {
     "data": {
      "text/plain": [
       "1"
      ]
     },
     "execution_count": 4,
     "metadata": {},
     "output_type": "execute_result"
    }
   ],
   "source": [
    "sum = 3 + 7\n",
    "difference = 10 - 3\n",
    "product = 20 * 5\n",
    "quotient = 100 / 10\n",
    "power = 10 ^ 2\n",
    "modulus = 101 % 2"
   ]
  },
  {
   "cell_type": "markdown",
   "metadata": {},
   "source": [
    "<br>\n",
    "\n",
    "#### Exercises:\n",
    "##### 1.1 \n",
    "Look up docs for the `convert` function."
   ]
  },
  {
   "cell_type": "code",
   "execution_count": 5,
   "metadata": {},
   "outputs": [
    {
     "data": {
      "text/latex": [
       "\\begin{verbatim}\n",
       "convert(T, x)\n",
       "\\end{verbatim}\n",
       "Convert \\texttt{x} to a value of type \\texttt{T}.\n",
       "\n",
       "If \\texttt{T} is an \\href{@ref}{\\texttt{Integer}} type, an \\href{@ref}{\\texttt{InexactError}} will be raised if \\texttt{x} is not representable by \\texttt{T}, for example if \\texttt{x} is not integer-valued, or is outside the range supported by \\texttt{T}.\n",
       "\n",
       "\\section{Examples}\n",
       "\\begin{verbatim}\n",
       "julia> convert(Int, 3.0)\n",
       "3\n",
       "\n",
       "julia> convert(Int, 3.5)\n",
       "ERROR: InexactError: Int64(3.5)\n",
       "Stacktrace:\n",
       "[...]\n",
       "\\end{verbatim}\n",
       "If \\texttt{T} is a \\href{@ref}{\\texttt{AbstractFloat}} type, then it will return the closest value to \\texttt{x} representable by \\texttt{T}.\n",
       "\n",
       "\\begin{verbatim}\n",
       "julia> x = 1/3\n",
       "0.3333333333333333\n",
       "\n",
       "julia> convert(Float32, x)\n",
       "0.33333334f0\n",
       "\n",
       "julia> convert(BigFloat, x)\n",
       "0.333333333333333314829616256247390992939472198486328125\n",
       "\\end{verbatim}\n",
       "If \\texttt{T} is a collection type and \\texttt{x} a collection, the result of \\texttt{convert(T, x)} may alias all or part of \\texttt{x}.\n",
       "\n",
       "\\begin{verbatim}\n",
       "julia> x = Int[1, 2, 3];\n",
       "\n",
       "julia> y = convert(Vector{Int}, x);\n",
       "\n",
       "julia> y === x\n",
       "true\n",
       "\\end{verbatim}\n",
       "See also: \\href{@ref}{\\texttt{round}}, \\href{@ref}{\\texttt{trunc}}, \\href{@ref}{\\texttt{oftype}}, \\href{@ref}{\\texttt{reinterpret}}.\n",
       "\n"
      ],
      "text/markdown": [
       "```\n",
       "convert(T, x)\n",
       "```\n",
       "\n",
       "Convert `x` to a value of type `T`.\n",
       "\n",
       "If `T` is an [`Integer`](@ref) type, an [`InexactError`](@ref) will be raised if `x` is not representable by `T`, for example if `x` is not integer-valued, or is outside the range supported by `T`.\n",
       "\n",
       "# Examples\n",
       "\n",
       "```jldoctest\n",
       "julia> convert(Int, 3.0)\n",
       "3\n",
       "\n",
       "julia> convert(Int, 3.5)\n",
       "ERROR: InexactError: Int64(3.5)\n",
       "Stacktrace:\n",
       "[...]\n",
       "```\n",
       "\n",
       "If `T` is a [`AbstractFloat`](@ref) type, then it will return the closest value to `x` representable by `T`.\n",
       "\n",
       "```jldoctest\n",
       "julia> x = 1/3\n",
       "0.3333333333333333\n",
       "\n",
       "julia> convert(Float32, x)\n",
       "0.33333334f0\n",
       "\n",
       "julia> convert(BigFloat, x)\n",
       "0.333333333333333314829616256247390992939472198486328125\n",
       "```\n",
       "\n",
       "If `T` is a collection type and `x` a collection, the result of `convert(T, x)` may alias all or part of `x`.\n",
       "\n",
       "```jldoctest\n",
       "julia> x = Int[1, 2, 3];\n",
       "\n",
       "julia> y = convert(Vector{Int}, x);\n",
       "\n",
       "julia> y === x\n",
       "true\n",
       "```\n",
       "\n",
       "See also: [`round`](@ref), [`trunc`](@ref), [`oftype`](@ref), [`reinterpret`](@ref).\n"
      ],
      "text/plain": [
       "\u001b[36m  convert(T, x)\u001b[39m\n",
       "\n",
       "  Convert \u001b[36mx\u001b[39m to a value of type \u001b[36mT\u001b[39m.\n",
       "\n",
       "  If \u001b[36mT\u001b[39m is an \u001b[36mInteger\u001b[39m type, an \u001b[36mInexactError\u001b[39m will be raised if \u001b[36mx\u001b[39m is not\n",
       "  representable by \u001b[36mT\u001b[39m, for example if \u001b[36mx\u001b[39m is not integer-valued, or is outside\n",
       "  the range supported by \u001b[36mT\u001b[39m.\n",
       "\n",
       "\u001b[1m  Examples\u001b[22m\n",
       "\u001b[1m  ≡≡≡≡≡≡≡≡\u001b[22m\n",
       "\n",
       "\u001b[36m  julia> convert(Int, 3.0)\u001b[39m\n",
       "\u001b[36m  3\u001b[39m\n",
       "\u001b[36m  \u001b[39m\n",
       "\u001b[36m  julia> convert(Int, 3.5)\u001b[39m\n",
       "\u001b[36m  ERROR: InexactError: Int64(3.5)\u001b[39m\n",
       "\u001b[36m  Stacktrace:\u001b[39m\n",
       "\u001b[36m  [...]\u001b[39m\n",
       "\n",
       "  If \u001b[36mT\u001b[39m is a \u001b[36mAbstractFloat\u001b[39m type, then it will return the closest value to \u001b[36mx\u001b[39m\n",
       "  representable by \u001b[36mT\u001b[39m.\n",
       "\n",
       "\u001b[36m  julia> x = 1/3\u001b[39m\n",
       "\u001b[36m  0.3333333333333333\u001b[39m\n",
       "\u001b[36m  \u001b[39m\n",
       "\u001b[36m  julia> convert(Float32, x)\u001b[39m\n",
       "\u001b[36m  0.33333334f0\u001b[39m\n",
       "\u001b[36m  \u001b[39m\n",
       "\u001b[36m  julia> convert(BigFloat, x)\u001b[39m\n",
       "\u001b[36m  0.333333333333333314829616256247390992939472198486328125\u001b[39m\n",
       "\n",
       "  If \u001b[36mT\u001b[39m is a collection type and \u001b[36mx\u001b[39m a collection, the result of \u001b[36mconvert(T, x)\u001b[39m\n",
       "  may alias all or part of \u001b[36mx\u001b[39m.\n",
       "\n",
       "\u001b[36m  julia> x = Int[1, 2, 3];\u001b[39m\n",
       "\u001b[36m  \u001b[39m\n",
       "\u001b[36m  julia> y = convert(Vector{Int}, x);\u001b[39m\n",
       "\u001b[36m  \u001b[39m\n",
       "\u001b[36m  julia> y === x\u001b[39m\n",
       "\u001b[36m  true\u001b[39m\n",
       "\n",
       "  See also: \u001b[36mround\u001b[39m, \u001b[36mtrunc\u001b[39m, \u001b[36moftype\u001b[39m, \u001b[36mreinterpret\u001b[39m."
      ]
     },
     "execution_count": 5,
     "metadata": {},
     "output_type": "execute_result"
    }
   ],
   "source": [
    "@doc convert"
   ]
  },
  {
   "cell_type": "markdown",
   "metadata": {},
   "source": [
    "<br>\n",
    "\n",
    "##### 1.2 \n",
    "Assign `365` to a variable named `days`. Convert `days` to a float and assign it to variable `days_float`."
   ]
  },
  {
   "cell_type": "code",
   "execution_count": 22,
   "metadata": {},
   "outputs": [],
   "source": [
    "days = 365\n",
    "days_float = convert(Float64, days)\n",
    "\n",
    "@assert days == 365\n",
    "@assert days_float == 365.0"
   ]
  },
  {
   "cell_type": "markdown",
   "metadata": {},
   "source": [
    "<br>\n",
    "\n",
    "## [Strings](https://juliaacademy.com/courses/375479/lectures/5745676)\n",
    "Strings can be defined using `\" \"` or `\"\"\" \"\"\"`; the latter can contain quotation marks inside. \\\n",
    "Note that `' '` define a character, but NOT a string!"
   ]
  },
  {
   "cell_type": "code",
   "execution_count": 7,
   "metadata": {},
   "outputs": [
    {
     "data": {
      "text/plain": [
       "Char"
      ]
     },
     "execution_count": 7,
     "metadata": {},
     "output_type": "execute_result"
    }
   ],
   "source": [
    "typeof('a')"
   ]
  },
  {
   "cell_type": "code",
   "execution_count": 8,
   "metadata": {},
   "outputs": [
    {
     "ename": "LoadError",
     "evalue": "ParseError:\n\u001b[90m# Error @ \u001b[0;0m\u001b]8;;file:///home/nicholasgorham/Documents/GitHub/Learning-Julia/In[8]#1:2\u001b\\\u001b[90mIn[8]:1:2\u001b[0;0m\u001b]8;;\u001b\\\n'\u001b[48;2;120;70;70mWe will get an error here\u001b[0;0m'\n\u001b[90m#└───────────────────────┘ ── \u001b[0;0m\u001b[91mcharacter literal contains multiple characters\u001b[0;0m",
     "output_type": "error",
     "traceback": [
      "ParseError:\n\u001b[90m# Error @ \u001b[0;0m\u001b]8;;file:///home/nicholasgorham/Documents/GitHub/Learning-Julia/In[8]#1:2\u001b\\\u001b[90mIn[8]:1:2\u001b[0;0m\u001b]8;;\u001b\\\n'\u001b[48;2;120;70;70mWe will get an error here\u001b[0;0m'\n\u001b[90m#└───────────────────────┘ ── \u001b[0;0m\u001b[91mcharacter literal contains multiple characters\u001b[0;0m",
      "",
      "Stacktrace:",
      " [1] top-level scope",
      "   @ In[8]:1"
     ]
    }
   ],
   "source": [
    "'We will get an error here'"
   ]
  },
  {
   "cell_type": "markdown",
   "metadata": {},
   "source": [
    "Use the `$` sign to insert existing variables into a string:"
   ]
  },
  {
   "cell_type": "code",
   "execution_count": 10,
   "metadata": {},
   "outputs": [
    {
     "name": "stdout",
     "output_type": "stream",
     "text": [
      "Hello, my name is Jane.\n",
      "I have 20 digits in all!\n"
     ]
    }
   ],
   "source": [
    "name = \"Jane\"\n",
    "num_fingers = 10\n",
    "num_toes = 10\n",
    "\n",
    "println(\"Hello, my name is $name.\")\n",
    "println(\"I have $(num_fingers + num_toes) digits in all!\")"
   ]
  },
  {
   "cell_type": "markdown",
   "metadata": {},
   "source": [
    "Concatenate strings using the `string()` function or the `*` operator:"
   ]
  },
  {
   "cell_type": "code",
   "execution_count": 14,
   "metadata": {},
   "outputs": [
    {
     "name": "stdout",
     "output_type": "stream",
     "text": [
      "Hello, world!\n",
      "Hello, world! 2\n"
     ]
    }
   ],
   "source": [
    "println(\"Hello, \"*\"world!\")\n",
    "println(string(\"Hello, \", \"world! \", 2))"
   ]
  },
  {
   "cell_type": "markdown",
   "metadata": {},
   "source": [
    "<br>\n",
    "\n",
    "#### Exercises\n",
    "##### 2.1\n",
    "Create a string that says \"hi\" 1000 times, first with `repeat` and then with the exponentiation operator, which can call `*` under the hood. Assign it the variable `hi` below."
   ]
  },
  {
   "cell_type": "code",
   "execution_count": 20,
   "metadata": {},
   "outputs": [],
   "source": [
    "hi = repeat(\"hi\", 1000)\n",
    "@assert hi == \"hihihihihihihihihihihihihihihihihihihihihihihihihihihihihihihihihihihihihihihihihihihihihihihihihihihihihihihihihihihihihihihihihihihihihihihihihihihihihihihihihihihihihihihihihihihihihihihihihihihihihihihihihihihihihihihihihihihihihihihihihihihihihihihihihihihihihihihihihihihihihihihihihihihihihihihihihihihihihihihihihihihihihihihihihihihihihihihihihihihihihihihihihihihihihihihihihihihihihihihihihihihihihihihihihihihihihihihihihihihihihihihihihihihihihihihihihihihihihihihihihihihihihihihihihihihihihihihihihihihihihihihihihihihihihihihihihihihihihihihihihihihihihihihihihihihihihihihihihihihihihihihihihihihihihihihihihihihihihihihihihihihihihihihihihihihihihihihihihihihihihihihihihihihihihihihihihihihihihihihihihihihihihihihihihihihihihihihihihihihihihihihihihihihihihihihihihihihihihihihihihihihihihihihihihihihihihihihihihihihihihihihihihihihihihihihihihihihihihihihihihihihihihihihihihihihihihihihihihihihihihihihihihihihihihihihihihihihihihihihihihihihihihihihihihihihihihihihihihihihihihihihihihihihihihihihihihihihihihihihihihihihihihihihihihihihihihihihihihihihihihihihihihihihihihihihihihihihihihihihihihihihihihihihihihihihihihihihihihihihihihihihihihihihihihihihihihihihihihihihihihihihihihihihihihihihihihihihihihihihihihihihihihihihihihihihihihihihihihihihihihihihihihihihihihihihihihihihihihihihihihihihihihihihihihihihihihihihihihihihihihihihihihihihihihihihihihihihihihihihihihihihihihihihihihihihihihihihihihihihihihihihihihihihihihihihihihihihihihihihihihihihihihihihihihihihihihihihihihihihihihihihihihihihihihihihihihihihihihihihihihihihihihihihihihihihihihihihihihihihihihihihihihihihihihihihihihihihihihihihihihihihihihihihihihihihihihihihihihihihihihihihihihihihihihihihihihihihihihihihihihihihihihihihihihihihihihihihihihihihihihihihihihihihihihihihihihihihihihihihihihihihihihihihihihihihihihihihihihihihihihihihihihihihihihihihihihihihihihihihihihihihihihihihihihihihihihihihihihihihihihihihihihihihihihihihihihihihihihihihihihihihihihihihihihihihihihihihihihihihihi\"\n",
    "\n",
    "hi = \"hi\"^1000\n",
    "@assert hi == \"hihihihihihihihihihihihihihihihihihihihihihihihihihihihihihihihihihihihihihihihihihihihihihihihihihihihihihihihihihihihihihihihihihihihihihihihihihihihihihihihihihihihihihihihihihihihihihihihihihihihihihihihihihihihihihihihihihihihihihihihihihihihihihihihihihihihihihihihihihihihihihihihihihihihihihihihihihihihihihihihihihihihihihihihihihihihihihihihihihihihihihihihihihihihihihihihihihihihihihihihihihihihihihihihihihihihihihihihihihihihihihihihihihihihihihihihihihihihihihihihihihihihihihihihihihihihihihihihihihihihihihihihihihihihihihihihihihihihihihihihihihihihihihihihihihihihihihihihihihihihihihihihihihihihihihihihihihihihihihihihihihihihihihihihihihihihihihihihihihihihihihihihihihihihihihihihihihihihihihihihihihihihihihihihihihihihihihihihihihihihihihihihihihihihihihihihihihihihihihihihihihihihihihihihihihihihihihihihihihihihihihihihihihihihihihihihihihihihihihihihihihihihihihihihihihihihihihihihihihihihihihihihihihihihihihihihihihihihihihihihihihihihihihihihihihihihihihihihihihihihihihihihihihihihihihihihihihihihihihihihihihihihihihihihihihihihihihihihihihihihihihihihihihihihihihihihihihihihihihihihihihihihihihihihihihihihihihihihihihihihihihihihihihihihihihihihihihihihihihihihihihihihihihihihihihihihihihihihihihihihihihihihihihihihihihihihihihihihihihihihihihihihihihihihihihihihihihihihihihihihihihihihihihihihihihihihihihihihihihihihihihihihihihihihihihihihihihihihihihihihihihihihihihihihihihihihihihihihihihihihihihihihihihihihihihihihihihihihihihihihihihihihihihihihihihihihihihihihihihihihihihihihihihihihihihihihihihihihihihihihihihihihihihihihihihihihihihihihihihihihihihihihihihihihihihihihihihihihihihihihihihihihihihihihihihihihihihihihihihihihihihihihihihihihihihihihihihihihihihihihihihihihihihihihihihihihihihihihihihihihihihihihihihihihihihihihihihihihihihihihihihihihihihihihihihihihihihihihihihihihihihihihihihihihihihihihihihihihihihihihihihihihihihihihihihihihihihihihihihihihihihihihihihihihihihihihihihihihihihihihihihihihihihihihihihihihihihihihihihihihi\""
   ]
  },
  {
   "cell_type": "markdown",
   "metadata": {},
   "source": [
    "<br>\n",
    "\n",
    "##### 2.2\n",
    "Declare two variables\n",
    "\n",
    "```julia\n",
    "a = 3\n",
    "b = 4\n",
    "```\n",
    "and use them to create two strings:\n",
    "\n",
    "```julia\n",
    "\"3 + 4\"\n",
    "\"7\"\n",
    "```\n",
    "\n",
    "and store the results in `c` and `d` respectively"
   ]
  },
  {
   "cell_type": "code",
   "execution_count": 23,
   "metadata": {},
   "outputs": [],
   "source": [
    "a = 3\n",
    "b = 4\n",
    "\n",
    "c = string(a, \" + \", b)\n",
    "d = string(a+b)\n",
    "\n",
    "@assert c == \"3 + 4\"\n",
    "@assert d == \"7\""
   ]
  },
  {
   "cell_type": "markdown",
   "metadata": {},
   "source": [
    "<br>\n",
    "\n",
    "### [Data Structures](https://juliaacademy.com/courses/375479/lectures/5745688)\n",
    "#### Tuples\n",
    "Create a tuple by enclosing an ordered collection of elements in `( )`."
   ]
  },
  {
   "cell_type": "code",
   "execution_count": 26,
   "metadata": {},
   "outputs": [
    {
     "data": {
      "text/plain": [
       "(\"penguins\", \"cats\", \"sugargliders\")"
      ]
     },
     "execution_count": 26,
     "metadata": {},
     "output_type": "execute_result"
    }
   ],
   "source": [
    "myfavoriteanimals = (\"penguins\", \"cats\", \"sugargliders\")"
   ]
  },
  {
   "cell_type": "markdown",
   "metadata": {},
   "source": [
    "Note that Julia has 1-based indexing:"
   ]
  },
  {
   "cell_type": "code",
   "execution_count": 27,
   "metadata": {},
   "outputs": [
    {
     "data": {
      "text/plain": [
       "\"penguins\""
      ]
     },
     "execution_count": 27,
     "metadata": {},
     "output_type": "execute_result"
    }
   ],
   "source": [
    "myfavoriteanimals[1]"
   ]
  },
  {
   "cell_type": "markdown",
   "metadata": {},
   "source": [
    "`NamedTuple`s allow you to name each item in a tuple:"
   ]
  },
  {
   "cell_type": "code",
   "execution_count": 31,
   "metadata": {},
   "outputs": [
    {
     "name": "stdout",
     "output_type": "stream",
     "text": [
      "penguins\n",
      "penguins\n"
     ]
    }
   ],
   "source": [
    "myfavoriteanimals = (bird = \"penguins\", mammal = \"cats\", marsupial = \"sugargliders\")\n",
    "println(myfavoriteanimals[1])   # Access by index\n",
    "println(myfavoriteanimals.bird) # Access by name"
   ]
  },
  {
   "cell_type": "markdown",
   "metadata": {},
   "source": [
    "<br>\n",
    "\n",
    "#### Dictionaries\n",
    "Create a [dictionary](https://docs.julialang.org/en/v1/base/collections/#Dictionaries) using the `Dict()` function."
   ]
  },
  {
   "cell_type": "code",
   "execution_count": 32,
   "metadata": {},
   "outputs": [
    {
     "data": {
      "text/plain": [
       "Dict{String, String} with 2 entries:\n",
       "  \"Jenny\"        => \"867-5309\"\n",
       "  \"Ghostbusters\" => \"555-2368\""
      ]
     },
     "execution_count": 32,
     "metadata": {},
     "output_type": "execute_result"
    }
   ],
   "source": [
    "myphonebook = Dict(\"Jenny\" => \"867-5309\", \"Ghostbusters\" => \"555-2368\")"
   ]
  },
  {
   "cell_type": "markdown",
   "metadata": {},
   "source": [
    "Access a value using the key:"
   ]
  },
  {
   "cell_type": "code",
   "execution_count": 33,
   "metadata": {},
   "outputs": [
    {
     "data": {
      "text/plain": [
       "\"867-5309\""
      ]
     },
     "execution_count": 33,
     "metadata": {},
     "output_type": "execute_result"
    }
   ],
   "source": [
    "myphonebook[\"Jenny\"]"
   ]
  },
  {
   "cell_type": "markdown",
   "metadata": {},
   "source": [
    "Add more entries:"
   ]
  },
  {
   "cell_type": "code",
   "execution_count": 34,
   "metadata": {},
   "outputs": [
    {
     "data": {
      "text/plain": [
       "Dict{String, String} with 3 entries:\n",
       "  \"Jenny\"        => \"867-5309\"\n",
       "  \"Kramer\"       => \"555-FILK\"\n",
       "  \"Ghostbusters\" => \"555-2368\""
      ]
     },
     "execution_count": 34,
     "metadata": {},
     "output_type": "execute_result"
    }
   ],
   "source": [
    "myphonebook[\"Kramer\"] = \"555-FILK\"\n",
    "myphonebook"
   ]
  },
  {
   "cell_type": "markdown",
   "metadata": {},
   "source": [
    "Remove an item and simultaneously return the key by using `pop!`:"
   ]
  },
  {
   "cell_type": "code",
   "execution_count": 35,
   "metadata": {},
   "outputs": [
    {
     "data": {
      "text/plain": [
       "\"555-FILK\""
      ]
     },
     "execution_count": 35,
     "metadata": {},
     "output_type": "execute_result"
    }
   ],
   "source": [
    "pop!(myphonebook, \"Kramer\")"
   ]
  },
  {
   "cell_type": "markdown",
   "metadata": {},
   "source": [
    "Unlike tuples and arrays, dictionaries are not ordered. So, we can't index into them:"
   ]
  },
  {
   "cell_type": "code",
   "execution_count": 36,
   "metadata": {},
   "outputs": [
    {
     "ename": "LoadError",
     "evalue": "KeyError: key 1 not found",
     "output_type": "error",
     "traceback": [
      "KeyError: key 1 not found",
      "",
      "Stacktrace:",
      " [1] getindex(h::Dict{String, String}, key::Int64)",
      "   @ Base ./dict.jl:498",
      " [2] top-level scope",
      "   @ In[36]:1"
     ]
    }
   ],
   "source": [
    "myphonebook[1]"
   ]
  },
  {
   "cell_type": "markdown",
   "metadata": {},
   "source": [
    "Once you've created a Dictionary with a fixed type, you cannot insert new records with a different type:"
   ]
  },
  {
   "cell_type": "code",
   "execution_count": 53,
   "metadata": {},
   "outputs": [
    {
     "ename": "LoadError",
     "evalue": "MethodError: \u001b[0mCannot `convert` an object of type \u001b[92mInt64\u001b[39m\u001b[0m to an object of type \u001b[91mString\u001b[39m\n\n\u001b[0mClosest candidates are:\n\u001b[0m  convert(::Type{String}, \u001b[91m::Base.JuliaSyntax.Kind\u001b[39m)\n\u001b[0m\u001b[90m   @\u001b[39m \u001b[90mBase\u001b[39m \u001b[90m/cache/build/builder-amdci4-2/julialang/julia-release-1-dot-10/base/JuliaSyntax/src/\u001b[39m\u001b[90m\u001b[4mkinds.jl:975\u001b[24m\u001b[39m\n\u001b[0m  convert(::Type{String}, \u001b[91m::String\u001b[39m)\n\u001b[0m\u001b[90m   @\u001b[39m \u001b[90mBase\u001b[39m \u001b[90m\u001b[4messentials.jl:321\u001b[24m\u001b[39m\n\u001b[0m  convert(::Type{T}, \u001b[91m::T\u001b[39m) where T<:AbstractString\n\u001b[0m\u001b[90m   @\u001b[39m \u001b[90mBase\u001b[39m \u001b[90mstrings/\u001b[39m\u001b[90m\u001b[4mbasic.jl:231\u001b[24m\u001b[39m\n\u001b[0m  ...\n",
     "output_type": "error",
     "traceback": [
      "MethodError: \u001b[0mCannot `convert` an object of type \u001b[92mInt64\u001b[39m\u001b[0m to an object of type \u001b[91mString\u001b[39m\n\n\u001b[0mClosest candidates are:\n\u001b[0m  convert(::Type{String}, \u001b[91m::Base.JuliaSyntax.Kind\u001b[39m)\n\u001b[0m\u001b[90m   @\u001b[39m \u001b[90mBase\u001b[39m \u001b[90m/cache/build/builder-amdci4-2/julialang/julia-release-1-dot-10/base/JuliaSyntax/src/\u001b[39m\u001b[90m\u001b[4mkinds.jl:975\u001b[24m\u001b[39m\n\u001b[0m  convert(::Type{String}, \u001b[91m::String\u001b[39m)\n\u001b[0m\u001b[90m   @\u001b[39m \u001b[90mBase\u001b[39m \u001b[90m\u001b[4messentials.jl:321\u001b[24m\u001b[39m\n\u001b[0m  convert(::Type{T}, \u001b[91m::T\u001b[39m) where T<:AbstractString\n\u001b[0m\u001b[90m   @\u001b[39m \u001b[90mBase\u001b[39m \u001b[90mstrings/\u001b[39m\u001b[90m\u001b[4mbasic.jl:231\u001b[24m\u001b[39m\n\u001b[0m  ...\n",
      "",
      "Stacktrace:",
      " [1] setindex!(h::Dict{String, String}, v0::Int64, key::String)",
      "   @ Base ./dict.jl:376",
      " [2] top-level scope",
      "   @ In[53]:1"
     ]
    }
   ],
   "source": [
    "myphonebook[\"Emergency\"] = 911"
   ]
  },
  {
   "cell_type": "markdown",
   "metadata": {},
   "source": [
    "But you can make a dictionary with flexible types:"
   ]
  },
  {
   "cell_type": "code",
   "execution_count": 54,
   "metadata": {},
   "outputs": [
    {
     "data": {
      "text/plain": [
       "Dict{String, Any} with 2 entries:\n",
       "  \"Jenny\"        => 8675309\n",
       "  \"Ghostbusters\" => \"555-2368\""
      ]
     },
     "execution_count": 54,
     "metadata": {},
     "output_type": "execute_result"
    }
   ],
   "source": [
    "flexible_phonebook = Dict(\"Jenny\" => 8675309, \"Ghostbusters\" => \"555-2368\")"
   ]
  },
  {
   "cell_type": "code",
   "execution_count": 56,
   "metadata": {},
   "outputs": [
    {
     "data": {
      "text/plain": [
       "911"
      ]
     },
     "execution_count": 56,
     "metadata": {},
     "output_type": "execute_result"
    }
   ],
   "source": [
    "flexible_phonebook[\"Emergency\"] = 911"
   ]
  },
  {
   "cell_type": "markdown",
   "metadata": {},
   "source": [
    "Alternatively, initiate an empty dictionary that can hold any data type:"
   ]
  },
  {
   "cell_type": "code",
   "execution_count": 57,
   "metadata": {},
   "outputs": [
    {
     "data": {
      "text/plain": [
       "Dict{Any, Any}()"
      ]
     },
     "execution_count": 57,
     "metadata": {},
     "output_type": "execute_result"
    }
   ],
   "source": [
    "d = Dict{Any, Any}()"
   ]
  },
  {
   "cell_type": "markdown",
   "metadata": {},
   "source": [
    "<br>\n",
    "\n",
    "#### Arrays\n",
    "Unlike tuples, arrays are mutable. Unlike dictionaries, arrays contain ordered collections.\n",
    "We can create an array by enclosing this collection in `[ ]`."
   ]
  },
  {
   "cell_type": "code",
   "execution_count": 37,
   "metadata": {},
   "outputs": [
    {
     "data": {
      "text/plain": [
       "5-element Vector{String}:\n",
       " \"Ted\"\n",
       " \"Robyn\"\n",
       " \"Barney\"\n",
       " \"Lily\"\n",
       " \"Marshall\""
      ]
     },
     "execution_count": 37,
     "metadata": {},
     "output_type": "execute_result"
    }
   ],
   "source": [
    "myfriends = [\"Ted\", \"Robyn\", \"Barney\", \"Lily\", \"Marshall\"]"
   ]
  },
  {
   "cell_type": "code",
   "execution_count": 38,
   "metadata": {},
   "outputs": [
    {
     "data": {
      "text/plain": [
       "6-element Vector{Any}:\n",
       " 1\n",
       " 1\n",
       " 2\n",
       " 3\n",
       "  \"Ted\"\n",
       "  \"Robyn\""
      ]
     },
     "execution_count": 38,
     "metadata": {},
     "output_type": "execute_result"
    }
   ],
   "source": [
    "mixture = [1, 1, 2, 3, \"Ted\", \"Robyn\"]"
   ]
  },
  {
   "cell_type": "code",
   "execution_count": 39,
   "metadata": {},
   "outputs": [
    {
     "data": {
      "text/plain": [
       "1"
      ]
     },
     "execution_count": 39,
     "metadata": {},
     "output_type": "execute_result"
    }
   ],
   "source": [
    "mixture[2]"
   ]
  },
  {
   "cell_type": "markdown",
   "metadata": {},
   "source": [
    "`push!` adds an element to the end of an array and `pop!` removes the last element of an array."
   ]
  },
  {
   "cell_type": "code",
   "execution_count": 40,
   "metadata": {},
   "outputs": [
    {
     "data": {
      "text/plain": [
       "6-element Vector{String}:\n",
       " \"Ted\"\n",
       " \"Robyn\"\n",
       " \"Barney\"\n",
       " \"Lily\"\n",
       " \"Marshall\"\n",
       " \"Blauman\""
      ]
     },
     "execution_count": 40,
     "metadata": {},
     "output_type": "execute_result"
    }
   ],
   "source": [
    "push!(myfriends,\"Blauman\")"
   ]
  },
  {
   "cell_type": "code",
   "execution_count": 42,
   "metadata": {},
   "outputs": [
    {
     "data": {
      "text/plain": [
       "\"Blauman\""
      ]
     },
     "execution_count": 42,
     "metadata": {},
     "output_type": "execute_result"
    }
   ],
   "source": [
    "pop!(myfriends)"
   ]
  },
  {
   "cell_type": "markdown",
   "metadata": {},
   "source": [
    "Arrays can have an arbitrary number of dimensions:"
   ]
  },
  {
   "cell_type": "code",
   "execution_count": 43,
   "metadata": {},
   "outputs": [
    {
     "data": {
      "text/plain": [
       "3-element Vector{Vector{Int64}}:\n",
       " [1, 2, 3]\n",
       " [4, 5]\n",
       " [6, 7, 8, 9]"
      ]
     },
     "execution_count": 43,
     "metadata": {},
     "output_type": "execute_result"
    }
   ],
   "source": [
    "numbers = [[1, 2, 3], [4, 5], [6, 7, 8, 9]]"
   ]
  },
  {
   "cell_type": "markdown",
   "metadata": {},
   "source": [
    "You can make arrays populated with random values:"
   ]
  },
  {
   "cell_type": "code",
   "execution_count": 44,
   "metadata": {},
   "outputs": [
    {
     "data": {
      "text/plain": [
       "4×3×2 Array{Float64, 3}:\n",
       "[:, :, 1] =\n",
       " 0.391441  0.326288   0.575388\n",
       " 0.519459  0.202668   0.775937\n",
       " 0.18397   0.488197   0.436216\n",
       " 0.722144  0.0694617  0.666172\n",
       "\n",
       "[:, :, 2] =\n",
       " 0.549603  0.526763   0.965113\n",
       " 0.882026  0.0838562  0.165514\n",
       " 0.931335  0.569048   0.221037\n",
       " 0.612081  0.123418   0.141502"
      ]
     },
     "execution_count": 44,
     "metadata": {},
     "output_type": "execute_result"
    }
   ],
   "source": [
    "rand(4, 3, 2)"
   ]
  },
  {
   "cell_type": "markdown",
   "metadata": {},
   "source": [
    "Careful when copying arrays: when using `array2=array1` you are assigning `array1` to `array2`, not making a copy. To do that, you must use the `copy` function:"
   ]
  },
  {
   "cell_type": "code",
   "execution_count": 45,
   "metadata": {},
   "outputs": [
    {
     "data": {
      "text/plain": [
       "5-element Vector{String}:\n",
       " \"Ted\"\n",
       " \"Robyn\"\n",
       " \"Barney\"\n",
       " \"Lily\"\n",
       " \"Marshall\""
      ]
     },
     "execution_count": 45,
     "metadata": {},
     "output_type": "execute_result"
    }
   ],
   "source": [
    "myfriendsagain = copy(myfriends)"
   ]
  },
  {
   "cell_type": "markdown",
   "metadata": {},
   "source": [
    "<br>\n",
    "\n",
    "#### Exercises\n",
    "##### 3.1\n",
    "Create an array, `a_ray`, with the following code:\n",
    "\n",
    "```julia\n",
    "a_ray = [1, 2, 3]\n",
    "```\n",
    "\n",
    "Add the number `4` to the end of this array and then remove it."
   ]
  },
  {
   "cell_type": "code",
   "execution_count": 48,
   "metadata": {},
   "outputs": [],
   "source": [
    "a_ray = [1, 2, 3]\n",
    "push!(a_ray, 4)\n",
    "pop!(a_ray)\n",
    "\n",
    "@assert a_ray == [1, 2, 3]"
   ]
  },
  {
   "cell_type": "markdown",
   "metadata": {},
   "source": [
    "<br>\n",
    "\n",
    "## Control Flow\n",
    "### [Loops](https://juliaacademy.com/courses/375479/lectures/5816184)\n",
    "#### `while` loops\n",
    "The syntax is:\n",
    "```julia\n",
    "while *condition*\n",
    "    *loop body*\n",
    "end\n",
    "```\n",
    "\n",
    "An example:"
   ]
  },
  {
   "cell_type": "code",
   "execution_count": 2,
   "metadata": {},
   "outputs": [
    {
     "name": "stdout",
     "output_type": "stream",
     "text": [
      "1\n",
      "2\n",
      "3\n"
     ]
    }
   ],
   "source": [
    "n = 0\n",
    "while n < 3\n",
    "    n += 1\n",
    "    println(n)\n",
    "end"
   ]
  },
  {
   "cell_type": "markdown",
   "metadata": {},
   "source": [
    "<br>\n",
    "\n",
    "#### `for` loop\n",
    "Syntax:\n",
    "\n",
    "```julia\n",
    "for *var* in *loop iterable*\n",
    "    *loop body*\n",
    "end\n",
    "```\n",
    "\n",
    "For example:"
   ]
  },
  {
   "cell_type": "code",
   "execution_count": 3,
   "metadata": {},
   "outputs": [
    {
     "name": "stdout",
     "output_type": "stream",
     "text": [
      "1\n",
      "2\n",
      "3\n"
     ]
    }
   ],
   "source": [
    "for n in 1:3\n",
    "    println(n)\n",
    "end"
   ]
  },
  {
   "cell_type": "markdown",
   "metadata": {},
   "source": [
    "You can also use array comprehension, which doesn't require the `end` keyword:"
   ]
  },
  {
   "cell_type": "code",
   "execution_count": 5,
   "metadata": {},
   "outputs": [
    {
     "data": {
      "text/plain": [
       "5×5 Matrix{Int64}:\n",
       " 2  3  4  5   6\n",
       " 3  4  5  6   7\n",
       " 4  5  6  7   8\n",
       " 5  6  7  8   9\n",
       " 6  7  8  9  10"
      ]
     },
     "execution_count": 5,
     "metadata": {},
     "output_type": "execute_result"
    }
   ],
   "source": [
    "[i + j for i in 1:5, j in 1:5]"
   ]
  },
  {
   "cell_type": "markdown",
   "metadata": {},
   "source": [
    "<br>\n",
    "\n",
    "#### Exercises\n",
    "##### 4.1\n",
    "Loop over integers between 1 and 100 and print their squares."
   ]
  },
  {
   "cell_type": "code",
   "execution_count": 12,
   "metadata": {},
   "outputs": [
    {
     "name": "stdout",
     "output_type": "stream",
     "text": [
      "1\n",
      "4\n",
      "9\n",
      "16\n",
      "25\n",
      "36\n",
      "49\n",
      "64\n",
      "81\n",
      "100\n",
      "121\n",
      "144\n",
      "169\n",
      "196\n",
      "225\n",
      "256\n",
      "289\n",
      "324\n",
      "361\n",
      "400\n",
      "441\n",
      "484\n",
      "529\n",
      "576\n",
      "625\n",
      "676\n",
      "729\n",
      "784\n",
      "841\n",
      "900\n",
      "961\n",
      "1024\n",
      "1089\n",
      "1156\n",
      "1225\n",
      "1296\n",
      "1369\n",
      "1444\n",
      "1521\n",
      "1600\n",
      "1681\n",
      "1764\n",
      "1849\n",
      "1936\n",
      "2025\n",
      "2116\n",
      "2209\n",
      "2304\n",
      "2401\n",
      "2500\n",
      "2601\n",
      "2704\n",
      "2809\n",
      "2916\n",
      "3025\n",
      "3136\n",
      "3249\n",
      "3364\n",
      "3481\n",
      "3600\n",
      "3721\n",
      "3844\n",
      "3969\n",
      "4096\n",
      "4225\n",
      "4356\n",
      "4489\n",
      "4624\n",
      "4761\n",
      "4900\n",
      "5041\n",
      "5184\n",
      "5329\n",
      "5476\n",
      "5625\n",
      "5776\n",
      "5929\n",
      "6084\n",
      "6241\n",
      "6400\n",
      "6561\n",
      "6724\n",
      "6889\n",
      "7056\n",
      "7225\n",
      "7396\n",
      "7569\n",
      "7744\n",
      "7921\n",
      "8100\n",
      "8281\n",
      "8464\n",
      "8649\n",
      "8836\n",
      "9025\n",
      "9216\n",
      "9409\n",
      "9604\n",
      "9801\n",
      "10000\n"
     ]
    }
   ],
   "source": [
    "for i in 1:100\n",
    "    println(i^2)\n",
    "end"
   ]
  },
  {
   "cell_type": "markdown",
   "metadata": {},
   "source": [
    "<br>\n",
    "\n",
    "##### 4.2\n",
    "Add to the code above a bit to create a dictionary, `squares`, that holds integers and their squares as key, value pairs such that\n",
    "\n",
    "```julia\n",
    "squares[10] == 100\n",
    "```"
   ]
  },
  {
   "cell_type": "code",
   "execution_count": 16,
   "metadata": {},
   "outputs": [],
   "source": [
    "squares = Dict(i=>i^2 for i in 1:100)\n",
    "\n",
    "@assert squares[10] == 100\n",
    "@assert squares[11] == 121"
   ]
  },
  {
   "cell_type": "markdown",
   "metadata": {},
   "source": [
    "<br>\n",
    "\n",
    "##### 4.3\n",
    "Use an array comprehension to create an an array `squares_arr` that stores the squares for all integers between 1 and 100."
   ]
  },
  {
   "cell_type": "code",
   "execution_count": 19,
   "metadata": {},
   "outputs": [],
   "source": [
    "squares_arr = [i^2 for i in 1:100]\n",
    "\n",
    "@assert length(squares_arr) == 100\n",
    "@assert sum(squares_arr) == 338350"
   ]
  },
  {
   "cell_type": "markdown",
   "metadata": {},
   "source": [
    "<br>\n",
    "\n",
    "### [Conditionals](https://juliaacademy.com/courses/375479/lectures/5816186)\n",
    "#### The `if` keyword\n",
    "Syntax:\n",
    "\n",
    "```julia\n",
    "if *condition 1*\n",
    "    *option 1*\n",
    "elseif *condition 2*\n",
    "    *option 2*\n",
    "else\n",
    "    *option 3*\n",
    "end\n",
    "```\n",
    "\n",
    "For example:\n"
   ]
  },
  {
   "cell_type": "code",
   "execution_count": 20,
   "metadata": {},
   "outputs": [
    {
     "data": {
      "text/plain": [
       "30"
      ]
     },
     "execution_count": 20,
     "metadata": {},
     "output_type": "execute_result"
    }
   ],
   "source": [
    "x = 10\n",
    "y = 30\n",
    "\n",
    "if x > y\n",
    "    x\n",
    "else\n",
    "    y\n",
    "end"
   ]
  },
  {
   "cell_type": "markdown",
   "metadata": {},
   "source": [
    "<br>\n",
    "\n",
    "#### Ternary operators\n",
    "The ternary operator with the syntax\n",
    "\n",
    "```julia\n",
    "a ? b : c\n",
    "```\n",
    "\n",
    "equates to\n",
    "\n",
    "```julia\n",
    "if a\n",
    "    b\n",
    "else\n",
    "    c\n",
    "end\n",
    "```\n",
    "\n",
    "<br>\n",
    "\n",
    "So the earlier block would look like so:"
   ]
  },
  {
   "cell_type": "code",
   "execution_count": 21,
   "metadata": {},
   "outputs": [
    {
     "data": {
      "text/plain": [
       "30"
      ]
     },
     "execution_count": 21,
     "metadata": {},
     "output_type": "execute_result"
    }
   ],
   "source": [
    "(x > y) ? x : y"
   ]
  },
  {
   "cell_type": "markdown",
   "metadata": {},
   "source": [
    "Multiple conditions can be checked:"
   ]
  },
  {
   "cell_type": "code",
   "execution_count": 26,
   "metadata": {},
   "outputs": [
    {
     "data": {
      "text/plain": [
       "true"
      ]
     },
     "execution_count": 26,
     "metadata": {},
     "output_type": "execute_result"
    }
   ],
   "source": [
    "(x < 15) && (x > 5) ? true : false"
   ]
  },
  {
   "cell_type": "markdown",
   "metadata": {},
   "source": [
    "<br>\n",
    "\n",
    "#### Short-circuit evaluation\n",
    "Short-circuiting is a concept in which the compiler skips the execution or evaluation of some sub-expressions in a logical expression. You can do this in Julia by, in the expression `a && b`, making `a` a much less complicated argument than `b`.\n",
    "\n",
    "<br>\n",
    "\n",
    "For example:"
   ]
  },
  {
   "cell_type": "code",
   "execution_count": 27,
   "metadata": {},
   "outputs": [
    {
     "data": {
      "text/plain": [
       "false"
      ]
     },
     "execution_count": 27,
     "metadata": {},
     "output_type": "execute_result"
    }
   ],
   "source": [
    "false && (println(\"hi\"); true)"
   ]
  },
  {
   "cell_type": "markdown",
   "metadata": {},
   "source": [
    "<br>\n",
    "\n",
    "You can also use it to raise exceptions:"
   ]
  },
  {
   "cell_type": "code",
   "execution_count": 28,
   "metadata": {},
   "outputs": [
    {
     "ename": "LoadError",
     "evalue": "x cannot be greater than 0",
     "output_type": "error",
     "traceback": [
      "x cannot be greater than 0",
      "",
      "Stacktrace:",
      " [1] error(s::String)",
      "   @ Base ./error.jl:35",
      " [2] top-level scope",
      "   @ In[28]:1"
     ]
    }
   ],
   "source": [
    "(x > 0) && error(\"x cannot be greater than 0\")"
   ]
  },
  {
   "cell_type": "markdown",
   "metadata": {},
   "source": [
    "Short-circuit evaluations can also be done with the \"or\" operator, `||`:"
   ]
  },
  {
   "cell_type": "code",
   "execution_count": 31,
   "metadata": {},
   "outputs": [
    {
     "name": "stdout",
     "output_type": "stream",
     "text": [
      "hi\n"
     ]
    },
    {
     "data": {
      "text/plain": [
       "true"
      ]
     },
     "execution_count": 31,
     "metadata": {},
     "output_type": "execute_result"
    }
   ],
   "source": [
    "false || println(\"hi\")\n",
    "true || println(\"hi\")"
   ]
  },
  {
   "cell_type": "markdown",
   "metadata": {},
   "source": [
    "<br>\n",
    "\n",
    "#### Exercises\n",
    "##### 5.1\n",
    "Write a conditional statement that prints a number if the number is even and the string \"odd\" if the number is odd."
   ]
  },
  {
   "cell_type": "code",
   "execution_count": 32,
   "metadata": {},
   "outputs": [
    {
     "name": "stdout",
     "output_type": "stream",
     "text": [
      "4\n"
     ]
    }
   ],
   "source": [
    "x = 4\n",
    "\n",
    "if x%2 == 0\n",
    "    println(x)\n",
    "else\n",
    "    println(\"odd\")\n",
    "end"
   ]
  },
  {
   "cell_type": "markdown",
   "metadata": {},
   "source": [
    "<br>\n",
    "\n",
    "##### 5.2\n",
    "Rewrite the code from 5.1 using a ternary operator."
   ]
  },
  {
   "cell_type": "code",
   "execution_count": 33,
   "metadata": {},
   "outputs": [
    {
     "data": {
      "text/plain": [
       "4"
      ]
     },
     "execution_count": 33,
     "metadata": {},
     "output_type": "execute_result"
    }
   ],
   "source": [
    "(x%2 == 0) ? x : \"odd\""
   ]
  },
  {
   "cell_type": "markdown",
   "metadata": {},
   "source": [
    "<br>\n",
    "\n",
    "### [Functions](https://juliaacademy.com/courses/375479/lectures/5871178)\n",
    "#### How to declare a function\n",
    "There are three ways to declare a function:\n",
    "1. Using the `function` and `end` keywords:"
   ]
  },
  {
   "cell_type": "code",
   "execution_count": 42,
   "metadata": {},
   "outputs": [
    {
     "data": {
      "text/plain": [
       "4"
      ]
     },
     "execution_count": 42,
     "metadata": {},
     "output_type": "execute_result"
    }
   ],
   "source": [
    "function f1(x)\n",
    "    x^2\n",
    "end\n",
    "\n",
    "f1(2)"
   ]
  },
  {
   "cell_type": "markdown",
   "metadata": {},
   "source": [
    "2. Declaring it in a single line, without the use of keywords:"
   ]
  },
  {
   "cell_type": "code",
   "execution_count": 43,
   "metadata": {},
   "outputs": [
    {
     "data": {
      "text/plain": [
       "4"
      ]
     },
     "execution_count": 43,
     "metadata": {},
     "output_type": "execute_result"
    }
   ],
   "source": [
    "f2(x) = x^2\n",
    "\n",
    "f2(2)"
   ]
  },
  {
   "cell_type": "markdown",
   "metadata": {},
   "source": [
    "3. As an anonymous function."
   ]
  },
  {
   "cell_type": "code",
   "execution_count": 44,
   "metadata": {},
   "outputs": [
    {
     "data": {
      "text/plain": [
       "4"
      ]
     },
     "execution_count": 44,
     "metadata": {},
     "output_type": "execute_result"
    }
   ],
   "source": [
    "f3 = x -> x^2\n",
    "f3(2)"
   ]
  },
  {
   "cell_type": "markdown",
   "metadata": {},
   "source": [
    "Which, of course, works also with multiple arguments:"
   ]
  },
  {
   "cell_type": "code",
   "execution_count": 52,
   "metadata": {},
   "outputs": [
    {
     "data": {
      "text/plain": [
       "11.0"
      ]
     },
     "execution_count": 52,
     "metadata": {},
     "output_type": "execute_result"
    }
   ],
   "source": [
    "f4 = (x, y) -> x^2 + y/2\n",
    "\n",
    "f4(3, 4)"
   ]
  },
  {
   "cell_type": "markdown",
   "metadata": {},
   "source": [
    "<br>\n",
    "\n",
    "#### Duck-typing in Julia\n",
    "Julia functions will just work on whatever inputs make sense."
   ]
  },
  {
   "cell_type": "code",
   "execution_count": 55,
   "metadata": {},
   "outputs": [
    {
     "data": {
      "text/plain": [
       "\"hihi\""
      ]
     },
     "execution_count": 55,
     "metadata": {},
     "output_type": "execute_result"
    }
   ],
   "source": [
    "f(\"hi\")"
   ]
  },
  {
   "cell_type": "code",
   "execution_count": 61,
   "metadata": {},
   "outputs": [
    {
     "data": {
      "text/plain": [
       "3×3 Matrix{Float64}:\n",
       " 1.26103   0.910168  1.77165\n",
       " 0.751761  0.928972  1.75245\n",
       " 0.854558  0.266483  0.962381"
      ]
     },
     "execution_count": 61,
     "metadata": {},
     "output_type": "execute_result"
    }
   ],
   "source": [
    "f(rand(3,3))"
   ]
  },
  {
   "cell_type": "markdown",
   "metadata": {},
   "source": [
    "<br>\n",
    "\n",
    "#### Mutating vs. non-mutating functions\n",
    "By convention, functions followed by `!` alter their contents and functions lacking `!` do not.\n",
    "\n",
    "For example, the `sort` function returns a sorted input, while the `sort!` function alters the input in-place:"
   ]
  },
  {
   "cell_type": "code",
   "execution_count": 58,
   "metadata": {},
   "outputs": [
    {
     "name": "stdout",
     "output_type": "stream",
     "text": [
      "[3, 5, 2]\n",
      "[2, 3, 5]\n"
     ]
    }
   ],
   "source": [
    "v = [3, 5, 2]\n",
    "\n",
    "sort(v)\n",
    "println(v)\n",
    "\n",
    "sort!(v)\n",
    "println(v)\n"
   ]
  },
  {
   "cell_type": "markdown",
   "metadata": {},
   "source": [
    "<br>\n",
    "\n",
    "#### Some higher order functions\n",
    "##### `map`\n",
    "`map` takes a function and a data structure as arguments and then maps that function to every element of the data structure. "
   ]
  },
  {
   "cell_type": "code",
   "execution_count": 59,
   "metadata": {},
   "outputs": [
    {
     "data": {
      "text/plain": [
       "3-element Vector{Int64}:\n",
       " 1\n",
       " 4\n",
       " 9"
      ]
     },
     "execution_count": 59,
     "metadata": {},
     "output_type": "execute_result"
    }
   ],
   "source": [
    "map(f, [1, 2, 3])"
   ]
  },
  {
   "cell_type": "markdown",
   "metadata": {},
   "source": [
    "This can also be done through anonymous functions."
   ]
  },
  {
   "cell_type": "code",
   "execution_count": 62,
   "metadata": {},
   "outputs": [
    {
     "data": {
      "text/plain": [
       "3-element Vector{Int64}:\n",
       "  1\n",
       "  8\n",
       " 27"
      ]
     },
     "execution_count": 62,
     "metadata": {},
     "output_type": "execute_result"
    }
   ],
   "source": [
    "map(x -> x^3, [1, 2, 3])"
   ]
  },
  {
   "cell_type": "markdown",
   "metadata": {},
   "source": [
    "<br>\n",
    "\n",
    "#### broadcast\n",
    "`broadcast` is a generalization of `map`, so it can do every thing `map` can do and more."
   ]
  },
  {
   "cell_type": "code",
   "execution_count": 63,
   "metadata": {},
   "outputs": [
    {
     "data": {
      "text/plain": [
       "3-element Vector{Int64}:\n",
       " 1\n",
       " 4\n",
       " 9"
      ]
     },
     "execution_count": 63,
     "metadata": {},
     "output_type": "execute_result"
    }
   ],
   "source": [
    "broadcast(f, [1, 2, 3])"
   ]
  },
  {
   "cell_type": "markdown",
   "metadata": {},
   "source": [
    "**Synctactic sugar:** you can broadcast a function by placing `.` between a function's name and its arguments.\n",
    "\n",
    "```julia\n",
    "broadcast(f, [1, 2, 3])\n",
    "```\n",
    "\n",
    "is the same as\n",
    "\n",
    "```julia\n",
    "f.([1, 2, 3])\n",
    "```\n",
    "\n",
    "<br>\n",
    "\n",
    "For example:"
   ]
  },
  {
   "cell_type": "code",
   "execution_count": 64,
   "metadata": {},
   "outputs": [
    {
     "data": {
      "text/plain": [
       "3×3 Matrix{Int64}:\n",
       " 1  2  3\n",
       " 4  5  6\n",
       " 7  8  9"
      ]
     },
     "execution_count": 64,
     "metadata": {},
     "output_type": "execute_result"
    }
   ],
   "source": [
    "A = [i + 3*j for j in 0:2, i in 1:3]"
   ]
  },
  {
   "cell_type": "code",
   "execution_count": 65,
   "metadata": {},
   "outputs": [
    {
     "data": {
      "text/plain": [
       "true"
      ]
     },
     "execution_count": 65,
     "metadata": {},
     "output_type": "execute_result"
    }
   ],
   "source": [
    "A .+ 2 .* f.(A) ./ A == broadcast(x -> x + 2 * f(x) / x, A)"
   ]
  },
  {
   "cell_type": "markdown",
   "metadata": {},
   "source": [
    "<br>\n",
    "\n",
    "#### Exercises\n",
    "##### 6.1\n",
    "Write a function, `add_one`, that adds 1 to its input."
   ]
  },
  {
   "cell_type": "code",
   "execution_count": 69,
   "metadata": {},
   "outputs": [],
   "source": [
    "#= Method 1\n",
    "function add_one(x) \n",
    "    x+1\n",
    "end\n",
    "=#\n",
    "\n",
    "#add_one(x) = x+1  # Method 2\n",
    "add_one = x -> x+1 # Method 3\n",
    "\n",
    "@assert add_one(1) == 2\n",
    "@assert add_one(11) == 12"
   ]
  },
  {
   "cell_type": "markdown",
   "metadata": {},
   "source": [
    "<br>\n",
    "\n",
    "#### 6.2\n",
    "Use `map` or `broadcast` to increment every element of matrix `A` by 1 and assign it to a variable `A1`."
   ]
  },
  {
   "cell_type": "code",
   "execution_count": 74,
   "metadata": {},
   "outputs": [],
   "source": [
    "# A1 = map(add_one, A)       # Method 1\n",
    "A1 = broadcast(add_one, A) # Method 2\n",
    "@assert A1 == [2 3 4; 5 6 7; 8 9 10]"
   ]
  },
  {
   "cell_type": "markdown",
   "metadata": {},
   "source": [
    "<br>\n",
    "\n",
    "##### 6.3\n",
    "Use the broadcast dot syntax to increment every element of matrix `A1` by 1 and store it in variable `A2`."
   ]
  },
  {
   "cell_type": "code",
   "execution_count": 77,
   "metadata": {},
   "outputs": [],
   "source": [
    "A2 = add_one.(A1) # Method 3\n",
    "@assert A2 == [3 4 5; 6 7 8; 9 10 11]"
   ]
  },
  {
   "cell_type": "markdown",
   "metadata": {},
   "source": [
    "<br>\n",
    "\n",
    "## Packages and Plotting\n",
    "### [Packages](https://juliaacademy.com/courses/375479/lectures/5863424)\n",
    "As the Julia ecosystem is not fully mature, you can also use `PyCall` or `Rcall` to call Python or R, respectively.\n",
    "\n",
    "<br>\n",
    "\n",
    "To install a package, you need to add it explicitly using the package manager:"
   ]
  },
  {
   "cell_type": "code",
   "execution_count": 1,
   "metadata": {},
   "outputs": [
    {
     "name": "stderr",
     "output_type": "stream",
     "text": [
      "\u001b[32m\u001b[1m    Updating\u001b[22m\u001b[39m registry at `~/.julia/registries/General.toml`\n",
      "\u001b[32m\u001b[1m   Resolving\u001b[22m\u001b[39m package versions...\n",
      "\u001b[32m\u001b[1m   Installed\u001b[22m\u001b[39m Example ─ v0.5.3\n",
      "\u001b[32m\u001b[1m    Updating\u001b[22m\u001b[39m `~/.julia/environments/v1.10/Project.toml`\n",
      "  \u001b[90m[7876af07] \u001b[39m\u001b[92m+ Example v0.5.3\u001b[39m\n",
      "\u001b[32m\u001b[1m    Updating\u001b[22m\u001b[39m `~/.julia/environments/v1.10/Manifest.toml`\n",
      "  \u001b[90m[7876af07] \u001b[39m\u001b[92m+ Example v0.5.3\u001b[39m\n",
      "\u001b[32m\u001b[1mPrecompiling\u001b[22m\u001b[39m project...\n",
      "\u001b[32m  ✓ \u001b[39mExample\n",
      "  1 dependency successfully precompiled in 1 seconds. 15 already precompiled.\n"
     ]
    }
   ],
   "source": [
    "using Pkg\n",
    "Pkg.add(\"Example\")"
   ]
  },
  {
   "cell_type": "markdown",
   "metadata": {},
   "source": [
    "Load installed packages with the `using` keyword."
   ]
  },
  {
   "cell_type": "code",
   "execution_count": 2,
   "metadata": {},
   "outputs": [],
   "source": [
    "using Example"
   ]
  },
  {
   "cell_type": "markdown",
   "metadata": {},
   "source": [
    "Call the functions in the package directly, such as the [`hello(who::String)`](https://github.com/JuliaLang/Example.jl/blob/master/src/Example.jl):"
   ]
  },
  {
   "cell_type": "code",
   "execution_count": 3,
   "metadata": {},
   "outputs": [
    {
     "data": {
      "text/plain": [
       "\"Hello, John\""
      ]
     },
     "execution_count": 3,
     "metadata": {},
     "output_type": "execute_result"
    }
   ],
   "source": [
    "hello(\"John\")"
   ]
  },
  {
   "cell_type": "markdown",
   "metadata": {},
   "source": [
    "<br>\n",
    "\n",
    "#### Exercises\n",
    "##### 7.1\n",
    "Load the Primes package (source code at https://github.com/JuliaMath/Primes.jl )."
   ]
  },
  {
   "cell_type": "code",
   "execution_count": 4,
   "metadata": {},
   "outputs": [
    {
     "name": "stderr",
     "output_type": "stream",
     "text": [
      "\u001b[32m\u001b[1m   Resolving\u001b[22m\u001b[39m package versions...\n",
      "\u001b[32m\u001b[1m   Installed\u001b[22m\u001b[39m IntegerMathUtils ─ v0.1.2\n",
      "\u001b[32m\u001b[1m   Installed\u001b[22m\u001b[39m Primes ─────────── v0.5.6\n",
      "\u001b[32m\u001b[1m    Updating\u001b[22m\u001b[39m `~/.julia/environments/v1.10/Project.toml`\n",
      "  \u001b[90m[27ebfcd6] \u001b[39m\u001b[92m+ Primes v0.5.6\u001b[39m\n",
      "\u001b[32m\u001b[1m    Updating\u001b[22m\u001b[39m `~/.julia/environments/v1.10/Manifest.toml`\n",
      "  \u001b[90m[18e54dd8] \u001b[39m\u001b[92m+ IntegerMathUtils v0.1.2\u001b[39m\n",
      "  \u001b[90m[27ebfcd6] \u001b[39m\u001b[92m+ Primes v0.5.6\u001b[39m\n",
      "\u001b[32m\u001b[1mPrecompiling\u001b[22m\u001b[39m project...\n",
      "\u001b[32m  ✓ \u001b[39m\u001b[90mIntegerMathUtils\u001b[39m\n",
      "\u001b[32m  ✓ \u001b[39mPrimes\n",
      "  2 dependencies successfully precompiled in 1 seconds. 16 already precompiled.\n"
     ]
    }
   ],
   "source": [
    "# Install the package\n",
    "using Pkg\n",
    "Pkg.add(\"Primes\")\n",
    "\n",
    "# Load it\n",
    "using Primes\n",
    "@assert @isdefined Primes"
   ]
  },
  {
   "cell_type": "markdown",
   "metadata": {},
   "source": [
    "<br>\n",
    "\n",
    "##### 7.2\n",
    "Verify that you can now use the function `primes` to grab all prime numbers under 1,000,000 and store it in variable `primes_list`."
   ]
  },
  {
   "cell_type": "code",
   "execution_count": 7,
   "metadata": {},
   "outputs": [],
   "source": [
    "primes_list = primes(1000000)\n",
    "@assert primes_list == primes(1000000)"
   ]
  },
  {
   "cell_type": "markdown",
   "metadata": {},
   "source": [
    "<br>\n",
    "\n",
    "### [Plotting](https://juliaacademy.com/courses/375479/lectures/5863640)\n",
    "#### Basics\n",
    "Install and load the [`Plots.jl`](https://docs.juliaplots.org/stable/) package:"
   ]
  },
  {
   "cell_type": "code",
   "execution_count": 8,
   "metadata": {},
   "outputs": [
    {
     "name": "stderr",
     "output_type": "stream",
     "text": [
      "\u001b[32m\u001b[1m   Resolving\u001b[22m\u001b[39m package versions...\n",
      "\u001b[32m\u001b[1m   Installed\u001b[22m\u001b[39m GR_jll ─────────────────────── v0.73.5+0\n",
      "\u001b[32m\u001b[1m   Installed\u001b[22m\u001b[39m JpegTurbo_jll ──────────────── v3.0.3+0\n",
      "\u001b[32m\u001b[1m   Installed\u001b[22m\u001b[39m Opus_jll ───────────────────── v1.3.2+0\n",
      "\u001b[32m\u001b[1m   Installed\u001b[22m\u001b[39m LERC_jll ───────────────────── v3.0.0+1\n",
      "\u001b[32m\u001b[1m   Installed\u001b[22m\u001b[39m x265_jll ───────────────────── v3.5.0+0\n",
      "\u001b[32m\u001b[1m   Installed\u001b[22m\u001b[39m Libmount_jll ───────────────── v2.40.1+0\n",
      "\u001b[32m\u001b[1m   Installed\u001b[22m\u001b[39m libfdk_aac_jll ─────────────── v2.0.2+0\n",
      "\u001b[32m\u001b[1m   Installed\u001b[22m\u001b[39m LoggingExtras ──────────────── v1.0.3\n",
      "\u001b[32m\u001b[1m   Installed\u001b[22m\u001b[39m Xorg_xkbcomp_jll ───────────── v1.4.6+0\n",
      "\u001b[32m\u001b[1m   Installed\u001b[22m\u001b[39m Unitful ────────────────────── v1.20.0\n",
      "\u001b[32m\u001b[1m   Installed\u001b[22m\u001b[39m RelocatableFolders ─────────── v1.0.1\n",
      "\u001b[32m\u001b[1m   Installed\u001b[22m\u001b[39m ConcurrentUtilities ────────── v2.4.1\n",
      "\u001b[32m\u001b[1m   Installed\u001b[22m\u001b[39m ColorSchemes ───────────────── v3.25.0\n",
      "\u001b[32m\u001b[1m   Installed\u001b[22m\u001b[39m Contour ────────────────────── v0.6.3\n",
      "\u001b[32m\u001b[1m   Installed\u001b[22m\u001b[39m Measures ───────────────────── v0.3.2\n",
      "\u001b[32m\u001b[1m   Installed\u001b[22m\u001b[39m Grisu ──────────────────────── v1.0.2\n",
      "\u001b[32m\u001b[1m   Installed\u001b[22m\u001b[39m Xorg_xcb_util_wm_jll ───────── v0.4.1+1\n",
      "\u001b[32m\u001b[1m   Installed\u001b[22m\u001b[39m Xorg_xcb_util_image_jll ────── v0.4.0+1\n",
      "\u001b[32m\u001b[1m   Installed\u001b[22m\u001b[39m Xorg_libpthread_stubs_jll ──── v0.1.1+0\n",
      "\u001b[32m\u001b[1m   Installed\u001b[22m\u001b[39m RecipesPipeline ────────────── v0.6.12\n",
      "\u001b[32m\u001b[1m   Installed\u001b[22m\u001b[39m PlotUtils ──────────────────── v1.4.1\n",
      "\u001b[32m\u001b[1m   Installed\u001b[22m\u001b[39m OpenSSL ────────────────────── v1.4.3\n",
      "\u001b[32m\u001b[1m   Installed\u001b[22m\u001b[39m DelimitedFiles ─────────────── v1.9.1\n",
      "\u001b[32m\u001b[1m   Installed\u001b[22m\u001b[39m GR ─────────────────────────── v0.73.5\n",
      "\u001b[32m\u001b[1m   Installed\u001b[22m\u001b[39m Xorg_libSM_jll ─────────────── v1.2.4+0\n",
      "\u001b[32m\u001b[1m   Installed\u001b[22m\u001b[39m Cairo_jll ──────────────────── v1.18.0+2\n",
      "\u001b[32m\u001b[1m   Installed\u001b[22m\u001b[39m Xorg_libxkbfile_jll ────────── v1.1.2+0\n",
      "\u001b[32m\u001b[1m   Installed\u001b[22m\u001b[39m Xorg_xcb_util_jll ──────────── v0.4.0+1\n",
      "\u001b[32m\u001b[1m   Installed\u001b[22m\u001b[39m Libgpg_error_jll ───────────── v1.49.0+0\n",
      "\u001b[32m\u001b[1m   Installed\u001b[22m\u001b[39m Fontconfig_jll ─────────────── v2.13.96+0\n",
      "\u001b[32m\u001b[1m   Installed\u001b[22m\u001b[39m HTTP ───────────────────────── v1.10.8\n",
      "\u001b[32m\u001b[1m   Installed\u001b[22m\u001b[39m Missings ───────────────────── v1.2.0\n",
      "\u001b[32m\u001b[1m   Installed\u001b[22m\u001b[39m Xorg_libXinerama_jll ───────── v1.1.4+4\n",
      "\u001b[32m\u001b[1m   Installed\u001b[22m\u001b[39m EpollShim_jll ──────────────── v0.0.20230411+0\n",
      "\u001b[32m\u001b[1m   Installed\u001b[22m\u001b[39m FFMPEG ─────────────────────── v0.4.1\n",
      "\u001b[32m\u001b[1m   Installed\u001b[22m\u001b[39m Xorg_libXau_jll ────────────── v1.0.11+0\n",
      "\u001b[32m\u001b[1m   Installed\u001b[22m\u001b[39m Xorg_xcb_util_keysyms_jll ──── v0.4.0+1\n",
      "\u001b[32m\u001b[1m   Installed\u001b[22m\u001b[39m IrrationalConstants ────────── v0.2.2\n",
      "\u001b[32m\u001b[1m   Installed\u001b[22m\u001b[39m xkbcommon_jll ──────────────── v1.4.1+1\n",
      "\u001b[32m\u001b[1m   Installed\u001b[22m\u001b[39m Showoff ────────────────────── v1.0.3\n",
      "\u001b[32m\u001b[1m   Installed\u001b[22m\u001b[39m XZ_jll ─────────────────────── v5.4.6+0\n",
      "\u001b[32m\u001b[1m   Installed\u001b[22m\u001b[39m Bzip2_jll ──────────────────── v1.0.8+1\n",
      "\u001b[32m\u001b[1m   Installed\u001b[22m\u001b[39m SimpleBufferStream ─────────── v1.1.0\n",
      "\u001b[32m\u001b[1m   Installed\u001b[22m\u001b[39m HarfBuzz_jll ───────────────── v2.8.1+1\n",
      "\u001b[32m\u001b[1m   Installed\u001b[22m\u001b[39m Pipe ───────────────────────── v1.3.0\n",
      "\u001b[32m\u001b[1m   Installed\u001b[22m\u001b[39m PlotThemes ─────────────────── v3.2.0\n",
      "\u001b[32m\u001b[1m   Installed\u001b[22m\u001b[39m LZO_jll ────────────────────── v2.10.2+0\n",
      "\u001b[32m\u001b[1m   Installed\u001b[22m\u001b[39m NaNMath ────────────────────── v1.0.2\n",
      "\u001b[32m\u001b[1m   Installed\u001b[22m\u001b[39m TranscodingStreams ─────────── v0.10.9\n",
      "\u001b[32m\u001b[1m   Installed\u001b[22m\u001b[39m fzf_jll ────────────────────── v0.43.0+0\n",
      "\u001b[32m\u001b[1m   Installed\u001b[22m\u001b[39m GLFW_jll ───────────────────── v3.3.9+0\n",
      "\u001b[32m\u001b[1m   Installed\u001b[22m\u001b[39m UnicodeFun ─────────────────── v0.4.1\n",
      "\u001b[32m\u001b[1m   Installed\u001b[22m\u001b[39m x264_jll ───────────────────── v2021.5.5+0\n",
      "\u001b[32m\u001b[1m   Installed\u001b[22m\u001b[39m FriBidi_jll ────────────────── v1.0.14+0\n",
      "\u001b[32m\u001b[1m   Installed\u001b[22m\u001b[39m DataStructures ─────────────── v0.18.20\n",
      "\u001b[32m\u001b[1m   Installed\u001b[22m\u001b[39m Colors ─────────────────────── v0.12.11\n",
      "\u001b[32m\u001b[1m   Installed\u001b[22m\u001b[39m FreeType2_jll ──────────────── v2.13.2+0\n",
      "\u001b[32m\u001b[1m   Installed\u001b[22m\u001b[39m JLFzf ──────────────────────── v0.1.7\n",
      "\u001b[32m\u001b[1m   Installed\u001b[22m\u001b[39m CodecZlib ──────────────────── v0.7.4\n",
      "\u001b[32m\u001b[1m   Installed\u001b[22m\u001b[39m Xorg_libxcb_jll ────────────── v1.15.0+0\n",
      "\u001b[32m\u001b[1m   Installed\u001b[22m\u001b[39m Compat ─────────────────────── v4.15.0\n",
      "\u001b[32m\u001b[1m   Installed\u001b[22m\u001b[39m StatsBase ──────────────────── v0.34.3\n",
      "\u001b[32m\u001b[1m   Installed\u001b[22m\u001b[39m StatsAPI ───────────────────── v1.7.0\n",
      "\u001b[32m\u001b[1m   Installed\u001b[22m\u001b[39m libpng_jll ─────────────────── v1.6.43+1\n",
      "\u001b[32m\u001b[1m   Installed\u001b[22m\u001b[39m mtdev_jll ──────────────────── v1.1.6+0\n",
      "\u001b[32m\u001b[1m   Installed\u001b[22m\u001b[39m Scratch ────────────────────── v1.2.1\n",
      "\u001b[32m\u001b[1m   Installed\u001b[22m\u001b[39m libaom_jll ─────────────────── v3.9.0+0\n",
      "\u001b[32m\u001b[1m   Installed\u001b[22m\u001b[39m ExceptionUnwrapping ────────── v0.1.10\n",
      "\u001b[32m\u001b[1m   Installed\u001b[22m\u001b[39m ColorTypes ─────────────────── v0.11.5\n",
      "\u001b[32m\u001b[1m   Installed\u001b[22m\u001b[39m eudev_jll ──────────────────── v3.2.9+0\n",
      "\u001b[32m\u001b[1m   Installed\u001b[22m\u001b[39m Xorg_libXext_jll ───────────── v1.3.6+0\n",
      "\u001b[32m\u001b[1m   Installed\u001b[22m\u001b[39m gperf_jll ──────────────────── v3.1.1+0\n",
      "\u001b[32m\u001b[1m   Installed\u001b[22m\u001b[39m TensorCore ─────────────────── v0.1.1\n",
      "\u001b[32m\u001b[1m   Installed\u001b[22m\u001b[39m Xorg_xcb_util_cursor_jll ───── v0.1.4+0\n",
      "\u001b[32m\u001b[1m   Installed\u001b[22m\u001b[39m Zstd_jll ───────────────────── v1.5.6+0\n",
      "\u001b[32m\u001b[1m   Installed\u001b[22m\u001b[39m Expat_jll ──────────────────── v2.6.2+0\n",
      "\u001b[32m\u001b[1m   Installed\u001b[22m\u001b[39m Plots ──────────────────────── v1.40.4\n",
      "\u001b[32m\u001b[1m   Installed\u001b[22m\u001b[39m OrderedCollections ─────────── v1.6.3\n",
      "\u001b[32m\u001b[1m   Installed\u001b[22m\u001b[39m libinput_jll ───────────────── v1.18.0+0\n",
      "\u001b[32m\u001b[1m   Installed\u001b[22m\u001b[39m Xorg_libXrender_jll ────────── v0.9.11+0\n",
      "\u001b[32m\u001b[1m   Installed\u001b[22m\u001b[39m Libtiff_jll ────────────────── v4.5.1+1\n",
      "\u001b[32m\u001b[1m   Installed\u001b[22m\u001b[39m Format ─────────────────────── v1.3.7\n",
      "\u001b[32m\u001b[1m   Installed\u001b[22m\u001b[39m Libffi_jll ─────────────────── v3.2.2+1\n",
      "\u001b[32m\u001b[1m   Installed\u001b[22m\u001b[39m ColorVectorSpace ───────────── v0.10.0\n",
      "\u001b[32m\u001b[1m   Installed\u001b[22m\u001b[39m libevdev_jll ───────────────── v1.11.0+0\n",
      "\u001b[32m\u001b[1m   Installed\u001b[22m\u001b[39m Vulkan_Loader_jll ──────────── v1.3.243+0\n",
      "\u001b[32m\u001b[1m   Installed\u001b[22m\u001b[39m Ogg_jll ────────────────────── v1.3.5+1\n",
      "\u001b[32m\u001b[1m   Installed\u001b[22m\u001b[39m Xorg_libXi_jll ─────────────── v1.7.10+4\n",
      "\u001b[32m\u001b[1m   Installed\u001b[22m\u001b[39m XSLT_jll ───────────────────── v1.1.34+0\n",
      "\u001b[32m\u001b[1m   Installed\u001b[22m\u001b[39m MacroTools ─────────────────── v0.5.13\n",
      "\u001b[32m\u001b[1m   Installed\u001b[22m\u001b[39m Reexport ───────────────────── v1.2.2\n",
      "\u001b[32m\u001b[1m   Installed\u001b[22m\u001b[39m LogExpFunctions ────────────── v0.3.28\n",
      "\u001b[32m\u001b[1m   Installed\u001b[22m\u001b[39m Xorg_libXcursor_jll ────────── v1.2.0+4\n",
      "\u001b[32m\u001b[1m   Installed\u001b[22m\u001b[39m DocStringExtensions ────────── v0.9.3\n",
      "\u001b[32m\u001b[1m   Installed\u001b[22m\u001b[39m Libuuid_jll ────────────────── v2.40.1+0\n",
      "\u001b[32m\u001b[1m   Installed\u001b[22m\u001b[39m Wayland_protocols_jll ──────── v1.31.0+0\n",
      "\u001b[32m\u001b[1m   Installed\u001b[22m\u001b[39m Xorg_libICE_jll ────────────── v1.1.1+0\n",
      "\u001b[32m\u001b[1m   Installed\u001b[22m\u001b[39m libass_jll ─────────────────── v0.15.1+0\n",
      "\u001b[32m\u001b[1m   Installed\u001b[22m\u001b[39m Pixman_jll ─────────────────── v0.43.4+0\n",
      "\u001b[32m\u001b[1m   Installed\u001b[22m\u001b[39m Graphite2_jll ──────────────── v1.3.14+0\n",
      "\u001b[32m\u001b[1m   Installed\u001b[22m\u001b[39m Xorg_xcb_util_renderutil_jll ─ v0.3.9+1\n",
      "\u001b[32m\u001b[1m   Installed\u001b[22m\u001b[39m XML2_jll ───────────────────── v2.12.7+0\n",
      "\u001b[32m\u001b[1m   Installed\u001b[22m\u001b[39m Wayland_jll ────────────────── v1.21.0+1\n",
      "\u001b[32m\u001b[1m   Installed\u001b[22m\u001b[39m Latexify ───────────────────── v0.16.3\n",
      "\u001b[32m\u001b[1m   Installed\u001b[22m\u001b[39m Gettext_jll ────────────────── v0.21.0+0\n",
      "\u001b[32m\u001b[1m   Installed\u001b[22m\u001b[39m BitFlags ───────────────────── v0.1.8\n",
      "\u001b[32m\u001b[1m   Installed\u001b[22m\u001b[39m OpenSSL_jll ────────────────── v3.0.13+1\n",
      "\u001b[32m\u001b[1m   Installed\u001b[22m\u001b[39m Xorg_xtrans_jll ────────────── v1.5.0+0\n",
      "\u001b[32m\u001b[1m   Installed\u001b[22m\u001b[39m FFMPEG_jll ─────────────────── v4.4.4+1\n",
      "\u001b[32m\u001b[1m   Installed\u001b[22m\u001b[39m Xorg_xkeyboard_config_jll ──── v2.39.0+0\n",
      "\u001b[32m\u001b[1m   Installed\u001b[22m\u001b[39m LLVMOpenMP_jll ─────────────── v15.0.7+0\n",
      "\u001b[32m\u001b[1m   Installed\u001b[22m\u001b[39m Xorg_libXrandr_jll ─────────── v1.5.2+4\n",
      "\u001b[32m\u001b[1m   Installed\u001b[22m\u001b[39m DataAPI ────────────────────── v1.16.0\n",
      "\u001b[32m\u001b[1m   Installed\u001b[22m\u001b[39m RecipesBase ────────────────── v1.3.4\n",
      "\u001b[32m\u001b[1m   Installed\u001b[22m\u001b[39m Libgcrypt_jll ──────────────── v1.8.11+0\n",
      "\u001b[32m\u001b[1m   Installed\u001b[22m\u001b[39m FixedPointNumbers ──────────── v0.8.5\n",
      "\u001b[32m\u001b[1m   Installed\u001b[22m\u001b[39m Xorg_libXfixes_jll ─────────── v5.0.3+4\n",
      "\u001b[32m\u001b[1m   Installed\u001b[22m\u001b[39m Glib_jll ───────────────────── v2.80.2+0\n",
      "\u001b[32m\u001b[1m   Installed\u001b[22m\u001b[39m LAME_jll ───────────────────── v3.100.2+0\n",
      "\u001b[32m\u001b[1m   Installed\u001b[22m\u001b[39m URIs ───────────────────────── v1.5.1\n",
      "\u001b[32m\u001b[1m   Installed\u001b[22m\u001b[39m libvorbis_jll ──────────────── v1.3.7+1\n",
      "\u001b[32m\u001b[1m   Installed\u001b[22m\u001b[39m LaTeXStrings ───────────────── v1.3.1\n",
      "\u001b[32m\u001b[1m   Installed\u001b[22m\u001b[39m Qt6Base_jll ────────────────── v6.5.3+1\n",
      "\u001b[32m\u001b[1m   Installed\u001b[22m\u001b[39m Libiconv_jll ───────────────── v1.17.0+0\n",
      "\u001b[32m\u001b[1m   Installed\u001b[22m\u001b[39m Libglvnd_jll ───────────────── v1.6.0+0\n",
      "\u001b[32m\u001b[1m   Installed\u001b[22m\u001b[39m Requires ───────────────────── v1.3.0\n",
      "\u001b[32m\u001b[1m   Installed\u001b[22m\u001b[39m Xorg_libXdmcp_jll ──────────── v1.1.4+0\n",
      "\u001b[32m\u001b[1m   Installed\u001b[22m\u001b[39m Xorg_libX11_jll ────────────── v1.8.6+0\n",
      "\u001b[32m\u001b[1m   Installed\u001b[22m\u001b[39m Unzip ──────────────────────── v0.2.0\n",
      "\u001b[32m\u001b[1m   Installed\u001b[22m\u001b[39m SortingAlgorithms ──────────── v1.2.1\n",
      "\u001b[32m\u001b[1m   Installed\u001b[22m\u001b[39m UnitfulLatexify ────────────── v1.6.3\n",
      "\u001b[32m\u001b[1m    Updating\u001b[22m\u001b[39m `~/.julia/environments/v1.10/Project.toml`\n",
      "  \u001b[90m[91a5bcdd] \u001b[39m\u001b[92m+ Plots v1.40.4\u001b[39m\n",
      "\u001b[32m\u001b[1m    Updating\u001b[22m\u001b[39m `~/.julia/environments/v1.10/Manifest.toml`\n",
      "  \u001b[90m[d1d4a3ce] \u001b[39m\u001b[92m+ BitFlags v0.1.8\u001b[39m\n",
      "  \u001b[90m[944b1d66] \u001b[39m\u001b[92m+ CodecZlib v0.7.4\u001b[39m\n",
      "  \u001b[90m[35d6a980] \u001b[39m\u001b[92m+ ColorSchemes v3.25.0\u001b[39m\n",
      "  \u001b[90m[3da002f7] \u001b[39m\u001b[92m+ ColorTypes v0.11.5\u001b[39m\n",
      "  \u001b[90m[c3611d14] \u001b[39m\u001b[92m+ ColorVectorSpace v0.10.0\u001b[39m\n",
      "  \u001b[90m[5ae59095] \u001b[39m\u001b[92m+ Colors v0.12.11\u001b[39m\n",
      "  \u001b[90m[34da2185] \u001b[39m\u001b[92m+ Compat v4.15.0\u001b[39m\n",
      "  \u001b[90m[f0e56b4a] \u001b[39m\u001b[92m+ ConcurrentUtilities v2.4.1\u001b[39m\n",
      "  \u001b[90m[d38c429a] \u001b[39m\u001b[92m+ Contour v0.6.3\u001b[39m\n",
      "  \u001b[90m[9a962f9c] \u001b[39m\u001b[92m+ DataAPI v1.16.0\u001b[39m\n",
      "  \u001b[90m[864edb3b] \u001b[39m\u001b[92m+ DataStructures v0.18.20\u001b[39m\n",
      "  \u001b[90m[8bb1440f] \u001b[39m\u001b[92m+ DelimitedFiles v1.9.1\u001b[39m\n",
      "  \u001b[90m[ffbed154] \u001b[39m\u001b[92m+ DocStringExtensions v0.9.3\u001b[39m\n",
      "  \u001b[90m[460bff9d] \u001b[39m\u001b[92m+ ExceptionUnwrapping v0.1.10\u001b[39m\n",
      "  \u001b[90m[c87230d0] \u001b[39m\u001b[92m+ FFMPEG v0.4.1\u001b[39m\n",
      "  \u001b[90m[53c48c17] \u001b[39m\u001b[92m+ FixedPointNumbers v0.8.5\u001b[39m\n",
      "  \u001b[90m[1fa38f19] \u001b[39m\u001b[92m+ Format v1.3.7\u001b[39m\n",
      "  \u001b[90m[28b8d3ca] \u001b[39m\u001b[92m+ GR v0.73.5\u001b[39m\n",
      "  \u001b[90m[42e2da0e] \u001b[39m\u001b[92m+ Grisu v1.0.2\u001b[39m\n",
      "  \u001b[90m[cd3eb016] \u001b[39m\u001b[92m+ HTTP v1.10.8\u001b[39m\n",
      "  \u001b[90m[92d709cd] \u001b[39m\u001b[92m+ IrrationalConstants v0.2.2\u001b[39m\n",
      "  \u001b[90m[1019f520] \u001b[39m\u001b[92m+ JLFzf v0.1.7\u001b[39m\n",
      "  \u001b[90m[b964fa9f] \u001b[39m\u001b[92m+ LaTeXStrings v1.3.1\u001b[39m\n",
      "  \u001b[90m[23fbe1c1] \u001b[39m\u001b[92m+ Latexify v0.16.3\u001b[39m\n",
      "  \u001b[90m[2ab3a3ac] \u001b[39m\u001b[92m+ LogExpFunctions v0.3.28\u001b[39m\n",
      "  \u001b[90m[e6f89c97] \u001b[39m\u001b[92m+ LoggingExtras v1.0.3\u001b[39m\n",
      "  \u001b[90m[1914dd2f] \u001b[39m\u001b[92m+ MacroTools v0.5.13\u001b[39m\n",
      "  \u001b[90m[442fdcdd] \u001b[39m\u001b[92m+ Measures v0.3.2\u001b[39m\n",
      "  \u001b[90m[e1d29d7a] \u001b[39m\u001b[92m+ Missings v1.2.0\u001b[39m\n",
      "  \u001b[90m[77ba4419] \u001b[39m\u001b[92m+ NaNMath v1.0.2\u001b[39m\n",
      "  \u001b[90m[4d8831e6] \u001b[39m\u001b[92m+ OpenSSL v1.4.3\u001b[39m\n",
      "  \u001b[90m[bac558e1] \u001b[39m\u001b[92m+ OrderedCollections v1.6.3\u001b[39m\n",
      "  \u001b[90m[b98c9c47] \u001b[39m\u001b[92m+ Pipe v1.3.0\u001b[39m\n",
      "  \u001b[90m[ccf2f8ad] \u001b[39m\u001b[92m+ PlotThemes v3.2.0\u001b[39m\n",
      "  \u001b[90m[995b91a9] \u001b[39m\u001b[92m+ PlotUtils v1.4.1\u001b[39m\n",
      "  \u001b[90m[91a5bcdd] \u001b[39m\u001b[92m+ Plots v1.40.4\u001b[39m\n",
      "  \u001b[90m[3cdcf5f2] \u001b[39m\u001b[92m+ RecipesBase v1.3.4\u001b[39m\n",
      "  \u001b[90m[01d81517] \u001b[39m\u001b[92m+ RecipesPipeline v0.6.12\u001b[39m\n",
      "  \u001b[90m[189a3867] \u001b[39m\u001b[92m+ Reexport v1.2.2\u001b[39m\n",
      "  \u001b[90m[05181044] \u001b[39m\u001b[92m+ RelocatableFolders v1.0.1\u001b[39m\n",
      "  \u001b[90m[ae029012] \u001b[39m\u001b[92m+ Requires v1.3.0\u001b[39m\n",
      "  \u001b[90m[6c6a2e73] \u001b[39m\u001b[92m+ Scratch v1.2.1\u001b[39m\n",
      "  \u001b[90m[992d4aef] \u001b[39m\u001b[92m+ Showoff v1.0.3\u001b[39m\n",
      "  \u001b[90m[777ac1f9] \u001b[39m\u001b[92m+ SimpleBufferStream v1.1.0\u001b[39m\n",
      "  \u001b[90m[a2af1166] \u001b[39m\u001b[92m+ SortingAlgorithms v1.2.1\u001b[39m\n",
      "  \u001b[90m[82ae8749] \u001b[39m\u001b[92m+ StatsAPI v1.7.0\u001b[39m\n",
      "  \u001b[90m[2913bbd2] \u001b[39m\u001b[92m+ StatsBase v0.34.3\u001b[39m\n",
      "  \u001b[90m[62fd8b95] \u001b[39m\u001b[92m+ TensorCore v0.1.1\u001b[39m\n",
      "  \u001b[90m[3bb67fe8] \u001b[39m\u001b[92m+ TranscodingStreams v0.10.9\u001b[39m\n",
      "  \u001b[90m[5c2747f8] \u001b[39m\u001b[92m+ URIs v1.5.1\u001b[39m\n",
      "  \u001b[90m[1cfade01] \u001b[39m\u001b[92m+ UnicodeFun v0.4.1\u001b[39m\n",
      "  \u001b[90m[1986cc42] \u001b[39m\u001b[92m+ Unitful v1.20.0\u001b[39m\n",
      "  \u001b[90m[45397f5d] \u001b[39m\u001b[92m+ UnitfulLatexify v1.6.3\u001b[39m\n",
      "  \u001b[90m[41fe7b60] \u001b[39m\u001b[92m+ Unzip v0.2.0\u001b[39m\n",
      "  \u001b[90m[6e34b625] \u001b[39m\u001b[92m+ Bzip2_jll v1.0.8+1\u001b[39m\n",
      "  \u001b[90m[83423d85] \u001b[39m\u001b[92m+ Cairo_jll v1.18.0+2\u001b[39m\n",
      "  \u001b[90m[2702e6a9] \u001b[39m\u001b[92m+ EpollShim_jll v0.0.20230411+0\u001b[39m\n",
      "  \u001b[90m[2e619515] \u001b[39m\u001b[92m+ Expat_jll v2.6.2+0\u001b[39m\n",
      "\u001b[33m⌅\u001b[39m \u001b[90m[b22a6f82] \u001b[39m\u001b[92m+ FFMPEG_jll v4.4.4+1\u001b[39m\n",
      "  \u001b[90m[a3f928ae] \u001b[39m\u001b[92m+ Fontconfig_jll v2.13.96+0\u001b[39m\n",
      "  \u001b[90m[d7e528f0] \u001b[39m\u001b[92m+ FreeType2_jll v2.13.2+0\u001b[39m\n",
      "  \u001b[90m[559328eb] \u001b[39m\u001b[92m+ FriBidi_jll v1.0.14+0\u001b[39m\n",
      "  \u001b[90m[0656b61e] \u001b[39m\u001b[92m+ GLFW_jll v3.3.9+0\u001b[39m\n",
      "  \u001b[90m[d2c73de3] \u001b[39m\u001b[92m+ GR_jll v0.73.5+0\u001b[39m\n",
      "  \u001b[90m[78b55507] \u001b[39m\u001b[92m+ Gettext_jll v0.21.0+0\u001b[39m\n",
      "  \u001b[90m[7746bdde] \u001b[39m\u001b[92m+ Glib_jll v2.80.2+0\u001b[39m\n",
      "  \u001b[90m[3b182d85] \u001b[39m\u001b[92m+ Graphite2_jll v1.3.14+0\u001b[39m\n",
      "  \u001b[90m[2e76f6c2] \u001b[39m\u001b[92m+ HarfBuzz_jll v2.8.1+1\u001b[39m\n",
      "  \u001b[90m[aacddb02] \u001b[39m\u001b[92m+ JpegTurbo_jll v3.0.3+0\u001b[39m\n",
      "  \u001b[90m[c1c5ebd0] \u001b[39m\u001b[92m+ LAME_jll v3.100.2+0\u001b[39m\n",
      "\u001b[33m⌅\u001b[39m \u001b[90m[88015f11] \u001b[39m\u001b[92m+ LERC_jll v3.0.0+1\u001b[39m\n",
      "  \u001b[90m[1d63c593] \u001b[39m\u001b[92m+ LLVMOpenMP_jll v15.0.7+0\u001b[39m\n",
      "  \u001b[90m[dd4b983a] \u001b[39m\u001b[92m+ LZO_jll v2.10.2+0\u001b[39m\n",
      "\u001b[33m⌅\u001b[39m \u001b[90m[e9f186c6] \u001b[39m\u001b[92m+ Libffi_jll v3.2.2+1\u001b[39m\n",
      "  \u001b[90m[d4300ac3] \u001b[39m\u001b[92m+ Libgcrypt_jll v1.8.11+0\u001b[39m\n",
      "  \u001b[90m[7e76a0d4] \u001b[39m\u001b[92m+ Libglvnd_jll v1.6.0+0\u001b[39m\n",
      "  \u001b[90m[7add5ba3] \u001b[39m\u001b[92m+ Libgpg_error_jll v1.49.0+0\u001b[39m\n",
      "  \u001b[90m[94ce4f54] \u001b[39m\u001b[92m+ Libiconv_jll v1.17.0+0\u001b[39m\n",
      "  \u001b[90m[4b2f31a3] \u001b[39m\u001b[92m+ Libmount_jll v2.40.1+0\u001b[39m\n",
      "\u001b[33m⌅\u001b[39m \u001b[90m[89763e89] \u001b[39m\u001b[92m+ Libtiff_jll v4.5.1+1\u001b[39m\n",
      "  \u001b[90m[38a345b3] \u001b[39m\u001b[92m+ Libuuid_jll v2.40.1+0\u001b[39m\n",
      "  \u001b[90m[e7412a2a] \u001b[39m\u001b[92m+ Ogg_jll v1.3.5+1\u001b[39m\n",
      "  \u001b[90m[458c3c95] \u001b[39m\u001b[92m+ OpenSSL_jll v3.0.13+1\u001b[39m\n",
      "  \u001b[90m[91d4177d] \u001b[39m\u001b[92m+ Opus_jll v1.3.2+0\u001b[39m\n",
      "  \u001b[90m[30392449] \u001b[39m\u001b[92m+ Pixman_jll v0.43.4+0\u001b[39m\n",
      "\u001b[33m⌅\u001b[39m \u001b[90m[c0090381] \u001b[39m\u001b[92m+ Qt6Base_jll v6.5.3+1\u001b[39m\n",
      "  \u001b[90m[a44049a8] \u001b[39m\u001b[92m+ Vulkan_Loader_jll v1.3.243+0\u001b[39m\n",
      "  \u001b[90m[a2964d1f] \u001b[39m\u001b[92m+ Wayland_jll v1.21.0+1\u001b[39m\n",
      "  \u001b[90m[2381bf8a] \u001b[39m\u001b[92m+ Wayland_protocols_jll v1.31.0+0\u001b[39m\n",
      "  \u001b[90m[02c8fc9c] \u001b[39m\u001b[92m+ XML2_jll v2.12.7+0\u001b[39m\n",
      "  \u001b[90m[aed1982a] \u001b[39m\u001b[92m+ XSLT_jll v1.1.34+0\u001b[39m\n",
      "  \u001b[90m[ffd25f8a] \u001b[39m\u001b[92m+ XZ_jll v5.4.6+0\u001b[39m\n",
      "  \u001b[90m[f67eecfb] \u001b[39m\u001b[92m+ Xorg_libICE_jll v1.1.1+0\u001b[39m\n",
      "  \u001b[90m[c834827a] \u001b[39m\u001b[92m+ Xorg_libSM_jll v1.2.4+0\u001b[39m\n",
      "  \u001b[90m[4f6342f7] \u001b[39m\u001b[92m+ Xorg_libX11_jll v1.8.6+0\u001b[39m\n",
      "  \u001b[90m[0c0b7dd1] \u001b[39m\u001b[92m+ Xorg_libXau_jll v1.0.11+0\u001b[39m\n",
      "  \u001b[90m[935fb764] \u001b[39m\u001b[92m+ Xorg_libXcursor_jll v1.2.0+4\u001b[39m\n",
      "  \u001b[90m[a3789734] \u001b[39m\u001b[92m+ Xorg_libXdmcp_jll v1.1.4+0\u001b[39m\n",
      "  \u001b[90m[1082639a] \u001b[39m\u001b[92m+ Xorg_libXext_jll v1.3.6+0\u001b[39m\n",
      "  \u001b[90m[d091e8ba] \u001b[39m\u001b[92m+ Xorg_libXfixes_jll v5.0.3+4\u001b[39m\n",
      "  \u001b[90m[a51aa0fd] \u001b[39m\u001b[92m+ Xorg_libXi_jll v1.7.10+4\u001b[39m\n",
      "  \u001b[90m[d1454406] \u001b[39m\u001b[92m+ Xorg_libXinerama_jll v1.1.4+4\u001b[39m\n",
      "  \u001b[90m[ec84b674] \u001b[39m\u001b[92m+ Xorg_libXrandr_jll v1.5.2+4\u001b[39m\n",
      "  \u001b[90m[ea2f1a96] \u001b[39m\u001b[92m+ Xorg_libXrender_jll v0.9.11+0\u001b[39m\n",
      "  \u001b[90m[14d82f49] \u001b[39m\u001b[92m+ Xorg_libpthread_stubs_jll v0.1.1+0\u001b[39m\n",
      "  \u001b[90m[c7cfdc94] \u001b[39m\u001b[92m+ Xorg_libxcb_jll v1.15.0+0\u001b[39m\n",
      "  \u001b[90m[cc61e674] \u001b[39m\u001b[92m+ Xorg_libxkbfile_jll v1.1.2+0\u001b[39m\n",
      "  \u001b[90m[e920d4aa] \u001b[39m\u001b[92m+ Xorg_xcb_util_cursor_jll v0.1.4+0\u001b[39m\n",
      "  \u001b[90m[12413925] \u001b[39m\u001b[92m+ Xorg_xcb_util_image_jll v0.4.0+1\u001b[39m\n",
      "  \u001b[90m[2def613f] \u001b[39m\u001b[92m+ Xorg_xcb_util_jll v0.4.0+1\u001b[39m\n",
      "  \u001b[90m[975044d2] \u001b[39m\u001b[92m+ Xorg_xcb_util_keysyms_jll v0.4.0+1\u001b[39m\n",
      "  \u001b[90m[0d47668e] \u001b[39m\u001b[92m+ Xorg_xcb_util_renderutil_jll v0.3.9+1\u001b[39m\n",
      "  \u001b[90m[c22f9ab0] \u001b[39m\u001b[92m+ Xorg_xcb_util_wm_jll v0.4.1+1\u001b[39m\n",
      "  \u001b[90m[35661453] \u001b[39m\u001b[92m+ Xorg_xkbcomp_jll v1.4.6+0\u001b[39m\n",
      "  \u001b[90m[33bec58e] \u001b[39m\u001b[92m+ Xorg_xkeyboard_config_jll v2.39.0+0\u001b[39m\n",
      "  \u001b[90m[c5fb5394] \u001b[39m\u001b[92m+ Xorg_xtrans_jll v1.5.0+0\u001b[39m\n",
      "  \u001b[90m[3161d3a3] \u001b[39m\u001b[92m+ Zstd_jll v1.5.6+0\u001b[39m\n",
      "  \u001b[90m[35ca27e7] \u001b[39m\u001b[92m+ eudev_jll v3.2.9+0\u001b[39m\n",
      "\u001b[33m⌅\u001b[39m \u001b[90m[214eeab7] \u001b[39m\u001b[92m+ fzf_jll v0.43.0+0\u001b[39m\n",
      "  \u001b[90m[1a1c6b14] \u001b[39m\u001b[92m+ gperf_jll v3.1.1+0\u001b[39m\n",
      "  \u001b[90m[a4ae2306] \u001b[39m\u001b[92m+ libaom_jll v3.9.0+0\u001b[39m\n",
      "  \u001b[90m[0ac62f75] \u001b[39m\u001b[92m+ libass_jll v0.15.1+0\u001b[39m\n",
      "  \u001b[90m[2db6ffa8] \u001b[39m\u001b[92m+ libevdev_jll v1.11.0+0\u001b[39m\n",
      "  \u001b[90m[f638f0a6] \u001b[39m\u001b[92m+ libfdk_aac_jll v2.0.2+0\u001b[39m\n",
      "  \u001b[90m[36db933b] \u001b[39m\u001b[92m+ libinput_jll v1.18.0+0\u001b[39m\n",
      "  \u001b[90m[b53b4c65] \u001b[39m\u001b[92m+ libpng_jll v1.6.43+1\u001b[39m\n",
      "  \u001b[90m[f27f6e37] \u001b[39m\u001b[92m+ libvorbis_jll v1.3.7+1\u001b[39m\n",
      "  \u001b[90m[009596ad] \u001b[39m\u001b[92m+ mtdev_jll v1.1.6+0\u001b[39m\n",
      "  \u001b[90m[1270edf5] \u001b[39m\u001b[92m+ x264_jll v2021.5.5+0\u001b[39m\n",
      "  \u001b[90m[dfaa095f] \u001b[39m\u001b[92m+ x265_jll v3.5.0+0\u001b[39m\n",
      "  \u001b[90m[d8fb68d0] \u001b[39m\u001b[92m+ xkbcommon_jll v1.4.1+1\u001b[39m\n",
      "  \u001b[90m[37e2e46d] \u001b[39m\u001b[92m+ LinearAlgebra\u001b[39m\n",
      "  \u001b[90m[2f01184e] \u001b[39m\u001b[92m+ SparseArrays v1.10.0\u001b[39m\n",
      "  \u001b[90m[10745b16] \u001b[39m\u001b[92m+ Statistics v1.10.0\u001b[39m\n",
      "  \u001b[90m[e66e0078] \u001b[39m\u001b[92m+ CompilerSupportLibraries_jll v1.1.1+0\u001b[39m\n",
      "  \u001b[90m[4536629a] \u001b[39m\u001b[92m+ OpenBLAS_jll v0.3.23+4\u001b[39m\n",
      "  \u001b[90m[05823500] \u001b[39m\u001b[92m+ OpenLibm_jll v0.8.1+2\u001b[39m\n",
      "  \u001b[90m[efcefdf7] \u001b[39m\u001b[92m+ PCRE2_jll v10.42.0+1\u001b[39m\n",
      "  \u001b[90m[bea87d4a] \u001b[39m\u001b[92m+ SuiteSparse_jll v7.2.1+1\u001b[39m\n",
      "  \u001b[90m[8e850b90] \u001b[39m\u001b[92m+ libblastrampoline_jll v5.8.0+1\u001b[39m\n",
      "\u001b[36m\u001b[1m        Info\u001b[22m\u001b[39m Packages marked with \u001b[33m⌅\u001b[39m have new versions available but compatibility constraints restrict them from upgrading. To see why use `status --outdated -m`\n",
      "\u001b[32m\u001b[1mPrecompiling\u001b[22m\u001b[39m project...\n",
      "\u001b[32m  ✓ \u001b[39m\u001b[90mCompilerSupportLibraries_jll\u001b[39m\n",
      "\u001b[32m  ✓ \u001b[39m\u001b[90mLaTeXStrings\u001b[39m\n",
      "\u001b[32m  ✓ \u001b[39m\u001b[90mStatsAPI\u001b[39m\n",
      "\u001b[32m  ✓ \u001b[39m\u001b[90mPipe\u001b[39m\n",
      "\u001b[32m  ✓ \u001b[39m\u001b[90mContour\u001b[39m\n",
      "\u001b[32m  ✓ \u001b[39m\u001b[90mTensorCore\u001b[39m\n",
      "\u001b[32m  ✓ \u001b[39m\u001b[90mMeasures\u001b[39m\n",
      "\u001b[32m  ✓ \u001b[39m\u001b[90mConcurrentUtilities\u001b[39m\n",
      "\u001b[32m  ✓ \u001b[39m\u001b[90mOrderedCollections\u001b[39m\n",
      "\u001b[32m  ✓ \u001b[39m\u001b[90mCompat\u001b[39m\n",
      "\u001b[32m  ✓ \u001b[39m\u001b[90mGrisu\u001b[39m\n",
      "\u001b[32m  ✓ \u001b[39m\u001b[90mReexport\u001b[39m\n",
      "\u001b[32m  ✓ \u001b[39m\u001b[90mRequires\u001b[39m\n",
      "\u001b[32m  ✓ \u001b[39m\u001b[90mUnzip\u001b[39m\n",
      "\u001b[32m  ✓ \u001b[39m\u001b[90mDocStringExtensions\u001b[39m\n",
      "\u001b[32m  ✓ \u001b[39m\u001b[90mFormat\u001b[39m\n",
      "\u001b[32m  ✓ \u001b[39m\u001b[90mSimpleBufferStream\u001b[39m\n",
      "\u001b[32m  ✓ \u001b[39m\u001b[90mURIs\u001b[39m\n",
      "\u001b[32m  ✓ \u001b[39m\u001b[90mExceptionUnwrapping\u001b[39m\n",
      "\u001b[32m  ✓ \u001b[39m\u001b[90mTranscodingStreams\u001b[39m\n",
      "\u001b[32m  ✓ \u001b[39m\u001b[90mNaNMath\u001b[39m\n",
      "\u001b[32m  ✓ \u001b[39m\u001b[90mDataAPI\u001b[39m\n",
      "\u001b[32m  ✓ \u001b[39m\u001b[90mDelimitedFiles\u001b[39m\n",
      "\u001b[32m  ✓ \u001b[39m\u001b[90mScratch\u001b[39m\n",
      "\u001b[32m  ✓ \u001b[39m\u001b[90mBitFlags\u001b[39m\n",
      "\u001b[32m  ✓ \u001b[39m\u001b[90mLoggingExtras\u001b[39m\n",
      "\u001b[32m  ✓ \u001b[39m\u001b[90mIrrationalConstants\u001b[39m\n",
      "\u001b[32m  ✓ \u001b[39m\u001b[90mOpenSSL_jll\u001b[39m\n",
      "\u001b[32m  ✓ \u001b[39m\u001b[90mStatistics\u001b[39m\n",
      "\u001b[32m  ✓ \u001b[39m\u001b[90mUnicodeFun\u001b[39m\n",
      "\u001b[32m  ✓ \u001b[39m\u001b[90mGraphite2_jll\u001b[39m\n",
      "\u001b[32m  ✓ \u001b[39m\u001b[90mLibmount_jll\u001b[39m\n",
      "\u001b[32m  ✓ \u001b[39m\u001b[90mEpollShim_jll\u001b[39m\n",
      "\u001b[32m  ✓ \u001b[39m\u001b[90mBzip2_jll\u001b[39m\n",
      "\u001b[32m  ✓ \u001b[39m\u001b[90mLLVMOpenMP_jll\u001b[39m\n",
      "\u001b[32m  ✓ \u001b[39m\u001b[90mXorg_libICE_jll\u001b[39m\n",
      "\u001b[32m  ✓ \u001b[39m\u001b[90mXorg_libXau_jll\u001b[39m\n",
      "\u001b[32m  ✓ \u001b[39m\u001b[90mlibpng_jll\u001b[39m\n",
      "\u001b[32m  ✓ \u001b[39m\u001b[90mLAME_jll\u001b[39m\n",
      "\u001b[32m  ✓ \u001b[39m\u001b[90mLERC_jll\u001b[39m\n",
      "\u001b[32m  ✓ \u001b[39m\u001b[90mlibfdk_aac_jll\u001b[39m\n",
      "\u001b[32m  ✓ \u001b[39m\u001b[90mMacroTools\u001b[39m\n",
      "\u001b[32m  ✓ \u001b[39m\u001b[90mXZ_jll\u001b[39m\n",
      "\u001b[32m  ✓ \u001b[39m\u001b[90mRecipesBase\u001b[39m\n",
      "\u001b[32m  ✓ \u001b[39m\u001b[90mfzf_jll\u001b[39m\n",
      "\u001b[32m  ✓ \u001b[39m\u001b[90mJpegTurbo_jll\u001b[39m\n",
      "\u001b[32m  ✓ \u001b[39m\u001b[90mOgg_jll\u001b[39m\n",
      "\u001b[32m  ✓ \u001b[39m\u001b[90mmtdev_jll\u001b[39m\n",
      "\u001b[32m  ✓ \u001b[39m\u001b[90mXorg_libXdmcp_jll\u001b[39m\n",
      "\u001b[32m  ✓ \u001b[39m\u001b[90mgperf_jll\u001b[39m\n",
      "\u001b[32m  ✓ \u001b[39m\u001b[90mx265_jll\u001b[39m\n",
      "\u001b[32m  ✓ \u001b[39m\u001b[90mlibaom_jll\u001b[39m\n",
      "\u001b[32m  ✓ \u001b[39m\u001b[90mx264_jll\u001b[39m\n",
      "\u001b[32m  ✓ \u001b[39m\u001b[90mZstd_jll\u001b[39m\n",
      "\u001b[32m  ✓ \u001b[39m\u001b[90mOpus_jll\u001b[39m\n",
      "\u001b[32m  ✓ \u001b[39m\u001b[90mLZO_jll\u001b[39m\n",
      "\u001b[32m  ✓ \u001b[39m\u001b[90mExpat_jll\u001b[39m\n",
      "\u001b[32m  ✓ \u001b[39m\u001b[90mXorg_xtrans_jll\u001b[39m\n",
      "\u001b[32m  ✓ \u001b[39m\u001b[90mlibevdev_jll\u001b[39m\n",
      "\u001b[32m  ✓ \u001b[39m\u001b[90mLibiconv_jll\u001b[39m\n",
      "\u001b[32m  ✓ \u001b[39m\u001b[90mLibffi_jll\u001b[39m\n",
      "\u001b[32m  ✓ \u001b[39m\u001b[90mLibgpg_error_jll\u001b[39m\n",
      "\u001b[32m  ✓ \u001b[39m\u001b[90mCompat → CompatLinearAlgebraExt\u001b[39m\n",
      "\u001b[32m  ✓ \u001b[39m\u001b[90mFriBidi_jll\u001b[39m\n",
      "\u001b[32m  ✓ \u001b[39m\u001b[90mLibuuid_jll\u001b[39m\n",
      "\u001b[32m  ✓ \u001b[39m\u001b[90mXorg_libpthread_stubs_jll\u001b[39m\n",
      "\u001b[32m  ✓ \u001b[39m\u001b[90mShowoff\u001b[39m\n",
      "\u001b[32m  ✓ \u001b[39m\u001b[90mRelocatableFolders\u001b[39m\n",
      "\u001b[32m  ✓ \u001b[39m\u001b[90mWayland_protocols_jll\u001b[39m\n",
      "\u001b[32m  ✓ \u001b[39m\u001b[90mMissings\u001b[39m\n",
      "\u001b[32m  ✓ \u001b[39m\u001b[90mTranscodingStreams → TestExt\u001b[39m\n",
      "\u001b[32m  ✓ \u001b[39m\u001b[90mLogExpFunctions\u001b[39m\n",
      "\u001b[32m  ✓ \u001b[39m\u001b[90mFreeType2_jll\u001b[39m\n",
      "\u001b[32m  ✓ \u001b[39m\u001b[90mXorg_libSM_jll\u001b[39m\n",
      "\u001b[32m  ✓ \u001b[39m\u001b[90mPixman_jll\u001b[39m\n",
      "\u001b[32m  ✓ \u001b[39m\u001b[90mlibvorbis_jll\u001b[39m\n",
      "\u001b[32m  ✓ \u001b[39m\u001b[90mJLFzf\u001b[39m\n",
      "\u001b[32m  ✓ \u001b[39m\u001b[90meudev_jll\u001b[39m\n",
      "\u001b[32m  ✓ \u001b[39m\u001b[90mLibtiff_jll\u001b[39m\n",
      "\u001b[32m  ✓ \u001b[39m\u001b[90mXML2_jll\u001b[39m\n",
      "\u001b[32m  ✓ \u001b[39m\u001b[90mCodecZlib\u001b[39m\n",
      "\u001b[32m  ✓ \u001b[39m\u001b[90mLibgcrypt_jll\u001b[39m\n",
      "\u001b[32m  ✓ \u001b[39m\u001b[90mlibinput_jll\u001b[39m\n",
      "\u001b[32m  ✓ \u001b[39m\u001b[90mFontconfig_jll\u001b[39m\n",
      "\u001b[32m  ✓ \u001b[39m\u001b[90mGettext_jll\u001b[39m\n",
      "\u001b[32m  ✓ \u001b[39m\u001b[90mWayland_jll\u001b[39m\n",
      "\u001b[32m  ✓ \u001b[39m\u001b[90mXSLT_jll\u001b[39m\n",
      "\u001b[32m  ✓ \u001b[39m\u001b[90mOpenSSL\u001b[39m\n",
      "\u001b[32m  ✓ \u001b[39m\u001b[90mGlib_jll\u001b[39m\n",
      "\u001b[32m  ✓ \u001b[39m\u001b[90mDataStructures\u001b[39m\n",
      "\u001b[32m  ✓ \u001b[39m\u001b[90mFixedPointNumbers\u001b[39m\n",
      "\u001b[32m  ✓ \u001b[39m\u001b[90mLatexify\u001b[39m\n",
      "\u001b[32m  ✓ \u001b[39m\u001b[90mXorg_libxcb_jll\u001b[39m\n",
      "\u001b[32m  ✓ \u001b[39m\u001b[90mSortingAlgorithms\u001b[39m\n",
      "\u001b[32m  ✓ \u001b[39m\u001b[90mXorg_xcb_util_jll\u001b[39m\n",
      "\u001b[32m  ✓ \u001b[39m\u001b[90mXorg_libX11_jll\u001b[39m\n",
      "\u001b[32m  ✓ \u001b[39m\u001b[90mXorg_libXext_jll\u001b[39m\n",
      "\u001b[32m  ✓ \u001b[39m\u001b[90mXorg_xcb_util_keysyms_jll\u001b[39m\n",
      "\u001b[32m  ✓ \u001b[39m\u001b[90mXorg_xcb_util_wm_jll\u001b[39m\n",
      "\u001b[32m  ✓ \u001b[39m\u001b[90mXorg_xcb_util_renderutil_jll\u001b[39m\n",
      "\u001b[32m  ✓ \u001b[39m\u001b[90mXorg_libXfixes_jll\u001b[39m\n",
      "\u001b[32m  ✓ \u001b[39m\u001b[90mXorg_xcb_util_image_jll\u001b[39m\n",
      "\u001b[32m  ✓ \u001b[39m\u001b[90mXorg_libxkbfile_jll\u001b[39m\n",
      "\u001b[32m  ✓ \u001b[39m\u001b[90mXorg_libXrender_jll\u001b[39m\n",
      "\u001b[32m  ✓ \u001b[39m\u001b[90mXorg_libXi_jll\u001b[39m\n",
      "\u001b[32m  ✓ \u001b[39m\u001b[90mXorg_libXinerama_jll\u001b[39m\n",
      "\u001b[32m  ✓ \u001b[39m\u001b[90mXorg_xcb_util_cursor_jll\u001b[39m\n",
      "\u001b[32m  ✓ \u001b[39m\u001b[90mXorg_xkbcomp_jll\u001b[39m\n",
      "\u001b[32m  ✓ \u001b[39m\u001b[90mLibglvnd_jll\u001b[39m\n",
      "\u001b[32m  ✓ \u001b[39m\u001b[90mXorg_libXrandr_jll\u001b[39m\n",
      "\u001b[32m  ✓ \u001b[39m\u001b[90mXorg_libXcursor_jll\u001b[39m\n",
      "\u001b[32m  ✓ \u001b[39m\u001b[90mStatsBase\u001b[39m\n",
      "\u001b[32m  ✓ \u001b[39m\u001b[90mCairo_jll\u001b[39m\n",
      "\u001b[32m  ✓ \u001b[39m\u001b[90mHTTP\u001b[39m\n",
      "\u001b[32m  ✓ \u001b[39m\u001b[90mColorTypes\u001b[39m\n",
      "\u001b[32m  ✓ \u001b[39m\u001b[90mXorg_xkeyboard_config_jll\u001b[39m\n",
      "\u001b[32m  ✓ \u001b[39m\u001b[90mGLFW_jll\u001b[39m\n",
      "\u001b[32m  ✓ \u001b[39m\u001b[90mHarfBuzz_jll\u001b[39m\n",
      "\u001b[32m  ✓ \u001b[39m\u001b[90mxkbcommon_jll\u001b[39m\n",
      "\u001b[32m  ✓ \u001b[39m\u001b[90mlibass_jll\u001b[39m\n",
      "\u001b[32m  ✓ \u001b[39m\u001b[90mVulkan_Loader_jll\u001b[39m\n",
      "\u001b[32m  ✓ \u001b[39m\u001b[90mFFMPEG_jll\u001b[39m\n",
      "\u001b[32m  ✓ \u001b[39m\u001b[90mQt6Base_jll\u001b[39m\n",
      "\u001b[32m  ✓ \u001b[39m\u001b[90mColorVectorSpace\u001b[39m\n",
      "\u001b[32m  ✓ \u001b[39m\u001b[90mFFMPEG\u001b[39m\n",
      "\u001b[32m  ✓ \u001b[39m\u001b[90mGR_jll\u001b[39m\n",
      "\u001b[32m  ✓ \u001b[39m\u001b[90mColors\u001b[39m\n",
      "\u001b[32m  ✓ \u001b[39m\u001b[90mGR\u001b[39m\n",
      "\u001b[32m  ✓ \u001b[39m\u001b[90mColorSchemes\u001b[39m\n",
      "\u001b[32m  ✓ \u001b[39m\u001b[90mUnitful\u001b[39m\n",
      "\u001b[32m  ✓ \u001b[39m\u001b[90mUnitfulLatexify\u001b[39m\n",
      "\u001b[32m  ✓ \u001b[39m\u001b[90mPlotUtils\u001b[39m\n",
      "\u001b[32m  ✓ \u001b[39m\u001b[90mPlotThemes\u001b[39m\n",
      "\u001b[32m  ✓ \u001b[39m\u001b[90mRecipesPipeline\u001b[39m\n",
      "\u001b[32m  ✓ \u001b[39mPlots\n",
      "\u001b[32m  ✓ \u001b[39m\u001b[90mPlots → UnitfulExt\u001b[39m\n",
      "\u001b[32m  ✓ \u001b[39m\u001b[90mPlots → IJuliaExt\u001b[39m\n",
      "  137 dependencies successfully precompiled in 90 seconds. 22 already precompiled.\n"
     ]
    }
   ],
   "source": [
    "using Pkg\n",
    "Pkg.add(\"Plots\")\n",
    "using Plots"
   ]
  },
  {
   "cell_type": "markdown",
   "metadata": {},
   "source": [
    "This package allows you to change backends, including `gr()` and [`PlotlyJS()`](https://plotly.com/julia/):"
   ]
  },
  {
   "cell_type": "code",
   "execution_count": 11,
   "metadata": {},
   "outputs": [],
   "source": [
    "gr() # Load the gr backend"
   ]
  },
  {
   "cell_type": "markdown",
   "metadata": {},
   "source": [
    "You can generate a line chart with the `plot` keyword, or a scatter plot with the `scatter` keyword. You can also combined them by loading `plot` first and then adding dots to it using `scatter!`. \\\n",
    "\n",
    "Additionally, add chart details using commands including `xlabel!`, `ylabel!`, and `title!`. \\ \n",
    "\n",
    "You can also flip axes using `yflip!()` and `xflip!`."
   ]
  },
  {
   "cell_type": "code",
   "execution_count": 15,
   "metadata": {},
   "outputs": [
    {
     "data": {
      "image/png": "[encoded data removed]",
      "image/svg+xml": [
       "<?xml version=\"1.0\" encoding=\"utf-8\"?>\n",
       "<svg xmlns=\"http://www.w3.org/2000/svg\" xmlns:xlink=\"http://www.w3.org/1999/xlink\" width=\"600\" height=\"400\" viewBox=\"0 0 2400 1600\">\n",
       "<defs>\n",
       "  <clipPath id=\"clip960\">\n",
       "    <rect x=\"0\" y=\"0\" width=\"2400\" height=\"1600\"/>\n",
       "  </clipPath>\n",
       "</defs>\n",
       "<path clip-path=\"url(#clip960)\" d=\"M0 1600 L2400 1600 L2400 0 L0 0  Z\" fill=\"#ffffff\" fill-rule=\"evenodd\" fill-opacity=\"1\"/>\n",
       "<defs>\n",
       "  <clipPath id=\"clip961\">\n",
       "    <rect x=\"480\" y=\"0\" width=\"1681\" height=\"1600\"/>\n",
       "  </clipPath>\n",
       "</defs>\n",
       "<path clip-path=\"url(#clip960)\" d=\"M277.621 1410.9 L2352.76 1410.9 L2352.76 123.472 L277.621 123.472  Z\" fill=\"#ffffff\" fill-rule=\"evenodd\" fill-opacity=\"1\"/>\n",
       "<defs>\n",
       "  <clipPath id=\"clip962\">\n",
       "    <rect x=\"277\" y=\"123\" width=\"2076\" height=\"1288\"/>\n",
       "  </clipPath>\n",
       "</defs>\n",
       "<polyline clip-path=\"url(#clip962)\" style=\"stroke:#000000; stroke-linecap:round; stroke-linejoin:round; stroke-width:2; stroke-opacity:0.1; fill:none\" points=\"2294.77,1410.9 2294.77,123.472 \"/>\n",
       "<polyline clip-path=\"url(#clip962)\" style=\"stroke:#000000; stroke-linecap:round; stroke-linejoin:round; stroke-width:2; stroke-opacity:0.1; fill:none\" points=\"1859.56,1410.9 1859.56,123.472 \"/>\n",
       "<polyline clip-path=\"url(#clip962)\" style=\"stroke:#000000; stroke-linecap:round; stroke-linejoin:round; stroke-width:2; stroke-opacity:0.1; fill:none\" points=\"1424.36,1410.9 1424.36,123.472 \"/>\n",
       "<polyline clip-path=\"url(#clip962)\" style=\"stroke:#000000; stroke-linecap:round; stroke-linejoin:round; stroke-width:2; stroke-opacity:0.1; fill:none\" points=\"989.156,1410.9 989.156,123.472 \"/>\n",
       "<polyline clip-path=\"url(#clip962)\" style=\"stroke:#000000; stroke-linecap:round; stroke-linejoin:round; stroke-width:2; stroke-opacity:0.1; fill:none\" points=\"553.952,1410.9 553.952,123.472 \"/>\n",
       "<polyline clip-path=\"url(#clip960)\" style=\"stroke:#000000; stroke-linecap:round; stroke-linejoin:round; stroke-width:4; stroke-opacity:1; fill:none\" points=\"2352.76,1410.9 277.621,1410.9 \"/>\n",
       "<polyline clip-path=\"url(#clip960)\" style=\"stroke:#000000; stroke-linecap:round; stroke-linejoin:round; stroke-width:4; stroke-opacity:1; fill:none\" points=\"2294.77,1410.9 2294.77,1392 \"/>\n",
       "<polyline clip-path=\"url(#clip960)\" style=\"stroke:#000000; stroke-linecap:round; stroke-linejoin:round; stroke-width:4; stroke-opacity:1; fill:none\" points=\"1859.56,1410.9 1859.56,1392 \"/>\n",
       "<polyline clip-path=\"url(#clip960)\" style=\"stroke:#000000; stroke-linecap:round; stroke-linejoin:round; stroke-width:4; stroke-opacity:1; fill:none\" points=\"1424.36,1410.9 1424.36,1392 \"/>\n",
       "<polyline clip-path=\"url(#clip960)\" style=\"stroke:#000000; stroke-linecap:round; stroke-linejoin:round; stroke-width:4; stroke-opacity:1; fill:none\" points=\"989.156,1410.9 989.156,1392 \"/>\n",
       "<polyline clip-path=\"url(#clip960)\" style=\"stroke:#000000; stroke-linecap:round; stroke-linejoin:round; stroke-width:4; stroke-opacity:1; fill:none\" points=\"553.952,1410.9 553.952,1392 \"/>\n",
       "<path clip-path=\"url(#clip960)\" d=\"M2294.77 1441.82 Q2291.15 1441.82 2289.33 1445.38 Q2287.52 1448.92 2287.52 1456.05 Q2287.52 1463.16 2289.33 1466.72 Q2291.15 1470.26 2294.77 1470.26 Q2298.4 1470.26 2300.21 1466.72 Q2302.03 1463.16 2302.03 1456.05 Q2302.03 1448.92 2300.21 1445.38 Q2298.4 1441.82 2294.77 1441.82 M2294.77 1438.11 Q2300.58 1438.11 2303.63 1442.72 Q2306.71 1447.3 2306.71 1456.05 Q2306.71 1464.78 2303.63 1469.38 Q2300.58 1473.97 2294.77 1473.97 Q2288.96 1473.97 2285.88 1469.38 Q2282.82 1464.78 2282.82 1456.05 Q2282.82 1447.3 2285.88 1442.72 Q2288.96 1438.11 2294.77 1438.11 Z\" fill=\"#000000\" fill-rule=\"nonzero\" fill-opacity=\"1\" /><path clip-path=\"url(#clip960)\" d=\"M1766.46 1485.02 L1774.1 1485.02 L1774.1 1458.66 L1765.79 1460.32 L1765.79 1456.06 L1774.05 1454.4 L1778.73 1454.4 L1778.73 1485.02 L1786.37 1485.02 L1786.37 1488.96 L1766.46 1488.96 L1766.46 1485.02 Z\" fill=\"#000000\" fill-rule=\"nonzero\" fill-opacity=\"1\" /><path clip-path=\"url(#clip960)\" d=\"M1795.81 1483.08 L1800.7 1483.08 L1800.7 1488.96 L1795.81 1488.96 L1795.81 1483.08 Z\" fill=\"#000000\" fill-rule=\"nonzero\" fill-opacity=\"1\" /><path clip-path=\"url(#clip960)\" d=\"M1820.88 1457.48 Q1817.27 1457.48 1815.44 1461.04 Q1813.64 1464.58 1813.64 1471.71 Q1813.64 1478.82 1815.44 1482.38 Q1817.27 1485.92 1820.88 1485.92 Q1824.52 1485.92 1826.32 1482.38 Q1828.15 1478.82 1828.15 1471.71 Q1828.15 1464.58 1826.32 1461.04 Q1824.52 1457.48 1820.88 1457.48 M1820.88 1453.77 Q1826.69 1453.77 1829.75 1458.38 Q1832.83 1462.96 1832.83 1471.71 Q1832.83 1480.44 1829.75 1485.04 Q1826.69 1489.63 1820.88 1489.63 Q1815.07 1489.63 1811.99 1485.04 Q1808.94 1480.44 1808.94 1471.71 Q1808.94 1462.96 1811.99 1458.38 Q1815.07 1453.77 1820.88 1453.77 Z\" fill=\"#000000\" fill-rule=\"nonzero\" fill-opacity=\"1\" /><path clip-path=\"url(#clip960)\" d=\"M1869.21 1463.49 L1858.64 1474.12 L1869.21 1484.7 L1866.46 1487.5 L1855.84 1476.87 L1845.21 1487.5 L1842.48 1484.7 L1853.03 1474.12 L1842.48 1463.49 L1845.21 1460.69 L1855.84 1471.32 L1866.46 1460.69 L1869.21 1463.49 Z\" fill=\"#000000\" fill-rule=\"nonzero\" fill-opacity=\"1\" /><path clip-path=\"url(#clip960)\" d=\"M1881.58 1485.02 L1889.21 1485.02 L1889.21 1458.66 L1880.9 1460.32 L1880.9 1456.06 L1889.17 1454.4 L1893.84 1454.4 L1893.84 1485.02 L1901.48 1485.02 L1901.48 1488.96 L1881.58 1488.96 L1881.58 1485.02 Z\" fill=\"#000000\" fill-rule=\"nonzero\" fill-opacity=\"1\" /><path clip-path=\"url(#clip960)\" d=\"M1920.93 1457.48 Q1917.32 1457.48 1915.49 1461.04 Q1913.68 1464.58 1913.68 1471.71 Q1913.68 1478.82 1915.49 1482.38 Q1917.32 1485.92 1920.93 1485.92 Q1924.56 1485.92 1926.37 1482.38 Q1928.2 1478.82 1928.2 1471.71 Q1928.2 1464.58 1926.37 1461.04 Q1924.56 1457.48 1920.93 1457.48 M1920.93 1453.77 Q1926.74 1453.77 1929.79 1458.38 Q1932.87 1462.96 1932.87 1471.71 Q1932.87 1480.44 1929.79 1485.04 Q1926.74 1489.63 1920.93 1489.63 Q1915.12 1489.63 1912.04 1485.04 Q1908.98 1480.44 1908.98 1471.71 Q1908.98 1462.96 1912.04 1458.38 Q1915.12 1453.77 1920.93 1453.77 Z\" fill=\"#000000\" fill-rule=\"nonzero\" fill-opacity=\"1\" /><path clip-path=\"url(#clip960)\" d=\"M1945.55 1436.78 L1935.96 1451.77 L1945.55 1451.77 L1945.55 1436.78 M1944.55 1433.47 L1949.33 1433.47 L1949.33 1451.77 L1953.33 1451.77 L1953.33 1454.93 L1949.33 1454.93 L1949.33 1461.55 L1945.55 1461.55 L1945.55 1454.93 L1932.87 1454.93 L1932.87 1451.26 L1944.55 1433.47 Z\" fill=\"#000000\" fill-rule=\"nonzero\" fill-opacity=\"1\" /><path clip-path=\"url(#clip960)\" d=\"M1335.34 1485.02 L1351.66 1485.02 L1351.66 1488.96 L1329.72 1488.96 L1329.72 1485.02 Q1332.38 1482.27 1336.96 1477.64 Q1341.57 1472.98 1342.75 1471.64 Q1345 1469.12 1345.88 1467.38 Q1346.78 1465.62 1346.78 1463.93 Q1346.78 1461.18 1344.83 1459.44 Q1342.91 1457.71 1339.81 1457.71 Q1337.61 1457.71 1335.16 1458.47 Q1332.73 1459.23 1329.95 1460.79 L1329.95 1456.06 Q1332.77 1454.93 1335.23 1454.35 Q1337.68 1453.77 1339.72 1453.77 Q1345.09 1453.77 1348.28 1456.46 Q1351.48 1459.14 1351.48 1463.63 Q1351.48 1465.76 1350.67 1467.68 Q1349.88 1469.58 1347.77 1472.17 Q1347.2 1472.85 1344.09 1476.06 Q1340.99 1479.26 1335.34 1485.02 Z\" fill=\"#000000\" fill-rule=\"nonzero\" fill-opacity=\"1\" /><path clip-path=\"url(#clip960)\" d=\"M1361.48 1483.08 L1366.36 1483.08 L1366.36 1488.96 L1361.48 1488.96 L1361.48 1483.08 Z\" fill=\"#000000\" fill-rule=\"nonzero\" fill-opacity=\"1\" /><path clip-path=\"url(#clip960)\" d=\"M1386.55 1457.48 Q1382.94 1457.48 1381.11 1461.04 Q1379.3 1464.58 1379.3 1471.71 Q1379.3 1478.82 1381.11 1482.38 Q1382.94 1485.92 1386.55 1485.92 Q1390.18 1485.92 1391.99 1482.38 Q1393.82 1478.82 1393.82 1471.71 Q1393.82 1464.58 1391.99 1461.04 Q1390.18 1457.48 1386.55 1457.48 M1386.55 1453.77 Q1392.36 1453.77 1395.41 1458.38 Q1398.49 1462.96 1398.49 1471.71 Q1398.49 1480.44 1395.41 1485.04 Q1392.36 1489.63 1386.55 1489.63 Q1380.74 1489.63 1377.66 1485.04 Q1374.6 1480.44 1374.6 1471.71 Q1374.6 1462.96 1377.66 1458.38 Q1380.74 1453.77 1386.55 1453.77 Z\" fill=\"#000000\" fill-rule=\"nonzero\" fill-opacity=\"1\" /><path clip-path=\"url(#clip960)\" d=\"M1434.88 1463.49 L1424.3 1474.12 L1434.88 1484.7 L1432.13 1487.5 L1421.5 1476.87 L1410.88 1487.5 L1408.14 1484.7 L1418.7 1474.12 L1408.14 1463.49 L1410.88 1460.69 L1421.5 1471.32 L1432.13 1460.69 L1434.88 1463.49 Z\" fill=\"#000000\" fill-rule=\"nonzero\" fill-opacity=\"1\" /><path clip-path=\"url(#clip960)\" d=\"M1447.24 1485.02 L1454.88 1485.02 L1454.88 1458.66 L1446.57 1460.32 L1446.57 1456.06 L1454.83 1454.4 L1459.51 1454.4 L1459.51 1485.02 L1467.15 1485.02 L1467.15 1488.96 L1447.24 1488.96 L1447.24 1485.02 Z\" fill=\"#000000\" fill-rule=\"nonzero\" fill-opacity=\"1\" /><path clip-path=\"url(#clip960)\" d=\"M1486.59 1457.48 Q1482.98 1457.48 1481.15 1461.04 Q1479.35 1464.58 1479.35 1471.71 Q1479.35 1478.82 1481.15 1482.38 Q1482.98 1485.92 1486.59 1485.92 Q1490.23 1485.92 1492.03 1482.38 Q1493.86 1478.82 1493.86 1471.71 Q1493.86 1464.58 1492.03 1461.04 Q1490.23 1457.48 1486.59 1457.48 M1486.59 1453.77 Q1492.4 1453.77 1495.46 1458.38 Q1498.54 1462.96 1498.54 1471.71 Q1498.54 1480.44 1495.46 1485.04 Q1492.4 1489.63 1486.59 1489.63 Q1480.78 1489.63 1477.7 1485.04 Q1474.65 1480.44 1474.65 1471.71 Q1474.65 1462.96 1477.7 1458.38 Q1480.78 1453.77 1486.59 1453.77 Z\" fill=\"#000000\" fill-rule=\"nonzero\" fill-opacity=\"1\" /><path clip-path=\"url(#clip960)\" d=\"M1511.21 1436.78 L1501.62 1451.77 L1511.21 1451.77 L1511.21 1436.78 M1510.22 1433.47 L1514.99 1433.47 L1514.99 1451.77 L1519 1451.77 L1519 1454.93 L1514.99 1454.93 L1514.99 1461.55 L1511.21 1461.55 L1511.21 1454.93 L1498.54 1454.93 L1498.54 1451.26 L1510.22 1433.47 Z\" fill=\"#000000\" fill-rule=\"nonzero\" fill-opacity=\"1\" /><path clip-path=\"url(#clip960)\" d=\"M910.209 1470.32 Q913.566 1471.04 915.441 1473.31 Q917.339 1475.58 917.339 1478.91 Q917.339 1484.03 913.82 1486.83 Q910.302 1489.63 903.821 1489.63 Q901.645 1489.63 899.33 1489.19 Q897.038 1488.77 894.584 1487.91 L894.584 1483.4 Q896.529 1484.54 898.844 1485.11 Q901.159 1485.69 903.682 1485.69 Q908.08 1485.69 910.371 1483.96 Q912.686 1482.22 912.686 1478.91 Q912.686 1475.85 910.533 1474.14 Q908.404 1472.41 904.584 1472.41 L900.557 1472.41 L900.557 1468.56 L904.77 1468.56 Q908.219 1468.56 910.047 1467.2 Q911.876 1465.81 911.876 1463.22 Q911.876 1460.55 909.978 1459.14 Q908.103 1457.71 904.584 1457.71 Q902.663 1457.71 900.464 1458.12 Q898.265 1458.54 895.626 1459.42 L895.626 1455.25 Q898.288 1454.51 900.603 1454.14 Q902.941 1453.77 905.001 1453.77 Q910.325 1453.77 913.427 1456.2 Q916.529 1458.61 916.529 1462.73 Q916.529 1465.6 914.885 1467.59 Q913.242 1469.56 910.209 1470.32 Z\" fill=\"#000000\" fill-rule=\"nonzero\" fill-opacity=\"1\" /><path clip-path=\"url(#clip960)\" d=\"M926.205 1483.08 L931.089 1483.08 L931.089 1488.96 L926.205 1488.96 L926.205 1483.08 Z\" fill=\"#000000\" fill-rule=\"nonzero\" fill-opacity=\"1\" /><path clip-path=\"url(#clip960)\" d=\"M951.274 1457.48 Q947.663 1457.48 945.834 1461.04 Q944.029 1464.58 944.029 1471.71 Q944.029 1478.82 945.834 1482.38 Q947.663 1485.92 951.274 1485.92 Q954.908 1485.92 956.714 1482.38 Q958.542 1478.82 958.542 1471.71 Q958.542 1464.58 956.714 1461.04 Q954.908 1457.48 951.274 1457.48 M951.274 1453.77 Q957.084 1453.77 960.14 1458.38 Q963.218 1462.96 963.218 1471.71 Q963.218 1480.44 960.14 1485.04 Q957.084 1489.63 951.274 1489.63 Q945.464 1489.63 942.385 1485.04 Q939.33 1480.44 939.33 1471.71 Q939.33 1462.96 942.385 1458.38 Q945.464 1453.77 951.274 1453.77 Z\" fill=\"#000000\" fill-rule=\"nonzero\" fill-opacity=\"1\" /><path clip-path=\"url(#clip960)\" d=\"M999.607 1463.49 L989.028 1474.12 L999.607 1484.7 L996.852 1487.5 L986.227 1476.87 L975.603 1487.5 L972.871 1484.7 L983.427 1474.12 L972.871 1463.49 L975.603 1460.69 L986.227 1471.32 L996.852 1460.69 L999.607 1463.49 Z\" fill=\"#000000\" fill-rule=\"nonzero\" fill-opacity=\"1\" /><path clip-path=\"url(#clip960)\" d=\"M1011.97 1485.02 L1019.61 1485.02 L1019.61 1458.66 L1011.3 1460.32 L1011.3 1456.06 L1019.56 1454.4 L1024.24 1454.4 L1024.24 1485.02 L1031.88 1485.02 L1031.88 1488.96 L1011.97 1488.96 L1011.97 1485.02 Z\" fill=\"#000000\" fill-rule=\"nonzero\" fill-opacity=\"1\" /><path clip-path=\"url(#clip960)\" d=\"M1051.32 1457.48 Q1047.71 1457.48 1045.88 1461.04 Q1044.07 1464.58 1044.07 1471.71 Q1044.07 1478.82 1045.88 1482.38 Q1047.71 1485.92 1051.32 1485.92 Q1054.95 1485.92 1056.76 1482.38 Q1058.59 1478.82 1058.59 1471.71 Q1058.59 1464.58 1056.76 1461.04 Q1054.95 1457.48 1051.32 1457.48 M1051.32 1453.77 Q1057.13 1453.77 1060.19 1458.38 Q1063.26 1462.96 1063.26 1471.71 Q1063.26 1480.44 1060.19 1485.04 Q1057.13 1489.63 1051.32 1489.63 Q1045.51 1489.63 1042.43 1485.04 Q1039.38 1480.44 1039.38 1471.71 Q1039.38 1462.96 1042.43 1458.38 Q1045.51 1453.77 1051.32 1453.77 Z\" fill=\"#000000\" fill-rule=\"nonzero\" fill-opacity=\"1\" /><path clip-path=\"url(#clip960)\" d=\"M1075.94 1436.78 L1066.35 1451.77 L1075.94 1451.77 L1075.94 1436.78 M1074.94 1433.47 L1079.72 1433.47 L1079.72 1451.77 L1083.73 1451.77 L1083.73 1454.93 L1079.72 1454.93 L1079.72 1461.55 L1075.94 1461.55 L1075.94 1454.93 L1063.26 1454.93 L1063.26 1451.26 L1074.94 1433.47 Z\" fill=\"#000000\" fill-rule=\"nonzero\" fill-opacity=\"1\" /><path clip-path=\"url(#clip960)\" d=\"M474.335 1458.47 L462.529 1476.92 L474.335 1476.92 L474.335 1458.47 M473.108 1454.4 L478.988 1454.4 L478.988 1476.92 L483.918 1476.92 L483.918 1480.81 L478.988 1480.81 L478.988 1488.96 L474.335 1488.96 L474.335 1480.81 L458.733 1480.81 L458.733 1476.29 L473.108 1454.4 Z\" fill=\"#000000\" fill-rule=\"nonzero\" fill-opacity=\"1\" /><path clip-path=\"url(#clip960)\" d=\"M491.65 1483.08 L496.534 1483.08 L496.534 1488.96 L491.65 1488.96 L491.65 1483.08 Z\" fill=\"#000000\" fill-rule=\"nonzero\" fill-opacity=\"1\" /><path clip-path=\"url(#clip960)\" d=\"M516.719 1457.48 Q513.108 1457.48 511.279 1461.04 Q509.474 1464.58 509.474 1471.71 Q509.474 1478.82 511.279 1482.38 Q513.108 1485.92 516.719 1485.92 Q520.353 1485.92 522.159 1482.38 Q523.987 1478.82 523.987 1471.71 Q523.987 1464.58 522.159 1461.04 Q520.353 1457.48 516.719 1457.48 M516.719 1453.77 Q522.529 1453.77 525.585 1458.38 Q528.663 1462.96 528.663 1471.71 Q528.663 1480.44 525.585 1485.04 Q522.529 1489.63 516.719 1489.63 Q510.909 1489.63 507.83 1485.04 Q504.774 1480.44 504.774 1471.71 Q504.774 1462.96 507.83 1458.38 Q510.909 1453.77 516.719 1453.77 Z\" fill=\"#000000\" fill-rule=\"nonzero\" fill-opacity=\"1\" /><path clip-path=\"url(#clip960)\" d=\"M565.052 1463.49 L554.473 1474.12 L565.052 1484.7 L562.297 1487.5 L551.672 1476.87 L541.047 1487.5 L538.316 1484.7 L548.871 1474.12 L538.316 1463.49 L541.047 1460.69 L551.672 1471.32 L562.297 1460.69 L565.052 1463.49 Z\" fill=\"#000000\" fill-rule=\"nonzero\" fill-opacity=\"1\" /><path clip-path=\"url(#clip960)\" d=\"M577.413 1485.02 L585.052 1485.02 L585.052 1458.66 L576.742 1460.32 L576.742 1456.06 L585.006 1454.4 L589.681 1454.4 L589.681 1485.02 L597.32 1485.02 L597.32 1488.96 L577.413 1488.96 L577.413 1485.02 Z\" fill=\"#000000\" fill-rule=\"nonzero\" fill-opacity=\"1\" /><path clip-path=\"url(#clip960)\" d=\"M616.765 1457.48 Q613.154 1457.48 611.325 1461.04 Q609.519 1464.58 609.519 1471.71 Q609.519 1478.82 611.325 1482.38 Q613.154 1485.92 616.765 1485.92 Q620.399 1485.92 622.204 1482.38 Q624.033 1478.82 624.033 1471.71 Q624.033 1464.58 622.204 1461.04 Q620.399 1457.48 616.765 1457.48 M616.765 1453.77 Q622.575 1453.77 625.63 1458.38 Q628.709 1462.96 628.709 1471.71 Q628.709 1480.44 625.63 1485.04 Q622.575 1489.63 616.765 1489.63 Q610.954 1489.63 607.876 1485.04 Q604.82 1480.44 604.82 1471.71 Q604.82 1462.96 607.876 1458.38 Q610.954 1453.77 616.765 1453.77 Z\" fill=\"#000000\" fill-rule=\"nonzero\" fill-opacity=\"1\" /><path clip-path=\"url(#clip960)\" d=\"M641.385 1436.78 L631.793 1451.77 L641.385 1451.77 L641.385 1436.78 M640.389 1433.47 L645.166 1433.47 L645.166 1451.77 L649.172 1451.77 L649.172 1454.93 L645.166 1454.93 L645.166 1461.55 L641.385 1461.55 L641.385 1454.93 L628.709 1454.93 L628.709 1451.26 L640.389 1433.47 Z\" fill=\"#000000\" fill-rule=\"nonzero\" fill-opacity=\"1\" /><path clip-path=\"url(#clip960)\" d=\"M782.967 1526.67 L791.625 1526.67 L812.695 1566.42 L812.695 1526.67 L818.934 1526.67 L818.934 1574.19 L810.276 1574.19 L789.206 1534.43 L789.206 1574.19 L782.967 1574.19 L782.967 1526.67 Z\" fill=\"#000000\" fill-rule=\"nonzero\" fill-opacity=\"1\" /><path clip-path=\"url(#clip960)\" d=\"M830.869 1560.12 L830.869 1538.54 L836.726 1538.54 L836.726 1559.89 Q836.726 1564.96 838.699 1567.5 Q840.673 1570.02 844.619 1570.02 Q849.362 1570.02 852.099 1566.99 Q854.868 1563.97 854.868 1558.75 L854.868 1538.54 L860.725 1538.54 L860.725 1574.19 L854.868 1574.19 L854.868 1568.71 Q852.736 1571.96 849.903 1573.55 Q847.102 1575.11 843.378 1575.11 Q837.235 1575.11 834.052 1571.29 Q830.869 1567.47 830.869 1560.12 M845.606 1537.68 L845.606 1537.68 Z\" fill=\"#000000\" fill-rule=\"nonzero\" fill-opacity=\"1\" /><path clip-path=\"url(#clip960)\" d=\"M900.542 1545.38 Q902.738 1541.43 905.794 1539.56 Q908.849 1537.68 912.987 1537.68 Q918.557 1537.68 921.581 1541.59 Q924.604 1545.48 924.604 1552.67 L924.604 1574.19 L918.716 1574.19 L918.716 1552.86 Q918.716 1547.74 916.902 1545.25 Q915.088 1542.77 911.364 1542.77 Q906.812 1542.77 904.17 1545.79 Q901.529 1548.82 901.529 1554.04 L901.529 1574.19 L895.64 1574.19 L895.64 1552.86 Q895.64 1547.7 893.826 1545.25 Q892.012 1542.77 888.224 1542.77 Q883.737 1542.77 881.095 1545.83 Q878.453 1548.85 878.453 1554.04 L878.453 1574.19 L872.565 1574.19 L872.565 1538.54 L878.453 1538.54 L878.453 1544.08 Q880.458 1540.8 883.259 1539.24 Q886.06 1537.68 889.911 1537.68 Q893.794 1537.68 896.5 1539.65 Q899.237 1541.62 900.542 1545.38 Z\" fill=\"#000000\" fill-rule=\"nonzero\" fill-opacity=\"1\" /><path clip-path=\"url(#clip960)\" d=\"M961.876 1556.39 Q961.876 1549.93 959.202 1546.27 Q956.56 1542.58 951.913 1542.58 Q947.266 1542.58 944.593 1546.27 Q941.951 1549.93 941.951 1556.39 Q941.951 1562.85 944.593 1566.55 Q947.266 1570.21 951.913 1570.21 Q956.56 1570.21 959.202 1566.55 Q961.876 1562.85 961.876 1556.39 M941.951 1543.95 Q943.797 1540.77 946.598 1539.24 Q949.431 1537.68 953.346 1537.68 Q959.839 1537.68 963.881 1542.83 Q967.955 1547.99 967.955 1556.39 Q967.955 1564.8 963.881 1569.95 Q959.839 1575.11 953.346 1575.11 Q949.431 1575.11 946.598 1573.58 Q943.797 1572.02 941.951 1568.84 L941.951 1574.19 L936.063 1574.19 L936.063 1524.66 L941.951 1524.66 L941.951 1543.95 Z\" fill=\"#000000\" fill-rule=\"nonzero\" fill-opacity=\"1\" /><path clip-path=\"url(#clip960)\" d=\"M1008.15 1554.9 L1008.15 1557.76 L981.227 1557.76 Q981.609 1563.81 984.856 1566.99 Q988.134 1570.14 993.959 1570.14 Q997.333 1570.14 1000.48 1569.32 Q1003.67 1568.49 1006.79 1566.83 L1006.79 1572.37 Q1003.63 1573.71 1000.32 1574.41 Q997.014 1575.11 993.609 1575.11 Q985.079 1575.11 980.082 1570.14 Q975.116 1565.18 975.116 1556.71 Q975.116 1547.96 979.827 1542.83 Q984.569 1537.68 992.59 1537.68 Q999.783 1537.68 1003.95 1542.33 Q1008.15 1546.94 1008.15 1554.9 M1002.3 1553.18 Q1002.23 1548.37 999.592 1545.51 Q996.982 1542.64 992.654 1542.64 Q987.752 1542.64 984.792 1545.41 Q981.864 1548.18 981.418 1553.21 L1002.3 1553.18 Z\" fill=\"#000000\" fill-rule=\"nonzero\" fill-opacity=\"1\" /><path clip-path=\"url(#clip960)\" d=\"M1038.42 1544.01 Q1037.44 1543.44 1036.26 1543.18 Q1035.11 1542.9 1033.71 1542.9 Q1028.75 1542.9 1026.07 1546.14 Q1023.43 1549.36 1023.43 1555.41 L1023.43 1574.19 L1017.54 1574.19 L1017.54 1538.54 L1023.43 1538.54 L1023.43 1544.08 Q1025.28 1540.83 1028.24 1539.27 Q1031.2 1537.68 1035.43 1537.68 Q1036.04 1537.68 1036.77 1537.77 Q1037.5 1537.84 1038.39 1538 L1038.42 1544.01 Z\" fill=\"#000000\" fill-rule=\"nonzero\" fill-opacity=\"1\" /><path clip-path=\"url(#clip960)\" d=\"M1079.1 1542.64 Q1074.39 1542.64 1071.65 1546.34 Q1068.91 1550 1068.91 1556.39 Q1068.91 1562.79 1071.62 1566.48 Q1074.36 1570.14 1079.1 1570.14 Q1083.78 1570.14 1086.52 1566.45 Q1089.25 1562.76 1089.25 1556.39 Q1089.25 1550.06 1086.52 1546.37 Q1083.78 1542.64 1079.1 1542.64 M1079.1 1537.68 Q1086.74 1537.68 1091.1 1542.64 Q1095.46 1547.61 1095.46 1556.39 Q1095.46 1565.15 1091.1 1570.14 Q1086.74 1575.11 1079.1 1575.11 Q1071.43 1575.11 1067.07 1570.14 Q1062.74 1565.15 1062.74 1556.39 Q1062.74 1547.61 1067.07 1542.64 Q1071.43 1537.68 1079.1 1537.68 Z\" fill=\"#000000\" fill-rule=\"nonzero\" fill-opacity=\"1\" /><path clip-path=\"url(#clip960)\" d=\"M1123.21 1524.66 L1123.21 1529.53 L1117.61 1529.53 Q1114.46 1529.53 1113.22 1530.8 Q1112.01 1532.08 1112.01 1535.39 L1112.01 1538.54 L1121.65 1538.54 L1121.65 1543.09 L1112.01 1543.09 L1112.01 1574.19 L1106.12 1574.19 L1106.12 1543.09 L1100.52 1543.09 L1100.52 1538.54 L1106.12 1538.54 L1106.12 1536.05 Q1106.12 1530.1 1108.89 1527.4 Q1111.66 1524.66 1117.68 1524.66 L1123.21 1524.66 Z\" fill=\"#000000\" fill-rule=\"nonzero\" fill-opacity=\"1\" /><path clip-path=\"url(#clip960)\" d=\"M1155.52 1531.95 L1155.52 1549.8 L1163.6 1549.8 Q1168.09 1549.8 1170.54 1547.48 Q1172.99 1545.16 1172.99 1540.86 Q1172.99 1536.6 1170.54 1534.27 Q1168.09 1531.95 1163.6 1531.95 L1155.52 1531.95 M1149.09 1526.67 L1163.6 1526.67 Q1171.59 1526.67 1175.67 1530.29 Q1179.77 1533.89 1179.77 1540.86 Q1179.77 1547.9 1175.67 1551.49 Q1171.59 1555.09 1163.6 1555.09 L1155.52 1555.09 L1155.52 1574.19 L1149.09 1574.19 L1149.09 1526.67 Z\" fill=\"#000000\" fill-rule=\"nonzero\" fill-opacity=\"1\" /><path clip-path=\"url(#clip960)\" d=\"M1186.71 1538.54 L1192.57 1538.54 L1192.57 1574.19 L1186.71 1574.19 L1186.71 1538.54 M1186.71 1524.66 L1192.57 1524.66 L1192.57 1532.08 L1186.71 1532.08 L1186.71 1524.66 Z\" fill=\"#000000\" fill-rule=\"nonzero\" fill-opacity=\"1\" /><path clip-path=\"url(#clip960)\" d=\"M1225.48 1544.01 Q1224.49 1543.44 1223.32 1543.18 Q1222.17 1542.9 1220.77 1542.9 Q1215.8 1542.9 1213.13 1546.14 Q1210.49 1549.36 1210.49 1555.41 L1210.49 1574.19 L1204.6 1574.19 L1204.6 1538.54 L1210.49 1538.54 L1210.49 1544.08 Q1212.33 1540.83 1215.29 1539.27 Q1218.25 1537.68 1222.49 1537.68 Q1223.09 1537.68 1223.82 1537.77 Q1224.56 1537.84 1225.45 1538 L1225.48 1544.01 Z\" fill=\"#000000\" fill-rule=\"nonzero\" fill-opacity=\"1\" /><path clip-path=\"url(#clip960)\" d=\"M1247.82 1556.27 Q1240.73 1556.27 1237.99 1557.89 Q1235.25 1559.51 1235.25 1563.43 Q1235.25 1566.55 1237.29 1568.39 Q1239.36 1570.21 1242.89 1570.21 Q1247.76 1570.21 1250.69 1566.77 Q1253.65 1563.3 1253.65 1557.57 L1253.65 1556.27 L1247.82 1556.27 M1259.5 1553.85 L1259.5 1574.19 L1253.65 1574.19 L1253.65 1568.77 Q1251.64 1572.02 1248.65 1573.58 Q1245.66 1575.11 1241.33 1575.11 Q1235.86 1575.11 1232.61 1572.05 Q1229.39 1568.97 1229.39 1563.81 Q1229.39 1557.79 1233.4 1554.74 Q1237.45 1551.68 1245.44 1551.68 L1253.65 1551.68 L1253.65 1551.11 Q1253.65 1547.07 1250.97 1544.87 Q1248.33 1542.64 1243.53 1542.64 Q1240.47 1542.64 1237.57 1543.38 Q1234.68 1544.11 1232 1545.57 L1232 1540.16 Q1235.22 1538.92 1238.24 1538.31 Q1241.27 1537.68 1244.13 1537.68 Q1251.87 1537.68 1255.68 1541.69 Q1259.5 1545.7 1259.5 1553.85 Z\" fill=\"#000000\" fill-rule=\"nonzero\" fill-opacity=\"1\" /><path clip-path=\"url(#clip960)\" d=\"M1277.36 1528.42 L1277.36 1538.54 L1289.42 1538.54 L1289.42 1543.09 L1277.36 1543.09 L1277.36 1562.44 Q1277.36 1566.8 1278.54 1568.04 Q1279.75 1569.28 1283.41 1569.28 L1289.42 1569.28 L1289.42 1574.19 L1283.41 1574.19 Q1276.63 1574.19 1274.05 1571.67 Q1271.47 1569.12 1271.47 1562.44 L1271.47 1543.09 L1267.17 1543.09 L1267.17 1538.54 L1271.47 1538.54 L1271.47 1528.42 L1277.36 1528.42 Z\" fill=\"#000000\" fill-rule=\"nonzero\" fill-opacity=\"1\" /><path clip-path=\"url(#clip960)\" d=\"M1327.62 1554.9 L1327.62 1557.76 L1300.69 1557.76 Q1301.07 1563.81 1304.32 1566.99 Q1307.6 1570.14 1313.42 1570.14 Q1316.8 1570.14 1319.95 1569.32 Q1323.13 1568.49 1326.25 1566.83 L1326.25 1572.37 Q1323.1 1573.71 1319.79 1574.41 Q1316.48 1575.11 1313.07 1575.11 Q1304.54 1575.11 1299.54 1570.14 Q1294.58 1565.18 1294.58 1556.71 Q1294.58 1547.96 1299.29 1542.83 Q1304.03 1537.68 1312.05 1537.68 Q1319.25 1537.68 1323.42 1542.33 Q1327.62 1546.94 1327.62 1554.9 M1321.76 1553.18 Q1321.7 1548.37 1319.06 1545.51 Q1316.45 1542.64 1312.12 1542.64 Q1307.22 1542.64 1304.26 1545.41 Q1301.33 1548.18 1300.88 1553.21 L1321.76 1553.18 Z\" fill=\"#000000\" fill-rule=\"nonzero\" fill-opacity=\"1\" /><path clip-path=\"url(#clip960)\" d=\"M1359.96 1539.59 L1359.96 1545.13 Q1357.47 1543.85 1354.8 1543.22 Q1352.13 1542.58 1349.26 1542.58 Q1344.9 1542.58 1342.7 1543.92 Q1340.54 1545.25 1340.54 1547.93 Q1340.54 1549.96 1342.1 1551.14 Q1343.66 1552.29 1348.37 1553.34 L1350.37 1553.78 Q1356.61 1555.12 1359.22 1557.57 Q1361.86 1559.99 1361.86 1564.35 Q1361.86 1569.32 1357.92 1572.21 Q1354 1575.11 1347.13 1575.11 Q1344.26 1575.11 1341.14 1574.54 Q1338.06 1573.99 1334.62 1572.88 L1334.62 1566.83 Q1337.87 1568.52 1341.02 1569.38 Q1344.17 1570.21 1347.26 1570.21 Q1351.39 1570.21 1353.62 1568.81 Q1355.85 1567.37 1355.85 1564.8 Q1355.85 1562.41 1354.23 1561.14 Q1352.63 1559.86 1347.19 1558.68 L1345.15 1558.21 Q1339.71 1557.06 1337.29 1554.71 Q1334.87 1552.32 1334.87 1548.18 Q1334.87 1543.15 1338.44 1540.42 Q1342 1537.68 1348.56 1537.68 Q1351.81 1537.68 1354.67 1538.16 Q1357.54 1538.63 1359.96 1539.59 Z\" fill=\"#000000\" fill-rule=\"nonzero\" fill-opacity=\"1\" /><path clip-path=\"url(#clip960)\" d=\"M1391.37 1524.66 L1404.87 1524.66 L1404.87 1529.21 L1397.23 1529.21 L1397.23 1578.23 L1404.87 1578.23 L1404.87 1582.78 L1391.37 1582.78 L1391.37 1524.66 Z\" fill=\"#000000\" fill-rule=\"nonzero\" fill-opacity=\"1\" /><path clip-path=\"url(#clip960)\" d=\"M1433.48 1533 L1424.76 1556.65 L1442.23 1556.65 L1433.48 1533 M1429.85 1526.67 L1437.14 1526.67 L1455.25 1574.19 L1448.57 1574.19 L1444.24 1562 L1422.82 1562 L1418.49 1574.19 L1411.71 1574.19 L1429.85 1526.67 Z\" fill=\"#000000\" fill-rule=\"nonzero\" fill-opacity=\"1\" /><path clip-path=\"url(#clip960)\" d=\"M1467.6 1568.84 L1467.6 1587.74 L1461.71 1587.74 L1461.71 1538.54 L1467.6 1538.54 L1467.6 1543.95 Q1469.45 1540.77 1472.25 1539.24 Q1475.08 1537.68 1478.99 1537.68 Q1485.49 1537.68 1489.53 1542.83 Q1493.6 1547.99 1493.6 1556.39 Q1493.6 1564.8 1489.53 1569.95 Q1485.49 1575.11 1478.99 1575.11 Q1475.08 1575.11 1472.25 1573.58 Q1469.45 1572.02 1467.6 1568.84 M1487.52 1556.39 Q1487.52 1549.93 1484.85 1546.27 Q1482.21 1542.58 1477.56 1542.58 Q1472.91 1542.58 1470.24 1546.27 Q1467.6 1549.93 1467.6 1556.39 Q1467.6 1562.85 1470.24 1566.55 Q1472.91 1570.21 1477.56 1570.21 Q1482.21 1570.21 1484.85 1566.55 Q1487.52 1562.85 1487.52 1556.39 Z\" fill=\"#000000\" fill-rule=\"nonzero\" fill-opacity=\"1\" /><path clip-path=\"url(#clip960)\" d=\"M1508.98 1568.84 L1508.98 1587.74 L1503.09 1587.74 L1503.09 1538.54 L1508.98 1538.54 L1508.98 1543.95 Q1510.82 1540.77 1513.62 1539.24 Q1516.46 1537.68 1520.37 1537.68 Q1526.86 1537.68 1530.91 1542.83 Q1534.98 1547.99 1534.98 1556.39 Q1534.98 1564.8 1530.91 1569.95 Q1526.86 1575.11 1520.37 1575.11 Q1516.46 1575.11 1513.62 1573.58 Q1510.82 1572.02 1508.98 1568.84 M1528.9 1556.39 Q1528.9 1549.93 1526.23 1546.27 Q1523.59 1542.58 1518.94 1542.58 Q1514.29 1542.58 1511.62 1546.27 Q1508.98 1549.93 1508.98 1556.39 Q1508.98 1562.85 1511.62 1566.55 Q1514.29 1570.21 1518.94 1570.21 Q1523.59 1570.21 1526.23 1566.55 Q1528.9 1562.85 1528.9 1556.39 Z\" fill=\"#000000\" fill-rule=\"nonzero\" fill-opacity=\"1\" /><path clip-path=\"url(#clip960)\" d=\"M1565.34 1544.01 Q1564.36 1543.44 1563.18 1543.18 Q1562.03 1542.9 1560.63 1542.9 Q1555.67 1542.9 1553 1546.14 Q1550.35 1549.36 1550.35 1555.41 L1550.35 1574.19 L1544.47 1574.19 L1544.47 1538.54 L1550.35 1538.54 L1550.35 1544.08 Q1552.2 1540.83 1555.16 1539.27 Q1558.12 1537.68 1562.35 1537.68 Q1562.96 1537.68 1563.69 1537.77 Q1564.42 1537.84 1565.31 1538 L1565.34 1544.01 Z\" fill=\"#000000\" fill-rule=\"nonzero\" fill-opacity=\"1\" /><path clip-path=\"url(#clip960)\" d=\"M1583.87 1542.64 Q1579.16 1542.64 1576.42 1546.34 Q1573.68 1550 1573.68 1556.39 Q1573.68 1562.79 1576.39 1566.48 Q1579.13 1570.14 1583.87 1570.14 Q1588.55 1570.14 1591.28 1566.45 Q1594.02 1562.76 1594.02 1556.39 Q1594.02 1550.06 1591.28 1546.37 Q1588.55 1542.64 1583.87 1542.64 M1583.87 1537.68 Q1591.51 1537.68 1595.87 1542.64 Q1600.23 1547.61 1600.23 1556.39 Q1600.23 1565.15 1595.87 1570.14 Q1591.51 1575.11 1583.87 1575.11 Q1576.2 1575.11 1571.84 1570.14 Q1567.51 1565.15 1567.51 1556.39 Q1567.51 1547.61 1571.84 1542.64 Q1576.2 1537.68 1583.87 1537.68 Z\" fill=\"#000000\" fill-rule=\"nonzero\" fill-opacity=\"1\" /><path clip-path=\"url(#clip960)\" d=\"M1637.56 1538.54 L1624.67 1555.88 L1638.23 1574.19 L1631.33 1574.19 L1620.95 1560.18 L1610.57 1574.19 L1603.67 1574.19 L1617.51 1555.53 L1604.84 1538.54 L1611.75 1538.54 L1621.2 1551.24 L1630.66 1538.54 L1637.56 1538.54 Z\" fill=\"#000000\" fill-rule=\"nonzero\" fill-opacity=\"1\" /><path clip-path=\"url(#clip960)\" d=\"M1646.51 1538.54 L1652.36 1538.54 L1652.36 1574.19 L1646.51 1574.19 L1646.51 1538.54 M1646.51 1524.66 L1652.36 1524.66 L1652.36 1532.08 L1646.51 1532.08 L1646.51 1524.66 Z\" fill=\"#000000\" fill-rule=\"nonzero\" fill-opacity=\"1\" /><path clip-path=\"url(#clip960)\" d=\"M1692.37 1545.38 Q1694.57 1541.43 1697.62 1539.56 Q1700.68 1537.68 1704.82 1537.68 Q1710.39 1537.68 1713.41 1541.59 Q1716.43 1545.48 1716.43 1552.67 L1716.43 1574.19 L1710.55 1574.19 L1710.55 1552.86 Q1710.55 1547.74 1708.73 1545.25 Q1706.92 1542.77 1703.19 1542.77 Q1698.64 1542.77 1696 1545.79 Q1693.36 1548.82 1693.36 1554.04 L1693.36 1574.19 L1687.47 1574.19 L1687.47 1552.86 Q1687.47 1547.7 1685.66 1545.25 Q1683.84 1542.77 1680.05 1542.77 Q1675.57 1542.77 1672.93 1545.83 Q1670.28 1548.85 1670.28 1554.04 L1670.28 1574.19 L1664.39 1574.19 L1664.39 1538.54 L1670.28 1538.54 L1670.28 1544.08 Q1672.29 1540.8 1675.09 1539.24 Q1677.89 1537.68 1681.74 1537.68 Q1685.62 1537.68 1688.33 1539.65 Q1691.07 1541.62 1692.37 1545.38 Z\" fill=\"#000000\" fill-rule=\"nonzero\" fill-opacity=\"1\" /><path clip-path=\"url(#clip960)\" d=\"M1744.32 1556.27 Q1737.22 1556.27 1734.48 1557.89 Q1731.74 1559.51 1731.74 1563.43 Q1731.74 1566.55 1733.78 1568.39 Q1735.85 1570.21 1739.38 1570.21 Q1744.25 1570.21 1747.18 1566.77 Q1750.14 1563.3 1750.14 1557.57 L1750.14 1556.27 L1744.32 1556.27 M1756 1553.85 L1756 1574.19 L1750.14 1574.19 L1750.14 1568.77 Q1748.14 1572.02 1745.14 1573.58 Q1742.15 1575.11 1737.82 1575.11 Q1732.35 1575.11 1729.1 1572.05 Q1725.89 1568.97 1725.89 1563.81 Q1725.89 1557.79 1729.9 1554.74 Q1733.94 1551.68 1741.93 1551.68 L1750.14 1551.68 L1750.14 1551.11 Q1750.14 1547.07 1747.47 1544.87 Q1744.83 1542.64 1740.02 1542.64 Q1736.96 1542.64 1734.07 1543.38 Q1731.17 1544.11 1728.5 1545.57 L1728.5 1540.16 Q1731.71 1538.92 1734.74 1538.31 Q1737.76 1537.68 1740.62 1537.68 Q1748.36 1537.68 1752.18 1541.69 Q1756 1545.7 1756 1553.85 Z\" fill=\"#000000\" fill-rule=\"nonzero\" fill-opacity=\"1\" /><path clip-path=\"url(#clip960)\" d=\"M1773.85 1528.42 L1773.85 1538.54 L1785.92 1538.54 L1785.92 1543.09 L1773.85 1543.09 L1773.85 1562.44 Q1773.85 1566.8 1775.03 1568.04 Q1776.24 1569.28 1779.9 1569.28 L1785.92 1569.28 L1785.92 1574.19 L1779.9 1574.19 Q1773.12 1574.19 1770.54 1571.67 Q1767.97 1569.12 1767.97 1562.44 L1767.97 1543.09 L1763.67 1543.09 L1763.67 1538.54 L1767.97 1538.54 L1767.97 1528.42 L1773.85 1528.42 Z\" fill=\"#000000\" fill-rule=\"nonzero\" fill-opacity=\"1\" /><path clip-path=\"url(#clip960)\" d=\"M1824.11 1554.9 L1824.11 1557.76 L1797.18 1557.76 Q1797.57 1563.81 1800.81 1566.99 Q1804.09 1570.14 1809.92 1570.14 Q1813.29 1570.14 1816.44 1569.32 Q1819.62 1568.49 1822.74 1566.83 L1822.74 1572.37 Q1819.59 1573.71 1816.28 1574.41 Q1812.97 1575.11 1809.56 1575.11 Q1801.03 1575.11 1796.04 1570.14 Q1791.07 1565.18 1791.07 1556.71 Q1791.07 1547.96 1795.78 1542.83 Q1800.53 1537.68 1808.55 1537.68 Q1815.74 1537.68 1819.91 1542.33 Q1824.11 1546.94 1824.11 1554.9 M1818.25 1553.18 Q1818.19 1548.37 1815.55 1545.51 Q1812.94 1542.64 1808.61 1542.64 Q1803.71 1542.64 1800.75 1545.41 Q1797.82 1548.18 1797.37 1553.21 L1818.25 1553.18 Z\" fill=\"#000000\" fill-rule=\"nonzero\" fill-opacity=\"1\" /><path clip-path=\"url(#clip960)\" d=\"M1847.41 1524.66 L1847.41 1582.78 L1833.91 1582.78 L1833.91 1578.23 L1841.52 1578.23 L1841.52 1529.21 L1833.91 1529.21 L1833.91 1524.66 L1847.41 1524.66 Z\" fill=\"#000000\" fill-rule=\"nonzero\" fill-opacity=\"1\" /><polyline clip-path=\"url(#clip962)\" style=\"stroke:#000000; stroke-linecap:round; stroke-linejoin:round; stroke-width:2; stroke-opacity:0.1; fill:none\" points=\"2352.76,1287.71 277.621,1287.71 \"/>\n",
       "<polyline clip-path=\"url(#clip962)\" style=\"stroke:#000000; stroke-linecap:round; stroke-linejoin:round; stroke-width:2; stroke-opacity:0.1; fill:none\" points=\"2352.76,1070.82 277.621,1070.82 \"/>\n",
       "<polyline clip-path=\"url(#clip962)\" style=\"stroke:#000000; stroke-linecap:round; stroke-linejoin:round; stroke-width:2; stroke-opacity:0.1; fill:none\" points=\"2352.76,853.938 277.621,853.938 \"/>\n",
       "<polyline clip-path=\"url(#clip962)\" style=\"stroke:#000000; stroke-linecap:round; stroke-linejoin:round; stroke-width:2; stroke-opacity:0.1; fill:none\" points=\"2352.76,637.054 277.621,637.054 \"/>\n",
       "<polyline clip-path=\"url(#clip962)\" style=\"stroke:#000000; stroke-linecap:round; stroke-linejoin:round; stroke-width:2; stroke-opacity:0.1; fill:none\" points=\"2352.76,420.17 277.621,420.17 \"/>\n",
       "<polyline clip-path=\"url(#clip962)\" style=\"stroke:#000000; stroke-linecap:round; stroke-linejoin:round; stroke-width:2; stroke-opacity:0.1; fill:none\" points=\"2352.76,203.286 277.621,203.286 \"/>\n",
       "<polyline clip-path=\"url(#clip960)\" style=\"stroke:#000000; stroke-linecap:round; stroke-linejoin:round; stroke-width:4; stroke-opacity:1; fill:none\" points=\"277.621,1410.9 277.621,123.472 \"/>\n",
       "<polyline clip-path=\"url(#clip960)\" style=\"stroke:#000000; stroke-linecap:round; stroke-linejoin:round; stroke-width:4; stroke-opacity:1; fill:none\" points=\"277.621,1287.71 296.518,1287.71 \"/>\n",
       "<polyline clip-path=\"url(#clip960)\" style=\"stroke:#000000; stroke-linecap:round; stroke-linejoin:round; stroke-width:4; stroke-opacity:1; fill:none\" points=\"277.621,1070.82 296.518,1070.82 \"/>\n",
       "<polyline clip-path=\"url(#clip960)\" style=\"stroke:#000000; stroke-linecap:round; stroke-linejoin:round; stroke-width:4; stroke-opacity:1; fill:none\" points=\"277.621,853.938 296.518,853.938 \"/>\n",
       "<polyline clip-path=\"url(#clip960)\" style=\"stroke:#000000; stroke-linecap:round; stroke-linejoin:round; stroke-width:4; stroke-opacity:1; fill:none\" points=\"277.621,637.054 296.518,637.054 \"/>\n",
       "<polyline clip-path=\"url(#clip960)\" style=\"stroke:#000000; stroke-linecap:round; stroke-linejoin:round; stroke-width:4; stroke-opacity:1; fill:none\" points=\"277.621,420.17 296.518,420.17 \"/>\n",
       "<polyline clip-path=\"url(#clip960)\" style=\"stroke:#000000; stroke-linecap:round; stroke-linejoin:round; stroke-width:4; stroke-opacity:1; fill:none\" points=\"277.621,203.286 296.518,203.286 \"/>\n",
       "<path clip-path=\"url(#clip960)\" d=\"M114.931 1301.05 L122.57 1301.05 L122.57 1274.69 L114.26 1276.35 L114.26 1272.09 L122.524 1270.43 L127.2 1270.43 L127.2 1301.05 L134.839 1301.05 L134.839 1304.99 L114.931 1304.99 L114.931 1301.05 Z\" fill=\"#000000\" fill-rule=\"nonzero\" fill-opacity=\"1\" /><path clip-path=\"url(#clip960)\" d=\"M157.13 1274.5 L145.325 1292.95 L157.13 1292.95 L157.13 1274.5 M155.903 1270.43 L161.783 1270.43 L161.783 1292.95 L166.714 1292.95 L166.714 1296.84 L161.783 1296.84 L161.783 1304.99 L157.13 1304.99 L157.13 1296.84 L141.529 1296.84 L141.529 1292.32 L155.903 1270.43 Z\" fill=\"#000000\" fill-rule=\"nonzero\" fill-opacity=\"1\" /><path clip-path=\"url(#clip960)\" d=\"M174.445 1299.11 L179.329 1299.11 L179.329 1304.99 L174.445 1304.99 L174.445 1299.11 Z\" fill=\"#000000\" fill-rule=\"nonzero\" fill-opacity=\"1\" /><path clip-path=\"url(#clip960)\" d=\"M189.561 1270.43 L207.917 1270.43 L207.917 1274.36 L193.843 1274.36 L193.843 1282.83 Q194.862 1282.49 195.88 1282.32 Q196.899 1282.14 197.917 1282.14 Q203.704 1282.14 207.084 1285.31 Q210.463 1288.48 210.463 1293.9 Q210.463 1299.48 206.991 1302.58 Q203.519 1305.66 197.2 1305.66 Q195.024 1305.66 192.755 1305.29 Q190.51 1304.92 188.102 1304.18 L188.102 1299.48 Q190.186 1300.61 192.408 1301.17 Q194.63 1301.72 197.107 1301.72 Q201.112 1301.72 203.449 1299.62 Q205.787 1297.51 205.787 1293.9 Q205.787 1290.29 203.449 1288.18 Q201.112 1286.07 197.107 1286.07 Q195.232 1286.07 193.357 1286.49 Q191.505 1286.91 189.561 1287.79 L189.561 1270.43 Z\" fill=\"#000000\" fill-rule=\"nonzero\" fill-opacity=\"1\" /><path clip-path=\"url(#clip960)\" d=\"M229.676 1273.51 Q226.065 1273.51 224.236 1277.07 Q222.431 1280.61 222.431 1287.74 Q222.431 1294.85 224.236 1298.41 Q226.065 1301.95 229.676 1301.95 Q233.31 1301.95 235.116 1298.41 Q236.945 1294.85 236.945 1287.74 Q236.945 1280.61 235.116 1277.07 Q233.31 1273.51 229.676 1273.51 M229.676 1269.8 Q235.486 1269.8 238.542 1274.41 Q241.621 1278.99 241.621 1287.74 Q241.621 1296.47 238.542 1301.07 Q235.486 1305.66 229.676 1305.66 Q223.866 1305.66 220.787 1301.07 Q217.732 1296.47 217.732 1287.74 Q217.732 1278.99 220.787 1274.41 Q223.866 1269.8 229.676 1269.8 Z\" fill=\"#000000\" fill-rule=\"nonzero\" fill-opacity=\"1\" /><path clip-path=\"url(#clip960)\" d=\"M115.927 1084.17 L123.566 1084.17 L123.566 1057.8 L115.256 1059.47 L115.256 1055.21 L123.519 1053.54 L128.195 1053.54 L128.195 1084.17 L135.834 1084.17 L135.834 1088.1 L115.927 1088.1 L115.927 1084.17 Z\" fill=\"#000000\" fill-rule=\"nonzero\" fill-opacity=\"1\" /><path clip-path=\"url(#clip960)\" d=\"M158.126 1057.62 L146.32 1076.07 L158.126 1076.07 L158.126 1057.62 M156.899 1053.54 L162.778 1053.54 L162.778 1076.07 L167.709 1076.07 L167.709 1079.95 L162.778 1079.95 L162.778 1088.1 L158.126 1088.1 L158.126 1079.95 L142.524 1079.95 L142.524 1075.44 L156.899 1053.54 Z\" fill=\"#000000\" fill-rule=\"nonzero\" fill-opacity=\"1\" /><path clip-path=\"url(#clip960)\" d=\"M175.44 1082.22 L180.325 1082.22 L180.325 1088.1 L175.44 1088.1 L175.44 1082.22 Z\" fill=\"#000000\" fill-rule=\"nonzero\" fill-opacity=\"1\" /><path clip-path=\"url(#clip960)\" d=\"M189.329 1053.54 L211.551 1053.54 L211.551 1055.53 L199.005 1088.1 L194.121 1088.1 L205.926 1057.48 L189.329 1057.48 L189.329 1053.54 Z\" fill=\"#000000\" fill-rule=\"nonzero\" fill-opacity=\"1\" /><path clip-path=\"url(#clip960)\" d=\"M220.718 1053.54 L239.074 1053.54 L239.074 1057.48 L225 1057.48 L225 1065.95 Q226.019 1065.6 227.037 1065.44 Q228.056 1065.26 229.074 1065.26 Q234.861 1065.26 238.241 1068.43 Q241.621 1071.6 241.621 1077.01 Q241.621 1082.59 238.148 1085.69 Q234.676 1088.77 228.357 1088.77 Q226.181 1088.77 223.912 1088.4 Q221.667 1088.03 219.26 1087.29 L219.26 1082.59 Q221.343 1083.73 223.565 1084.28 Q225.787 1084.84 228.264 1084.84 Q232.269 1084.84 234.607 1082.73 Q236.945 1080.63 236.945 1077.01 Q236.945 1073.4 234.607 1071.3 Q232.269 1069.19 228.264 1069.19 Q226.389 1069.19 224.514 1069.61 Q222.662 1070.02 220.718 1070.9 L220.718 1053.54 Z\" fill=\"#000000\" fill-rule=\"nonzero\" fill-opacity=\"1\" /><path clip-path=\"url(#clip960)\" d=\"M114.931 867.283 L122.57 867.283 L122.57 840.917 L114.26 842.584 L114.26 838.325 L122.524 836.658 L127.2 836.658 L127.2 867.283 L134.839 867.283 L134.839 871.218 L114.931 871.218 L114.931 867.283 Z\" fill=\"#000000\" fill-rule=\"nonzero\" fill-opacity=\"1\" /><path clip-path=\"url(#clip960)\" d=\"M144.329 836.658 L162.686 836.658 L162.686 840.593 L148.612 840.593 L148.612 849.065 Q149.63 848.718 150.649 848.556 Q151.667 848.371 152.686 848.371 Q158.473 848.371 161.852 851.542 Q165.232 854.714 165.232 860.13 Q165.232 865.709 161.76 868.811 Q158.288 871.889 151.968 871.889 Q149.792 871.889 147.524 871.519 Q145.279 871.149 142.871 870.408 L142.871 865.709 Q144.954 866.843 147.177 867.399 Q149.399 867.954 151.876 867.954 Q155.88 867.954 158.218 865.848 Q160.556 863.741 160.556 860.13 Q160.556 856.519 158.218 854.413 Q155.88 852.306 151.876 852.306 Q150.001 852.306 148.126 852.723 Q146.274 853.139 144.329 854.019 L144.329 836.658 Z\" fill=\"#000000\" fill-rule=\"nonzero\" fill-opacity=\"1\" /><path clip-path=\"url(#clip960)\" d=\"M174.445 865.338 L179.329 865.338 L179.329 871.218 L174.445 871.218 L174.445 865.338 Z\" fill=\"#000000\" fill-rule=\"nonzero\" fill-opacity=\"1\" /><path clip-path=\"url(#clip960)\" d=\"M199.514 839.737 Q195.903 839.737 194.075 843.302 Q192.269 846.843 192.269 853.973 Q192.269 861.079 194.075 864.644 Q195.903 868.186 199.514 868.186 Q203.149 868.186 204.954 864.644 Q206.783 861.079 206.783 853.973 Q206.783 846.843 204.954 843.302 Q203.149 839.737 199.514 839.737 M199.514 836.033 Q205.324 836.033 208.38 840.64 Q211.459 845.223 211.459 853.973 Q211.459 862.7 208.38 867.306 Q205.324 871.889 199.514 871.889 Q193.704 871.889 190.625 867.306 Q187.57 862.7 187.57 853.973 Q187.57 845.223 190.625 840.64 Q193.704 836.033 199.514 836.033 Z\" fill=\"#000000\" fill-rule=\"nonzero\" fill-opacity=\"1\" /><path clip-path=\"url(#clip960)\" d=\"M229.676 839.737 Q226.065 839.737 224.236 843.302 Q222.431 846.843 222.431 853.973 Q222.431 861.079 224.236 864.644 Q226.065 868.186 229.676 868.186 Q233.31 868.186 235.116 864.644 Q236.945 861.079 236.945 853.973 Q236.945 846.843 235.116 843.302 Q233.31 839.737 229.676 839.737 M229.676 836.033 Q235.486 836.033 238.542 840.64 Q241.621 845.223 241.621 853.973 Q241.621 862.7 238.542 867.306 Q235.486 871.889 229.676 871.889 Q223.866 871.889 220.787 867.306 Q217.732 862.7 217.732 853.973 Q217.732 845.223 220.787 840.64 Q223.866 836.033 229.676 836.033 Z\" fill=\"#000000\" fill-rule=\"nonzero\" fill-opacity=\"1\" /><path clip-path=\"url(#clip960)\" d=\"M115.927 650.399 L123.566 650.399 L123.566 624.033 L115.256 625.7 L115.256 621.441 L123.519 619.774 L128.195 619.774 L128.195 650.399 L135.834 650.399 L135.834 654.334 L115.927 654.334 L115.927 650.399 Z\" fill=\"#000000\" fill-rule=\"nonzero\" fill-opacity=\"1\" /><path clip-path=\"url(#clip960)\" d=\"M145.325 619.774 L163.681 619.774 L163.681 623.709 L149.607 623.709 L149.607 632.181 Q150.626 631.834 151.644 631.672 Q152.663 631.487 153.681 631.487 Q159.468 631.487 162.848 634.658 Q166.227 637.829 166.227 643.246 Q166.227 648.825 162.755 651.926 Q159.283 655.005 152.964 655.005 Q150.788 655.005 148.519 654.635 Q146.274 654.264 143.866 653.524 L143.866 648.825 Q145.95 649.959 148.172 650.514 Q150.394 651.07 152.871 651.07 Q156.876 651.07 159.214 648.964 Q161.552 646.857 161.552 643.246 Q161.552 639.635 159.214 637.528 Q156.876 635.422 152.871 635.422 Q150.996 635.422 149.121 635.839 Q147.269 636.255 145.325 637.135 L145.325 619.774 Z\" fill=\"#000000\" fill-rule=\"nonzero\" fill-opacity=\"1\" /><path clip-path=\"url(#clip960)\" d=\"M175.44 648.454 L180.325 648.454 L180.325 654.334 L175.44 654.334 L175.44 648.454 Z\" fill=\"#000000\" fill-rule=\"nonzero\" fill-opacity=\"1\" /><path clip-path=\"url(#clip960)\" d=\"M194.538 650.399 L210.857 650.399 L210.857 654.334 L188.913 654.334 L188.913 650.399 Q191.575 647.644 196.158 643.014 Q200.764 638.362 201.945 637.019 Q204.19 634.496 205.07 632.76 Q205.973 631.001 205.973 629.311 Q205.973 626.556 204.028 624.82 Q202.107 623.084 199.005 623.084 Q196.806 623.084 194.352 623.848 Q191.922 624.612 189.144 626.163 L189.144 621.441 Q191.968 620.306 194.422 619.728 Q196.875 619.149 198.912 619.149 Q204.283 619.149 207.477 621.834 Q210.672 624.519 210.672 629.01 Q210.672 631.14 209.861 633.061 Q209.074 634.959 206.968 637.552 Q206.389 638.223 203.287 641.44 Q200.186 644.635 194.538 650.399 Z\" fill=\"#000000\" fill-rule=\"nonzero\" fill-opacity=\"1\" /><path clip-path=\"url(#clip960)\" d=\"M220.718 619.774 L239.074 619.774 L239.074 623.709 L225 623.709 L225 632.181 Q226.019 631.834 227.037 631.672 Q228.056 631.487 229.074 631.487 Q234.861 631.487 238.241 634.658 Q241.621 637.829 241.621 643.246 Q241.621 648.825 238.148 651.926 Q234.676 655.005 228.357 655.005 Q226.181 655.005 223.912 654.635 Q221.667 654.264 219.26 653.524 L219.26 648.825 Q221.343 649.959 223.565 650.514 Q225.787 651.07 228.264 651.07 Q232.269 651.07 234.607 648.964 Q236.945 646.857 236.945 643.246 Q236.945 639.635 234.607 637.528 Q232.269 635.422 228.264 635.422 Q226.389 635.422 224.514 635.839 Q222.662 636.255 220.718 637.135 L220.718 619.774 Z\" fill=\"#000000\" fill-rule=\"nonzero\" fill-opacity=\"1\" /><path clip-path=\"url(#clip960)\" d=\"M114.931 433.515 L122.57 433.515 L122.57 407.149 L114.26 408.816 L114.26 404.556 L122.524 402.89 L127.2 402.89 L127.2 433.515 L134.839 433.515 L134.839 437.45 L114.931 437.45 L114.931 433.515 Z\" fill=\"#000000\" fill-rule=\"nonzero\" fill-opacity=\"1\" /><path clip-path=\"url(#clip960)\" d=\"M144.329 402.89 L162.686 402.89 L162.686 406.825 L148.612 406.825 L148.612 415.297 Q149.63 414.95 150.649 414.788 Q151.667 414.603 152.686 414.603 Q158.473 414.603 161.852 417.774 Q165.232 420.945 165.232 426.362 Q165.232 431.94 161.76 435.042 Q158.288 438.121 151.968 438.121 Q149.792 438.121 147.524 437.751 Q145.279 437.38 142.871 436.64 L142.871 431.94 Q144.954 433.075 147.177 433.63 Q149.399 434.186 151.876 434.186 Q155.88 434.186 158.218 432.079 Q160.556 429.973 160.556 426.362 Q160.556 422.751 158.218 420.644 Q155.88 418.538 151.876 418.538 Q150.001 418.538 148.126 418.954 Q146.274 419.371 144.329 420.251 L144.329 402.89 Z\" fill=\"#000000\" fill-rule=\"nonzero\" fill-opacity=\"1\" /><path clip-path=\"url(#clip960)\" d=\"M174.445 431.57 L179.329 431.57 L179.329 437.45 L174.445 437.45 L174.445 431.57 Z\" fill=\"#000000\" fill-rule=\"nonzero\" fill-opacity=\"1\" /><path clip-path=\"url(#clip960)\" d=\"M189.561 402.89 L207.917 402.89 L207.917 406.825 L193.843 406.825 L193.843 415.297 Q194.862 414.95 195.88 414.788 Q196.899 414.603 197.917 414.603 Q203.704 414.603 207.084 417.774 Q210.463 420.945 210.463 426.362 Q210.463 431.94 206.991 435.042 Q203.519 438.121 197.2 438.121 Q195.024 438.121 192.755 437.751 Q190.51 437.38 188.102 436.64 L188.102 431.94 Q190.186 433.075 192.408 433.63 Q194.63 434.186 197.107 434.186 Q201.112 434.186 203.449 432.079 Q205.787 429.973 205.787 426.362 Q205.787 422.751 203.449 420.644 Q201.112 418.538 197.107 418.538 Q195.232 418.538 193.357 418.954 Q191.505 419.371 189.561 420.251 L189.561 402.89 Z\" fill=\"#000000\" fill-rule=\"nonzero\" fill-opacity=\"1\" /><path clip-path=\"url(#clip960)\" d=\"M229.676 405.968 Q226.065 405.968 224.236 409.533 Q222.431 413.075 222.431 420.204 Q222.431 427.311 224.236 430.876 Q226.065 434.417 229.676 434.417 Q233.31 434.417 235.116 430.876 Q236.945 427.311 236.945 420.204 Q236.945 413.075 235.116 409.533 Q233.31 405.968 229.676 405.968 M229.676 402.265 Q235.486 402.265 238.542 406.871 Q241.621 411.454 241.621 420.204 Q241.621 428.931 238.542 433.538 Q235.486 438.121 229.676 438.121 Q223.866 438.121 220.787 433.538 Q217.732 428.931 217.732 420.204 Q217.732 411.454 220.787 406.871 Q223.866 402.265 229.676 402.265 Z\" fill=\"#000000\" fill-rule=\"nonzero\" fill-opacity=\"1\" /><path clip-path=\"url(#clip960)\" d=\"M115.927 216.63 L123.566 216.63 L123.566 190.265 L115.256 191.931 L115.256 187.672 L123.519 186.006 L128.195 186.006 L128.195 216.63 L135.834 216.63 L135.834 220.566 L115.927 220.566 L115.927 216.63 Z\" fill=\"#000000\" fill-rule=\"nonzero\" fill-opacity=\"1\" /><path clip-path=\"url(#clip960)\" d=\"M145.325 186.006 L163.681 186.006 L163.681 189.941 L149.607 189.941 L149.607 198.413 Q150.626 198.066 151.644 197.904 Q152.663 197.718 153.681 197.718 Q159.468 197.718 162.848 200.89 Q166.227 204.061 166.227 209.478 Q166.227 215.056 162.755 218.158 Q159.283 221.237 152.964 221.237 Q150.788 221.237 148.519 220.866 Q146.274 220.496 143.866 219.755 L143.866 215.056 Q145.95 216.191 148.172 216.746 Q150.394 217.302 152.871 217.302 Q156.876 217.302 159.214 215.195 Q161.552 213.089 161.552 209.478 Q161.552 205.867 159.214 203.76 Q156.876 201.654 152.871 201.654 Q150.996 201.654 149.121 202.07 Q147.269 202.487 145.325 203.367 L145.325 186.006 Z\" fill=\"#000000\" fill-rule=\"nonzero\" fill-opacity=\"1\" /><path clip-path=\"url(#clip960)\" d=\"M175.44 214.686 L180.325 214.686 L180.325 220.566 L175.44 220.566 L175.44 214.686 Z\" fill=\"#000000\" fill-rule=\"nonzero\" fill-opacity=\"1\" /><path clip-path=\"url(#clip960)\" d=\"M189.329 186.006 L211.551 186.006 L211.551 187.996 L199.005 220.566 L194.121 220.566 L205.926 189.941 L189.329 189.941 L189.329 186.006 Z\" fill=\"#000000\" fill-rule=\"nonzero\" fill-opacity=\"1\" /><path clip-path=\"url(#clip960)\" d=\"M220.718 186.006 L239.074 186.006 L239.074 189.941 L225 189.941 L225 198.413 Q226.019 198.066 227.037 197.904 Q228.056 197.718 229.074 197.718 Q234.861 197.718 238.241 200.89 Q241.621 204.061 241.621 209.478 Q241.621 215.056 238.148 218.158 Q234.676 221.237 228.357 221.237 Q226.181 221.237 223.912 220.866 Q221.667 220.496 219.26 219.755 L219.26 215.056 Q221.343 216.191 223.565 216.746 Q225.787 217.302 228.264 217.302 Q232.269 217.302 234.607 215.195 Q236.945 213.089 236.945 209.478 Q236.945 205.867 234.607 203.76 Q232.269 201.654 228.264 201.654 Q226.389 201.654 224.514 202.07 Q222.662 202.487 220.718 203.367 L220.718 186.006 Z\" fill=\"#000000\" fill-rule=\"nonzero\" fill-opacity=\"1\" /><path clip-path=\"url(#clip960)\" d=\"M57.2247 1106.75 L44.4614 1106.75 L44.4614 1117.25 L39.1779 1117.25 L39.1779 1100.38 L59.58 1100.38 Q62.2218 1104.11 63.5904 1108.59 Q64.9272 1113.08 64.9272 1118.17 Q64.9272 1129.31 58.4342 1135.62 Q51.9093 1141.89 40.2919 1141.89 Q28.6427 1141.89 22.1496 1135.62 Q15.6248 1129.31 15.6248 1118.17 Q15.6248 1113.53 16.7706 1109.36 Q17.9164 1105.16 20.1444 1101.62 L26.9876 1101.62 Q23.9639 1105.19 22.4361 1109.2 Q20.9083 1113.21 20.9083 1117.63 Q20.9083 1126.35 25.7781 1130.75 Q30.6479 1135.11 40.2919 1135.11 Q49.9041 1135.11 54.7739 1130.75 Q59.6436 1126.35 59.6436 1117.63 Q59.6436 1114.23 59.0707 1111.55 Q58.466 1108.88 57.2247 1106.75 Z\" fill=\"#000000\" fill-rule=\"nonzero\" fill-opacity=\"1\" /><path clip-path=\"url(#clip960)\" d=\"M14.479 1088.89 L14.479 1083.03 L64.0042 1083.03 L64.0042 1088.89 L14.479 1088.89 Z\" fill=\"#000000\" fill-rule=\"nonzero\" fill-opacity=\"1\" /><path clip-path=\"url(#clip960)\" d=\"M32.4621 1056.97 Q32.4621 1061.68 36.1542 1064.42 Q39.8145 1067.15 46.212 1067.15 Q52.6095 1067.15 56.3017 1064.45 Q59.9619 1061.71 59.9619 1056.97 Q59.9619 1052.29 56.2698 1049.55 Q52.5777 1046.81 46.212 1046.81 Q39.8781 1046.81 36.186 1049.55 Q32.4621 1052.29 32.4621 1056.97 M27.4968 1056.97 Q27.4968 1049.33 32.4621 1044.97 Q37.4273 1040.61 46.212 1040.61 Q54.9649 1040.61 59.9619 1044.97 Q64.9272 1049.33 64.9272 1056.97 Q64.9272 1064.64 59.9619 1069 Q54.9649 1073.33 46.212 1073.33 Q37.4273 1073.33 32.4621 1069 Q27.4968 1064.64 27.4968 1056.97 Z\" fill=\"#000000\" fill-rule=\"nonzero\" fill-opacity=\"1\" /><path clip-path=\"url(#clip960)\" d=\"M46.212 1005.31 Q39.7508 1005.31 36.0905 1007.98 Q32.3984 1010.62 32.3984 1015.27 Q32.3984 1019.92 36.0905 1022.59 Q39.7508 1025.23 46.212 1025.23 Q52.6732 1025.23 56.3653 1022.59 Q60.0256 1019.92 60.0256 1015.27 Q60.0256 1010.62 56.3653 1007.98 Q52.6732 1005.31 46.212 1005.31 M33.7671 1025.23 Q30.5842 1023.39 29.0564 1020.59 Q27.4968 1017.75 27.4968 1013.84 Q27.4968 1007.35 32.6531 1003.3 Q37.8093 999.23 46.212 999.23 Q54.6147 999.23 59.771 1003.3 Q64.9272 1007.35 64.9272 1013.84 Q64.9272 1017.75 63.3994 1020.59 Q61.8398 1023.39 58.657 1025.23 L64.0042 1025.23 L64.0042 1031.12 L14.479 1031.12 L14.479 1025.23 L33.7671 1025.23 Z\" fill=\"#000000\" fill-rule=\"nonzero\" fill-opacity=\"1\" /><path clip-path=\"url(#clip960)\" d=\"M46.0847 973.322 Q46.0847 980.42 47.7079 983.157 Q49.3312 985.894 53.2461 985.894 Q56.3653 985.894 58.2114 983.857 Q60.0256 981.788 60.0256 978.255 Q60.0256 973.386 56.5881 970.457 Q53.1188 967.497 47.3897 967.497 L46.0847 967.497 L46.0847 973.322 M43.6657 961.641 L64.0042 961.641 L64.0042 967.497 L58.5933 967.497 Q61.8398 969.502 63.3994 972.494 Q64.9272 975.486 64.9272 979.815 Q64.9272 985.289 61.8716 988.536 Q58.7843 991.751 53.6281 991.751 Q47.6125 991.751 44.5569 987.74 Q41.5014 983.698 41.5014 975.709 L41.5014 967.497 L40.9285 967.497 Q36.8862 967.497 34.6901 970.171 Q32.4621 972.813 32.4621 977.619 Q32.4621 980.674 33.1941 983.571 Q33.9262 986.467 35.3903 989.141 L29.9795 989.141 Q28.7381 985.926 28.1334 982.902 Q27.4968 979.879 27.4968 977.014 Q27.4968 969.28 31.5072 965.46 Q35.5176 961.641 43.6657 961.641 Z\" fill=\"#000000\" fill-rule=\"nonzero\" fill-opacity=\"1\" /><path clip-path=\"url(#clip960)\" d=\"M14.479 949.578 L14.479 943.721 L64.0042 943.721 L64.0042 949.578 L14.479 949.578 Z\" fill=\"#000000\" fill-rule=\"nonzero\" fill-opacity=\"1\" /><path clip-path=\"url(#clip960)\" d=\"M16.4842 917.081 L16.4842 876.881 L21.895 876.881 L21.895 893.751 L64.0042 893.751 L64.0042 900.212 L21.895 900.212 L21.895 917.081 L16.4842 917.081 Z\" fill=\"#000000\" fill-rule=\"nonzero\" fill-opacity=\"1\" /><path clip-path=\"url(#clip960)\" d=\"M44.7161 851.514 L47.5806 851.514 L47.5806 878.441 Q53.6281 878.059 56.8109 874.813 Q59.9619 871.534 59.9619 865.71 Q59.9619 862.336 59.1344 859.185 Q58.3069 856.002 56.6518 852.883 L62.1899 852.883 Q63.5267 856.034 64.227 859.344 Q64.9272 862.654 64.9272 866.06 Q64.9272 874.59 59.9619 879.587 Q54.9967 884.552 46.5303 884.552 Q37.7774 884.552 32.6531 879.841 Q27.4968 875.099 27.4968 867.078 Q27.4968 859.885 32.1438 855.715 Q36.7589 851.514 44.7161 851.514 M42.9973 857.371 Q38.1912 857.434 35.3266 860.076 Q32.4621 862.686 32.4621 867.015 Q32.4621 871.916 35.2312 874.876 Q38.0002 877.804 43.0292 878.25 L42.9973 857.371 Z\" fill=\"#000000\" fill-rule=\"nonzero\" fill-opacity=\"1\" /><path clip-path=\"url(#clip960)\" d=\"M35.1993 814.147 Q31.2526 811.951 29.3747 808.896 Q27.4968 805.84 27.4968 801.702 Q27.4968 796.132 31.4117 793.109 Q35.2948 790.085 42.4881 790.085 L64.0042 790.085 L64.0042 795.973 L42.679 795.973 Q37.5546 795.973 35.072 797.788 Q32.5894 799.602 32.5894 803.326 Q32.5894 807.877 35.6131 810.519 Q38.6368 813.161 43.8567 813.161 L64.0042 813.161 L64.0042 819.049 L42.679 819.049 Q37.5228 819.049 35.072 820.863 Q32.5894 822.677 32.5894 826.465 Q32.5894 830.953 35.6449 833.595 Q38.6686 836.236 43.8567 836.236 L64.0042 836.236 L64.0042 842.125 L28.3562 842.125 L28.3562 836.236 L33.8944 836.236 Q30.616 834.231 29.0564 831.43 Q27.4968 828.629 27.4968 824.778 Q27.4968 820.895 29.4702 818.19 Q31.4436 815.452 35.1993 814.147 Z\" fill=\"#000000\" fill-rule=\"nonzero\" fill-opacity=\"1\" /><path clip-path=\"url(#clip960)\" d=\"M58.657 772.738 L77.5631 772.738 L77.5631 778.627 L28.3562 778.627 L28.3562 772.738 L33.7671 772.738 Q30.5842 770.892 29.0564 768.091 Q27.4968 765.259 27.4968 761.344 Q27.4968 754.851 32.6531 750.809 Q37.8093 746.735 46.212 746.735 Q54.6147 746.735 59.771 750.809 Q64.9272 754.851 64.9272 761.344 Q64.9272 765.259 63.3994 768.091 Q61.8398 770.892 58.657 772.738 M46.212 752.814 Q39.7508 752.814 36.0905 755.487 Q32.3984 758.129 32.3984 762.776 Q32.3984 767.423 36.0905 770.097 Q39.7508 772.738 46.212 772.738 Q52.6732 772.738 56.3653 770.097 Q60.0256 767.423 60.0256 762.776 Q60.0256 758.129 56.3653 755.487 Q52.6732 752.814 46.212 752.814 Z\" fill=\"#000000\" fill-rule=\"nonzero\" fill-opacity=\"1\" /><path clip-path=\"url(#clip960)\" d=\"M44.7161 706.535 L47.5806 706.535 L47.5806 733.462 Q53.6281 733.08 56.8109 729.834 Q59.9619 726.555 59.9619 720.731 Q59.9619 717.357 59.1344 714.206 Q58.3069 711.023 56.6518 707.904 L62.1899 707.904 Q63.5267 711.055 64.227 714.365 Q64.9272 717.675 64.9272 721.081 Q64.9272 729.611 59.9619 734.608 Q54.9967 739.573 46.5303 739.573 Q37.7774 739.573 32.6531 734.863 Q27.4968 730.12 27.4968 722.099 Q27.4968 714.906 32.1438 710.736 Q36.7589 706.535 44.7161 706.535 M42.9973 712.392 Q38.1912 712.455 35.3266 715.097 Q32.4621 717.707 32.4621 722.036 Q32.4621 726.937 35.2312 729.897 Q38.0002 732.825 43.0292 733.271 L42.9973 712.392 Z\" fill=\"#000000\" fill-rule=\"nonzero\" fill-opacity=\"1\" /><path clip-path=\"url(#clip960)\" d=\"M33.8307 676.266 Q33.2578 677.253 33.0032 678.431 Q32.7167 679.576 32.7167 680.977 Q32.7167 685.942 35.9632 688.616 Q39.1779 691.257 45.2253 691.257 L64.0042 691.257 L64.0042 697.146 L28.3562 697.146 L28.3562 691.257 L33.8944 691.257 Q30.6479 689.411 29.0883 686.451 Q27.4968 683.491 27.4968 679.258 Q27.4968 678.653 27.5923 677.921 Q27.656 677.189 27.8151 676.298 L33.8307 676.266 Z\" fill=\"#000000\" fill-rule=\"nonzero\" fill-opacity=\"1\" /><path clip-path=\"url(#clip960)\" d=\"M46.0847 653.923 Q46.0847 661.02 47.7079 663.758 Q49.3312 666.495 53.2461 666.495 Q56.3653 666.495 58.2114 664.458 Q60.0256 662.389 60.0256 658.856 Q60.0256 653.986 56.5881 651.058 Q53.1188 648.098 47.3897 648.098 L46.0847 648.098 L46.0847 653.923 M43.6657 642.241 L64.0042 642.241 L64.0042 648.098 L58.5933 648.098 Q61.8398 650.103 63.3994 653.095 Q64.9272 656.087 64.9272 660.416 Q64.9272 665.89 61.8716 669.137 Q58.7843 672.351 53.6281 672.351 Q47.6125 672.351 44.5569 668.341 Q41.5014 664.299 41.5014 656.31 L41.5014 648.098 L40.9285 648.098 Q36.8862 648.098 34.6901 650.772 Q32.4621 653.413 32.4621 658.219 Q32.4621 661.275 33.1941 664.171 Q33.9262 667.068 35.3903 669.741 L29.9795 669.741 Q28.7381 666.527 28.1334 663.503 Q27.4968 660.479 27.4968 657.615 Q27.4968 649.88 31.5072 646.061 Q35.5176 642.241 43.6657 642.241 Z\" fill=\"#000000\" fill-rule=\"nonzero\" fill-opacity=\"1\" /><path clip-path=\"url(#clip960)\" d=\"M18.2347 624.386 L28.3562 624.386 L28.3562 612.323 L32.9077 612.323 L32.9077 624.386 L52.2594 624.386 Q56.6199 624.386 57.8613 623.208 Q59.1026 621.999 59.1026 618.338 L59.1026 612.323 L64.0042 612.323 L64.0042 618.338 Q64.0042 625.118 61.4897 627.696 Q58.9434 630.274 52.2594 630.274 L32.9077 630.274 L32.9077 634.571 L28.3562 634.571 L28.3562 630.274 L18.2347 630.274 L18.2347 624.386 Z\" fill=\"#000000\" fill-rule=\"nonzero\" fill-opacity=\"1\" /><path clip-path=\"url(#clip960)\" d=\"M49.9359 605.225 L28.3562 605.225 L28.3562 599.368 L49.7131 599.368 Q54.7739 599.368 57.3202 597.395 Q59.8346 595.422 59.8346 591.475 Q59.8346 586.733 56.8109 583.995 Q53.7872 581.226 48.5673 581.226 L28.3562 581.226 L28.3562 575.37 L64.0042 575.37 L64.0042 581.226 L58.5296 581.226 Q61.7762 583.359 63.3676 586.191 Q64.9272 588.992 64.9272 592.716 Q64.9272 598.859 61.1078 602.042 Q57.2883 605.225 49.9359 605.225 M27.4968 590.488 L27.4968 590.488 Z\" fill=\"#000000\" fill-rule=\"nonzero\" fill-opacity=\"1\" /><path clip-path=\"url(#clip960)\" d=\"M33.8307 542.65 Q33.2578 543.637 33.0032 544.814 Q32.7167 545.96 32.7167 547.361 Q32.7167 552.326 35.9632 554.999 Q39.1779 557.641 45.2253 557.641 L64.0042 557.641 L64.0042 563.53 L28.3562 563.53 L28.3562 557.641 L33.8944 557.641 Q30.6479 555.795 29.0883 552.835 Q27.4968 549.875 27.4968 545.642 Q27.4968 545.037 27.5923 544.305 Q27.656 543.573 27.8151 542.682 L33.8307 542.65 Z\" fill=\"#000000\" fill-rule=\"nonzero\" fill-opacity=\"1\" /><path clip-path=\"url(#clip960)\" d=\"M44.7161 507.448 L47.5806 507.448 L47.5806 534.375 Q53.6281 533.993 56.8109 530.746 Q59.9619 527.468 59.9619 521.643 Q59.9619 518.269 59.1344 515.118 Q58.3069 511.935 56.6518 508.816 L62.1899 508.816 Q63.5267 511.967 64.227 515.277 Q64.9272 518.588 64.9272 521.993 Q64.9272 530.523 59.9619 535.52 Q54.9967 540.486 46.5303 540.486 Q37.7774 540.486 32.6531 535.775 Q27.4968 531.033 27.4968 523.012 Q27.4968 515.819 32.1438 511.649 Q36.7589 507.448 44.7161 507.448 M42.9973 513.304 Q38.1912 513.368 35.3266 516.01 Q32.4621 518.619 32.4621 522.948 Q32.4621 527.85 35.2312 530.81 Q38.0002 533.738 43.0292 534.184 L42.9973 513.304 Z\" fill=\"#000000\" fill-rule=\"nonzero\" fill-opacity=\"1\" /><path clip-path=\"url(#clip960)\" d=\"M14.5426 463.047 Q21.8632 467.312 29.0246 469.381 Q36.186 471.45 43.5384 471.45 Q50.8908 471.45 58.1159 469.381 Q65.3091 467.28 72.5979 463.047 L72.5979 468.139 Q65.1182 472.914 57.8931 475.301 Q50.668 477.656 43.5384 477.656 Q36.4406 477.656 29.2474 475.301 Q22.0542 472.946 14.5426 468.139 L14.5426 463.047 Z\" fill=\"#000000\" fill-rule=\"nonzero\" fill-opacity=\"1\" /><path clip-path=\"url(#clip960)\" d=\"M20.1444 415.845 L26.9239 415.845 Q23.9002 419.092 22.4043 422.784 Q20.9083 426.444 20.9083 430.582 Q20.9083 438.73 25.9054 443.059 Q30.8707 447.387 40.2919 447.387 Q49.6813 447.387 54.6784 443.059 Q59.6436 438.73 59.6436 430.582 Q59.6436 426.444 58.1477 422.784 Q56.6518 419.092 53.6281 415.845 L60.3439 415.845 Q62.6355 419.219 63.7814 423.007 Q64.9272 426.762 64.9272 430.964 Q64.9272 441.754 58.3387 447.96 Q51.7183 454.167 40.2919 454.167 Q28.8336 454.167 22.2451 447.96 Q15.6248 441.754 15.6248 430.964 Q15.6248 426.699 16.7706 422.943 Q17.8846 419.155 20.1444 415.845 Z\" fill=\"#000000\" fill-rule=\"nonzero\" fill-opacity=\"1\" /><path clip-path=\"url(#clip960)\" d=\"M14.5426 407.092 L14.5426 402 Q22.0542 397.225 29.2474 394.87 Q36.4406 392.483 43.5384 392.483 Q50.668 392.483 57.8931 394.87 Q65.1182 397.225 72.5979 402 L72.5979 407.092 Q65.3091 402.859 58.1159 400.79 Q50.8908 398.69 43.5384 398.69 Q36.186 398.69 29.0246 400.79 Q21.8632 402.859 14.5426 407.092 Z\" fill=\"#000000\" fill-rule=\"nonzero\" fill-opacity=\"1\" /><path clip-path=\"url(#clip960)\" d=\"M311.597 12.096 L319.78 12.096 L319.78 72.576 L311.597 72.576 L311.597 12.096 Z\" fill=\"#000000\" fill-rule=\"nonzero\" fill-opacity=\"1\" /><path clip-path=\"url(#clip960)\" d=\"M373.454 45.1919 L373.454 72.576 L366.001 72.576 L366.001 45.4349 Q366.001 38.994 363.489 35.7938 Q360.978 32.5936 355.954 32.5936 Q349.919 32.5936 346.435 36.4419 Q342.951 40.2903 342.951 46.9338 L342.951 72.576 L335.457 72.576 L335.457 27.2059 L342.951 27.2059 L342.951 34.2544 Q345.625 30.163 349.23 28.1376 Q352.876 26.1121 357.615 26.1121 Q365.433 26.1121 369.444 30.9732 Q373.454 35.7938 373.454 45.1919 Z\" fill=\"#000000\" fill-rule=\"nonzero\" fill-opacity=\"1\" /><path clip-path=\"url(#clip960)\" d=\"M411.29 9.54393 L411.29 15.7418 L404.16 15.7418 Q400.15 15.7418 398.57 17.3622 Q397.031 18.9825 397.031 23.1955 L397.031 27.2059 L409.305 27.2059 L409.305 32.9987 L397.031 32.9987 L397.031 72.576 L389.536 72.576 L389.536 32.9987 L382.407 32.9987 L382.407 27.2059 L389.536 27.2059 L389.536 24.0462 Q389.536 16.471 393.061 13.0277 Q396.585 9.54393 404.241 9.54393 L411.29 9.54393 Z\" fill=\"#000000\" fill-rule=\"nonzero\" fill-opacity=\"1\" /><path clip-path=\"url(#clip960)\" d=\"M417.528 9.54393 L424.982 9.54393 L424.982 72.576 L417.528 72.576 L417.528 9.54393 Z\" fill=\"#000000\" fill-rule=\"nonzero\" fill-opacity=\"1\" /><path clip-path=\"url(#clip960)\" d=\"M439.808 54.671 L439.808 27.2059 L447.262 27.2059 L447.262 54.3874 Q447.262 60.8284 449.773 64.0691 Q452.285 67.2693 457.308 67.2693 Q463.344 67.2693 466.828 63.421 Q470.352 59.5726 470.352 52.9291 L470.352 27.2059 L477.806 27.2059 L477.806 72.576 L470.352 72.576 L470.352 65.6084 Q467.638 69.7404 464.033 71.7658 Q460.468 73.7508 455.728 73.7508 Q447.91 73.7508 443.859 68.8897 Q439.808 64.0286 439.808 54.671 M458.564 26.1121 L458.564 26.1121 Z\" fill=\"#000000\" fill-rule=\"nonzero\" fill-opacity=\"1\" /><path clip-path=\"url(#clip960)\" d=\"M531.966 48.0275 L531.966 51.6733 L497.696 51.6733 Q498.182 59.3701 502.314 63.421 Q506.486 67.4314 513.899 67.4314 Q518.193 67.4314 522.203 66.3781 Q526.254 65.3249 530.224 63.2184 L530.224 70.267 Q526.214 71.9684 522.001 72.8596 Q517.788 73.7508 513.454 73.7508 Q502.597 73.7508 496.237 67.4314 Q489.918 61.1119 489.918 50.3365 Q489.918 39.1965 495.913 32.6746 Q501.949 26.1121 512.157 26.1121 Q521.312 26.1121 526.619 32.0264 Q531.966 37.9003 531.966 48.0275 M524.513 45.84 Q524.431 39.7232 521.069 36.0774 Q517.747 32.4315 512.238 32.4315 Q506 32.4315 502.233 35.9558 Q498.506 39.4801 497.939 45.8805 L524.513 45.84 Z\" fill=\"#000000\" fill-rule=\"nonzero\" fill-opacity=\"1\" /><path clip-path=\"url(#clip960)\" d=\"M581.914 45.1919 L581.914 72.576 L574.46 72.576 L574.46 45.4349 Q574.46 38.994 571.949 35.7938 Q569.437 32.5936 564.414 32.5936 Q558.378 32.5936 554.894 36.4419 Q551.411 40.2903 551.411 46.9338 L551.411 72.576 L543.916 72.576 L543.916 27.2059 L551.411 27.2059 L551.411 34.2544 Q554.084 30.163 557.689 28.1376 Q561.335 26.1121 566.075 26.1121 Q573.893 26.1121 577.903 30.9732 Q581.914 35.7938 581.914 45.1919 Z\" fill=\"#000000\" fill-rule=\"nonzero\" fill-opacity=\"1\" /><path clip-path=\"url(#clip960)\" d=\"M629.431 28.9478 L629.431 35.9153 Q626.271 34.1734 623.071 33.3227 Q619.911 32.4315 616.671 32.4315 Q609.419 32.4315 605.409 37.0496 Q601.399 41.6271 601.399 49.9314 Q601.399 58.2358 605.409 62.8538 Q609.419 67.4314 616.671 67.4314 Q619.911 67.4314 623.071 66.5807 Q626.271 65.6895 629.431 63.9476 L629.431 70.8341 Q626.312 72.2924 622.949 73.0216 Q619.628 73.7508 615.86 73.7508 Q605.612 73.7508 599.576 67.3098 Q593.54 60.8689 593.54 49.9314 Q593.54 38.832 599.616 32.472 Q605.733 26.1121 616.347 26.1121 Q619.79 26.1121 623.071 26.8413 Q626.352 27.5299 629.431 28.9478 Z\" fill=\"#000000\" fill-rule=\"nonzero\" fill-opacity=\"1\" /><path clip-path=\"url(#clip960)\" d=\"M681.201 48.0275 L681.201 51.6733 L646.931 51.6733 Q647.417 59.3701 651.549 63.421 Q655.721 67.4314 663.134 67.4314 Q667.428 67.4314 671.439 66.3781 Q675.49 65.3249 679.46 63.2184 L679.46 70.267 Q675.449 71.9684 671.236 72.8596 Q667.023 73.7508 662.689 73.7508 Q651.832 73.7508 645.473 67.4314 Q639.153 61.1119 639.153 50.3365 Q639.153 39.1965 645.148 32.6746 Q651.184 26.1121 661.393 26.1121 Q670.548 26.1121 675.854 32.0264 Q681.201 37.9003 681.201 48.0275 M673.748 45.84 Q673.667 39.7232 670.305 36.0774 Q666.983 32.4315 661.474 32.4315 Q655.235 32.4315 651.468 35.9558 Q647.741 39.4801 647.174 45.8805 L673.748 45.84 Z\" fill=\"#000000\" fill-rule=\"nonzero\" fill-opacity=\"1\" /><path clip-path=\"url(#clip960)\" d=\"M737.388 32.4315 Q731.392 32.4315 727.908 37.1306 Q724.425 41.7891 724.425 49.9314 Q724.425 58.0738 727.868 62.7728 Q731.352 67.4314 737.388 67.4314 Q743.342 67.4314 746.826 62.7323 Q750.31 58.0333 750.31 49.9314 Q750.31 41.8701 746.826 37.1711 Q743.342 32.4315 737.388 32.4315 M737.388 26.1121 Q747.11 26.1121 752.659 32.4315 Q758.209 38.7509 758.209 49.9314 Q758.209 61.0714 752.659 67.4314 Q747.11 73.7508 737.388 73.7508 Q727.625 73.7508 722.075 67.4314 Q716.566 61.0714 716.566 49.9314 Q716.566 38.7509 722.075 32.4315 Q727.625 26.1121 737.388 26.1121 Z\" fill=\"#000000\" fill-rule=\"nonzero\" fill-opacity=\"1\" /><path clip-path=\"url(#clip960)\" d=\"M793.533 9.54393 L793.533 15.7418 L786.403 15.7418 Q782.393 15.7418 780.813 17.3622 Q779.274 18.9825 779.274 23.1955 L779.274 27.2059 L791.548 27.2059 L791.548 32.9987 L779.274 32.9987 L779.274 72.576 L771.78 72.576 L771.78 32.9987 L764.65 32.9987 L764.65 27.2059 L771.78 27.2059 L771.78 24.0462 Q771.78 16.471 775.304 13.0277 Q778.828 9.54393 786.484 9.54393 L793.533 9.54393 Z\" fill=\"#000000\" fill-rule=\"nonzero\" fill-opacity=\"1\" /><path clip-path=\"url(#clip960)\" d=\"M833.353 65.7705 L833.353 89.8329 L825.859 89.8329 L825.859 27.2059 L833.353 27.2059 L833.353 34.0924 Q835.703 30.0415 839.268 28.0971 Q842.873 26.1121 847.856 26.1121 Q856.12 26.1121 861.264 32.6746 Q866.449 39.2371 866.449 49.9314 Q866.449 60.6258 861.264 67.1883 Q856.12 73.7508 847.856 73.7508 Q842.873 73.7508 839.268 71.8063 Q835.703 69.8214 833.353 65.7705 M858.712 49.9314 Q858.712 41.7081 855.309 37.0496 Q851.947 32.3505 846.033 32.3505 Q840.118 32.3505 836.716 37.0496 Q833.353 41.7081 833.353 49.9314 Q833.353 58.1548 836.716 62.8538 Q840.118 67.5124 846.033 67.5124 Q851.947 67.5124 855.309 62.8538 Q858.712 58.1548 858.712 49.9314 Z\" fill=\"#000000\" fill-rule=\"nonzero\" fill-opacity=\"1\" /><path clip-path=\"url(#clip960)\" d=\"M878.805 27.2059 L886.258 27.2059 L886.258 72.576 L878.805 72.576 L878.805 27.2059 M878.805 9.54393 L886.258 9.54393 L886.258 18.9825 L878.805 18.9825 L878.805 9.54393 Z\" fill=\"#000000\" fill-rule=\"nonzero\" fill-opacity=\"1\" /><path clip-path=\"url(#clip960)\" d=\"M928.145 34.1734 Q926.889 33.4443 925.39 33.1202 Q923.932 32.7556 922.149 32.7556 Q915.83 32.7556 912.427 36.8875 Q909.065 40.9789 909.065 48.6757 L909.065 72.576 L901.571 72.576 L901.571 27.2059 L909.065 27.2059 L909.065 34.2544 Q911.414 30.1225 915.182 28.1376 Q918.949 26.1121 924.337 26.1121 Q925.106 26.1121 926.038 26.2337 Q926.97 26.3147 928.104 26.5172 L928.145 34.1734 Z\" fill=\"#000000\" fill-rule=\"nonzero\" fill-opacity=\"1\" /><path clip-path=\"url(#clip960)\" d=\"M956.582 49.7694 Q947.548 49.7694 944.065 51.8354 Q940.581 53.9013 940.581 58.8839 Q940.581 62.8538 943.173 65.2034 Q945.807 67.5124 950.303 67.5124 Q956.501 67.5124 960.228 63.1374 Q963.995 58.7219 963.995 51.4303 L963.995 49.7694 L956.582 49.7694 M971.449 46.6907 L971.449 72.576 L963.995 72.576 L963.995 65.6895 Q961.443 69.8214 957.635 71.8063 Q953.827 73.7508 948.318 73.7508 Q941.351 73.7508 937.219 69.8619 Q933.127 65.9325 933.127 59.3701 Q933.127 51.7138 938.231 47.825 Q943.376 43.9361 953.544 43.9361 L963.995 43.9361 L963.995 43.2069 Q963.995 38.0623 960.592 35.2672 Q957.23 32.4315 951.113 32.4315 Q947.224 32.4315 943.538 33.3632 Q939.852 34.295 936.449 36.1584 L936.449 29.2718 Q940.54 27.692 944.389 26.9223 Q948.237 26.1121 951.883 26.1121 Q961.727 26.1121 966.588 31.2163 Q971.449 36.3204 971.449 46.6907 Z\" fill=\"#000000\" fill-rule=\"nonzero\" fill-opacity=\"1\" /><path clip-path=\"url(#clip960)\" d=\"M994.174 14.324 L994.174 27.2059 L1009.53 27.2059 L1009.53 32.9987 L994.174 32.9987 L994.174 57.6282 Q994.174 63.1779 995.673 64.7578 Q997.213 66.3376 1001.87 66.3376 L1009.53 66.3376 L1009.53 72.576 L1001.87 72.576 Q993.243 72.576 989.961 69.3758 Q986.68 66.1351 986.68 57.6282 L986.68 32.9987 L981.211 32.9987 L981.211 27.2059 L986.68 27.2059 L986.68 14.324 L994.174 14.324 Z\" fill=\"#000000\" fill-rule=\"nonzero\" fill-opacity=\"1\" /><path clip-path=\"url(#clip960)\" d=\"M1058.14 48.0275 L1058.14 51.6733 L1023.87 51.6733 Q1024.35 59.3701 1028.49 63.421 Q1032.66 67.4314 1040.07 67.4314 Q1044.37 67.4314 1048.38 66.3781 Q1052.43 65.3249 1056.4 63.2184 L1056.4 70.267 Q1052.39 71.9684 1048.17 72.8596 Q1043.96 73.7508 1039.63 73.7508 Q1028.77 73.7508 1022.41 67.4314 Q1016.09 61.1119 1016.09 50.3365 Q1016.09 39.1965 1022.09 32.6746 Q1028.12 26.1121 1038.33 26.1121 Q1047.48 26.1121 1052.79 32.0264 Q1058.14 37.9003 1058.14 48.0275 M1050.68 45.84 Q1050.6 39.7232 1047.24 36.0774 Q1043.92 32.4315 1038.41 32.4315 Q1032.17 32.4315 1028.4 35.9558 Q1024.68 39.4801 1024.11 45.8805 L1050.68 45.84 Z\" fill=\"#000000\" fill-rule=\"nonzero\" fill-opacity=\"1\" /><path clip-path=\"url(#clip960)\" d=\"M1103.95 65.7705 L1103.95 89.8329 L1096.46 89.8329 L1096.46 27.2059 L1103.95 27.2059 L1103.95 34.0924 Q1106.3 30.0415 1109.87 28.0971 Q1113.47 26.1121 1118.46 26.1121 Q1126.72 26.1121 1131.86 32.6746 Q1137.05 39.2371 1137.05 49.9314 Q1137.05 60.6258 1131.86 67.1883 Q1126.72 73.7508 1118.46 73.7508 Q1113.47 73.7508 1109.87 71.8063 Q1106.3 69.8214 1103.95 65.7705 M1129.31 49.9314 Q1129.31 41.7081 1125.91 37.0496 Q1122.55 32.3505 1116.63 32.3505 Q1110.72 32.3505 1107.32 37.0496 Q1103.95 41.7081 1103.95 49.9314 Q1103.95 58.1548 1107.32 62.8538 Q1110.72 67.5124 1116.63 67.5124 Q1122.55 67.5124 1125.91 62.8538 Q1129.31 58.1548 1129.31 49.9314 Z\" fill=\"#000000\" fill-rule=\"nonzero\" fill-opacity=\"1\" /><path clip-path=\"url(#clip960)\" d=\"M1166.99 32.4315 Q1160.99 32.4315 1157.51 37.1306 Q1154.02 41.7891 1154.02 49.9314 Q1154.02 58.0738 1157.47 62.7728 Q1160.95 67.4314 1166.99 67.4314 Q1172.94 67.4314 1176.42 62.7323 Q1179.91 58.0333 1179.91 49.9314 Q1179.91 41.8701 1176.42 37.1711 Q1172.94 32.4315 1166.99 32.4315 M1166.99 26.1121 Q1176.71 26.1121 1182.26 32.4315 Q1187.81 38.7509 1187.81 49.9314 Q1187.81 61.0714 1182.26 67.4314 Q1176.71 73.7508 1166.99 73.7508 Q1157.22 73.7508 1151.67 67.4314 Q1146.16 61.0714 1146.16 49.9314 Q1146.16 38.7509 1151.67 32.4315 Q1157.22 26.1121 1166.99 26.1121 Z\" fill=\"#000000\" fill-rule=\"nonzero\" fill-opacity=\"1\" /><path clip-path=\"url(#clip960)\" d=\"M1207.37 65.7705 L1207.37 89.8329 L1199.88 89.8329 L1199.88 27.2059 L1207.37 27.2059 L1207.37 34.0924 Q1209.72 30.0415 1213.29 28.0971 Q1216.89 26.1121 1221.88 26.1121 Q1230.14 26.1121 1235.28 32.6746 Q1240.47 39.2371 1240.47 49.9314 Q1240.47 60.6258 1235.28 67.1883 Q1230.14 73.7508 1221.88 73.7508 Q1216.89 73.7508 1213.29 71.8063 Q1209.72 69.8214 1207.37 65.7705 M1232.73 49.9314 Q1232.73 41.7081 1229.33 37.0496 Q1225.97 32.3505 1220.05 32.3505 Q1214.14 32.3505 1210.74 37.0496 Q1207.37 41.7081 1207.37 49.9314 Q1207.37 58.1548 1210.74 62.8538 Q1214.14 67.5124 1220.05 67.5124 Q1225.97 67.5124 1229.33 62.8538 Q1232.73 58.1548 1232.73 49.9314 Z\" fill=\"#000000\" fill-rule=\"nonzero\" fill-opacity=\"1\" /><path clip-path=\"url(#clip960)\" d=\"M1252.05 54.671 L1252.05 27.2059 L1259.51 27.2059 L1259.51 54.3874 Q1259.51 60.8284 1262.02 64.0691 Q1264.53 67.2693 1269.55 67.2693 Q1275.59 67.2693 1279.07 63.421 Q1282.6 59.5726 1282.6 52.9291 L1282.6 27.2059 L1290.05 27.2059 L1290.05 72.576 L1282.6 72.576 L1282.6 65.6084 Q1279.88 69.7404 1276.28 71.7658 Q1272.71 73.7508 1267.97 73.7508 Q1260.16 73.7508 1256.11 68.8897 Q1252.05 64.0286 1252.05 54.671 M1270.81 26.1121 L1270.81 26.1121 Z\" fill=\"#000000\" fill-rule=\"nonzero\" fill-opacity=\"1\" /><path clip-path=\"url(#clip960)\" d=\"M1305.41 9.54393 L1312.86 9.54393 L1312.86 72.576 L1305.41 72.576 L1305.41 9.54393 Z\" fill=\"#000000\" fill-rule=\"nonzero\" fill-opacity=\"1\" /><path clip-path=\"url(#clip960)\" d=\"M1349.07 49.7694 Q1340.04 49.7694 1336.56 51.8354 Q1333.07 53.9013 1333.07 58.8839 Q1333.07 62.8538 1335.67 65.2034 Q1338.3 67.5124 1342.8 67.5124 Q1348.99 67.5124 1352.72 63.1374 Q1356.49 58.7219 1356.49 51.4303 L1356.49 49.7694 L1349.07 49.7694 M1363.94 46.6907 L1363.94 72.576 L1356.49 72.576 L1356.49 65.6895 Q1353.94 69.8214 1350.13 71.8063 Q1346.32 73.7508 1340.81 73.7508 Q1333.84 73.7508 1329.71 69.8619 Q1325.62 65.9325 1325.62 59.3701 Q1325.62 51.7138 1330.72 47.825 Q1335.87 43.9361 1346.04 43.9361 L1356.49 43.9361 L1356.49 43.2069 Q1356.49 38.0623 1353.08 35.2672 Q1349.72 32.4315 1343.61 32.4315 Q1339.72 32.4315 1336.03 33.3632 Q1332.34 34.295 1328.94 36.1584 L1328.94 29.2718 Q1333.03 27.692 1336.88 26.9223 Q1340.73 26.1121 1344.38 26.1121 Q1354.22 26.1121 1359.08 31.2163 Q1363.94 36.3204 1363.94 46.6907 Z\" fill=\"#000000\" fill-rule=\"nonzero\" fill-opacity=\"1\" /><path clip-path=\"url(#clip960)\" d=\"M1386.67 14.324 L1386.67 27.2059 L1402.02 27.2059 L1402.02 32.9987 L1386.67 32.9987 L1386.67 57.6282 Q1386.67 63.1779 1388.17 64.7578 Q1389.7 66.3376 1394.36 66.3376 L1402.02 66.3376 L1402.02 72.576 L1394.36 72.576 Q1385.73 72.576 1382.45 69.3758 Q1379.17 66.1351 1379.17 57.6282 L1379.17 32.9987 L1373.7 32.9987 L1373.7 27.2059 L1379.17 27.2059 L1379.17 14.324 L1386.67 14.324 Z\" fill=\"#000000\" fill-rule=\"nonzero\" fill-opacity=\"1\" /><path clip-path=\"url(#clip960)\" d=\"M1411.82 27.2059 L1419.28 27.2059 L1419.28 72.576 L1411.82 72.576 L1411.82 27.2059 M1411.82 9.54393 L1419.28 9.54393 L1419.28 18.9825 L1411.82 18.9825 L1411.82 9.54393 Z\" fill=\"#000000\" fill-rule=\"nonzero\" fill-opacity=\"1\" /><path clip-path=\"url(#clip960)\" d=\"M1452.45 32.4315 Q1446.46 32.4315 1442.97 37.1306 Q1439.49 41.7891 1439.49 49.9314 Q1439.49 58.0738 1442.93 62.7728 Q1446.42 67.4314 1452.45 67.4314 Q1458.41 67.4314 1461.89 62.7323 Q1465.38 58.0333 1465.38 49.9314 Q1465.38 41.8701 1461.89 37.1711 Q1458.41 32.4315 1452.45 32.4315 M1452.45 26.1121 Q1462.18 26.1121 1467.73 32.4315 Q1473.27 38.7509 1473.27 49.9314 Q1473.27 61.0714 1467.73 67.4314 Q1462.18 73.7508 1452.45 73.7508 Q1442.69 73.7508 1437.14 67.4314 Q1431.63 61.0714 1431.63 49.9314 Q1431.63 38.7509 1437.14 32.4315 Q1442.69 26.1121 1452.45 26.1121 Z\" fill=\"#000000\" fill-rule=\"nonzero\" fill-opacity=\"1\" /><path clip-path=\"url(#clip960)\" d=\"M1523.34 45.1919 L1523.34 72.576 L1515.89 72.576 L1515.89 45.4349 Q1515.89 38.994 1513.38 35.7938 Q1510.87 32.5936 1505.84 32.5936 Q1499.81 32.5936 1496.32 36.4419 Q1492.84 40.2903 1492.84 46.9338 L1492.84 72.576 L1485.35 72.576 L1485.35 27.2059 L1492.84 27.2059 L1492.84 34.2544 Q1495.51 30.163 1499.12 28.1376 Q1502.77 26.1121 1507.5 26.1121 Q1515.32 26.1121 1519.33 30.9732 Q1523.34 35.7938 1523.34 45.1919 Z\" fill=\"#000000\" fill-rule=\"nonzero\" fill-opacity=\"1\" /><path clip-path=\"url(#clip960)\" d=\"M1582.16 32.4315 Q1576.17 32.4315 1572.68 37.1306 Q1569.2 41.7891 1569.2 49.9314 Q1569.2 58.0738 1572.64 62.7728 Q1576.13 67.4314 1582.16 67.4314 Q1588.12 67.4314 1591.6 62.7323 Q1595.09 58.0333 1595.09 49.9314 Q1595.09 41.8701 1591.6 37.1711 Q1588.12 32.4315 1582.16 32.4315 M1582.16 26.1121 Q1591.89 26.1121 1597.43 32.4315 Q1602.98 38.7509 1602.98 49.9314 Q1602.98 61.0714 1597.43 67.4314 Q1591.89 73.7508 1582.16 73.7508 Q1572.4 73.7508 1566.85 67.4314 Q1561.34 61.0714 1561.34 49.9314 Q1561.34 38.7509 1566.85 32.4315 Q1572.4 26.1121 1582.16 26.1121 Z\" fill=\"#000000\" fill-rule=\"nonzero\" fill-opacity=\"1\" /><path clip-path=\"url(#clip960)\" d=\"M1653.05 45.1919 L1653.05 72.576 L1645.6 72.576 L1645.6 45.4349 Q1645.6 38.994 1643.09 35.7938 Q1640.58 32.5936 1635.55 32.5936 Q1629.52 32.5936 1626.03 36.4419 Q1622.55 40.2903 1622.55 46.9338 L1622.55 72.576 L1615.06 72.576 L1615.06 27.2059 L1622.55 27.2059 L1622.55 34.2544 Q1625.22 30.163 1628.83 28.1376 Q1632.48 26.1121 1637.21 26.1121 Q1645.03 26.1121 1649.04 30.9732 Q1653.05 35.7938 1653.05 45.1919 Z\" fill=\"#000000\" fill-rule=\"nonzero\" fill-opacity=\"1\" /><path clip-path=\"url(#clip960)\" d=\"M1724.15 49.3643 Q1724.15 41.2625 1720.79 36.8065 Q1717.46 32.3505 1711.43 32.3505 Q1705.43 32.3505 1702.07 36.8065 Q1698.75 41.2625 1698.75 49.3643 Q1698.75 57.4256 1702.07 61.8816 Q1705.43 66.3376 1711.43 66.3376 Q1717.46 66.3376 1720.79 61.8816 Q1724.15 57.4256 1724.15 49.3643 M1731.6 66.9452 Q1731.6 78.5308 1726.46 84.1616 Q1721.31 89.8329 1710.7 89.8329 Q1706.77 89.8329 1703.29 89.2252 Q1699.8 88.6581 1696.52 87.4428 L1696.52 80.1917 Q1699.8 81.9741 1703 82.8248 Q1706.2 83.6755 1709.52 83.6755 Q1716.86 83.6755 1720.5 79.8271 Q1724.15 76.0193 1724.15 68.282 L1724.15 64.5957 Q1721.84 68.6061 1718.23 70.5911 Q1714.63 72.576 1709.6 72.576 Q1701.26 72.576 1696.16 66.2161 Q1691.05 59.8562 1691.05 49.3643 Q1691.05 38.832 1696.16 32.472 Q1701.26 26.1121 1709.6 26.1121 Q1714.63 26.1121 1718.23 28.0971 Q1721.84 30.082 1724.15 34.0924 L1724.15 27.2059 L1731.6 27.2059 L1731.6 66.9452 Z\" fill=\"#000000\" fill-rule=\"nonzero\" fill-opacity=\"1\" /><path clip-path=\"url(#clip960)\" d=\"M1746.95 9.54393 L1754.41 9.54393 L1754.41 72.576 L1746.95 72.576 L1746.95 9.54393 Z\" fill=\"#000000\" fill-rule=\"nonzero\" fill-opacity=\"1\" /><path clip-path=\"url(#clip960)\" d=\"M1787.58 32.4315 Q1781.59 32.4315 1778.11 37.1306 Q1774.62 41.7891 1774.62 49.9314 Q1774.62 58.0738 1778.06 62.7728 Q1781.55 67.4314 1787.58 67.4314 Q1793.54 67.4314 1797.02 62.7323 Q1800.51 58.0333 1800.51 49.9314 Q1800.51 41.8701 1797.02 37.1711 Q1793.54 32.4315 1787.58 32.4315 M1787.58 26.1121 Q1797.31 26.1121 1802.86 32.4315 Q1808.41 38.7509 1808.41 49.9314 Q1808.41 61.0714 1802.86 67.4314 Q1797.31 73.7508 1787.58 73.7508 Q1777.82 73.7508 1772.27 67.4314 Q1766.76 61.0714 1766.76 49.9314 Q1766.76 38.7509 1772.27 32.4315 Q1777.82 26.1121 1787.58 26.1121 Z\" fill=\"#000000\" fill-rule=\"nonzero\" fill-opacity=\"1\" /><path clip-path=\"url(#clip960)\" d=\"M1853.33 49.9314 Q1853.33 41.7081 1849.93 37.0496 Q1846.57 32.3505 1840.65 32.3505 Q1834.74 32.3505 1831.33 37.0496 Q1827.97 41.7081 1827.97 49.9314 Q1827.97 58.1548 1831.33 62.8538 Q1834.74 67.5124 1840.65 67.5124 Q1846.57 67.5124 1849.93 62.8538 Q1853.33 58.1548 1853.33 49.9314 M1827.97 34.0924 Q1830.32 30.0415 1833.89 28.0971 Q1837.49 26.1121 1842.47 26.1121 Q1850.74 26.1121 1855.88 32.6746 Q1861.07 39.2371 1861.07 49.9314 Q1861.07 60.6258 1855.88 67.1883 Q1850.74 73.7508 1842.47 73.7508 Q1837.49 73.7508 1833.89 71.8063 Q1830.32 69.8214 1827.97 65.7705 L1827.97 72.576 L1820.48 72.576 L1820.48 9.54393 L1827.97 9.54393 L1827.97 34.0924 Z\" fill=\"#000000\" fill-rule=\"nonzero\" fill-opacity=\"1\" /><path clip-path=\"url(#clip960)\" d=\"M1894.04 49.7694 Q1885.01 49.7694 1881.52 51.8354 Q1878.04 53.9013 1878.04 58.8839 Q1878.04 62.8538 1880.63 65.2034 Q1883.27 67.5124 1887.76 67.5124 Q1893.96 67.5124 1897.69 63.1374 Q1901.46 58.7219 1901.46 51.4303 L1901.46 49.7694 L1894.04 49.7694 M1908.91 46.6907 L1908.91 72.576 L1901.46 72.576 L1901.46 65.6895 Q1898.9 69.8214 1895.1 71.8063 Q1891.29 73.7508 1885.78 73.7508 Q1878.81 73.7508 1874.68 69.8619 Q1870.59 65.9325 1870.59 59.3701 Q1870.59 51.7138 1875.69 47.825 Q1880.84 43.9361 1891 43.9361 L1901.46 43.9361 L1901.46 43.2069 Q1901.46 38.0623 1898.05 35.2672 Q1894.69 32.4315 1888.57 32.4315 Q1884.68 32.4315 1881 33.3632 Q1877.31 34.295 1873.91 36.1584 L1873.91 29.2718 Q1878 27.692 1881.85 26.9223 Q1885.7 26.1121 1889.34 26.1121 Q1899.19 26.1121 1904.05 31.2163 Q1908.91 36.3204 1908.91 46.6907 Z\" fill=\"#000000\" fill-rule=\"nonzero\" fill-opacity=\"1\" /><path clip-path=\"url(#clip960)\" d=\"M1924.26 9.54393 L1931.72 9.54393 L1931.72 72.576 L1924.26 72.576 L1924.26 9.54393 Z\" fill=\"#000000\" fill-rule=\"nonzero\" fill-opacity=\"1\" /><path clip-path=\"url(#clip960)\" d=\"M1969.35 27.2059 L1976.8 27.2059 L1986.12 62.6108 L1995.4 27.2059 L2004.19 27.2059 L2013.5 62.6108 L2022.78 27.2059 L2030.23 27.2059 L2018.36 72.576 L2009.57 72.576 L1999.81 35.3887 L1990.01 72.576 L1981.22 72.576 L1969.35 27.2059 Z\" fill=\"#000000\" fill-rule=\"nonzero\" fill-opacity=\"1\" /><path clip-path=\"url(#clip960)\" d=\"M2062.15 49.7694 Q2053.12 49.7694 2049.64 51.8354 Q2046.15 53.9013 2046.15 58.8839 Q2046.15 62.8538 2048.75 65.2034 Q2051.38 67.5124 2055.88 67.5124 Q2062.07 67.5124 2065.8 63.1374 Q2069.57 58.7219 2069.57 51.4303 L2069.57 49.7694 L2062.15 49.7694 M2077.02 46.6907 L2077.02 72.576 L2069.57 72.576 L2069.57 65.6895 Q2067.02 69.8214 2063.21 71.8063 Q2059.4 73.7508 2053.89 73.7508 Q2046.92 73.7508 2042.79 69.8619 Q2038.7 65.9325 2038.7 59.3701 Q2038.7 51.7138 2043.8 47.825 Q2048.95 43.9361 2059.12 43.9361 L2069.57 43.9361 L2069.57 43.2069 Q2069.57 38.0623 2066.17 35.2672 Q2062.8 32.4315 2056.69 32.4315 Q2052.8 32.4315 2049.11 33.3632 Q2045.42 34.295 2042.02 36.1584 L2042.02 29.2718 Q2046.11 27.692 2049.96 26.9223 Q2053.81 26.1121 2057.46 26.1121 Q2067.3 26.1121 2072.16 31.2163 Q2077.02 36.3204 2077.02 46.6907 Z\" fill=\"#000000\" fill-rule=\"nonzero\" fill-opacity=\"1\" /><path clip-path=\"url(#clip960)\" d=\"M2118.66 34.1734 Q2117.41 33.4443 2115.91 33.1202 Q2114.45 32.7556 2112.67 32.7556 Q2106.35 32.7556 2102.95 36.8875 Q2099.59 40.9789 2099.59 48.6757 L2099.59 72.576 L2092.09 72.576 L2092.09 27.2059 L2099.59 27.2059 L2099.59 34.2544 Q2101.93 30.1225 2105.7 28.1376 Q2109.47 26.1121 2114.86 26.1121 Q2115.63 26.1121 2116.56 26.2337 Q2117.49 26.3147 2118.62 26.5172 L2118.66 34.1734 Z\" fill=\"#000000\" fill-rule=\"nonzero\" fill-opacity=\"1\" /><path clip-path=\"url(#clip960)\" d=\"M2160.35 35.9153 Q2163.14 30.8922 2167.03 28.5022 Q2170.92 26.1121 2176.19 26.1121 Q2183.28 26.1121 2187.13 31.0947 Q2190.97 36.0368 2190.97 45.1919 L2190.97 72.576 L2183.48 72.576 L2183.48 45.4349 Q2183.48 38.913 2181.17 35.7533 Q2178.86 32.5936 2174.12 32.5936 Q2168.33 32.5936 2164.97 36.4419 Q2161.6 40.2903 2161.6 46.9338 L2161.6 72.576 L2154.11 72.576 L2154.11 45.4349 Q2154.11 38.8725 2151.8 35.7533 Q2149.49 32.5936 2144.67 32.5936 Q2138.96 32.5936 2135.6 36.4824 Q2132.24 40.3308 2132.24 46.9338 L2132.24 72.576 L2124.74 72.576 L2124.74 27.2059 L2132.24 27.2059 L2132.24 34.2544 Q2134.79 30.082 2138.35 28.0971 Q2141.92 26.1121 2146.82 26.1121 Q2151.76 26.1121 2155.2 28.6237 Q2158.69 31.1352 2160.35 35.9153 Z\" fill=\"#000000\" fill-rule=\"nonzero\" fill-opacity=\"1\" /><path clip-path=\"url(#clip960)\" d=\"M2205.84 27.2059 L2213.29 27.2059 L2213.29 72.576 L2205.84 72.576 L2205.84 27.2059 M2205.84 9.54393 L2213.29 9.54393 L2213.29 18.9825 L2205.84 18.9825 L2205.84 9.54393 Z\" fill=\"#000000\" fill-rule=\"nonzero\" fill-opacity=\"1\" /><path clip-path=\"url(#clip960)\" d=\"M2266.6 45.1919 L2266.6 72.576 L2259.15 72.576 L2259.15 45.4349 Q2259.15 38.994 2256.64 35.7938 Q2254.13 32.5936 2249.1 32.5936 Q2243.07 32.5936 2239.58 36.4419 Q2236.1 40.2903 2236.1 46.9338 L2236.1 72.576 L2228.61 72.576 L2228.61 27.2059 L2236.1 27.2059 L2236.1 34.2544 Q2238.77 30.163 2242.38 28.1376 Q2246.03 26.1121 2250.76 26.1121 Q2258.58 26.1121 2262.59 30.9732 Q2266.6 35.7938 2266.6 45.1919 Z\" fill=\"#000000\" fill-rule=\"nonzero\" fill-opacity=\"1\" /><path clip-path=\"url(#clip960)\" d=\"M2311.33 49.3643 Q2311.33 41.2625 2307.96 36.8065 Q2304.64 32.3505 2298.61 32.3505 Q2292.61 32.3505 2289.25 36.8065 Q2285.93 41.2625 2285.93 49.3643 Q2285.93 57.4256 2289.25 61.8816 Q2292.61 66.3376 2298.61 66.3376 Q2304.64 66.3376 2307.96 61.8816 Q2311.33 57.4256 2311.33 49.3643 M2318.78 66.9452 Q2318.78 78.5308 2313.63 84.1616 Q2308.49 89.8329 2297.88 89.8329 Q2293.95 89.8329 2290.46 89.2252 Q2286.98 88.6581 2283.7 87.4428 L2283.7 80.1917 Q2286.98 81.9741 2290.18 82.8248 Q2293.38 83.6755 2296.7 83.6755 Q2304.03 83.6755 2307.68 79.8271 Q2311.33 76.0193 2311.33 68.282 L2311.33 64.5957 Q2309.02 68.6061 2305.41 70.5911 Q2301.81 72.576 2296.78 72.576 Q2288.44 72.576 2283.33 66.2161 Q2278.23 59.8562 2278.23 49.3643 Q2278.23 38.832 2283.33 32.472 Q2288.44 26.1121 2296.78 26.1121 Q2301.81 26.1121 2305.41 28.0971 Q2309.02 30.082 2311.33 34.0924 L2311.33 27.2059 L2318.78 27.2059 L2318.78 66.9452 Z\" fill=\"#000000\" fill-rule=\"nonzero\" fill-opacity=\"1\" /><polyline clip-path=\"url(#clip962)\" style=\"stroke:#009af9; stroke-linecap:round; stroke-linejoin:round; stroke-width:4; stroke-opacity:1; fill:none\" points=\"336.351,1374.46 1424.36,1287.71 1641.96,1027.45 2077.16,680.431 2277.36,420.17 2294.03,159.909 \"/>\n",
       "<circle clip-path=\"url(#clip962)\" cx=\"336.351\" cy=\"1374.46\" r=\"14.4\" fill=\"#e26f46\" fill-rule=\"evenodd\" fill-opacity=\"1\" stroke=\"#000000\" stroke-opacity=\"1\" stroke-width=\"3.2\"/>\n",
       "<circle clip-path=\"url(#clip962)\" cx=\"1424.36\" cy=\"1287.71\" r=\"14.4\" fill=\"#e26f46\" fill-rule=\"evenodd\" fill-opacity=\"1\" stroke=\"#000000\" stroke-opacity=\"1\" stroke-width=\"3.2\"/>\n",
       "<circle clip-path=\"url(#clip962)\" cx=\"1641.96\" cy=\"1027.45\" r=\"14.4\" fill=\"#e26f46\" fill-rule=\"evenodd\" fill-opacity=\"1\" stroke=\"#000000\" stroke-opacity=\"1\" stroke-width=\"3.2\"/>\n",
       "<circle clip-path=\"url(#clip962)\" cx=\"2077.16\" cy=\"680.431\" r=\"14.4\" fill=\"#e26f46\" fill-rule=\"evenodd\" fill-opacity=\"1\" stroke=\"#000000\" stroke-opacity=\"1\" stroke-width=\"3.2\"/>\n",
       "<circle clip-path=\"url(#clip962)\" cx=\"2277.36\" cy=\"420.17\" r=\"14.4\" fill=\"#e26f46\" fill-rule=\"evenodd\" fill-opacity=\"1\" stroke=\"#000000\" stroke-opacity=\"1\" stroke-width=\"3.2\"/>\n",
       "<circle clip-path=\"url(#clip962)\" cx=\"2294.03\" cy=\"159.909\" r=\"14.4\" fill=\"#e26f46\" fill-rule=\"evenodd\" fill-opacity=\"1\" stroke=\"#000000\" stroke-opacity=\"1\" stroke-width=\"3.2\"/>\n",
       "<path clip-path=\"url(#clip960)\" d=\"M1937.09 321.906 L2283.58 321.906 L2283.58 166.386 L1937.09 166.386  Z\" fill=\"#ffffff\" fill-rule=\"evenodd\" fill-opacity=\"1\"/>\n",
       "<polyline clip-path=\"url(#clip960)\" style=\"stroke:#000000; stroke-linecap:round; stroke-linejoin:round; stroke-width:4; stroke-opacity:1; fill:none\" points=\"1937.09,321.906 2283.58,321.906 2283.58,166.386 1937.09,166.386 1937.09,321.906 \"/>\n",
       "<polyline clip-path=\"url(#clip960)\" style=\"stroke:#009af9; stroke-linecap:round; stroke-linejoin:round; stroke-width:4; stroke-opacity:1; fill:none\" points=\"1960.15,218.226 2098.49,218.226 \"/>\n",
       "<path clip-path=\"url(#clip960)\" d=\"M2121.55 199.488 L2125.81 199.488 L2125.81 235.506 L2121.55 235.506 L2121.55 199.488 Z\" fill=\"#000000\" fill-rule=\"nonzero\" fill-opacity=\"1\" /><path clip-path=\"url(#clip960)\" d=\"M2134.72 209.58 L2138.98 209.58 L2138.98 235.506 L2134.72 235.506 L2134.72 209.58 M2134.72 199.488 L2138.98 199.488 L2138.98 204.881 L2134.72 204.881 L2134.72 199.488 Z\" fill=\"#000000\" fill-rule=\"nonzero\" fill-opacity=\"1\" /><path clip-path=\"url(#clip960)\" d=\"M2169.44 219.858 L2169.44 235.506 L2165.18 235.506 L2165.18 219.997 Q2165.18 216.317 2163.75 214.488 Q2162.31 212.659 2159.44 212.659 Q2155.99 212.659 2154 214.858 Q2152.01 217.057 2152.01 220.854 L2152.01 235.506 L2147.73 235.506 L2147.73 209.58 L2152.01 209.58 L2152.01 213.608 Q2153.54 211.27 2155.6 210.113 Q2157.68 208.955 2160.39 208.955 Q2164.86 208.955 2167.15 211.733 Q2169.44 214.488 2169.44 219.858 Z\" fill=\"#000000\" fill-rule=\"nonzero\" fill-opacity=\"1\" /><path clip-path=\"url(#clip960)\" d=\"M2200.11 221.479 L2200.11 223.562 L2180.53 223.562 Q2180.81 227.96 2183.17 230.275 Q2185.55 232.566 2189.79 232.566 Q2192.24 232.566 2194.53 231.965 Q2196.85 231.363 2199.12 230.159 L2199.12 234.187 Q2196.82 235.159 2194.42 235.668 Q2192.01 236.178 2189.53 236.178 Q2183.33 236.178 2179.69 232.566 Q2176.08 228.955 2176.08 222.798 Q2176.08 216.432 2179.51 212.705 Q2182.96 208.955 2188.79 208.955 Q2194.02 208.955 2197.06 212.335 Q2200.11 215.692 2200.11 221.479 M2195.85 220.229 Q2195.81 216.733 2193.88 214.65 Q2191.99 212.567 2188.84 212.567 Q2185.27 212.567 2183.12 214.58 Q2180.99 216.594 2180.67 220.252 L2195.85 220.229 Z\" fill=\"#000000\" fill-rule=\"nonzero\" fill-opacity=\"1\" /><circle clip-path=\"url(#clip960)\" cx=\"2029.32\" cy=\"270.066\" r=\"20.48\" fill=\"#e26f46\" fill-rule=\"evenodd\" fill-opacity=\"1\" stroke=\"#000000\" stroke-opacity=\"1\" stroke-width=\"4.55111\"/>\n",
       "<path clip-path=\"url(#clip960)\" d=\"M2125.83 283.457 L2125.83 297.207 L2121.55 297.207 L2121.55 261.42 L2125.83 261.42 L2125.83 265.356 Q2127.17 263.041 2129.21 261.93 Q2131.27 260.795 2134.12 260.795 Q2138.84 260.795 2141.78 264.545 Q2144.74 268.295 2144.74 274.407 Q2144.74 280.518 2141.78 284.268 Q2138.84 288.018 2134.12 288.018 Q2131.27 288.018 2129.21 286.906 Q2127.17 285.772 2125.83 283.457 M2140.32 274.407 Q2140.32 269.707 2138.38 267.045 Q2136.45 264.36 2133.07 264.36 Q2129.7 264.36 2127.75 267.045 Q2125.83 269.707 2125.83 274.407 Q2125.83 279.106 2127.75 281.791 Q2129.7 284.453 2133.07 284.453 Q2136.45 284.453 2138.38 281.791 Q2140.32 279.106 2140.32 274.407 Z\" fill=\"#000000\" fill-rule=\"nonzero\" fill-opacity=\"1\" /><path clip-path=\"url(#clip960)\" d=\"M2161.85 264.407 Q2158.42 264.407 2156.43 267.092 Q2154.44 269.754 2154.44 274.407 Q2154.44 279.059 2156.41 281.744 Q2158.4 284.406 2161.85 284.406 Q2165.25 284.406 2167.24 281.721 Q2169.23 279.036 2169.23 274.407 Q2169.23 269.8 2167.24 267.115 Q2165.25 264.407 2161.85 264.407 M2161.85 260.795 Q2167.4 260.795 2170.57 264.407 Q2173.75 268.018 2173.75 274.407 Q2173.75 280.772 2170.57 284.406 Q2167.4 288.018 2161.85 288.018 Q2156.27 288.018 2153.1 284.406 Q2149.95 280.772 2149.95 274.407 Q2149.95 268.018 2153.1 264.407 Q2156.27 260.795 2161.85 260.795 Z\" fill=\"#000000\" fill-rule=\"nonzero\" fill-opacity=\"1\" /><path clip-path=\"url(#clip960)\" d=\"M2180.81 261.42 L2185.07 261.42 L2185.07 287.346 L2180.81 287.346 L2180.81 261.42 M2180.81 251.328 L2185.07 251.328 L2185.07 256.721 L2180.81 256.721 L2180.81 251.328 Z\" fill=\"#000000\" fill-rule=\"nonzero\" fill-opacity=\"1\" /><path clip-path=\"url(#clip960)\" d=\"M2215.53 271.698 L2215.53 287.346 L2211.27 287.346 L2211.27 271.837 Q2211.27 268.157 2209.83 266.328 Q2208.4 264.499 2205.53 264.499 Q2202.08 264.499 2200.09 266.698 Q2198.1 268.897 2198.1 272.694 L2198.1 287.346 L2193.82 287.346 L2193.82 261.42 L2198.1 261.42 L2198.1 265.448 Q2199.63 263.11 2201.69 261.953 Q2203.77 260.795 2206.48 260.795 Q2210.94 260.795 2213.24 263.573 Q2215.53 266.328 2215.53 271.698 Z\" fill=\"#000000\" fill-rule=\"nonzero\" fill-opacity=\"1\" /><path clip-path=\"url(#clip960)\" d=\"M2228.24 254.059 L2228.24 261.42 L2237.01 261.42 L2237.01 264.731 L2228.24 264.731 L2228.24 278.805 Q2228.24 281.976 2229.09 282.879 Q2229.97 283.781 2232.63 283.781 L2237.01 283.781 L2237.01 287.346 L2232.63 287.346 Q2227.7 287.346 2225.83 285.518 Q2223.95 283.666 2223.95 278.805 L2223.95 264.731 L2220.83 264.731 L2220.83 261.42 L2223.95 261.42 L2223.95 254.059 L2228.24 254.059 Z\" fill=\"#000000\" fill-rule=\"nonzero\" fill-opacity=\"1\" /><path clip-path=\"url(#clip960)\" d=\"M2259.14 262.184 L2259.14 266.212 Q2257.33 265.286 2255.39 264.823 Q2253.44 264.36 2251.36 264.36 Q2248.19 264.36 2246.59 265.333 Q2245.02 266.305 2245.02 268.249 Q2245.02 269.731 2246.15 270.587 Q2247.29 271.42 2250.71 272.184 L2252.17 272.508 Q2256.71 273.481 2258.61 275.263 Q2260.53 277.022 2260.53 280.194 Q2260.53 283.805 2257.66 285.911 Q2254.81 288.018 2249.81 288.018 Q2247.73 288.018 2245.46 287.601 Q2243.21 287.207 2240.71 286.397 L2240.71 281.999 Q2243.07 283.226 2245.37 283.851 Q2247.66 284.453 2249.9 284.453 Q2252.91 284.453 2254.53 283.434 Q2256.15 282.393 2256.15 280.518 Q2256.15 278.782 2254.97 277.856 Q2253.81 276.93 2249.86 276.073 L2248.37 275.726 Q2244.42 274.893 2242.66 273.18 Q2240.9 271.444 2240.9 268.434 Q2240.9 264.777 2243.49 262.786 Q2246.08 260.795 2250.85 260.795 Q2253.21 260.795 2255.3 261.143 Q2257.38 261.49 2259.14 262.184 Z\" fill=\"#000000\" fill-rule=\"nonzero\" fill-opacity=\"1\" /></svg>\n"
      ],
      "text/html": [
       "<?xml version=\"1.0\" encoding=\"utf-8\"?>\n",
       "<svg xmlns=\"http://www.w3.org/2000/svg\" xmlns:xlink=\"http://www.w3.org/1999/xlink\" width=\"600\" height=\"400\" viewBox=\"0 0 2400 1600\">\n",
       "<defs>\n",
       "  <clipPath id=\"clip010\">\n",
       "    <rect x=\"0\" y=\"0\" width=\"2400\" height=\"1600\"/>\n",
       "  </clipPath>\n",
       "</defs>\n",
       "<path clip-path=\"url(#clip010)\" d=\"M0 1600 L2400 1600 L2400 0 L0 0  Z\" fill=\"#ffffff\" fill-rule=\"evenodd\" fill-opacity=\"1\"/>\n",
       "<defs>\n",
       "  <clipPath id=\"clip011\">\n",
       "    <rect x=\"480\" y=\"0\" width=\"1681\" height=\"1600\"/>\n",
       "  </clipPath>\n",
       "</defs>\n",
       "<path clip-path=\"url(#clip010)\" d=\"M277.621 1410.9 L2352.76 1410.9 L2352.76 123.472 L277.621 123.472  Z\" fill=\"#ffffff\" fill-rule=\"evenodd\" fill-opacity=\"1\"/>\n",
       "<defs>\n",
       "  <clipPath id=\"clip012\">\n",
       "    <rect x=\"277\" y=\"123\" width=\"2076\" height=\"1288\"/>\n",
       "  </clipPath>\n",
       "</defs>\n",
       "<polyline clip-path=\"url(#clip012)\" style=\"stroke:#000000; stroke-linecap:round; stroke-linejoin:round; stroke-width:2; stroke-opacity:0.1; fill:none\" points=\"2294.77,1410.9 2294.77,123.472 \"/>\n",
       "<polyline clip-path=\"url(#clip012)\" style=\"stroke:#000000; stroke-linecap:round; stroke-linejoin:round; stroke-width:2; stroke-opacity:0.1; fill:none\" points=\"1859.56,1410.9 1859.56,123.472 \"/>\n",
       "<polyline clip-path=\"url(#clip012)\" style=\"stroke:#000000; stroke-linecap:round; stroke-linejoin:round; stroke-width:2; stroke-opacity:0.1; fill:none\" points=\"1424.36,1410.9 1424.36,123.472 \"/>\n",
       "<polyline clip-path=\"url(#clip012)\" style=\"stroke:#000000; stroke-linecap:round; stroke-linejoin:round; stroke-width:2; stroke-opacity:0.1; fill:none\" points=\"989.156,1410.9 989.156,123.472 \"/>\n",
       "<polyline clip-path=\"url(#clip012)\" style=\"stroke:#000000; stroke-linecap:round; stroke-linejoin:round; stroke-width:2; stroke-opacity:0.1; fill:none\" points=\"553.952,1410.9 553.952,123.472 \"/>\n",
       "<polyline clip-path=\"url(#clip010)\" style=\"stroke:#000000; stroke-linecap:round; stroke-linejoin:round; stroke-width:4; stroke-opacity:1; fill:none\" points=\"2352.76,1410.9 277.621,1410.9 \"/>\n",
       "<polyline clip-path=\"url(#clip010)\" style=\"stroke:#000000; stroke-linecap:round; stroke-linejoin:round; stroke-width:4; stroke-opacity:1; fill:none\" points=\"2294.77,1410.9 2294.77,1392 \"/>\n",
       "<polyline clip-path=\"url(#clip010)\" style=\"stroke:#000000; stroke-linecap:round; stroke-linejoin:round; stroke-width:4; stroke-opacity:1; fill:none\" points=\"1859.56,1410.9 1859.56,1392 \"/>\n",
       "<polyline clip-path=\"url(#clip010)\" style=\"stroke:#000000; stroke-linecap:round; stroke-linejoin:round; stroke-width:4; stroke-opacity:1; fill:none\" points=\"1424.36,1410.9 1424.36,1392 \"/>\n",
       "<polyline clip-path=\"url(#clip010)\" style=\"stroke:#000000; stroke-linecap:round; stroke-linejoin:round; stroke-width:4; stroke-opacity:1; fill:none\" points=\"989.156,1410.9 989.156,1392 \"/>\n",
       "<polyline clip-path=\"url(#clip010)\" style=\"stroke:#000000; stroke-linecap:round; stroke-linejoin:round; stroke-width:4; stroke-opacity:1; fill:none\" points=\"553.952,1410.9 553.952,1392 \"/>\n",
       "<path clip-path=\"url(#clip010)\" d=\"M2294.77 1441.82 Q2291.15 1441.82 2289.33 1445.38 Q2287.52 1448.92 2287.52 1456.05 Q2287.52 1463.16 2289.33 1466.72 Q2291.15 1470.26 2294.77 1470.26 Q2298.4 1470.26 2300.21 1466.72 Q2302.03 1463.16 2302.03 1456.05 Q2302.03 1448.92 2300.21 1445.38 Q2298.4 1441.82 2294.77 1441.82 M2294.77 1438.11 Q2300.58 1438.11 2303.63 1442.72 Q2306.71 1447.3 2306.71 1456.05 Q2306.71 1464.78 2303.63 1469.38 Q2300.58 1473.97 2294.77 1473.97 Q2288.96 1473.97 2285.88 1469.38 Q2282.82 1464.78 2282.82 1456.05 Q2282.82 1447.3 2285.88 1442.72 Q2288.96 1438.11 2294.77 1438.11 Z\" fill=\"#000000\" fill-rule=\"nonzero\" fill-opacity=\"1\" /><path clip-path=\"url(#clip010)\" d=\"M1766.46 1485.02 L1774.1 1485.02 L1774.1 1458.66 L1765.79 1460.32 L1765.79 1456.06 L1774.05 1454.4 L1778.73 1454.4 L1778.73 1485.02 L1786.37 1485.02 L1786.37 1488.96 L1766.46 1488.96 L1766.46 1485.02 Z\" fill=\"#000000\" fill-rule=\"nonzero\" fill-opacity=\"1\" /><path clip-path=\"url(#clip010)\" d=\"M1795.81 1483.08 L1800.7 1483.08 L1800.7 1488.96 L1795.81 1488.96 L1795.81 1483.08 Z\" fill=\"#000000\" fill-rule=\"nonzero\" fill-opacity=\"1\" /><path clip-path=\"url(#clip010)\" d=\"M1820.88 1457.48 Q1817.27 1457.48 1815.44 1461.04 Q1813.64 1464.58 1813.64 1471.71 Q1813.64 1478.82 1815.44 1482.38 Q1817.27 1485.92 1820.88 1485.92 Q1824.52 1485.92 1826.32 1482.38 Q1828.15 1478.82 1828.15 1471.71 Q1828.15 1464.58 1826.32 1461.04 Q1824.52 1457.48 1820.88 1457.48 M1820.88 1453.77 Q1826.69 1453.77 1829.75 1458.38 Q1832.83 1462.96 1832.83 1471.71 Q1832.83 1480.44 1829.75 1485.04 Q1826.69 1489.63 1820.88 1489.63 Q1815.07 1489.63 1811.99 1485.04 Q1808.94 1480.44 1808.94 1471.71 Q1808.94 1462.96 1811.99 1458.38 Q1815.07 1453.77 1820.88 1453.77 Z\" fill=\"#000000\" fill-rule=\"nonzero\" fill-opacity=\"1\" /><path clip-path=\"url(#clip010)\" d=\"M1869.21 1463.49 L1858.64 1474.12 L1869.21 1484.7 L1866.46 1487.5 L1855.84 1476.87 L1845.21 1487.5 L1842.48 1484.7 L1853.03 1474.12 L1842.48 1463.49 L1845.21 1460.69 L1855.84 1471.32 L1866.46 1460.69 L1869.21 1463.49 Z\" fill=\"#000000\" fill-rule=\"nonzero\" fill-opacity=\"1\" /><path clip-path=\"url(#clip010)\" d=\"M1881.58 1485.02 L1889.21 1485.02 L1889.21 1458.66 L1880.9 1460.32 L1880.9 1456.06 L1889.17 1454.4 L1893.84 1454.4 L1893.84 1485.02 L1901.48 1485.02 L1901.48 1488.96 L1881.58 1488.96 L1881.58 1485.02 Z\" fill=\"#000000\" fill-rule=\"nonzero\" fill-opacity=\"1\" /><path clip-path=\"url(#clip010)\" d=\"M1920.93 1457.48 Q1917.32 1457.48 1915.49 1461.04 Q1913.68 1464.58 1913.68 1471.71 Q1913.68 1478.82 1915.49 1482.38 Q1917.32 1485.92 1920.93 1485.92 Q1924.56 1485.92 1926.37 1482.38 Q1928.2 1478.82 1928.2 1471.71 Q1928.2 1464.58 1926.37 1461.04 Q1924.56 1457.48 1920.93 1457.48 M1920.93 1453.77 Q1926.74 1453.77 1929.79 1458.38 Q1932.87 1462.96 1932.87 1471.71 Q1932.87 1480.44 1929.79 1485.04 Q1926.74 1489.63 1920.93 1489.63 Q1915.12 1489.63 1912.04 1485.04 Q1908.98 1480.44 1908.98 1471.71 Q1908.98 1462.96 1912.04 1458.38 Q1915.12 1453.77 1920.93 1453.77 Z\" fill=\"#000000\" fill-rule=\"nonzero\" fill-opacity=\"1\" /><path clip-path=\"url(#clip010)\" d=\"M1945.55 1436.78 L1935.96 1451.77 L1945.55 1451.77 L1945.55 1436.78 M1944.55 1433.47 L1949.33 1433.47 L1949.33 1451.77 L1953.33 1451.77 L1953.33 1454.93 L1949.33 1454.93 L1949.33 1461.55 L1945.55 1461.55 L1945.55 1454.93 L1932.87 1454.93 L1932.87 1451.26 L1944.55 1433.47 Z\" fill=\"#000000\" fill-rule=\"nonzero\" fill-opacity=\"1\" /><path clip-path=\"url(#clip010)\" d=\"M1335.34 1485.02 L1351.66 1485.02 L1351.66 1488.96 L1329.72 1488.96 L1329.72 1485.02 Q1332.38 1482.27 1336.96 1477.64 Q1341.57 1472.98 1342.75 1471.64 Q1345 1469.12 1345.88 1467.38 Q1346.78 1465.62 1346.78 1463.93 Q1346.78 1461.18 1344.83 1459.44 Q1342.91 1457.71 1339.81 1457.71 Q1337.61 1457.71 1335.16 1458.47 Q1332.73 1459.23 1329.95 1460.79 L1329.95 1456.06 Q1332.77 1454.93 1335.23 1454.35 Q1337.68 1453.77 1339.72 1453.77 Q1345.09 1453.77 1348.28 1456.46 Q1351.48 1459.14 1351.48 1463.63 Q1351.48 1465.76 1350.67 1467.68 Q1349.88 1469.58 1347.77 1472.17 Q1347.2 1472.85 1344.09 1476.06 Q1340.99 1479.26 1335.34 1485.02 Z\" fill=\"#000000\" fill-rule=\"nonzero\" fill-opacity=\"1\" /><path clip-path=\"url(#clip010)\" d=\"M1361.48 1483.08 L1366.36 1483.08 L1366.36 1488.96 L1361.48 1488.96 L1361.48 1483.08 Z\" fill=\"#000000\" fill-rule=\"nonzero\" fill-opacity=\"1\" /><path clip-path=\"url(#clip010)\" d=\"M1386.55 1457.48 Q1382.94 1457.48 1381.11 1461.04 Q1379.3 1464.58 1379.3 1471.71 Q1379.3 1478.82 1381.11 1482.38 Q1382.94 1485.92 1386.55 1485.92 Q1390.18 1485.92 1391.99 1482.38 Q1393.82 1478.82 1393.82 1471.71 Q1393.82 1464.58 1391.99 1461.04 Q1390.18 1457.48 1386.55 1457.48 M1386.55 1453.77 Q1392.36 1453.77 1395.41 1458.38 Q1398.49 1462.96 1398.49 1471.71 Q1398.49 1480.44 1395.41 1485.04 Q1392.36 1489.63 1386.55 1489.63 Q1380.74 1489.63 1377.66 1485.04 Q1374.6 1480.44 1374.6 1471.71 Q1374.6 1462.96 1377.66 1458.38 Q1380.74 1453.77 1386.55 1453.77 Z\" fill=\"#000000\" fill-rule=\"nonzero\" fill-opacity=\"1\" /><path clip-path=\"url(#clip010)\" d=\"M1434.88 1463.49 L1424.3 1474.12 L1434.88 1484.7 L1432.13 1487.5 L1421.5 1476.87 L1410.88 1487.5 L1408.14 1484.7 L1418.7 1474.12 L1408.14 1463.49 L1410.88 1460.69 L1421.5 1471.32 L1432.13 1460.69 L1434.88 1463.49 Z\" fill=\"#000000\" fill-rule=\"nonzero\" fill-opacity=\"1\" /><path clip-path=\"url(#clip010)\" d=\"M1447.24 1485.02 L1454.88 1485.02 L1454.88 1458.66 L1446.57 1460.32 L1446.57 1456.06 L1454.83 1454.4 L1459.51 1454.4 L1459.51 1485.02 L1467.15 1485.02 L1467.15 1488.96 L1447.24 1488.96 L1447.24 1485.02 Z\" fill=\"#000000\" fill-rule=\"nonzero\" fill-opacity=\"1\" /><path clip-path=\"url(#clip010)\" d=\"M1486.59 1457.48 Q1482.98 1457.48 1481.15 1461.04 Q1479.35 1464.58 1479.35 1471.71 Q1479.35 1478.82 1481.15 1482.38 Q1482.98 1485.92 1486.59 1485.92 Q1490.23 1485.92 1492.03 1482.38 Q1493.86 1478.82 1493.86 1471.71 Q1493.86 1464.58 1492.03 1461.04 Q1490.23 1457.48 1486.59 1457.48 M1486.59 1453.77 Q1492.4 1453.77 1495.46 1458.38 Q1498.54 1462.96 1498.54 1471.71 Q1498.54 1480.44 1495.46 1485.04 Q1492.4 1489.63 1486.59 1489.63 Q1480.78 1489.63 1477.7 1485.04 Q1474.65 1480.44 1474.65 1471.71 Q1474.65 1462.96 1477.7 1458.38 Q1480.78 1453.77 1486.59 1453.77 Z\" fill=\"#000000\" fill-rule=\"nonzero\" fill-opacity=\"1\" /><path clip-path=\"url(#clip010)\" d=\"M1511.21 1436.78 L1501.62 1451.77 L1511.21 1451.77 L1511.21 1436.78 M1510.22 1433.47 L1514.99 1433.47 L1514.99 1451.77 L1519 1451.77 L1519 1454.93 L1514.99 1454.93 L1514.99 1461.55 L1511.21 1461.55 L1511.21 1454.93 L1498.54 1454.93 L1498.54 1451.26 L1510.22 1433.47 Z\" fill=\"#000000\" fill-rule=\"nonzero\" fill-opacity=\"1\" /><path clip-path=\"url(#clip010)\" d=\"M910.209 1470.32 Q913.566 1471.04 915.441 1473.31 Q917.339 1475.58 917.339 1478.91 Q917.339 1484.03 913.82 1486.83 Q910.302 1489.63 903.821 1489.63 Q901.645 1489.63 899.33 1489.19 Q897.038 1488.77 894.584 1487.91 L894.584 1483.4 Q896.529 1484.54 898.844 1485.11 Q901.159 1485.69 903.682 1485.69 Q908.08 1485.69 910.371 1483.96 Q912.686 1482.22 912.686 1478.91 Q912.686 1475.85 910.533 1474.14 Q908.404 1472.41 904.584 1472.41 L900.557 1472.41 L900.557 1468.56 L904.77 1468.56 Q908.219 1468.56 910.047 1467.2 Q911.876 1465.81 911.876 1463.22 Q911.876 1460.55 909.978 1459.14 Q908.103 1457.71 904.584 1457.71 Q902.663 1457.71 900.464 1458.12 Q898.265 1458.54 895.626 1459.42 L895.626 1455.25 Q898.288 1454.51 900.603 1454.14 Q902.941 1453.77 905.001 1453.77 Q910.325 1453.77 913.427 1456.2 Q916.529 1458.61 916.529 1462.73 Q916.529 1465.6 914.885 1467.59 Q913.242 1469.56 910.209 1470.32 Z\" fill=\"#000000\" fill-rule=\"nonzero\" fill-opacity=\"1\" /><path clip-path=\"url(#clip010)\" d=\"M926.205 1483.08 L931.089 1483.08 L931.089 1488.96 L926.205 1488.96 L926.205 1483.08 Z\" fill=\"#000000\" fill-rule=\"nonzero\" fill-opacity=\"1\" /><path clip-path=\"url(#clip010)\" d=\"M951.274 1457.48 Q947.663 1457.48 945.834 1461.04 Q944.029 1464.58 944.029 1471.71 Q944.029 1478.82 945.834 1482.38 Q947.663 1485.92 951.274 1485.92 Q954.908 1485.92 956.714 1482.38 Q958.542 1478.82 958.542 1471.71 Q958.542 1464.58 956.714 1461.04 Q954.908 1457.48 951.274 1457.48 M951.274 1453.77 Q957.084 1453.77 960.14 1458.38 Q963.218 1462.96 963.218 1471.71 Q963.218 1480.44 960.14 1485.04 Q957.084 1489.63 951.274 1489.63 Q945.464 1489.63 942.385 1485.04 Q939.33 1480.44 939.33 1471.71 Q939.33 1462.96 942.385 1458.38 Q945.464 1453.77 951.274 1453.77 Z\" fill=\"#000000\" fill-rule=\"nonzero\" fill-opacity=\"1\" /><path clip-path=\"url(#clip010)\" d=\"M999.607 1463.49 L989.028 1474.12 L999.607 1484.7 L996.852 1487.5 L986.227 1476.87 L975.603 1487.5 L972.871 1484.7 L983.427 1474.12 L972.871 1463.49 L975.603 1460.69 L986.227 1471.32 L996.852 1460.69 L999.607 1463.49 Z\" fill=\"#000000\" fill-rule=\"nonzero\" fill-opacity=\"1\" /><path clip-path=\"url(#clip010)\" d=\"M1011.97 1485.02 L1019.61 1485.02 L1019.61 1458.66 L1011.3 1460.32 L1011.3 1456.06 L1019.56 1454.4 L1024.24 1454.4 L1024.24 1485.02 L1031.88 1485.02 L1031.88 1488.96 L1011.97 1488.96 L1011.97 1485.02 Z\" fill=\"#000000\" fill-rule=\"nonzero\" fill-opacity=\"1\" /><path clip-path=\"url(#clip010)\" d=\"M1051.32 1457.48 Q1047.71 1457.48 1045.88 1461.04 Q1044.07 1464.58 1044.07 1471.71 Q1044.07 1478.82 1045.88 1482.38 Q1047.71 1485.92 1051.32 1485.92 Q1054.95 1485.92 1056.76 1482.38 Q1058.59 1478.82 1058.59 1471.71 Q1058.59 1464.58 1056.76 1461.04 Q1054.95 1457.48 1051.32 1457.48 M1051.32 1453.77 Q1057.13 1453.77 1060.19 1458.38 Q1063.26 1462.96 1063.26 1471.71 Q1063.26 1480.44 1060.19 1485.04 Q1057.13 1489.63 1051.32 1489.63 Q1045.51 1489.63 1042.43 1485.04 Q1039.38 1480.44 1039.38 1471.71 Q1039.38 1462.96 1042.43 1458.38 Q1045.51 1453.77 1051.32 1453.77 Z\" fill=\"#000000\" fill-rule=\"nonzero\" fill-opacity=\"1\" /><path clip-path=\"url(#clip010)\" d=\"M1075.94 1436.78 L1066.35 1451.77 L1075.94 1451.77 L1075.94 1436.78 M1074.94 1433.47 L1079.72 1433.47 L1079.72 1451.77 L1083.73 1451.77 L1083.73 1454.93 L1079.72 1454.93 L1079.72 1461.55 L1075.94 1461.55 L1075.94 1454.93 L1063.26 1454.93 L1063.26 1451.26 L1074.94 1433.47 Z\" fill=\"#000000\" fill-rule=\"nonzero\" fill-opacity=\"1\" /><path clip-path=\"url(#clip010)\" d=\"M474.335 1458.47 L462.529 1476.92 L474.335 1476.92 L474.335 1458.47 M473.108 1454.4 L478.988 1454.4 L478.988 1476.92 L483.918 1476.92 L483.918 1480.81 L478.988 1480.81 L478.988 1488.96 L474.335 1488.96 L474.335 1480.81 L458.733 1480.81 L458.733 1476.29 L473.108 1454.4 Z\" fill=\"#000000\" fill-rule=\"nonzero\" fill-opacity=\"1\" /><path clip-path=\"url(#clip010)\" d=\"M491.65 1483.08 L496.534 1483.08 L496.534 1488.96 L491.65 1488.96 L491.65 1483.08 Z\" fill=\"#000000\" fill-rule=\"nonzero\" fill-opacity=\"1\" /><path clip-path=\"url(#clip010)\" d=\"M516.719 1457.48 Q513.108 1457.48 511.279 1461.04 Q509.474 1464.58 509.474 1471.71 Q509.474 1478.82 511.279 1482.38 Q513.108 1485.92 516.719 1485.92 Q520.353 1485.92 522.159 1482.38 Q523.987 1478.82 523.987 1471.71 Q523.987 1464.58 522.159 1461.04 Q520.353 1457.48 516.719 1457.48 M516.719 1453.77 Q522.529 1453.77 525.585 1458.38 Q528.663 1462.96 528.663 1471.71 Q528.663 1480.44 525.585 1485.04 Q522.529 1489.63 516.719 1489.63 Q510.909 1489.63 507.83 1485.04 Q504.774 1480.44 504.774 1471.71 Q504.774 1462.96 507.83 1458.38 Q510.909 1453.77 516.719 1453.77 Z\" fill=\"#000000\" fill-rule=\"nonzero\" fill-opacity=\"1\" /><path clip-path=\"url(#clip010)\" d=\"M565.052 1463.49 L554.473 1474.12 L565.052 1484.7 L562.297 1487.5 L551.672 1476.87 L541.047 1487.5 L538.316 1484.7 L548.871 1474.12 L538.316 1463.49 L541.047 1460.69 L551.672 1471.32 L562.297 1460.69 L565.052 1463.49 Z\" fill=\"#000000\" fill-rule=\"nonzero\" fill-opacity=\"1\" /><path clip-path=\"url(#clip010)\" d=\"M577.413 1485.02 L585.052 1485.02 L585.052 1458.66 L576.742 1460.32 L576.742 1456.06 L585.006 1454.4 L589.681 1454.4 L589.681 1485.02 L597.32 1485.02 L597.32 1488.96 L577.413 1488.96 L577.413 1485.02 Z\" fill=\"#000000\" fill-rule=\"nonzero\" fill-opacity=\"1\" /><path clip-path=\"url(#clip010)\" d=\"M616.765 1457.48 Q613.154 1457.48 611.325 1461.04 Q609.519 1464.58 609.519 1471.71 Q609.519 1478.82 611.325 1482.38 Q613.154 1485.92 616.765 1485.92 Q620.399 1485.92 622.204 1482.38 Q624.033 1478.82 624.033 1471.71 Q624.033 1464.58 622.204 1461.04 Q620.399 1457.48 616.765 1457.48 M616.765 1453.77 Q622.575 1453.77 625.63 1458.38 Q628.709 1462.96 628.709 1471.71 Q628.709 1480.44 625.63 1485.04 Q622.575 1489.63 616.765 1489.63 Q610.954 1489.63 607.876 1485.04 Q604.82 1480.44 604.82 1471.71 Q604.82 1462.96 607.876 1458.38 Q610.954 1453.77 616.765 1453.77 Z\" fill=\"#000000\" fill-rule=\"nonzero\" fill-opacity=\"1\" /><path clip-path=\"url(#clip010)\" d=\"M641.385 1436.78 L631.793 1451.77 L641.385 1451.77 L641.385 1436.78 M640.389 1433.47 L645.166 1433.47 L645.166 1451.77 L649.172 1451.77 L649.172 1454.93 L645.166 1454.93 L645.166 1461.55 L641.385 1461.55 L641.385 1454.93 L628.709 1454.93 L628.709 1451.26 L640.389 1433.47 Z\" fill=\"#000000\" fill-rule=\"nonzero\" fill-opacity=\"1\" /><path clip-path=\"url(#clip010)\" d=\"M782.967 1526.67 L791.625 1526.67 L812.695 1566.42 L812.695 1526.67 L818.934 1526.67 L818.934 1574.19 L810.276 1574.19 L789.206 1534.43 L789.206 1574.19 L782.967 1574.19 L782.967 1526.67 Z\" fill=\"#000000\" fill-rule=\"nonzero\" fill-opacity=\"1\" /><path clip-path=\"url(#clip010)\" d=\"M830.869 1560.12 L830.869 1538.54 L836.726 1538.54 L836.726 1559.89 Q836.726 1564.96 838.699 1567.5 Q840.673 1570.02 844.619 1570.02 Q849.362 1570.02 852.099 1566.99 Q854.868 1563.97 854.868 1558.75 L854.868 1538.54 L860.725 1538.54 L860.725 1574.19 L854.868 1574.19 L854.868 1568.71 Q852.736 1571.96 849.903 1573.55 Q847.102 1575.11 843.378 1575.11 Q837.235 1575.11 834.052 1571.29 Q830.869 1567.47 830.869 1560.12 M845.606 1537.68 L845.606 1537.68 Z\" fill=\"#000000\" fill-rule=\"nonzero\" fill-opacity=\"1\" /><path clip-path=\"url(#clip010)\" d=\"M900.542 1545.38 Q902.738 1541.43 905.794 1539.56 Q908.849 1537.68 912.987 1537.68 Q918.557 1537.68 921.581 1541.59 Q924.604 1545.48 924.604 1552.67 L924.604 1574.19 L918.716 1574.19 L918.716 1552.86 Q918.716 1547.74 916.902 1545.25 Q915.088 1542.77 911.364 1542.77 Q906.812 1542.77 904.17 1545.79 Q901.529 1548.82 901.529 1554.04 L901.529 1574.19 L895.64 1574.19 L895.64 1552.86 Q895.64 1547.7 893.826 1545.25 Q892.012 1542.77 888.224 1542.77 Q883.737 1542.77 881.095 1545.83 Q878.453 1548.85 878.453 1554.04 L878.453 1574.19 L872.565 1574.19 L872.565 1538.54 L878.453 1538.54 L878.453 1544.08 Q880.458 1540.8 883.259 1539.24 Q886.06 1537.68 889.911 1537.68 Q893.794 1537.68 896.5 1539.65 Q899.237 1541.62 900.542 1545.38 Z\" fill=\"#000000\" fill-rule=\"nonzero\" fill-opacity=\"1\" /><path clip-path=\"url(#clip010)\" d=\"M961.876 1556.39 Q961.876 1549.93 959.202 1546.27 Q956.56 1542.58 951.913 1542.58 Q947.266 1542.58 944.593 1546.27 Q941.951 1549.93 941.951 1556.39 Q941.951 1562.85 944.593 1566.55 Q947.266 1570.21 951.913 1570.21 Q956.56 1570.21 959.202 1566.55 Q961.876 1562.85 961.876 1556.39 M941.951 1543.95 Q943.797 1540.77 946.598 1539.24 Q949.431 1537.68 953.346 1537.68 Q959.839 1537.68 963.881 1542.83 Q967.955 1547.99 967.955 1556.39 Q967.955 1564.8 963.881 1569.95 Q959.839 1575.11 953.346 1575.11 Q949.431 1575.11 946.598 1573.58 Q943.797 1572.02 941.951 1568.84 L941.951 1574.19 L936.063 1574.19 L936.063 1524.66 L941.951 1524.66 L941.951 1543.95 Z\" fill=\"#000000\" fill-rule=\"nonzero\" fill-opacity=\"1\" /><path clip-path=\"url(#clip010)\" d=\"M1008.15 1554.9 L1008.15 1557.76 L981.227 1557.76 Q981.609 1563.81 984.856 1566.99 Q988.134 1570.14 993.959 1570.14 Q997.333 1570.14 1000.48 1569.32 Q1003.67 1568.49 1006.79 1566.83 L1006.79 1572.37 Q1003.63 1573.71 1000.32 1574.41 Q997.014 1575.11 993.609 1575.11 Q985.079 1575.11 980.082 1570.14 Q975.116 1565.18 975.116 1556.71 Q975.116 1547.96 979.827 1542.83 Q984.569 1537.68 992.59 1537.68 Q999.783 1537.68 1003.95 1542.33 Q1008.15 1546.94 1008.15 1554.9 M1002.3 1553.18 Q1002.23 1548.37 999.592 1545.51 Q996.982 1542.64 992.654 1542.64 Q987.752 1542.64 984.792 1545.41 Q981.864 1548.18 981.418 1553.21 L1002.3 1553.18 Z\" fill=\"#000000\" fill-rule=\"nonzero\" fill-opacity=\"1\" /><path clip-path=\"url(#clip010)\" d=\"M1038.42 1544.01 Q1037.44 1543.44 1036.26 1543.18 Q1035.11 1542.9 1033.71 1542.9 Q1028.75 1542.9 1026.07 1546.14 Q1023.43 1549.36 1023.43 1555.41 L1023.43 1574.19 L1017.54 1574.19 L1017.54 1538.54 L1023.43 1538.54 L1023.43 1544.08 Q1025.28 1540.83 1028.24 1539.27 Q1031.2 1537.68 1035.43 1537.68 Q1036.04 1537.68 1036.77 1537.77 Q1037.5 1537.84 1038.39 1538 L1038.42 1544.01 Z\" fill=\"#000000\" fill-rule=\"nonzero\" fill-opacity=\"1\" /><path clip-path=\"url(#clip010)\" d=\"M1079.1 1542.64 Q1074.39 1542.64 1071.65 1546.34 Q1068.91 1550 1068.91 1556.39 Q1068.91 1562.79 1071.62 1566.48 Q1074.36 1570.14 1079.1 1570.14 Q1083.78 1570.14 1086.52 1566.45 Q1089.25 1562.76 1089.25 1556.39 Q1089.25 1550.06 1086.52 1546.37 Q1083.78 1542.64 1079.1 1542.64 M1079.1 1537.68 Q1086.74 1537.68 1091.1 1542.64 Q1095.46 1547.61 1095.46 1556.39 Q1095.46 1565.15 1091.1 1570.14 Q1086.74 1575.11 1079.1 1575.11 Q1071.43 1575.11 1067.07 1570.14 Q1062.74 1565.15 1062.74 1556.39 Q1062.74 1547.61 1067.07 1542.64 Q1071.43 1537.68 1079.1 1537.68 Z\" fill=\"#000000\" fill-rule=\"nonzero\" fill-opacity=\"1\" /><path clip-path=\"url(#clip010)\" d=\"M1123.21 1524.66 L1123.21 1529.53 L1117.61 1529.53 Q1114.46 1529.53 1113.22 1530.8 Q1112.01 1532.08 1112.01 1535.39 L1112.01 1538.54 L1121.65 1538.54 L1121.65 1543.09 L1112.01 1543.09 L1112.01 1574.19 L1106.12 1574.19 L1106.12 1543.09 L1100.52 1543.09 L1100.52 1538.54 L1106.12 1538.54 L1106.12 1536.05 Q1106.12 1530.1 1108.89 1527.4 Q1111.66 1524.66 1117.68 1524.66 L1123.21 1524.66 Z\" fill=\"#000000\" fill-rule=\"nonzero\" fill-opacity=\"1\" /><path clip-path=\"url(#clip010)\" d=\"M1155.52 1531.95 L1155.52 1549.8 L1163.6 1549.8 Q1168.09 1549.8 1170.54 1547.48 Q1172.99 1545.16 1172.99 1540.86 Q1172.99 1536.6 1170.54 1534.27 Q1168.09 1531.95 1163.6 1531.95 L1155.52 1531.95 M1149.09 1526.67 L1163.6 1526.67 Q1171.59 1526.67 1175.67 1530.29 Q1179.77 1533.89 1179.77 1540.86 Q1179.77 1547.9 1175.67 1551.49 Q1171.59 1555.09 1163.6 1555.09 L1155.52 1555.09 L1155.52 1574.19 L1149.09 1574.19 L1149.09 1526.67 Z\" fill=\"#000000\" fill-rule=\"nonzero\" fill-opacity=\"1\" /><path clip-path=\"url(#clip010)\" d=\"M1186.71 1538.54 L1192.57 1538.54 L1192.57 1574.19 L1186.71 1574.19 L1186.71 1538.54 M1186.71 1524.66 L1192.57 1524.66 L1192.57 1532.08 L1186.71 1532.08 L1186.71 1524.66 Z\" fill=\"#000000\" fill-rule=\"nonzero\" fill-opacity=\"1\" /><path clip-path=\"url(#clip010)\" d=\"M1225.48 1544.01 Q1224.49 1543.44 1223.32 1543.18 Q1222.17 1542.9 1220.77 1542.9 Q1215.8 1542.9 1213.13 1546.14 Q1210.49 1549.36 1210.49 1555.41 L1210.49 1574.19 L1204.6 1574.19 L1204.6 1538.54 L1210.49 1538.54 L1210.49 1544.08 Q1212.33 1540.83 1215.29 1539.27 Q1218.25 1537.68 1222.49 1537.68 Q1223.09 1537.68 1223.82 1537.77 Q1224.56 1537.84 1225.45 1538 L1225.48 1544.01 Z\" fill=\"#000000\" fill-rule=\"nonzero\" fill-opacity=\"1\" /><path clip-path=\"url(#clip010)\" d=\"M1247.82 1556.27 Q1240.73 1556.27 1237.99 1557.89 Q1235.25 1559.51 1235.25 1563.43 Q1235.25 1566.55 1237.29 1568.39 Q1239.36 1570.21 1242.89 1570.21 Q1247.76 1570.21 1250.69 1566.77 Q1253.65 1563.3 1253.65 1557.57 L1253.65 1556.27 L1247.82 1556.27 M1259.5 1553.85 L1259.5 1574.19 L1253.65 1574.19 L1253.65 1568.77 Q1251.64 1572.02 1248.65 1573.58 Q1245.66 1575.11 1241.33 1575.11 Q1235.86 1575.11 1232.61 1572.05 Q1229.39 1568.97 1229.39 1563.81 Q1229.39 1557.79 1233.4 1554.74 Q1237.45 1551.68 1245.44 1551.68 L1253.65 1551.68 L1253.65 1551.11 Q1253.65 1547.07 1250.97 1544.87 Q1248.33 1542.64 1243.53 1542.64 Q1240.47 1542.64 1237.57 1543.38 Q1234.68 1544.11 1232 1545.57 L1232 1540.16 Q1235.22 1538.92 1238.24 1538.31 Q1241.27 1537.68 1244.13 1537.68 Q1251.87 1537.68 1255.68 1541.69 Q1259.5 1545.7 1259.5 1553.85 Z\" fill=\"#000000\" fill-rule=\"nonzero\" fill-opacity=\"1\" /><path clip-path=\"url(#clip010)\" d=\"M1277.36 1528.42 L1277.36 1538.54 L1289.42 1538.54 L1289.42 1543.09 L1277.36 1543.09 L1277.36 1562.44 Q1277.36 1566.8 1278.54 1568.04 Q1279.75 1569.28 1283.41 1569.28 L1289.42 1569.28 L1289.42 1574.19 L1283.41 1574.19 Q1276.63 1574.19 1274.05 1571.67 Q1271.47 1569.12 1271.47 1562.44 L1271.47 1543.09 L1267.17 1543.09 L1267.17 1538.54 L1271.47 1538.54 L1271.47 1528.42 L1277.36 1528.42 Z\" fill=\"#000000\" fill-rule=\"nonzero\" fill-opacity=\"1\" /><path clip-path=\"url(#clip010)\" d=\"M1327.62 1554.9 L1327.62 1557.76 L1300.69 1557.76 Q1301.07 1563.81 1304.32 1566.99 Q1307.6 1570.14 1313.42 1570.14 Q1316.8 1570.14 1319.95 1569.32 Q1323.13 1568.49 1326.25 1566.83 L1326.25 1572.37 Q1323.1 1573.71 1319.79 1574.41 Q1316.48 1575.11 1313.07 1575.11 Q1304.54 1575.11 1299.54 1570.14 Q1294.58 1565.18 1294.58 1556.71 Q1294.58 1547.96 1299.29 1542.83 Q1304.03 1537.68 1312.05 1537.68 Q1319.25 1537.68 1323.42 1542.33 Q1327.62 1546.94 1327.62 1554.9 M1321.76 1553.18 Q1321.7 1548.37 1319.06 1545.51 Q1316.45 1542.64 1312.12 1542.64 Q1307.22 1542.64 1304.26 1545.41 Q1301.33 1548.18 1300.88 1553.21 L1321.76 1553.18 Z\" fill=\"#000000\" fill-rule=\"nonzero\" fill-opacity=\"1\" /><path clip-path=\"url(#clip010)\" d=\"M1359.96 1539.59 L1359.96 1545.13 Q1357.47 1543.85 1354.8 1543.22 Q1352.13 1542.58 1349.26 1542.58 Q1344.9 1542.58 1342.7 1543.92 Q1340.54 1545.25 1340.54 1547.93 Q1340.54 1549.96 1342.1 1551.14 Q1343.66 1552.29 1348.37 1553.34 L1350.37 1553.78 Q1356.61 1555.12 1359.22 1557.57 Q1361.86 1559.99 1361.86 1564.35 Q1361.86 1569.32 1357.92 1572.21 Q1354 1575.11 1347.13 1575.11 Q1344.26 1575.11 1341.14 1574.54 Q1338.06 1573.99 1334.62 1572.88 L1334.62 1566.83 Q1337.87 1568.52 1341.02 1569.38 Q1344.17 1570.21 1347.26 1570.21 Q1351.39 1570.21 1353.62 1568.81 Q1355.85 1567.37 1355.85 1564.8 Q1355.85 1562.41 1354.23 1561.14 Q1352.63 1559.86 1347.19 1558.68 L1345.15 1558.21 Q1339.71 1557.06 1337.29 1554.71 Q1334.87 1552.32 1334.87 1548.18 Q1334.87 1543.15 1338.44 1540.42 Q1342 1537.68 1348.56 1537.68 Q1351.81 1537.68 1354.67 1538.16 Q1357.54 1538.63 1359.96 1539.59 Z\" fill=\"#000000\" fill-rule=\"nonzero\" fill-opacity=\"1\" /><path clip-path=\"url(#clip010)\" d=\"M1391.37 1524.66 L1404.87 1524.66 L1404.87 1529.21 L1397.23 1529.21 L1397.23 1578.23 L1404.87 1578.23 L1404.87 1582.78 L1391.37 1582.78 L1391.37 1524.66 Z\" fill=\"#000000\" fill-rule=\"nonzero\" fill-opacity=\"1\" /><path clip-path=\"url(#clip010)\" d=\"M1433.48 1533 L1424.76 1556.65 L1442.23 1556.65 L1433.48 1533 M1429.85 1526.67 L1437.14 1526.67 L1455.25 1574.19 L1448.57 1574.19 L1444.24 1562 L1422.82 1562 L1418.49 1574.19 L1411.71 1574.19 L1429.85 1526.67 Z\" fill=\"#000000\" fill-rule=\"nonzero\" fill-opacity=\"1\" /><path clip-path=\"url(#clip010)\" d=\"M1467.6 1568.84 L1467.6 1587.74 L1461.71 1587.74 L1461.71 1538.54 L1467.6 1538.54 L1467.6 1543.95 Q1469.45 1540.77 1472.25 1539.24 Q1475.08 1537.68 1478.99 1537.68 Q1485.49 1537.68 1489.53 1542.83 Q1493.6 1547.99 1493.6 1556.39 Q1493.6 1564.8 1489.53 1569.95 Q1485.49 1575.11 1478.99 1575.11 Q1475.08 1575.11 1472.25 1573.58 Q1469.45 1572.02 1467.6 1568.84 M1487.52 1556.39 Q1487.52 1549.93 1484.85 1546.27 Q1482.21 1542.58 1477.56 1542.58 Q1472.91 1542.58 1470.24 1546.27 Q1467.6 1549.93 1467.6 1556.39 Q1467.6 1562.85 1470.24 1566.55 Q1472.91 1570.21 1477.56 1570.21 Q1482.21 1570.21 1484.85 1566.55 Q1487.52 1562.85 1487.52 1556.39 Z\" fill=\"#000000\" fill-rule=\"nonzero\" fill-opacity=\"1\" /><path clip-path=\"url(#clip010)\" d=\"M1508.98 1568.84 L1508.98 1587.74 L1503.09 1587.74 L1503.09 1538.54 L1508.98 1538.54 L1508.98 1543.95 Q1510.82 1540.77 1513.62 1539.24 Q1516.46 1537.68 1520.37 1537.68 Q1526.86 1537.68 1530.91 1542.83 Q1534.98 1547.99 1534.98 1556.39 Q1534.98 1564.8 1530.91 1569.95 Q1526.86 1575.11 1520.37 1575.11 Q1516.46 1575.11 1513.62 1573.58 Q1510.82 1572.02 1508.98 1568.84 M1528.9 1556.39 Q1528.9 1549.93 1526.23 1546.27 Q1523.59 1542.58 1518.94 1542.58 Q1514.29 1542.58 1511.62 1546.27 Q1508.98 1549.93 1508.98 1556.39 Q1508.98 1562.85 1511.62 1566.55 Q1514.29 1570.21 1518.94 1570.21 Q1523.59 1570.21 1526.23 1566.55 Q1528.9 1562.85 1528.9 1556.39 Z\" fill=\"#000000\" fill-rule=\"nonzero\" fill-opacity=\"1\" /><path clip-path=\"url(#clip010)\" d=\"M1565.34 1544.01 Q1564.36 1543.44 1563.18 1543.18 Q1562.03 1542.9 1560.63 1542.9 Q1555.67 1542.9 1553 1546.14 Q1550.35 1549.36 1550.35 1555.41 L1550.35 1574.19 L1544.47 1574.19 L1544.47 1538.54 L1550.35 1538.54 L1550.35 1544.08 Q1552.2 1540.83 1555.16 1539.27 Q1558.12 1537.68 1562.35 1537.68 Q1562.96 1537.68 1563.69 1537.77 Q1564.42 1537.84 1565.31 1538 L1565.34 1544.01 Z\" fill=\"#000000\" fill-rule=\"nonzero\" fill-opacity=\"1\" /><path clip-path=\"url(#clip010)\" d=\"M1583.87 1542.64 Q1579.16 1542.64 1576.42 1546.34 Q1573.68 1550 1573.68 1556.39 Q1573.68 1562.79 1576.39 1566.48 Q1579.13 1570.14 1583.87 1570.14 Q1588.55 1570.14 1591.28 1566.45 Q1594.02 1562.76 1594.02 1556.39 Q1594.02 1550.06 1591.28 1546.37 Q1588.55 1542.64 1583.87 1542.64 M1583.87 1537.68 Q1591.51 1537.68 1595.87 1542.64 Q1600.23 1547.61 1600.23 1556.39 Q1600.23 1565.15 1595.87 1570.14 Q1591.51 1575.11 1583.87 1575.11 Q1576.2 1575.11 1571.84 1570.14 Q1567.51 1565.15 1567.51 1556.39 Q1567.51 1547.61 1571.84 1542.64 Q1576.2 1537.68 1583.87 1537.68 Z\" fill=\"#000000\" fill-rule=\"nonzero\" fill-opacity=\"1\" /><path clip-path=\"url(#clip010)\" d=\"M1637.56 1538.54 L1624.67 1555.88 L1638.23 1574.19 L1631.33 1574.19 L1620.95 1560.18 L1610.57 1574.19 L1603.67 1574.19 L1617.51 1555.53 L1604.84 1538.54 L1611.75 1538.54 L1621.2 1551.24 L1630.66 1538.54 L1637.56 1538.54 Z\" fill=\"#000000\" fill-rule=\"nonzero\" fill-opacity=\"1\" /><path clip-path=\"url(#clip010)\" d=\"M1646.51 1538.54 L1652.36 1538.54 L1652.36 1574.19 L1646.51 1574.19 L1646.51 1538.54 M1646.51 1524.66 L1652.36 1524.66 L1652.36 1532.08 L1646.51 1532.08 L1646.51 1524.66 Z\" fill=\"#000000\" fill-rule=\"nonzero\" fill-opacity=\"1\" /><path clip-path=\"url(#clip010)\" d=\"M1692.37 1545.38 Q1694.57 1541.43 1697.62 1539.56 Q1700.68 1537.68 1704.82 1537.68 Q1710.39 1537.68 1713.41 1541.59 Q1716.43 1545.48 1716.43 1552.67 L1716.43 1574.19 L1710.55 1574.19 L1710.55 1552.86 Q1710.55 1547.74 1708.73 1545.25 Q1706.92 1542.77 1703.19 1542.77 Q1698.64 1542.77 1696 1545.79 Q1693.36 1548.82 1693.36 1554.04 L1693.36 1574.19 L1687.47 1574.19 L1687.47 1552.86 Q1687.47 1547.7 1685.66 1545.25 Q1683.84 1542.77 1680.05 1542.77 Q1675.57 1542.77 1672.93 1545.83 Q1670.28 1548.85 1670.28 1554.04 L1670.28 1574.19 L1664.39 1574.19 L1664.39 1538.54 L1670.28 1538.54 L1670.28 1544.08 Q1672.29 1540.8 1675.09 1539.24 Q1677.89 1537.68 1681.74 1537.68 Q1685.62 1537.68 1688.33 1539.65 Q1691.07 1541.62 1692.37 1545.38 Z\" fill=\"#000000\" fill-rule=\"nonzero\" fill-opacity=\"1\" /><path clip-path=\"url(#clip010)\" d=\"M1744.32 1556.27 Q1737.22 1556.27 1734.48 1557.89 Q1731.74 1559.51 1731.74 1563.43 Q1731.74 1566.55 1733.78 1568.39 Q1735.85 1570.21 1739.38 1570.21 Q1744.25 1570.21 1747.18 1566.77 Q1750.14 1563.3 1750.14 1557.57 L1750.14 1556.27 L1744.32 1556.27 M1756 1553.85 L1756 1574.19 L1750.14 1574.19 L1750.14 1568.77 Q1748.14 1572.02 1745.14 1573.58 Q1742.15 1575.11 1737.82 1575.11 Q1732.35 1575.11 1729.1 1572.05 Q1725.89 1568.97 1725.89 1563.81 Q1725.89 1557.79 1729.9 1554.74 Q1733.94 1551.68 1741.93 1551.68 L1750.14 1551.68 L1750.14 1551.11 Q1750.14 1547.07 1747.47 1544.87 Q1744.83 1542.64 1740.02 1542.64 Q1736.96 1542.64 1734.07 1543.38 Q1731.17 1544.11 1728.5 1545.57 L1728.5 1540.16 Q1731.71 1538.92 1734.74 1538.31 Q1737.76 1537.68 1740.62 1537.68 Q1748.36 1537.68 1752.18 1541.69 Q1756 1545.7 1756 1553.85 Z\" fill=\"#000000\" fill-rule=\"nonzero\" fill-opacity=\"1\" /><path clip-path=\"url(#clip010)\" d=\"M1773.85 1528.42 L1773.85 1538.54 L1785.92 1538.54 L1785.92 1543.09 L1773.85 1543.09 L1773.85 1562.44 Q1773.85 1566.8 1775.03 1568.04 Q1776.24 1569.28 1779.9 1569.28 L1785.92 1569.28 L1785.92 1574.19 L1779.9 1574.19 Q1773.12 1574.19 1770.54 1571.67 Q1767.97 1569.12 1767.97 1562.44 L1767.97 1543.09 L1763.67 1543.09 L1763.67 1538.54 L1767.97 1538.54 L1767.97 1528.42 L1773.85 1528.42 Z\" fill=\"#000000\" fill-rule=\"nonzero\" fill-opacity=\"1\" /><path clip-path=\"url(#clip010)\" d=\"M1824.11 1554.9 L1824.11 1557.76 L1797.18 1557.76 Q1797.57 1563.81 1800.81 1566.99 Q1804.09 1570.14 1809.92 1570.14 Q1813.29 1570.14 1816.44 1569.32 Q1819.62 1568.49 1822.74 1566.83 L1822.74 1572.37 Q1819.59 1573.71 1816.28 1574.41 Q1812.97 1575.11 1809.56 1575.11 Q1801.03 1575.11 1796.04 1570.14 Q1791.07 1565.18 1791.07 1556.71 Q1791.07 1547.96 1795.78 1542.83 Q1800.53 1537.68 1808.55 1537.68 Q1815.74 1537.68 1819.91 1542.33 Q1824.11 1546.94 1824.11 1554.9 M1818.25 1553.18 Q1818.19 1548.37 1815.55 1545.51 Q1812.94 1542.64 1808.61 1542.64 Q1803.71 1542.64 1800.75 1545.41 Q1797.82 1548.18 1797.37 1553.21 L1818.25 1553.18 Z\" fill=\"#000000\" fill-rule=\"nonzero\" fill-opacity=\"1\" /><path clip-path=\"url(#clip010)\" d=\"M1847.41 1524.66 L1847.41 1582.78 L1833.91 1582.78 L1833.91 1578.23 L1841.52 1578.23 L1841.52 1529.21 L1833.91 1529.21 L1833.91 1524.66 L1847.41 1524.66 Z\" fill=\"#000000\" fill-rule=\"nonzero\" fill-opacity=\"1\" /><polyline clip-path=\"url(#clip012)\" style=\"stroke:#000000; stroke-linecap:round; stroke-linejoin:round; stroke-width:2; stroke-opacity:0.1; fill:none\" points=\"2352.76,1287.71 277.621,1287.71 \"/>\n",
       "<polyline clip-path=\"url(#clip012)\" style=\"stroke:#000000; stroke-linecap:round; stroke-linejoin:round; stroke-width:2; stroke-opacity:0.1; fill:none\" points=\"2352.76,1070.82 277.621,1070.82 \"/>\n",
       "<polyline clip-path=\"url(#clip012)\" style=\"stroke:#000000; stroke-linecap:round; stroke-linejoin:round; stroke-width:2; stroke-opacity:0.1; fill:none\" points=\"2352.76,853.938 277.621,853.938 \"/>\n",
       "<polyline clip-path=\"url(#clip012)\" style=\"stroke:#000000; stroke-linecap:round; stroke-linejoin:round; stroke-width:2; stroke-opacity:0.1; fill:none\" points=\"2352.76,637.054 277.621,637.054 \"/>\n",
       "<polyline clip-path=\"url(#clip012)\" style=\"stroke:#000000; stroke-linecap:round; stroke-linejoin:round; stroke-width:2; stroke-opacity:0.1; fill:none\" points=\"2352.76,420.17 277.621,420.17 \"/>\n",
       "<polyline clip-path=\"url(#clip012)\" style=\"stroke:#000000; stroke-linecap:round; stroke-linejoin:round; stroke-width:2; stroke-opacity:0.1; fill:none\" points=\"2352.76,203.286 277.621,203.286 \"/>\n",
       "<polyline clip-path=\"url(#clip010)\" style=\"stroke:#000000; stroke-linecap:round; stroke-linejoin:round; stroke-width:4; stroke-opacity:1; fill:none\" points=\"277.621,1410.9 277.621,123.472 \"/>\n",
       "<polyline clip-path=\"url(#clip010)\" style=\"stroke:#000000; stroke-linecap:round; stroke-linejoin:round; stroke-width:4; stroke-opacity:1; fill:none\" points=\"277.621,1287.71 296.518,1287.71 \"/>\n",
       "<polyline clip-path=\"url(#clip010)\" style=\"stroke:#000000; stroke-linecap:round; stroke-linejoin:round; stroke-width:4; stroke-opacity:1; fill:none\" points=\"277.621,1070.82 296.518,1070.82 \"/>\n",
       "<polyline clip-path=\"url(#clip010)\" style=\"stroke:#000000; stroke-linecap:round; stroke-linejoin:round; stroke-width:4; stroke-opacity:1; fill:none\" points=\"277.621,853.938 296.518,853.938 \"/>\n",
       "<polyline clip-path=\"url(#clip010)\" style=\"stroke:#000000; stroke-linecap:round; stroke-linejoin:round; stroke-width:4; stroke-opacity:1; fill:none\" points=\"277.621,637.054 296.518,637.054 \"/>\n",
       "<polyline clip-path=\"url(#clip010)\" style=\"stroke:#000000; stroke-linecap:round; stroke-linejoin:round; stroke-width:4; stroke-opacity:1; fill:none\" points=\"277.621,420.17 296.518,420.17 \"/>\n",
       "<polyline clip-path=\"url(#clip010)\" style=\"stroke:#000000; stroke-linecap:round; stroke-linejoin:round; stroke-width:4; stroke-opacity:1; fill:none\" points=\"277.621,203.286 296.518,203.286 \"/>\n",
       "<path clip-path=\"url(#clip010)\" d=\"M114.931 1301.05 L122.57 1301.05 L122.57 1274.69 L114.26 1276.35 L114.26 1272.09 L122.524 1270.43 L127.2 1270.43 L127.2 1301.05 L134.839 1301.05 L134.839 1304.99 L114.931 1304.99 L114.931 1301.05 Z\" fill=\"#000000\" fill-rule=\"nonzero\" fill-opacity=\"1\" /><path clip-path=\"url(#clip010)\" d=\"M157.13 1274.5 L145.325 1292.95 L157.13 1292.95 L157.13 1274.5 M155.903 1270.43 L161.783 1270.43 L161.783 1292.95 L166.714 1292.95 L166.714 1296.84 L161.783 1296.84 L161.783 1304.99 L157.13 1304.99 L157.13 1296.84 L141.529 1296.84 L141.529 1292.32 L155.903 1270.43 Z\" fill=\"#000000\" fill-rule=\"nonzero\" fill-opacity=\"1\" /><path clip-path=\"url(#clip010)\" d=\"M174.445 1299.11 L179.329 1299.11 L179.329 1304.99 L174.445 1304.99 L174.445 1299.11 Z\" fill=\"#000000\" fill-rule=\"nonzero\" fill-opacity=\"1\" /><path clip-path=\"url(#clip010)\" d=\"M189.561 1270.43 L207.917 1270.43 L207.917 1274.36 L193.843 1274.36 L193.843 1282.83 Q194.862 1282.49 195.88 1282.32 Q196.899 1282.14 197.917 1282.14 Q203.704 1282.14 207.084 1285.31 Q210.463 1288.48 210.463 1293.9 Q210.463 1299.48 206.991 1302.58 Q203.519 1305.66 197.2 1305.66 Q195.024 1305.66 192.755 1305.29 Q190.51 1304.92 188.102 1304.18 L188.102 1299.48 Q190.186 1300.61 192.408 1301.17 Q194.63 1301.72 197.107 1301.72 Q201.112 1301.72 203.449 1299.62 Q205.787 1297.51 205.787 1293.9 Q205.787 1290.29 203.449 1288.18 Q201.112 1286.07 197.107 1286.07 Q195.232 1286.07 193.357 1286.49 Q191.505 1286.91 189.561 1287.79 L189.561 1270.43 Z\" fill=\"#000000\" fill-rule=\"nonzero\" fill-opacity=\"1\" /><path clip-path=\"url(#clip010)\" d=\"M229.676 1273.51 Q226.065 1273.51 224.236 1277.07 Q222.431 1280.61 222.431 1287.74 Q222.431 1294.85 224.236 1298.41 Q226.065 1301.95 229.676 1301.95 Q233.31 1301.95 235.116 1298.41 Q236.945 1294.85 236.945 1287.74 Q236.945 1280.61 235.116 1277.07 Q233.31 1273.51 229.676 1273.51 M229.676 1269.8 Q235.486 1269.8 238.542 1274.41 Q241.621 1278.99 241.621 1287.74 Q241.621 1296.47 238.542 1301.07 Q235.486 1305.66 229.676 1305.66 Q223.866 1305.66 220.787 1301.07 Q217.732 1296.47 217.732 1287.74 Q217.732 1278.99 220.787 1274.41 Q223.866 1269.8 229.676 1269.8 Z\" fill=\"#000000\" fill-rule=\"nonzero\" fill-opacity=\"1\" /><path clip-path=\"url(#clip010)\" d=\"M115.927 1084.17 L123.566 1084.17 L123.566 1057.8 L115.256 1059.47 L115.256 1055.21 L123.519 1053.54 L128.195 1053.54 L128.195 1084.17 L135.834 1084.17 L135.834 1088.1 L115.927 1088.1 L115.927 1084.17 Z\" fill=\"#000000\" fill-rule=\"nonzero\" fill-opacity=\"1\" /><path clip-path=\"url(#clip010)\" d=\"M158.126 1057.62 L146.32 1076.07 L158.126 1076.07 L158.126 1057.62 M156.899 1053.54 L162.778 1053.54 L162.778 1076.07 L167.709 1076.07 L167.709 1079.95 L162.778 1079.95 L162.778 1088.1 L158.126 1088.1 L158.126 1079.95 L142.524 1079.95 L142.524 1075.44 L156.899 1053.54 Z\" fill=\"#000000\" fill-rule=\"nonzero\" fill-opacity=\"1\" /><path clip-path=\"url(#clip010)\" d=\"M175.44 1082.22 L180.325 1082.22 L180.325 1088.1 L175.44 1088.1 L175.44 1082.22 Z\" fill=\"#000000\" fill-rule=\"nonzero\" fill-opacity=\"1\" /><path clip-path=\"url(#clip010)\" d=\"M189.329 1053.54 L211.551 1053.54 L211.551 1055.53 L199.005 1088.1 L194.121 1088.1 L205.926 1057.48 L189.329 1057.48 L189.329 1053.54 Z\" fill=\"#000000\" fill-rule=\"nonzero\" fill-opacity=\"1\" /><path clip-path=\"url(#clip010)\" d=\"M220.718 1053.54 L239.074 1053.54 L239.074 1057.48 L225 1057.48 L225 1065.95 Q226.019 1065.6 227.037 1065.44 Q228.056 1065.26 229.074 1065.26 Q234.861 1065.26 238.241 1068.43 Q241.621 1071.6 241.621 1077.01 Q241.621 1082.59 238.148 1085.69 Q234.676 1088.77 228.357 1088.77 Q226.181 1088.77 223.912 1088.4 Q221.667 1088.03 219.26 1087.29 L219.26 1082.59 Q221.343 1083.73 223.565 1084.28 Q225.787 1084.84 228.264 1084.84 Q232.269 1084.84 234.607 1082.73 Q236.945 1080.63 236.945 1077.01 Q236.945 1073.4 234.607 1071.3 Q232.269 1069.19 228.264 1069.19 Q226.389 1069.19 224.514 1069.61 Q222.662 1070.02 220.718 1070.9 L220.718 1053.54 Z\" fill=\"#000000\" fill-rule=\"nonzero\" fill-opacity=\"1\" /><path clip-path=\"url(#clip010)\" d=\"M114.931 867.283 L122.57 867.283 L122.57 840.917 L114.26 842.584 L114.26 838.325 L122.524 836.658 L127.2 836.658 L127.2 867.283 L134.839 867.283 L134.839 871.218 L114.931 871.218 L114.931 867.283 Z\" fill=\"#000000\" fill-rule=\"nonzero\" fill-opacity=\"1\" /><path clip-path=\"url(#clip010)\" d=\"M144.329 836.658 L162.686 836.658 L162.686 840.593 L148.612 840.593 L148.612 849.065 Q149.63 848.718 150.649 848.556 Q151.667 848.371 152.686 848.371 Q158.473 848.371 161.852 851.542 Q165.232 854.714 165.232 860.13 Q165.232 865.709 161.76 868.811 Q158.288 871.889 151.968 871.889 Q149.792 871.889 147.524 871.519 Q145.279 871.149 142.871 870.408 L142.871 865.709 Q144.954 866.843 147.177 867.399 Q149.399 867.954 151.876 867.954 Q155.88 867.954 158.218 865.848 Q160.556 863.741 160.556 860.13 Q160.556 856.519 158.218 854.413 Q155.88 852.306 151.876 852.306 Q150.001 852.306 148.126 852.723 Q146.274 853.139 144.329 854.019 L144.329 836.658 Z\" fill=\"#000000\" fill-rule=\"nonzero\" fill-opacity=\"1\" /><path clip-path=\"url(#clip010)\" d=\"M174.445 865.338 L179.329 865.338 L179.329 871.218 L174.445 871.218 L174.445 865.338 Z\" fill=\"#000000\" fill-rule=\"nonzero\" fill-opacity=\"1\" /><path clip-path=\"url(#clip010)\" d=\"M199.514 839.737 Q195.903 839.737 194.075 843.302 Q192.269 846.843 192.269 853.973 Q192.269 861.079 194.075 864.644 Q195.903 868.186 199.514 868.186 Q203.149 868.186 204.954 864.644 Q206.783 861.079 206.783 853.973 Q206.783 846.843 204.954 843.302 Q203.149 839.737 199.514 839.737 M199.514 836.033 Q205.324 836.033 208.38 840.64 Q211.459 845.223 211.459 853.973 Q211.459 862.7 208.38 867.306 Q205.324 871.889 199.514 871.889 Q193.704 871.889 190.625 867.306 Q187.57 862.7 187.57 853.973 Q187.57 845.223 190.625 840.64 Q193.704 836.033 199.514 836.033 Z\" fill=\"#000000\" fill-rule=\"nonzero\" fill-opacity=\"1\" /><path clip-path=\"url(#clip010)\" d=\"M229.676 839.737 Q226.065 839.737 224.236 843.302 Q222.431 846.843 222.431 853.973 Q222.431 861.079 224.236 864.644 Q226.065 868.186 229.676 868.186 Q233.31 868.186 235.116 864.644 Q236.945 861.079 236.945 853.973 Q236.945 846.843 235.116 843.302 Q233.31 839.737 229.676 839.737 M229.676 836.033 Q235.486 836.033 238.542 840.64 Q241.621 845.223 241.621 853.973 Q241.621 862.7 238.542 867.306 Q235.486 871.889 229.676 871.889 Q223.866 871.889 220.787 867.306 Q217.732 862.7 217.732 853.973 Q217.732 845.223 220.787 840.64 Q223.866 836.033 229.676 836.033 Z\" fill=\"#000000\" fill-rule=\"nonzero\" fill-opacity=\"1\" /><path clip-path=\"url(#clip010)\" d=\"M115.927 650.399 L123.566 650.399 L123.566 624.033 L115.256 625.7 L115.256 621.441 L123.519 619.774 L128.195 619.774 L128.195 650.399 L135.834 650.399 L135.834 654.334 L115.927 654.334 L115.927 650.399 Z\" fill=\"#000000\" fill-rule=\"nonzero\" fill-opacity=\"1\" /><path clip-path=\"url(#clip010)\" d=\"M145.325 619.774 L163.681 619.774 L163.681 623.709 L149.607 623.709 L149.607 632.181 Q150.626 631.834 151.644 631.672 Q152.663 631.487 153.681 631.487 Q159.468 631.487 162.848 634.658 Q166.227 637.829 166.227 643.246 Q166.227 648.825 162.755 651.926 Q159.283 655.005 152.964 655.005 Q150.788 655.005 148.519 654.635 Q146.274 654.264 143.866 653.524 L143.866 648.825 Q145.95 649.959 148.172 650.514 Q150.394 651.07 152.871 651.07 Q156.876 651.07 159.214 648.964 Q161.552 646.857 161.552 643.246 Q161.552 639.635 159.214 637.528 Q156.876 635.422 152.871 635.422 Q150.996 635.422 149.121 635.839 Q147.269 636.255 145.325 637.135 L145.325 619.774 Z\" fill=\"#000000\" fill-rule=\"nonzero\" fill-opacity=\"1\" /><path clip-path=\"url(#clip010)\" d=\"M175.44 648.454 L180.325 648.454 L180.325 654.334 L175.44 654.334 L175.44 648.454 Z\" fill=\"#000000\" fill-rule=\"nonzero\" fill-opacity=\"1\" /><path clip-path=\"url(#clip010)\" d=\"M194.538 650.399 L210.857 650.399 L210.857 654.334 L188.913 654.334 L188.913 650.399 Q191.575 647.644 196.158 643.014 Q200.764 638.362 201.945 637.019 Q204.19 634.496 205.07 632.76 Q205.973 631.001 205.973 629.311 Q205.973 626.556 204.028 624.82 Q202.107 623.084 199.005 623.084 Q196.806 623.084 194.352 623.848 Q191.922 624.612 189.144 626.163 L189.144 621.441 Q191.968 620.306 194.422 619.728 Q196.875 619.149 198.912 619.149 Q204.283 619.149 207.477 621.834 Q210.672 624.519 210.672 629.01 Q210.672 631.14 209.861 633.061 Q209.074 634.959 206.968 637.552 Q206.389 638.223 203.287 641.44 Q200.186 644.635 194.538 650.399 Z\" fill=\"#000000\" fill-rule=\"nonzero\" fill-opacity=\"1\" /><path clip-path=\"url(#clip010)\" d=\"M220.718 619.774 L239.074 619.774 L239.074 623.709 L225 623.709 L225 632.181 Q226.019 631.834 227.037 631.672 Q228.056 631.487 229.074 631.487 Q234.861 631.487 238.241 634.658 Q241.621 637.829 241.621 643.246 Q241.621 648.825 238.148 651.926 Q234.676 655.005 228.357 655.005 Q226.181 655.005 223.912 654.635 Q221.667 654.264 219.26 653.524 L219.26 648.825 Q221.343 649.959 223.565 650.514 Q225.787 651.07 228.264 651.07 Q232.269 651.07 234.607 648.964 Q236.945 646.857 236.945 643.246 Q236.945 639.635 234.607 637.528 Q232.269 635.422 228.264 635.422 Q226.389 635.422 224.514 635.839 Q222.662 636.255 220.718 637.135 L220.718 619.774 Z\" fill=\"#000000\" fill-rule=\"nonzero\" fill-opacity=\"1\" /><path clip-path=\"url(#clip010)\" d=\"M114.931 433.515 L122.57 433.515 L122.57 407.149 L114.26 408.816 L114.26 404.556 L122.524 402.89 L127.2 402.89 L127.2 433.515 L134.839 433.515 L134.839 437.45 L114.931 437.45 L114.931 433.515 Z\" fill=\"#000000\" fill-rule=\"nonzero\" fill-opacity=\"1\" /><path clip-path=\"url(#clip010)\" d=\"M144.329 402.89 L162.686 402.89 L162.686 406.825 L148.612 406.825 L148.612 415.297 Q149.63 414.95 150.649 414.788 Q151.667 414.603 152.686 414.603 Q158.473 414.603 161.852 417.774 Q165.232 420.945 165.232 426.362 Q165.232 431.94 161.76 435.042 Q158.288 438.121 151.968 438.121 Q149.792 438.121 147.524 437.751 Q145.279 437.38 142.871 436.64 L142.871 431.94 Q144.954 433.075 147.177 433.63 Q149.399 434.186 151.876 434.186 Q155.88 434.186 158.218 432.079 Q160.556 429.973 160.556 426.362 Q160.556 422.751 158.218 420.644 Q155.88 418.538 151.876 418.538 Q150.001 418.538 148.126 418.954 Q146.274 419.371 144.329 420.251 L144.329 402.89 Z\" fill=\"#000000\" fill-rule=\"nonzero\" fill-opacity=\"1\" /><path clip-path=\"url(#clip010)\" d=\"M174.445 431.57 L179.329 431.57 L179.329 437.45 L174.445 437.45 L174.445 431.57 Z\" fill=\"#000000\" fill-rule=\"nonzero\" fill-opacity=\"1\" /><path clip-path=\"url(#clip010)\" d=\"M189.561 402.89 L207.917 402.89 L207.917 406.825 L193.843 406.825 L193.843 415.297 Q194.862 414.95 195.88 414.788 Q196.899 414.603 197.917 414.603 Q203.704 414.603 207.084 417.774 Q210.463 420.945 210.463 426.362 Q210.463 431.94 206.991 435.042 Q203.519 438.121 197.2 438.121 Q195.024 438.121 192.755 437.751 Q190.51 437.38 188.102 436.64 L188.102 431.94 Q190.186 433.075 192.408 433.63 Q194.63 434.186 197.107 434.186 Q201.112 434.186 203.449 432.079 Q205.787 429.973 205.787 426.362 Q205.787 422.751 203.449 420.644 Q201.112 418.538 197.107 418.538 Q195.232 418.538 193.357 418.954 Q191.505 419.371 189.561 420.251 L189.561 402.89 Z\" fill=\"#000000\" fill-rule=\"nonzero\" fill-opacity=\"1\" /><path clip-path=\"url(#clip010)\" d=\"M229.676 405.968 Q226.065 405.968 224.236 409.533 Q222.431 413.075 222.431 420.204 Q222.431 427.311 224.236 430.876 Q226.065 434.417 229.676 434.417 Q233.31 434.417 235.116 430.876 Q236.945 427.311 236.945 420.204 Q236.945 413.075 235.116 409.533 Q233.31 405.968 229.676 405.968 M229.676 402.265 Q235.486 402.265 238.542 406.871 Q241.621 411.454 241.621 420.204 Q241.621 428.931 238.542 433.538 Q235.486 438.121 229.676 438.121 Q223.866 438.121 220.787 433.538 Q217.732 428.931 217.732 420.204 Q217.732 411.454 220.787 406.871 Q223.866 402.265 229.676 402.265 Z\" fill=\"#000000\" fill-rule=\"nonzero\" fill-opacity=\"1\" /><path clip-path=\"url(#clip010)\" d=\"M115.927 216.63 L123.566 216.63 L123.566 190.265 L115.256 191.931 L115.256 187.672 L123.519 186.006 L128.195 186.006 L128.195 216.63 L135.834 216.63 L135.834 220.566 L115.927 220.566 L115.927 216.63 Z\" fill=\"#000000\" fill-rule=\"nonzero\" fill-opacity=\"1\" /><path clip-path=\"url(#clip010)\" d=\"M145.325 186.006 L163.681 186.006 L163.681 189.941 L149.607 189.941 L149.607 198.413 Q150.626 198.066 151.644 197.904 Q152.663 197.718 153.681 197.718 Q159.468 197.718 162.848 200.89 Q166.227 204.061 166.227 209.478 Q166.227 215.056 162.755 218.158 Q159.283 221.237 152.964 221.237 Q150.788 221.237 148.519 220.866 Q146.274 220.496 143.866 219.755 L143.866 215.056 Q145.95 216.191 148.172 216.746 Q150.394 217.302 152.871 217.302 Q156.876 217.302 159.214 215.195 Q161.552 213.089 161.552 209.478 Q161.552 205.867 159.214 203.76 Q156.876 201.654 152.871 201.654 Q150.996 201.654 149.121 202.07 Q147.269 202.487 145.325 203.367 L145.325 186.006 Z\" fill=\"#000000\" fill-rule=\"nonzero\" fill-opacity=\"1\" /><path clip-path=\"url(#clip010)\" d=\"M175.44 214.686 L180.325 214.686 L180.325 220.566 L175.44 220.566 L175.44 214.686 Z\" fill=\"#000000\" fill-rule=\"nonzero\" fill-opacity=\"1\" /><path clip-path=\"url(#clip010)\" d=\"M189.329 186.006 L211.551 186.006 L211.551 187.996 L199.005 220.566 L194.121 220.566 L205.926 189.941 L189.329 189.941 L189.329 186.006 Z\" fill=\"#000000\" fill-rule=\"nonzero\" fill-opacity=\"1\" /><path clip-path=\"url(#clip010)\" d=\"M220.718 186.006 L239.074 186.006 L239.074 189.941 L225 189.941 L225 198.413 Q226.019 198.066 227.037 197.904 Q228.056 197.718 229.074 197.718 Q234.861 197.718 238.241 200.89 Q241.621 204.061 241.621 209.478 Q241.621 215.056 238.148 218.158 Q234.676 221.237 228.357 221.237 Q226.181 221.237 223.912 220.866 Q221.667 220.496 219.26 219.755 L219.26 215.056 Q221.343 216.191 223.565 216.746 Q225.787 217.302 228.264 217.302 Q232.269 217.302 234.607 215.195 Q236.945 213.089 236.945 209.478 Q236.945 205.867 234.607 203.76 Q232.269 201.654 228.264 201.654 Q226.389 201.654 224.514 202.07 Q222.662 202.487 220.718 203.367 L220.718 186.006 Z\" fill=\"#000000\" fill-rule=\"nonzero\" fill-opacity=\"1\" /><path clip-path=\"url(#clip010)\" d=\"M57.2247 1106.75 L44.4614 1106.75 L44.4614 1117.25 L39.1779 1117.25 L39.1779 1100.38 L59.58 1100.38 Q62.2218 1104.11 63.5904 1108.59 Q64.9272 1113.08 64.9272 1118.17 Q64.9272 1129.31 58.4342 1135.62 Q51.9093 1141.89 40.2919 1141.89 Q28.6427 1141.89 22.1496 1135.62 Q15.6248 1129.31 15.6248 1118.17 Q15.6248 1113.53 16.7706 1109.36 Q17.9164 1105.16 20.1444 1101.62 L26.9876 1101.62 Q23.9639 1105.19 22.4361 1109.2 Q20.9083 1113.21 20.9083 1117.63 Q20.9083 1126.35 25.7781 1130.75 Q30.6479 1135.11 40.2919 1135.11 Q49.9041 1135.11 54.7739 1130.75 Q59.6436 1126.35 59.6436 1117.63 Q59.6436 1114.23 59.0707 1111.55 Q58.466 1108.88 57.2247 1106.75 Z\" fill=\"#000000\" fill-rule=\"nonzero\" fill-opacity=\"1\" /><path clip-path=\"url(#clip010)\" d=\"M14.479 1088.89 L14.479 1083.03 L64.0042 1083.03 L64.0042 1088.89 L14.479 1088.89 Z\" fill=\"#000000\" fill-rule=\"nonzero\" fill-opacity=\"1\" /><path clip-path=\"url(#clip010)\" d=\"M32.4621 1056.97 Q32.4621 1061.68 36.1542 1064.42 Q39.8145 1067.15 46.212 1067.15 Q52.6095 1067.15 56.3017 1064.45 Q59.9619 1061.71 59.9619 1056.97 Q59.9619 1052.29 56.2698 1049.55 Q52.5777 1046.81 46.212 1046.81 Q39.8781 1046.81 36.186 1049.55 Q32.4621 1052.29 32.4621 1056.97 M27.4968 1056.97 Q27.4968 1049.33 32.4621 1044.97 Q37.4273 1040.61 46.212 1040.61 Q54.9649 1040.61 59.9619 1044.97 Q64.9272 1049.33 64.9272 1056.97 Q64.9272 1064.64 59.9619 1069 Q54.9649 1073.33 46.212 1073.33 Q37.4273 1073.33 32.4621 1069 Q27.4968 1064.64 27.4968 1056.97 Z\" fill=\"#000000\" fill-rule=\"nonzero\" fill-opacity=\"1\" /><path clip-path=\"url(#clip010)\" d=\"M46.212 1005.31 Q39.7508 1005.31 36.0905 1007.98 Q32.3984 1010.62 32.3984 1015.27 Q32.3984 1019.92 36.0905 1022.59 Q39.7508 1025.23 46.212 1025.23 Q52.6732 1025.23 56.3653 1022.59 Q60.0256 1019.92 60.0256 1015.27 Q60.0256 1010.62 56.3653 1007.98 Q52.6732 1005.31 46.212 1005.31 M33.7671 1025.23 Q30.5842 1023.39 29.0564 1020.59 Q27.4968 1017.75 27.4968 1013.84 Q27.4968 1007.35 32.6531 1003.3 Q37.8093 999.23 46.212 999.23 Q54.6147 999.23 59.771 1003.3 Q64.9272 1007.35 64.9272 1013.84 Q64.9272 1017.75 63.3994 1020.59 Q61.8398 1023.39 58.657 1025.23 L64.0042 1025.23 L64.0042 1031.12 L14.479 1031.12 L14.479 1025.23 L33.7671 1025.23 Z\" fill=\"#000000\" fill-rule=\"nonzero\" fill-opacity=\"1\" /><path clip-path=\"url(#clip010)\" d=\"M46.0847 973.322 Q46.0847 980.42 47.7079 983.157 Q49.3312 985.894 53.2461 985.894 Q56.3653 985.894 58.2114 983.857 Q60.0256 981.788 60.0256 978.255 Q60.0256 973.386 56.5881 970.457 Q53.1188 967.497 47.3897 967.497 L46.0847 967.497 L46.0847 973.322 M43.6657 961.641 L64.0042 961.641 L64.0042 967.497 L58.5933 967.497 Q61.8398 969.502 63.3994 972.494 Q64.9272 975.486 64.9272 979.815 Q64.9272 985.289 61.8716 988.536 Q58.7843 991.751 53.6281 991.751 Q47.6125 991.751 44.5569 987.74 Q41.5014 983.698 41.5014 975.709 L41.5014 967.497 L40.9285 967.497 Q36.8862 967.497 34.6901 970.171 Q32.4621 972.813 32.4621 977.619 Q32.4621 980.674 33.1941 983.571 Q33.9262 986.467 35.3903 989.141 L29.9795 989.141 Q28.7381 985.926 28.1334 982.902 Q27.4968 979.879 27.4968 977.014 Q27.4968 969.28 31.5072 965.46 Q35.5176 961.641 43.6657 961.641 Z\" fill=\"#000000\" fill-rule=\"nonzero\" fill-opacity=\"1\" /><path clip-path=\"url(#clip010)\" d=\"M14.479 949.578 L14.479 943.721 L64.0042 943.721 L64.0042 949.578 L14.479 949.578 Z\" fill=\"#000000\" fill-rule=\"nonzero\" fill-opacity=\"1\" /><path clip-path=\"url(#clip010)\" d=\"M16.4842 917.081 L16.4842 876.881 L21.895 876.881 L21.895 893.751 L64.0042 893.751 L64.0042 900.212 L21.895 900.212 L21.895 917.081 L16.4842 917.081 Z\" fill=\"#000000\" fill-rule=\"nonzero\" fill-opacity=\"1\" /><path clip-path=\"url(#clip010)\" d=\"M44.7161 851.514 L47.5806 851.514 L47.5806 878.441 Q53.6281 878.059 56.8109 874.813 Q59.9619 871.534 59.9619 865.71 Q59.9619 862.336 59.1344 859.185 Q58.3069 856.002 56.6518 852.883 L62.1899 852.883 Q63.5267 856.034 64.227 859.344 Q64.9272 862.654 64.9272 866.06 Q64.9272 874.59 59.9619 879.587 Q54.9967 884.552 46.5303 884.552 Q37.7774 884.552 32.6531 879.841 Q27.4968 875.099 27.4968 867.078 Q27.4968 859.885 32.1438 855.715 Q36.7589 851.514 44.7161 851.514 M42.9973 857.371 Q38.1912 857.434 35.3266 860.076 Q32.4621 862.686 32.4621 867.015 Q32.4621 871.916 35.2312 874.876 Q38.0002 877.804 43.0292 878.25 L42.9973 857.371 Z\" fill=\"#000000\" fill-rule=\"nonzero\" fill-opacity=\"1\" /><path clip-path=\"url(#clip010)\" d=\"M35.1993 814.147 Q31.2526 811.951 29.3747 808.896 Q27.4968 805.84 27.4968 801.702 Q27.4968 796.132 31.4117 793.109 Q35.2948 790.085 42.4881 790.085 L64.0042 790.085 L64.0042 795.973 L42.679 795.973 Q37.5546 795.973 35.072 797.788 Q32.5894 799.602 32.5894 803.326 Q32.5894 807.877 35.6131 810.519 Q38.6368 813.161 43.8567 813.161 L64.0042 813.161 L64.0042 819.049 L42.679 819.049 Q37.5228 819.049 35.072 820.863 Q32.5894 822.677 32.5894 826.465 Q32.5894 830.953 35.6449 833.595 Q38.6686 836.236 43.8567 836.236 L64.0042 836.236 L64.0042 842.125 L28.3562 842.125 L28.3562 836.236 L33.8944 836.236 Q30.616 834.231 29.0564 831.43 Q27.4968 828.629 27.4968 824.778 Q27.4968 820.895 29.4702 818.19 Q31.4436 815.452 35.1993 814.147 Z\" fill=\"#000000\" fill-rule=\"nonzero\" fill-opacity=\"1\" /><path clip-path=\"url(#clip010)\" d=\"M58.657 772.738 L77.5631 772.738 L77.5631 778.627 L28.3562 778.627 L28.3562 772.738 L33.7671 772.738 Q30.5842 770.892 29.0564 768.091 Q27.4968 765.259 27.4968 761.344 Q27.4968 754.851 32.6531 750.809 Q37.8093 746.735 46.212 746.735 Q54.6147 746.735 59.771 750.809 Q64.9272 754.851 64.9272 761.344 Q64.9272 765.259 63.3994 768.091 Q61.8398 770.892 58.657 772.738 M46.212 752.814 Q39.7508 752.814 36.0905 755.487 Q32.3984 758.129 32.3984 762.776 Q32.3984 767.423 36.0905 770.097 Q39.7508 772.738 46.212 772.738 Q52.6732 772.738 56.3653 770.097 Q60.0256 767.423 60.0256 762.776 Q60.0256 758.129 56.3653 755.487 Q52.6732 752.814 46.212 752.814 Z\" fill=\"#000000\" fill-rule=\"nonzero\" fill-opacity=\"1\" /><path clip-path=\"url(#clip010)\" d=\"M44.7161 706.535 L47.5806 706.535 L47.5806 733.462 Q53.6281 733.08 56.8109 729.834 Q59.9619 726.555 59.9619 720.731 Q59.9619 717.357 59.1344 714.206 Q58.3069 711.023 56.6518 707.904 L62.1899 707.904 Q63.5267 711.055 64.227 714.365 Q64.9272 717.675 64.9272 721.081 Q64.9272 729.611 59.9619 734.608 Q54.9967 739.573 46.5303 739.573 Q37.7774 739.573 32.6531 734.863 Q27.4968 730.12 27.4968 722.099 Q27.4968 714.906 32.1438 710.736 Q36.7589 706.535 44.7161 706.535 M42.9973 712.392 Q38.1912 712.455 35.3266 715.097 Q32.4621 717.707 32.4621 722.036 Q32.4621 726.937 35.2312 729.897 Q38.0002 732.825 43.0292 733.271 L42.9973 712.392 Z\" fill=\"#000000\" fill-rule=\"nonzero\" fill-opacity=\"1\" /><path clip-path=\"url(#clip010)\" d=\"M33.8307 676.266 Q33.2578 677.253 33.0032 678.431 Q32.7167 679.576 32.7167 680.977 Q32.7167 685.942 35.9632 688.616 Q39.1779 691.257 45.2253 691.257 L64.0042 691.257 L64.0042 697.146 L28.3562 697.146 L28.3562 691.257 L33.8944 691.257 Q30.6479 689.411 29.0883 686.451 Q27.4968 683.491 27.4968 679.258 Q27.4968 678.653 27.5923 677.921 Q27.656 677.189 27.8151 676.298 L33.8307 676.266 Z\" fill=\"#000000\" fill-rule=\"nonzero\" fill-opacity=\"1\" /><path clip-path=\"url(#clip010)\" d=\"M46.0847 653.923 Q46.0847 661.02 47.7079 663.758 Q49.3312 666.495 53.2461 666.495 Q56.3653 666.495 58.2114 664.458 Q60.0256 662.389 60.0256 658.856 Q60.0256 653.986 56.5881 651.058 Q53.1188 648.098 47.3897 648.098 L46.0847 648.098 L46.0847 653.923 M43.6657 642.241 L64.0042 642.241 L64.0042 648.098 L58.5933 648.098 Q61.8398 650.103 63.3994 653.095 Q64.9272 656.087 64.9272 660.416 Q64.9272 665.89 61.8716 669.137 Q58.7843 672.351 53.6281 672.351 Q47.6125 672.351 44.5569 668.341 Q41.5014 664.299 41.5014 656.31 L41.5014 648.098 L40.9285 648.098 Q36.8862 648.098 34.6901 650.772 Q32.4621 653.413 32.4621 658.219 Q32.4621 661.275 33.1941 664.171 Q33.9262 667.068 35.3903 669.741 L29.9795 669.741 Q28.7381 666.527 28.1334 663.503 Q27.4968 660.479 27.4968 657.615 Q27.4968 649.88 31.5072 646.061 Q35.5176 642.241 43.6657 642.241 Z\" fill=\"#000000\" fill-rule=\"nonzero\" fill-opacity=\"1\" /><path clip-path=\"url(#clip010)\" d=\"M18.2347 624.386 L28.3562 624.386 L28.3562 612.323 L32.9077 612.323 L32.9077 624.386 L52.2594 624.386 Q56.6199 624.386 57.8613 623.208 Q59.1026 621.999 59.1026 618.338 L59.1026 612.323 L64.0042 612.323 L64.0042 618.338 Q64.0042 625.118 61.4897 627.696 Q58.9434 630.274 52.2594 630.274 L32.9077 630.274 L32.9077 634.571 L28.3562 634.571 L28.3562 630.274 L18.2347 630.274 L18.2347 624.386 Z\" fill=\"#000000\" fill-rule=\"nonzero\" fill-opacity=\"1\" /><path clip-path=\"url(#clip010)\" d=\"M49.9359 605.225 L28.3562 605.225 L28.3562 599.368 L49.7131 599.368 Q54.7739 599.368 57.3202 597.395 Q59.8346 595.422 59.8346 591.475 Q59.8346 586.733 56.8109 583.995 Q53.7872 581.226 48.5673 581.226 L28.3562 581.226 L28.3562 575.37 L64.0042 575.37 L64.0042 581.226 L58.5296 581.226 Q61.7762 583.359 63.3676 586.191 Q64.9272 588.992 64.9272 592.716 Q64.9272 598.859 61.1078 602.042 Q57.2883 605.225 49.9359 605.225 M27.4968 590.488 L27.4968 590.488 Z\" fill=\"#000000\" fill-rule=\"nonzero\" fill-opacity=\"1\" /><path clip-path=\"url(#clip010)\" d=\"M33.8307 542.65 Q33.2578 543.637 33.0032 544.814 Q32.7167 545.96 32.7167 547.361 Q32.7167 552.326 35.9632 554.999 Q39.1779 557.641 45.2253 557.641 L64.0042 557.641 L64.0042 563.53 L28.3562 563.53 L28.3562 557.641 L33.8944 557.641 Q30.6479 555.795 29.0883 552.835 Q27.4968 549.875 27.4968 545.642 Q27.4968 545.037 27.5923 544.305 Q27.656 543.573 27.8151 542.682 L33.8307 542.65 Z\" fill=\"#000000\" fill-rule=\"nonzero\" fill-opacity=\"1\" /><path clip-path=\"url(#clip010)\" d=\"M44.7161 507.448 L47.5806 507.448 L47.5806 534.375 Q53.6281 533.993 56.8109 530.746 Q59.9619 527.468 59.9619 521.643 Q59.9619 518.269 59.1344 515.118 Q58.3069 511.935 56.6518 508.816 L62.1899 508.816 Q63.5267 511.967 64.227 515.277 Q64.9272 518.588 64.9272 521.993 Q64.9272 530.523 59.9619 535.52 Q54.9967 540.486 46.5303 540.486 Q37.7774 540.486 32.6531 535.775 Q27.4968 531.033 27.4968 523.012 Q27.4968 515.819 32.1438 511.649 Q36.7589 507.448 44.7161 507.448 M42.9973 513.304 Q38.1912 513.368 35.3266 516.01 Q32.4621 518.619 32.4621 522.948 Q32.4621 527.85 35.2312 530.81 Q38.0002 533.738 43.0292 534.184 L42.9973 513.304 Z\" fill=\"#000000\" fill-rule=\"nonzero\" fill-opacity=\"1\" /><path clip-path=\"url(#clip010)\" d=\"M14.5426 463.047 Q21.8632 467.312 29.0246 469.381 Q36.186 471.45 43.5384 471.45 Q50.8908 471.45 58.1159 469.381 Q65.3091 467.28 72.5979 463.047 L72.5979 468.139 Q65.1182 472.914 57.8931 475.301 Q50.668 477.656 43.5384 477.656 Q36.4406 477.656 29.2474 475.301 Q22.0542 472.946 14.5426 468.139 L14.5426 463.047 Z\" fill=\"#000000\" fill-rule=\"nonzero\" fill-opacity=\"1\" /><path clip-path=\"url(#clip010)\" d=\"M20.1444 415.845 L26.9239 415.845 Q23.9002 419.092 22.4043 422.784 Q20.9083 426.444 20.9083 430.582 Q20.9083 438.73 25.9054 443.059 Q30.8707 447.387 40.2919 447.387 Q49.6813 447.387 54.6784 443.059 Q59.6436 438.73 59.6436 430.582 Q59.6436 426.444 58.1477 422.784 Q56.6518 419.092 53.6281 415.845 L60.3439 415.845 Q62.6355 419.219 63.7814 423.007 Q64.9272 426.762 64.9272 430.964 Q64.9272 441.754 58.3387 447.96 Q51.7183 454.167 40.2919 454.167 Q28.8336 454.167 22.2451 447.96 Q15.6248 441.754 15.6248 430.964 Q15.6248 426.699 16.7706 422.943 Q17.8846 419.155 20.1444 415.845 Z\" fill=\"#000000\" fill-rule=\"nonzero\" fill-opacity=\"1\" /><path clip-path=\"url(#clip010)\" d=\"M14.5426 407.092 L14.5426 402 Q22.0542 397.225 29.2474 394.87 Q36.4406 392.483 43.5384 392.483 Q50.668 392.483 57.8931 394.87 Q65.1182 397.225 72.5979 402 L72.5979 407.092 Q65.3091 402.859 58.1159 400.79 Q50.8908 398.69 43.5384 398.69 Q36.186 398.69 29.0246 400.79 Q21.8632 402.859 14.5426 407.092 Z\" fill=\"#000000\" fill-rule=\"nonzero\" fill-opacity=\"1\" /><path clip-path=\"url(#clip010)\" d=\"M311.597 12.096 L319.78 12.096 L319.78 72.576 L311.597 72.576 L311.597 12.096 Z\" fill=\"#000000\" fill-rule=\"nonzero\" fill-opacity=\"1\" /><path clip-path=\"url(#clip010)\" d=\"M373.454 45.1919 L373.454 72.576 L366.001 72.576 L366.001 45.4349 Q366.001 38.994 363.489 35.7938 Q360.978 32.5936 355.954 32.5936 Q349.919 32.5936 346.435 36.4419 Q342.951 40.2903 342.951 46.9338 L342.951 72.576 L335.457 72.576 L335.457 27.2059 L342.951 27.2059 L342.951 34.2544 Q345.625 30.163 349.23 28.1376 Q352.876 26.1121 357.615 26.1121 Q365.433 26.1121 369.444 30.9732 Q373.454 35.7938 373.454 45.1919 Z\" fill=\"#000000\" fill-rule=\"nonzero\" fill-opacity=\"1\" /><path clip-path=\"url(#clip010)\" d=\"M411.29 9.54393 L411.29 15.7418 L404.16 15.7418 Q400.15 15.7418 398.57 17.3622 Q397.031 18.9825 397.031 23.1955 L397.031 27.2059 L409.305 27.2059 L409.305 32.9987 L397.031 32.9987 L397.031 72.576 L389.536 72.576 L389.536 32.9987 L382.407 32.9987 L382.407 27.2059 L389.536 27.2059 L389.536 24.0462 Q389.536 16.471 393.061 13.0277 Q396.585 9.54393 404.241 9.54393 L411.29 9.54393 Z\" fill=\"#000000\" fill-rule=\"nonzero\" fill-opacity=\"1\" /><path clip-path=\"url(#clip010)\" d=\"M417.528 9.54393 L424.982 9.54393 L424.982 72.576 L417.528 72.576 L417.528 9.54393 Z\" fill=\"#000000\" fill-rule=\"nonzero\" fill-opacity=\"1\" /><path clip-path=\"url(#clip010)\" d=\"M439.808 54.671 L439.808 27.2059 L447.262 27.2059 L447.262 54.3874 Q447.262 60.8284 449.773 64.0691 Q452.285 67.2693 457.308 67.2693 Q463.344 67.2693 466.828 63.421 Q470.352 59.5726 470.352 52.9291 L470.352 27.2059 L477.806 27.2059 L477.806 72.576 L470.352 72.576 L470.352 65.6084 Q467.638 69.7404 464.033 71.7658 Q460.468 73.7508 455.728 73.7508 Q447.91 73.7508 443.859 68.8897 Q439.808 64.0286 439.808 54.671 M458.564 26.1121 L458.564 26.1121 Z\" fill=\"#000000\" fill-rule=\"nonzero\" fill-opacity=\"1\" /><path clip-path=\"url(#clip010)\" d=\"M531.966 48.0275 L531.966 51.6733 L497.696 51.6733 Q498.182 59.3701 502.314 63.421 Q506.486 67.4314 513.899 67.4314 Q518.193 67.4314 522.203 66.3781 Q526.254 65.3249 530.224 63.2184 L530.224 70.267 Q526.214 71.9684 522.001 72.8596 Q517.788 73.7508 513.454 73.7508 Q502.597 73.7508 496.237 67.4314 Q489.918 61.1119 489.918 50.3365 Q489.918 39.1965 495.913 32.6746 Q501.949 26.1121 512.157 26.1121 Q521.312 26.1121 526.619 32.0264 Q531.966 37.9003 531.966 48.0275 M524.513 45.84 Q524.431 39.7232 521.069 36.0774 Q517.747 32.4315 512.238 32.4315 Q506 32.4315 502.233 35.9558 Q498.506 39.4801 497.939 45.8805 L524.513 45.84 Z\" fill=\"#000000\" fill-rule=\"nonzero\" fill-opacity=\"1\" /><path clip-path=\"url(#clip010)\" d=\"M581.914 45.1919 L581.914 72.576 L574.46 72.576 L574.46 45.4349 Q574.46 38.994 571.949 35.7938 Q569.437 32.5936 564.414 32.5936 Q558.378 32.5936 554.894 36.4419 Q551.411 40.2903 551.411 46.9338 L551.411 72.576 L543.916 72.576 L543.916 27.2059 L551.411 27.2059 L551.411 34.2544 Q554.084 30.163 557.689 28.1376 Q561.335 26.1121 566.075 26.1121 Q573.893 26.1121 577.903 30.9732 Q581.914 35.7938 581.914 45.1919 Z\" fill=\"#000000\" fill-rule=\"nonzero\" fill-opacity=\"1\" /><path clip-path=\"url(#clip010)\" d=\"M629.431 28.9478 L629.431 35.9153 Q626.271 34.1734 623.071 33.3227 Q619.911 32.4315 616.671 32.4315 Q609.419 32.4315 605.409 37.0496 Q601.399 41.6271 601.399 49.9314 Q601.399 58.2358 605.409 62.8538 Q609.419 67.4314 616.671 67.4314 Q619.911 67.4314 623.071 66.5807 Q626.271 65.6895 629.431 63.9476 L629.431 70.8341 Q626.312 72.2924 622.949 73.0216 Q619.628 73.7508 615.86 73.7508 Q605.612 73.7508 599.576 67.3098 Q593.54 60.8689 593.54 49.9314 Q593.54 38.832 599.616 32.472 Q605.733 26.1121 616.347 26.1121 Q619.79 26.1121 623.071 26.8413 Q626.352 27.5299 629.431 28.9478 Z\" fill=\"#000000\" fill-rule=\"nonzero\" fill-opacity=\"1\" /><path clip-path=\"url(#clip010)\" d=\"M681.201 48.0275 L681.201 51.6733 L646.931 51.6733 Q647.417 59.3701 651.549 63.421 Q655.721 67.4314 663.134 67.4314 Q667.428 67.4314 671.439 66.3781 Q675.49 65.3249 679.46 63.2184 L679.46 70.267 Q675.449 71.9684 671.236 72.8596 Q667.023 73.7508 662.689 73.7508 Q651.832 73.7508 645.473 67.4314 Q639.153 61.1119 639.153 50.3365 Q639.153 39.1965 645.148 32.6746 Q651.184 26.1121 661.393 26.1121 Q670.548 26.1121 675.854 32.0264 Q681.201 37.9003 681.201 48.0275 M673.748 45.84 Q673.667 39.7232 670.305 36.0774 Q666.983 32.4315 661.474 32.4315 Q655.235 32.4315 651.468 35.9558 Q647.741 39.4801 647.174 45.8805 L673.748 45.84 Z\" fill=\"#000000\" fill-rule=\"nonzero\" fill-opacity=\"1\" /><path clip-path=\"url(#clip010)\" d=\"M737.388 32.4315 Q731.392 32.4315 727.908 37.1306 Q724.425 41.7891 724.425 49.9314 Q724.425 58.0738 727.868 62.7728 Q731.352 67.4314 737.388 67.4314 Q743.342 67.4314 746.826 62.7323 Q750.31 58.0333 750.31 49.9314 Q750.31 41.8701 746.826 37.1711 Q743.342 32.4315 737.388 32.4315 M737.388 26.1121 Q747.11 26.1121 752.659 32.4315 Q758.209 38.7509 758.209 49.9314 Q758.209 61.0714 752.659 67.4314 Q747.11 73.7508 737.388 73.7508 Q727.625 73.7508 722.075 67.4314 Q716.566 61.0714 716.566 49.9314 Q716.566 38.7509 722.075 32.4315 Q727.625 26.1121 737.388 26.1121 Z\" fill=\"#000000\" fill-rule=\"nonzero\" fill-opacity=\"1\" /><path clip-path=\"url(#clip010)\" d=\"M793.533 9.54393 L793.533 15.7418 L786.403 15.7418 Q782.393 15.7418 780.813 17.3622 Q779.274 18.9825 779.274 23.1955 L779.274 27.2059 L791.548 27.2059 L791.548 32.9987 L779.274 32.9987 L779.274 72.576 L771.78 72.576 L771.78 32.9987 L764.65 32.9987 L764.65 27.2059 L771.78 27.2059 L771.78 24.0462 Q771.78 16.471 775.304 13.0277 Q778.828 9.54393 786.484 9.54393 L793.533 9.54393 Z\" fill=\"#000000\" fill-rule=\"nonzero\" fill-opacity=\"1\" /><path clip-path=\"url(#clip010)\" d=\"M833.353 65.7705 L833.353 89.8329 L825.859 89.8329 L825.859 27.2059 L833.353 27.2059 L833.353 34.0924 Q835.703 30.0415 839.268 28.0971 Q842.873 26.1121 847.856 26.1121 Q856.12 26.1121 861.264 32.6746 Q866.449 39.2371 866.449 49.9314 Q866.449 60.6258 861.264 67.1883 Q856.12 73.7508 847.856 73.7508 Q842.873 73.7508 839.268 71.8063 Q835.703 69.8214 833.353 65.7705 M858.712 49.9314 Q858.712 41.7081 855.309 37.0496 Q851.947 32.3505 846.033 32.3505 Q840.118 32.3505 836.716 37.0496 Q833.353 41.7081 833.353 49.9314 Q833.353 58.1548 836.716 62.8538 Q840.118 67.5124 846.033 67.5124 Q851.947 67.5124 855.309 62.8538 Q858.712 58.1548 858.712 49.9314 Z\" fill=\"#000000\" fill-rule=\"nonzero\" fill-opacity=\"1\" /><path clip-path=\"url(#clip010)\" d=\"M878.805 27.2059 L886.258 27.2059 L886.258 72.576 L878.805 72.576 L878.805 27.2059 M878.805 9.54393 L886.258 9.54393 L886.258 18.9825 L878.805 18.9825 L878.805 9.54393 Z\" fill=\"#000000\" fill-rule=\"nonzero\" fill-opacity=\"1\" /><path clip-path=\"url(#clip010)\" d=\"M928.145 34.1734 Q926.889 33.4443 925.39 33.1202 Q923.932 32.7556 922.149 32.7556 Q915.83 32.7556 912.427 36.8875 Q909.065 40.9789 909.065 48.6757 L909.065 72.576 L901.571 72.576 L901.571 27.2059 L909.065 27.2059 L909.065 34.2544 Q911.414 30.1225 915.182 28.1376 Q918.949 26.1121 924.337 26.1121 Q925.106 26.1121 926.038 26.2337 Q926.97 26.3147 928.104 26.5172 L928.145 34.1734 Z\" fill=\"#000000\" fill-rule=\"nonzero\" fill-opacity=\"1\" /><path clip-path=\"url(#clip010)\" d=\"M956.582 49.7694 Q947.548 49.7694 944.065 51.8354 Q940.581 53.9013 940.581 58.8839 Q940.581 62.8538 943.173 65.2034 Q945.807 67.5124 950.303 67.5124 Q956.501 67.5124 960.228 63.1374 Q963.995 58.7219 963.995 51.4303 L963.995 49.7694 L956.582 49.7694 M971.449 46.6907 L971.449 72.576 L963.995 72.576 L963.995 65.6895 Q961.443 69.8214 957.635 71.8063 Q953.827 73.7508 948.318 73.7508 Q941.351 73.7508 937.219 69.8619 Q933.127 65.9325 933.127 59.3701 Q933.127 51.7138 938.231 47.825 Q943.376 43.9361 953.544 43.9361 L963.995 43.9361 L963.995 43.2069 Q963.995 38.0623 960.592 35.2672 Q957.23 32.4315 951.113 32.4315 Q947.224 32.4315 943.538 33.3632 Q939.852 34.295 936.449 36.1584 L936.449 29.2718 Q940.54 27.692 944.389 26.9223 Q948.237 26.1121 951.883 26.1121 Q961.727 26.1121 966.588 31.2163 Q971.449 36.3204 971.449 46.6907 Z\" fill=\"#000000\" fill-rule=\"nonzero\" fill-opacity=\"1\" /><path clip-path=\"url(#clip010)\" d=\"M994.174 14.324 L994.174 27.2059 L1009.53 27.2059 L1009.53 32.9987 L994.174 32.9987 L994.174 57.6282 Q994.174 63.1779 995.673 64.7578 Q997.213 66.3376 1001.87 66.3376 L1009.53 66.3376 L1009.53 72.576 L1001.87 72.576 Q993.243 72.576 989.961 69.3758 Q986.68 66.1351 986.68 57.6282 L986.68 32.9987 L981.211 32.9987 L981.211 27.2059 L986.68 27.2059 L986.68 14.324 L994.174 14.324 Z\" fill=\"#000000\" fill-rule=\"nonzero\" fill-opacity=\"1\" /><path clip-path=\"url(#clip010)\" d=\"M1058.14 48.0275 L1058.14 51.6733 L1023.87 51.6733 Q1024.35 59.3701 1028.49 63.421 Q1032.66 67.4314 1040.07 67.4314 Q1044.37 67.4314 1048.38 66.3781 Q1052.43 65.3249 1056.4 63.2184 L1056.4 70.267 Q1052.39 71.9684 1048.17 72.8596 Q1043.96 73.7508 1039.63 73.7508 Q1028.77 73.7508 1022.41 67.4314 Q1016.09 61.1119 1016.09 50.3365 Q1016.09 39.1965 1022.09 32.6746 Q1028.12 26.1121 1038.33 26.1121 Q1047.48 26.1121 1052.79 32.0264 Q1058.14 37.9003 1058.14 48.0275 M1050.68 45.84 Q1050.6 39.7232 1047.24 36.0774 Q1043.92 32.4315 1038.41 32.4315 Q1032.17 32.4315 1028.4 35.9558 Q1024.68 39.4801 1024.11 45.8805 L1050.68 45.84 Z\" fill=\"#000000\" fill-rule=\"nonzero\" fill-opacity=\"1\" /><path clip-path=\"url(#clip010)\" d=\"M1103.95 65.7705 L1103.95 89.8329 L1096.46 89.8329 L1096.46 27.2059 L1103.95 27.2059 L1103.95 34.0924 Q1106.3 30.0415 1109.87 28.0971 Q1113.47 26.1121 1118.46 26.1121 Q1126.72 26.1121 1131.86 32.6746 Q1137.05 39.2371 1137.05 49.9314 Q1137.05 60.6258 1131.86 67.1883 Q1126.72 73.7508 1118.46 73.7508 Q1113.47 73.7508 1109.87 71.8063 Q1106.3 69.8214 1103.95 65.7705 M1129.31 49.9314 Q1129.31 41.7081 1125.91 37.0496 Q1122.55 32.3505 1116.63 32.3505 Q1110.72 32.3505 1107.32 37.0496 Q1103.95 41.7081 1103.95 49.9314 Q1103.95 58.1548 1107.32 62.8538 Q1110.72 67.5124 1116.63 67.5124 Q1122.55 67.5124 1125.91 62.8538 Q1129.31 58.1548 1129.31 49.9314 Z\" fill=\"#000000\" fill-rule=\"nonzero\" fill-opacity=\"1\" /><path clip-path=\"url(#clip010)\" d=\"M1166.99 32.4315 Q1160.99 32.4315 1157.51 37.1306 Q1154.02 41.7891 1154.02 49.9314 Q1154.02 58.0738 1157.47 62.7728 Q1160.95 67.4314 1166.99 67.4314 Q1172.94 67.4314 1176.42 62.7323 Q1179.91 58.0333 1179.91 49.9314 Q1179.91 41.8701 1176.42 37.1711 Q1172.94 32.4315 1166.99 32.4315 M1166.99 26.1121 Q1176.71 26.1121 1182.26 32.4315 Q1187.81 38.7509 1187.81 49.9314 Q1187.81 61.0714 1182.26 67.4314 Q1176.71 73.7508 1166.99 73.7508 Q1157.22 73.7508 1151.67 67.4314 Q1146.16 61.0714 1146.16 49.9314 Q1146.16 38.7509 1151.67 32.4315 Q1157.22 26.1121 1166.99 26.1121 Z\" fill=\"#000000\" fill-rule=\"nonzero\" fill-opacity=\"1\" /><path clip-path=\"url(#clip010)\" d=\"M1207.37 65.7705 L1207.37 89.8329 L1199.88 89.8329 L1199.88 27.2059 L1207.37 27.2059 L1207.37 34.0924 Q1209.72 30.0415 1213.29 28.0971 Q1216.89 26.1121 1221.88 26.1121 Q1230.14 26.1121 1235.28 32.6746 Q1240.47 39.2371 1240.47 49.9314 Q1240.47 60.6258 1235.28 67.1883 Q1230.14 73.7508 1221.88 73.7508 Q1216.89 73.7508 1213.29 71.8063 Q1209.72 69.8214 1207.37 65.7705 M1232.73 49.9314 Q1232.73 41.7081 1229.33 37.0496 Q1225.97 32.3505 1220.05 32.3505 Q1214.14 32.3505 1210.74 37.0496 Q1207.37 41.7081 1207.37 49.9314 Q1207.37 58.1548 1210.74 62.8538 Q1214.14 67.5124 1220.05 67.5124 Q1225.97 67.5124 1229.33 62.8538 Q1232.73 58.1548 1232.73 49.9314 Z\" fill=\"#000000\" fill-rule=\"nonzero\" fill-opacity=\"1\" /><path clip-path=\"url(#clip010)\" d=\"M1252.05 54.671 L1252.05 27.2059 L1259.51 27.2059 L1259.51 54.3874 Q1259.51 60.8284 1262.02 64.0691 Q1264.53 67.2693 1269.55 67.2693 Q1275.59 67.2693 1279.07 63.421 Q1282.6 59.5726 1282.6 52.9291 L1282.6 27.2059 L1290.05 27.2059 L1290.05 72.576 L1282.6 72.576 L1282.6 65.6084 Q1279.88 69.7404 1276.28 71.7658 Q1272.71 73.7508 1267.97 73.7508 Q1260.16 73.7508 1256.11 68.8897 Q1252.05 64.0286 1252.05 54.671 M1270.81 26.1121 L1270.81 26.1121 Z\" fill=\"#000000\" fill-rule=\"nonzero\" fill-opacity=\"1\" /><path clip-path=\"url(#clip010)\" d=\"M1305.41 9.54393 L1312.86 9.54393 L1312.86 72.576 L1305.41 72.576 L1305.41 9.54393 Z\" fill=\"#000000\" fill-rule=\"nonzero\" fill-opacity=\"1\" /><path clip-path=\"url(#clip010)\" d=\"M1349.07 49.7694 Q1340.04 49.7694 1336.56 51.8354 Q1333.07 53.9013 1333.07 58.8839 Q1333.07 62.8538 1335.67 65.2034 Q1338.3 67.5124 1342.8 67.5124 Q1348.99 67.5124 1352.72 63.1374 Q1356.49 58.7219 1356.49 51.4303 L1356.49 49.7694 L1349.07 49.7694 M1363.94 46.6907 L1363.94 72.576 L1356.49 72.576 L1356.49 65.6895 Q1353.94 69.8214 1350.13 71.8063 Q1346.32 73.7508 1340.81 73.7508 Q1333.84 73.7508 1329.71 69.8619 Q1325.62 65.9325 1325.62 59.3701 Q1325.62 51.7138 1330.72 47.825 Q1335.87 43.9361 1346.04 43.9361 L1356.49 43.9361 L1356.49 43.2069 Q1356.49 38.0623 1353.08 35.2672 Q1349.72 32.4315 1343.61 32.4315 Q1339.72 32.4315 1336.03 33.3632 Q1332.34 34.295 1328.94 36.1584 L1328.94 29.2718 Q1333.03 27.692 1336.88 26.9223 Q1340.73 26.1121 1344.38 26.1121 Q1354.22 26.1121 1359.08 31.2163 Q1363.94 36.3204 1363.94 46.6907 Z\" fill=\"#000000\" fill-rule=\"nonzero\" fill-opacity=\"1\" /><path clip-path=\"url(#clip010)\" d=\"M1386.67 14.324 L1386.67 27.2059 L1402.02 27.2059 L1402.02 32.9987 L1386.67 32.9987 L1386.67 57.6282 Q1386.67 63.1779 1388.17 64.7578 Q1389.7 66.3376 1394.36 66.3376 L1402.02 66.3376 L1402.02 72.576 L1394.36 72.576 Q1385.73 72.576 1382.45 69.3758 Q1379.17 66.1351 1379.17 57.6282 L1379.17 32.9987 L1373.7 32.9987 L1373.7 27.2059 L1379.17 27.2059 L1379.17 14.324 L1386.67 14.324 Z\" fill=\"#000000\" fill-rule=\"nonzero\" fill-opacity=\"1\" /><path clip-path=\"url(#clip010)\" d=\"M1411.82 27.2059 L1419.28 27.2059 L1419.28 72.576 L1411.82 72.576 L1411.82 27.2059 M1411.82 9.54393 L1419.28 9.54393 L1419.28 18.9825 L1411.82 18.9825 L1411.82 9.54393 Z\" fill=\"#000000\" fill-rule=\"nonzero\" fill-opacity=\"1\" /><path clip-path=\"url(#clip010)\" d=\"M1452.45 32.4315 Q1446.46 32.4315 1442.97 37.1306 Q1439.49 41.7891 1439.49 49.9314 Q1439.49 58.0738 1442.93 62.7728 Q1446.42 67.4314 1452.45 67.4314 Q1458.41 67.4314 1461.89 62.7323 Q1465.38 58.0333 1465.38 49.9314 Q1465.38 41.8701 1461.89 37.1711 Q1458.41 32.4315 1452.45 32.4315 M1452.45 26.1121 Q1462.18 26.1121 1467.73 32.4315 Q1473.27 38.7509 1473.27 49.9314 Q1473.27 61.0714 1467.73 67.4314 Q1462.18 73.7508 1452.45 73.7508 Q1442.69 73.7508 1437.14 67.4314 Q1431.63 61.0714 1431.63 49.9314 Q1431.63 38.7509 1437.14 32.4315 Q1442.69 26.1121 1452.45 26.1121 Z\" fill=\"#000000\" fill-rule=\"nonzero\" fill-opacity=\"1\" /><path clip-path=\"url(#clip010)\" d=\"M1523.34 45.1919 L1523.34 72.576 L1515.89 72.576 L1515.89 45.4349 Q1515.89 38.994 1513.38 35.7938 Q1510.87 32.5936 1505.84 32.5936 Q1499.81 32.5936 1496.32 36.4419 Q1492.84 40.2903 1492.84 46.9338 L1492.84 72.576 L1485.35 72.576 L1485.35 27.2059 L1492.84 27.2059 L1492.84 34.2544 Q1495.51 30.163 1499.12 28.1376 Q1502.77 26.1121 1507.5 26.1121 Q1515.32 26.1121 1519.33 30.9732 Q1523.34 35.7938 1523.34 45.1919 Z\" fill=\"#000000\" fill-rule=\"nonzero\" fill-opacity=\"1\" /><path clip-path=\"url(#clip010)\" d=\"M1582.16 32.4315 Q1576.17 32.4315 1572.68 37.1306 Q1569.2 41.7891 1569.2 49.9314 Q1569.2 58.0738 1572.64 62.7728 Q1576.13 67.4314 1582.16 67.4314 Q1588.12 67.4314 1591.6 62.7323 Q1595.09 58.0333 1595.09 49.9314 Q1595.09 41.8701 1591.6 37.1711 Q1588.12 32.4315 1582.16 32.4315 M1582.16 26.1121 Q1591.89 26.1121 1597.43 32.4315 Q1602.98 38.7509 1602.98 49.9314 Q1602.98 61.0714 1597.43 67.4314 Q1591.89 73.7508 1582.16 73.7508 Q1572.4 73.7508 1566.85 67.4314 Q1561.34 61.0714 1561.34 49.9314 Q1561.34 38.7509 1566.85 32.4315 Q1572.4 26.1121 1582.16 26.1121 Z\" fill=\"#000000\" fill-rule=\"nonzero\" fill-opacity=\"1\" /><path clip-path=\"url(#clip010)\" d=\"M1653.05 45.1919 L1653.05 72.576 L1645.6 72.576 L1645.6 45.4349 Q1645.6 38.994 1643.09 35.7938 Q1640.58 32.5936 1635.55 32.5936 Q1629.52 32.5936 1626.03 36.4419 Q1622.55 40.2903 1622.55 46.9338 L1622.55 72.576 L1615.06 72.576 L1615.06 27.2059 L1622.55 27.2059 L1622.55 34.2544 Q1625.22 30.163 1628.83 28.1376 Q1632.48 26.1121 1637.21 26.1121 Q1645.03 26.1121 1649.04 30.9732 Q1653.05 35.7938 1653.05 45.1919 Z\" fill=\"#000000\" fill-rule=\"nonzero\" fill-opacity=\"1\" /><path clip-path=\"url(#clip010)\" d=\"M1724.15 49.3643 Q1724.15 41.2625 1720.79 36.8065 Q1717.46 32.3505 1711.43 32.3505 Q1705.43 32.3505 1702.07 36.8065 Q1698.75 41.2625 1698.75 49.3643 Q1698.75 57.4256 1702.07 61.8816 Q1705.43 66.3376 1711.43 66.3376 Q1717.46 66.3376 1720.79 61.8816 Q1724.15 57.4256 1724.15 49.3643 M1731.6 66.9452 Q1731.6 78.5308 1726.46 84.1616 Q1721.31 89.8329 1710.7 89.8329 Q1706.77 89.8329 1703.29 89.2252 Q1699.8 88.6581 1696.52 87.4428 L1696.52 80.1917 Q1699.8 81.9741 1703 82.8248 Q1706.2 83.6755 1709.52 83.6755 Q1716.86 83.6755 1720.5 79.8271 Q1724.15 76.0193 1724.15 68.282 L1724.15 64.5957 Q1721.84 68.6061 1718.23 70.5911 Q1714.63 72.576 1709.6 72.576 Q1701.26 72.576 1696.16 66.2161 Q1691.05 59.8562 1691.05 49.3643 Q1691.05 38.832 1696.16 32.472 Q1701.26 26.1121 1709.6 26.1121 Q1714.63 26.1121 1718.23 28.0971 Q1721.84 30.082 1724.15 34.0924 L1724.15 27.2059 L1731.6 27.2059 L1731.6 66.9452 Z\" fill=\"#000000\" fill-rule=\"nonzero\" fill-opacity=\"1\" /><path clip-path=\"url(#clip010)\" d=\"M1746.95 9.54393 L1754.41 9.54393 L1754.41 72.576 L1746.95 72.576 L1746.95 9.54393 Z\" fill=\"#000000\" fill-rule=\"nonzero\" fill-opacity=\"1\" /><path clip-path=\"url(#clip010)\" d=\"M1787.58 32.4315 Q1781.59 32.4315 1778.11 37.1306 Q1774.62 41.7891 1774.62 49.9314 Q1774.62 58.0738 1778.06 62.7728 Q1781.55 67.4314 1787.58 67.4314 Q1793.54 67.4314 1797.02 62.7323 Q1800.51 58.0333 1800.51 49.9314 Q1800.51 41.8701 1797.02 37.1711 Q1793.54 32.4315 1787.58 32.4315 M1787.58 26.1121 Q1797.31 26.1121 1802.86 32.4315 Q1808.41 38.7509 1808.41 49.9314 Q1808.41 61.0714 1802.86 67.4314 Q1797.31 73.7508 1787.58 73.7508 Q1777.82 73.7508 1772.27 67.4314 Q1766.76 61.0714 1766.76 49.9314 Q1766.76 38.7509 1772.27 32.4315 Q1777.82 26.1121 1787.58 26.1121 Z\" fill=\"#000000\" fill-rule=\"nonzero\" fill-opacity=\"1\" /><path clip-path=\"url(#clip010)\" d=\"M1853.33 49.9314 Q1853.33 41.7081 1849.93 37.0496 Q1846.57 32.3505 1840.65 32.3505 Q1834.74 32.3505 1831.33 37.0496 Q1827.97 41.7081 1827.97 49.9314 Q1827.97 58.1548 1831.33 62.8538 Q1834.74 67.5124 1840.65 67.5124 Q1846.57 67.5124 1849.93 62.8538 Q1853.33 58.1548 1853.33 49.9314 M1827.97 34.0924 Q1830.32 30.0415 1833.89 28.0971 Q1837.49 26.1121 1842.47 26.1121 Q1850.74 26.1121 1855.88 32.6746 Q1861.07 39.2371 1861.07 49.9314 Q1861.07 60.6258 1855.88 67.1883 Q1850.74 73.7508 1842.47 73.7508 Q1837.49 73.7508 1833.89 71.8063 Q1830.32 69.8214 1827.97 65.7705 L1827.97 72.576 L1820.48 72.576 L1820.48 9.54393 L1827.97 9.54393 L1827.97 34.0924 Z\" fill=\"#000000\" fill-rule=\"nonzero\" fill-opacity=\"1\" /><path clip-path=\"url(#clip010)\" d=\"M1894.04 49.7694 Q1885.01 49.7694 1881.52 51.8354 Q1878.04 53.9013 1878.04 58.8839 Q1878.04 62.8538 1880.63 65.2034 Q1883.27 67.5124 1887.76 67.5124 Q1893.96 67.5124 1897.69 63.1374 Q1901.46 58.7219 1901.46 51.4303 L1901.46 49.7694 L1894.04 49.7694 M1908.91 46.6907 L1908.91 72.576 L1901.46 72.576 L1901.46 65.6895 Q1898.9 69.8214 1895.1 71.8063 Q1891.29 73.7508 1885.78 73.7508 Q1878.81 73.7508 1874.68 69.8619 Q1870.59 65.9325 1870.59 59.3701 Q1870.59 51.7138 1875.69 47.825 Q1880.84 43.9361 1891 43.9361 L1901.46 43.9361 L1901.46 43.2069 Q1901.46 38.0623 1898.05 35.2672 Q1894.69 32.4315 1888.57 32.4315 Q1884.68 32.4315 1881 33.3632 Q1877.31 34.295 1873.91 36.1584 L1873.91 29.2718 Q1878 27.692 1881.85 26.9223 Q1885.7 26.1121 1889.34 26.1121 Q1899.19 26.1121 1904.05 31.2163 Q1908.91 36.3204 1908.91 46.6907 Z\" fill=\"#000000\" fill-rule=\"nonzero\" fill-opacity=\"1\" /><path clip-path=\"url(#clip010)\" d=\"M1924.26 9.54393 L1931.72 9.54393 L1931.72 72.576 L1924.26 72.576 L1924.26 9.54393 Z\" fill=\"#000000\" fill-rule=\"nonzero\" fill-opacity=\"1\" /><path clip-path=\"url(#clip010)\" d=\"M1969.35 27.2059 L1976.8 27.2059 L1986.12 62.6108 L1995.4 27.2059 L2004.19 27.2059 L2013.5 62.6108 L2022.78 27.2059 L2030.23 27.2059 L2018.36 72.576 L2009.57 72.576 L1999.81 35.3887 L1990.01 72.576 L1981.22 72.576 L1969.35 27.2059 Z\" fill=\"#000000\" fill-rule=\"nonzero\" fill-opacity=\"1\" /><path clip-path=\"url(#clip010)\" d=\"M2062.15 49.7694 Q2053.12 49.7694 2049.64 51.8354 Q2046.15 53.9013 2046.15 58.8839 Q2046.15 62.8538 2048.75 65.2034 Q2051.38 67.5124 2055.88 67.5124 Q2062.07 67.5124 2065.8 63.1374 Q2069.57 58.7219 2069.57 51.4303 L2069.57 49.7694 L2062.15 49.7694 M2077.02 46.6907 L2077.02 72.576 L2069.57 72.576 L2069.57 65.6895 Q2067.02 69.8214 2063.21 71.8063 Q2059.4 73.7508 2053.89 73.7508 Q2046.92 73.7508 2042.79 69.8619 Q2038.7 65.9325 2038.7 59.3701 Q2038.7 51.7138 2043.8 47.825 Q2048.95 43.9361 2059.12 43.9361 L2069.57 43.9361 L2069.57 43.2069 Q2069.57 38.0623 2066.17 35.2672 Q2062.8 32.4315 2056.69 32.4315 Q2052.8 32.4315 2049.11 33.3632 Q2045.42 34.295 2042.02 36.1584 L2042.02 29.2718 Q2046.11 27.692 2049.96 26.9223 Q2053.81 26.1121 2057.46 26.1121 Q2067.3 26.1121 2072.16 31.2163 Q2077.02 36.3204 2077.02 46.6907 Z\" fill=\"#000000\" fill-rule=\"nonzero\" fill-opacity=\"1\" /><path clip-path=\"url(#clip010)\" d=\"M2118.66 34.1734 Q2117.41 33.4443 2115.91 33.1202 Q2114.45 32.7556 2112.67 32.7556 Q2106.35 32.7556 2102.95 36.8875 Q2099.59 40.9789 2099.59 48.6757 L2099.59 72.576 L2092.09 72.576 L2092.09 27.2059 L2099.59 27.2059 L2099.59 34.2544 Q2101.93 30.1225 2105.7 28.1376 Q2109.47 26.1121 2114.86 26.1121 Q2115.63 26.1121 2116.56 26.2337 Q2117.49 26.3147 2118.62 26.5172 L2118.66 34.1734 Z\" fill=\"#000000\" fill-rule=\"nonzero\" fill-opacity=\"1\" /><path clip-path=\"url(#clip010)\" d=\"M2160.35 35.9153 Q2163.14 30.8922 2167.03 28.5022 Q2170.92 26.1121 2176.19 26.1121 Q2183.28 26.1121 2187.13 31.0947 Q2190.97 36.0368 2190.97 45.1919 L2190.97 72.576 L2183.48 72.576 L2183.48 45.4349 Q2183.48 38.913 2181.17 35.7533 Q2178.86 32.5936 2174.12 32.5936 Q2168.33 32.5936 2164.97 36.4419 Q2161.6 40.2903 2161.6 46.9338 L2161.6 72.576 L2154.11 72.576 L2154.11 45.4349 Q2154.11 38.8725 2151.8 35.7533 Q2149.49 32.5936 2144.67 32.5936 Q2138.96 32.5936 2135.6 36.4824 Q2132.24 40.3308 2132.24 46.9338 L2132.24 72.576 L2124.74 72.576 L2124.74 27.2059 L2132.24 27.2059 L2132.24 34.2544 Q2134.79 30.082 2138.35 28.0971 Q2141.92 26.1121 2146.82 26.1121 Q2151.76 26.1121 2155.2 28.6237 Q2158.69 31.1352 2160.35 35.9153 Z\" fill=\"#000000\" fill-rule=\"nonzero\" fill-opacity=\"1\" /><path clip-path=\"url(#clip010)\" d=\"M2205.84 27.2059 L2213.29 27.2059 L2213.29 72.576 L2205.84 72.576 L2205.84 27.2059 M2205.84 9.54393 L2213.29 9.54393 L2213.29 18.9825 L2205.84 18.9825 L2205.84 9.54393 Z\" fill=\"#000000\" fill-rule=\"nonzero\" fill-opacity=\"1\" /><path clip-path=\"url(#clip010)\" d=\"M2266.6 45.1919 L2266.6 72.576 L2259.15 72.576 L2259.15 45.4349 Q2259.15 38.994 2256.64 35.7938 Q2254.13 32.5936 2249.1 32.5936 Q2243.07 32.5936 2239.58 36.4419 Q2236.1 40.2903 2236.1 46.9338 L2236.1 72.576 L2228.61 72.576 L2228.61 27.2059 L2236.1 27.2059 L2236.1 34.2544 Q2238.77 30.163 2242.38 28.1376 Q2246.03 26.1121 2250.76 26.1121 Q2258.58 26.1121 2262.59 30.9732 Q2266.6 35.7938 2266.6 45.1919 Z\" fill=\"#000000\" fill-rule=\"nonzero\" fill-opacity=\"1\" /><path clip-path=\"url(#clip010)\" d=\"M2311.33 49.3643 Q2311.33 41.2625 2307.96 36.8065 Q2304.64 32.3505 2298.61 32.3505 Q2292.61 32.3505 2289.25 36.8065 Q2285.93 41.2625 2285.93 49.3643 Q2285.93 57.4256 2289.25 61.8816 Q2292.61 66.3376 2298.61 66.3376 Q2304.64 66.3376 2307.96 61.8816 Q2311.33 57.4256 2311.33 49.3643 M2318.78 66.9452 Q2318.78 78.5308 2313.63 84.1616 Q2308.49 89.8329 2297.88 89.8329 Q2293.95 89.8329 2290.46 89.2252 Q2286.98 88.6581 2283.7 87.4428 L2283.7 80.1917 Q2286.98 81.9741 2290.18 82.8248 Q2293.38 83.6755 2296.7 83.6755 Q2304.03 83.6755 2307.68 79.8271 Q2311.33 76.0193 2311.33 68.282 L2311.33 64.5957 Q2309.02 68.6061 2305.41 70.5911 Q2301.81 72.576 2296.78 72.576 Q2288.44 72.576 2283.33 66.2161 Q2278.23 59.8562 2278.23 49.3643 Q2278.23 38.832 2283.33 32.472 Q2288.44 26.1121 2296.78 26.1121 Q2301.81 26.1121 2305.41 28.0971 Q2309.02 30.082 2311.33 34.0924 L2311.33 27.2059 L2318.78 27.2059 L2318.78 66.9452 Z\" fill=\"#000000\" fill-rule=\"nonzero\" fill-opacity=\"1\" /><polyline clip-path=\"url(#clip012)\" style=\"stroke:#009af9; stroke-linecap:round; stroke-linejoin:round; stroke-width:4; stroke-opacity:1; fill:none\" points=\"336.351,1374.46 1424.36,1287.71 1641.96,1027.45 2077.16,680.431 2277.36,420.17 2294.03,159.909 \"/>\n",
       "<circle clip-path=\"url(#clip012)\" cx=\"336.351\" cy=\"1374.46\" r=\"14.4\" fill=\"#e26f46\" fill-rule=\"evenodd\" fill-opacity=\"1\" stroke=\"#000000\" stroke-opacity=\"1\" stroke-width=\"3.2\"/>\n",
       "<circle clip-path=\"url(#clip012)\" cx=\"1424.36\" cy=\"1287.71\" r=\"14.4\" fill=\"#e26f46\" fill-rule=\"evenodd\" fill-opacity=\"1\" stroke=\"#000000\" stroke-opacity=\"1\" stroke-width=\"3.2\"/>\n",
       "<circle clip-path=\"url(#clip012)\" cx=\"1641.96\" cy=\"1027.45\" r=\"14.4\" fill=\"#e26f46\" fill-rule=\"evenodd\" fill-opacity=\"1\" stroke=\"#000000\" stroke-opacity=\"1\" stroke-width=\"3.2\"/>\n",
       "<circle clip-path=\"url(#clip012)\" cx=\"2077.16\" cy=\"680.431\" r=\"14.4\" fill=\"#e26f46\" fill-rule=\"evenodd\" fill-opacity=\"1\" stroke=\"#000000\" stroke-opacity=\"1\" stroke-width=\"3.2\"/>\n",
       "<circle clip-path=\"url(#clip012)\" cx=\"2277.36\" cy=\"420.17\" r=\"14.4\" fill=\"#e26f46\" fill-rule=\"evenodd\" fill-opacity=\"1\" stroke=\"#000000\" stroke-opacity=\"1\" stroke-width=\"3.2\"/>\n",
       "<circle clip-path=\"url(#clip012)\" cx=\"2294.03\" cy=\"159.909\" r=\"14.4\" fill=\"#e26f46\" fill-rule=\"evenodd\" fill-opacity=\"1\" stroke=\"#000000\" stroke-opacity=\"1\" stroke-width=\"3.2\"/>\n",
       "<path clip-path=\"url(#clip010)\" d=\"M1937.09 321.906 L2283.58 321.906 L2283.58 166.386 L1937.09 166.386  Z\" fill=\"#ffffff\" fill-rule=\"evenodd\" fill-opacity=\"1\"/>\n",
       "<polyline clip-path=\"url(#clip010)\" style=\"stroke:#000000; stroke-linecap:round; stroke-linejoin:round; stroke-width:4; stroke-opacity:1; fill:none\" points=\"1937.09,321.906 2283.58,321.906 2283.58,166.386 1937.09,166.386 1937.09,321.906 \"/>\n",
       "<polyline clip-path=\"url(#clip010)\" style=\"stroke:#009af9; stroke-linecap:round; stroke-linejoin:round; stroke-width:4; stroke-opacity:1; fill:none\" points=\"1960.15,218.226 2098.49,218.226 \"/>\n",
       "<path clip-path=\"url(#clip010)\" d=\"M2121.55 199.488 L2125.81 199.488 L2125.81 235.506 L2121.55 235.506 L2121.55 199.488 Z\" fill=\"#000000\" fill-rule=\"nonzero\" fill-opacity=\"1\" /><path clip-path=\"url(#clip010)\" d=\"M2134.72 209.58 L2138.98 209.58 L2138.98 235.506 L2134.72 235.506 L2134.72 209.58 M2134.72 199.488 L2138.98 199.488 L2138.98 204.881 L2134.72 204.881 L2134.72 199.488 Z\" fill=\"#000000\" fill-rule=\"nonzero\" fill-opacity=\"1\" /><path clip-path=\"url(#clip010)\" d=\"M2169.44 219.858 L2169.44 235.506 L2165.18 235.506 L2165.18 219.997 Q2165.18 216.317 2163.75 214.488 Q2162.31 212.659 2159.44 212.659 Q2155.99 212.659 2154 214.858 Q2152.01 217.057 2152.01 220.854 L2152.01 235.506 L2147.73 235.506 L2147.73 209.58 L2152.01 209.58 L2152.01 213.608 Q2153.54 211.27 2155.6 210.113 Q2157.68 208.955 2160.39 208.955 Q2164.86 208.955 2167.15 211.733 Q2169.44 214.488 2169.44 219.858 Z\" fill=\"#000000\" fill-rule=\"nonzero\" fill-opacity=\"1\" /><path clip-path=\"url(#clip010)\" d=\"M2200.11 221.479 L2200.11 223.562 L2180.53 223.562 Q2180.81 227.96 2183.17 230.275 Q2185.55 232.566 2189.79 232.566 Q2192.24 232.566 2194.53 231.965 Q2196.85 231.363 2199.12 230.159 L2199.12 234.187 Q2196.82 235.159 2194.42 235.668 Q2192.01 236.178 2189.53 236.178 Q2183.33 236.178 2179.69 232.566 Q2176.08 228.955 2176.08 222.798 Q2176.08 216.432 2179.51 212.705 Q2182.96 208.955 2188.79 208.955 Q2194.02 208.955 2197.06 212.335 Q2200.11 215.692 2200.11 221.479 M2195.85 220.229 Q2195.81 216.733 2193.88 214.65 Q2191.99 212.567 2188.84 212.567 Q2185.27 212.567 2183.12 214.58 Q2180.99 216.594 2180.67 220.252 L2195.85 220.229 Z\" fill=\"#000000\" fill-rule=\"nonzero\" fill-opacity=\"1\" /><circle clip-path=\"url(#clip010)\" cx=\"2029.32\" cy=\"270.066\" r=\"20.48\" fill=\"#e26f46\" fill-rule=\"evenodd\" fill-opacity=\"1\" stroke=\"#000000\" stroke-opacity=\"1\" stroke-width=\"4.55111\"/>\n",
       "<path clip-path=\"url(#clip010)\" d=\"M2125.83 283.457 L2125.83 297.207 L2121.55 297.207 L2121.55 261.42 L2125.83 261.42 L2125.83 265.356 Q2127.17 263.041 2129.21 261.93 Q2131.27 260.795 2134.12 260.795 Q2138.84 260.795 2141.78 264.545 Q2144.74 268.295 2144.74 274.407 Q2144.74 280.518 2141.78 284.268 Q2138.84 288.018 2134.12 288.018 Q2131.27 288.018 2129.21 286.906 Q2127.17 285.772 2125.83 283.457 M2140.32 274.407 Q2140.32 269.707 2138.38 267.045 Q2136.45 264.36 2133.07 264.36 Q2129.7 264.36 2127.75 267.045 Q2125.83 269.707 2125.83 274.407 Q2125.83 279.106 2127.75 281.791 Q2129.7 284.453 2133.07 284.453 Q2136.45 284.453 2138.38 281.791 Q2140.32 279.106 2140.32 274.407 Z\" fill=\"#000000\" fill-rule=\"nonzero\" fill-opacity=\"1\" /><path clip-path=\"url(#clip010)\" d=\"M2161.85 264.407 Q2158.42 264.407 2156.43 267.092 Q2154.44 269.754 2154.44 274.407 Q2154.44 279.059 2156.41 281.744 Q2158.4 284.406 2161.85 284.406 Q2165.25 284.406 2167.24 281.721 Q2169.23 279.036 2169.23 274.407 Q2169.23 269.8 2167.24 267.115 Q2165.25 264.407 2161.85 264.407 M2161.85 260.795 Q2167.4 260.795 2170.57 264.407 Q2173.75 268.018 2173.75 274.407 Q2173.75 280.772 2170.57 284.406 Q2167.4 288.018 2161.85 288.018 Q2156.27 288.018 2153.1 284.406 Q2149.95 280.772 2149.95 274.407 Q2149.95 268.018 2153.1 264.407 Q2156.27 260.795 2161.85 260.795 Z\" fill=\"#000000\" fill-rule=\"nonzero\" fill-opacity=\"1\" /><path clip-path=\"url(#clip010)\" d=\"M2180.81 261.42 L2185.07 261.42 L2185.07 287.346 L2180.81 287.346 L2180.81 261.42 M2180.81 251.328 L2185.07 251.328 L2185.07 256.721 L2180.81 256.721 L2180.81 251.328 Z\" fill=\"#000000\" fill-rule=\"nonzero\" fill-opacity=\"1\" /><path clip-path=\"url(#clip010)\" d=\"M2215.53 271.698 L2215.53 287.346 L2211.27 287.346 L2211.27 271.837 Q2211.27 268.157 2209.83 266.328 Q2208.4 264.499 2205.53 264.499 Q2202.08 264.499 2200.09 266.698 Q2198.1 268.897 2198.1 272.694 L2198.1 287.346 L2193.82 287.346 L2193.82 261.42 L2198.1 261.42 L2198.1 265.448 Q2199.63 263.11 2201.69 261.953 Q2203.77 260.795 2206.48 260.795 Q2210.94 260.795 2213.24 263.573 Q2215.53 266.328 2215.53 271.698 Z\" fill=\"#000000\" fill-rule=\"nonzero\" fill-opacity=\"1\" /><path clip-path=\"url(#clip010)\" d=\"M2228.24 254.059 L2228.24 261.42 L2237.01 261.42 L2237.01 264.731 L2228.24 264.731 L2228.24 278.805 Q2228.24 281.976 2229.09 282.879 Q2229.97 283.781 2232.63 283.781 L2237.01 283.781 L2237.01 287.346 L2232.63 287.346 Q2227.7 287.346 2225.83 285.518 Q2223.95 283.666 2223.95 278.805 L2223.95 264.731 L2220.83 264.731 L2220.83 261.42 L2223.95 261.42 L2223.95 254.059 L2228.24 254.059 Z\" fill=\"#000000\" fill-rule=\"nonzero\" fill-opacity=\"1\" /><path clip-path=\"url(#clip010)\" d=\"M2259.14 262.184 L2259.14 266.212 Q2257.33 265.286 2255.39 264.823 Q2253.44 264.36 2251.36 264.36 Q2248.19 264.36 2246.59 265.333 Q2245.02 266.305 2245.02 268.249 Q2245.02 269.731 2246.15 270.587 Q2247.29 271.42 2250.71 272.184 L2252.17 272.508 Q2256.71 273.481 2258.61 275.263 Q2260.53 277.022 2260.53 280.194 Q2260.53 283.805 2257.66 285.911 Q2254.81 288.018 2249.81 288.018 Q2247.73 288.018 2245.46 287.601 Q2243.21 287.207 2240.71 286.397 L2240.71 281.999 Q2243.07 283.226 2245.37 283.851 Q2247.66 284.453 2249.9 284.453 Q2252.91 284.453 2254.53 283.434 Q2256.15 282.393 2256.15 280.518 Q2256.15 278.782 2254.97 277.856 Q2253.81 276.93 2249.86 276.073 L2248.37 275.726 Q2244.42 274.893 2242.66 273.18 Q2240.9 271.444 2240.9 268.434 Q2240.9 264.777 2243.49 262.786 Q2246.08 260.795 2250.85 260.795 Q2253.21 260.795 2255.3 261.143 Q2257.38 261.49 2259.14 262.184 Z\" fill=\"#000000\" fill-rule=\"nonzero\" fill-opacity=\"1\" /></svg>\n"
      ]
     },
     "execution_count": 15,
     "metadata": {},
     "output_type": "execute_result"
    }
   ],
   "source": [
    "# Generate some data\n",
    "globaltemperatures = [14.4, 14.5, 14.8, 15.2, 15.5, 15.8]\n",
    "numpirates = [45000, 20000, 15000, 5000, 400, 17];\n",
    "\n",
    "# Generate the plot\n",
    "plot(numpirates, globaltemperatures, label=\"line\")\n",
    "scatter!(numpirates, globaltemperatures, label=\"points\")\n",
    "\n",
    "# Add details\n",
    "xlabel!(\"Number of Pirates [Approximate]\")\n",
    "ylabel!(\"Global Temperature (C)\")\n",
    "title!(\"Influence of pirate population on global warming\")\n",
    "\n",
    "# Flip the x axis\n",
    "xflip!()"
   ]
  },
  {
   "cell_type": "markdown",
   "metadata": {},
   "source": [
    "You can reload this chart using the `PlotlyJS` backend (note that you may also need to update [IJulia](https://juliagizmos.github.io/WebIO.jl/latest/providers/ijulia/)):"
   ]
  },
  {
   "cell_type": "code",
   "execution_count": 18,
   "metadata": {},
   "outputs": [
    {
     "name": "stderr",
     "output_type": "stream",
     "text": [
      "\u001b[32m\u001b[1m   Resolving\u001b[22m\u001b[39m package versions...\n",
      "\u001b[32m\u001b[1m  No Changes\u001b[22m\u001b[39m to `~/.julia/environments/v1.10/Project.toml`\n",
      "\u001b[32m\u001b[1m  No Changes\u001b[22m\u001b[39m to `~/.julia/environments/v1.10/Manifest.toml`\n"
     ]
    },
    {
     "data": {
      "application/vnd.plotly.v1+json": {
       "data": [
        {
         "colorbar": {
          "len": 0.8657316272965879,
          "title": "",
          "x": 0.9934383202099737,
          "y": 0.5086805555555556
         },
         "legendgroup": "line",
         "line": {
          "color": "rgba(0, 154, 250, 1.000)",
          "dash": "solid",
          "shape": "linear",
          "width": 1
         },
         "mode": "lines",
         "name": "line",
         "showlegend": true,
         "type": "scatter",
         "x": [
          45000,
          20000,
          15000,
          5000,
          400,
          17
         ],
         "xaxis": "x",
         "y": [
          14.4,
          14.5,
          14.8,
          15.2,
          15.5,
          15.8
         ],
         "yaxis": "y"
        },
        {
         "colorbar": {
          "len": 0.8657316272965879,
          "title": "",
          "x": 0.9934383202099737,
          "y": 0.5086805555555556
         },
         "legendgroup": "points",
         "marker": {
          "color": "rgba(227, 111, 71, 1.000)",
          "line": {
           "color": "rgba(0, 0, 0, 1.000)",
           "width": 1
          },
          "size": 8,
          "symbol": "circle"
         },
         "mode": "markers",
         "name": "points",
         "showlegend": true,
         "type": "scatter",
         "x": [
          45000,
          20000,
          15000,
          5000,
          400,
          17
         ],
         "xaxis": "x",
         "y": [
          14.4,
          14.5,
          14.8,
          15.2,
          15.5,
          15.8
         ],
         "yaxis": "y"
        }
       ],
       "layout": {
        "annotations": [
         {
          "font": {
           "color": "rgba(0, 0, 0, 1.000)",
           "family": "sans-serif",
           "size": 20
          },
          "rotation": 0,
          "showarrow": false,
          "text": "Influence of pirate population on global warming",
          "x": 0.5497685185185185,
          "xanchor": "center",
          "xref": "paper",
          "y": 1,
          "yanchor": "top",
          "yref": "paper"
         }
        ],
        "height": 400,
        "legend": {
         "bgcolor": "rgba(255, 255, 255, 1.000)",
         "bordercolor": "rgba(0, 0, 0, 1.000)",
         "borderwidth": 1,
         "font": {
          "color": "rgba(0, 0, 0, 1.000)",
          "family": "sans-serif",
          "size": 11
         },
         "title": {
          "font": {
           "color": "rgba(0, 0, 0, 1.000)",
           "family": "sans-serif",
           "size": 15
          },
          "text": ""
         },
         "tracegroupgap": 0,
         "traceorder": "normal",
         "x": 1,
         "xanchor": "auto",
         "y": 1,
         "yanchor": "auto"
        },
        "margin": {
         "b": 20,
         "l": 0,
         "r": 0,
         "t": 20
        },
        "paper_bgcolor": "rgba(255, 255, 255, 1.000)",
        "plot_bgcolor": "rgba(255, 255, 255, 1.000)",
        "showlegend": true,
        "width": 600,
        "xaxis": {
         "anchor": "y",
         "domain": [
          0.10609871682706327,
          0.9934383202099737
         ],
         "gridcolor": "rgba(0, 0, 0, 0.100)",
         "gridwidth": 0.5,
         "linecolor": "rgba(0, 0, 0, 1.000)",
         "mirror": false,
         "range": [
          46349.490000000005,
          -1332.4900000000016
         ],
         "showgrid": true,
         "showline": true,
         "showticklabels": true,
         "tickangle": 0,
         "tickcolor": "rgb(0, 0, 0)",
         "tickfont": {
          "color": "rgba(0, 0, 0, 1.000)",
          "family": "sans-serif",
          "size": 11
         },
         "tickmode": "array",
         "ticks": "inside",
         "ticktext": [
          "0",
          "1.0×10⁴",
          "2.0×10⁴",
          "3.0×10⁴",
          "4.0×10⁴"
         ],
         "tickvals": [
          0,
          10000,
          20000,
          30000,
          40000
         ],
         "title": "Number of Pirates [Approximate]",
         "titlefont": {
          "color": "rgba(0, 0, 0, 1.000)",
          "family": "sans-serif",
          "size": 15
         },
         "type": "-",
         "visible": true,
         "zeroline": false,
         "zerolinecolor": "rgba(0, 0, 0, 1.000)"
        },
        "yaxis": {
         "anchor": "x",
         "domain": [
          0.07581474190726165,
          0.9415463692038496
         ],
         "gridcolor": "rgba(0, 0, 0, 0.100)",
         "gridwidth": 0.5,
         "linecolor": "rgba(0, 0, 0, 1.000)",
         "mirror": false,
         "range": [
          14.358,
          15.842000000000002
         ],
         "showgrid": true,
         "showline": true,
         "showticklabels": true,
         "tickangle": 0,
         "tickcolor": "rgb(0, 0, 0)",
         "tickfont": {
          "color": "rgba(0, 0, 0, 1.000)",
          "family": "sans-serif",
          "size": 11
         },
         "tickmode": "array",
         "ticks": "inside",
         "ticktext": [
          "14.50",
          "14.75",
          "15.00",
          "15.25",
          "15.50",
          "15.75"
         ],
         "tickvals": [
          14.5,
          14.75,
          15,
          15.25,
          15.5,
          15.75
         ],
         "title": "Global Temperature (C)",
         "titlefont": {
          "color": "rgba(0, 0, 0, 1.000)",
          "family": "sans-serif",
          "size": 15
         },
         "type": "-",
         "visible": true,
         "zeroline": false,
         "zerolinecolor": "rgba(0, 0, 0, 1.000)"
        }
       }
      },
      "image/png": "[encoded data removed]",
      "image/svg+xml": [
       "<svg class=\"main-svg\" xmlns=\"http://www.w3.org/2000/svg\" xmlns:xlink=\"http://www.w3.org/1999/xlink\" width=\"700\" height=\"500\" style=\"\" viewBox=\"0 0 700 500\"><rect x=\"0\" y=\"0\" width=\"700\" height=\"500\" style=\"fill: rgb(255, 255, 255); fill-opacity: 1;\"/><defs id=\"defs-68df47\"><g class=\"clips\"><clipPath id=\"clip68df47xyplot\" class=\"plotclip\"><rect width=\"532.4037620297462\" height=\"337.6353346456693\"/></clipPath><clipPath class=\"axesclip\" id=\"clip68df47x\"><rect x=\"113.65923009623796\" y=\"0\" width=\"532.4037620297462\" height=\"500\"/></clipPath><clipPath class=\"axesclip\" id=\"clip68df47y\"><rect x=\"0\" y=\"82.79691601049865\" width=\"700\" height=\"337.6353346456693\"/></clipPath><clipPath class=\"axesclip\" id=\"clip68df47xy\"><rect x=\"113.65923009623796\" y=\"82.79691601049865\" width=\"532.4037620297462\" height=\"337.6353346456693\"/></clipPath></g><g class=\"gradients\"/></defs><g class=\"bglayer\"/><g class=\"layer-below\"><g class=\"imagelayer\"/><g class=\"shapelayer\"/></g><g class=\"cartesianlayer\"><g class=\"subplot xy\"><g class=\"layer-subplot\"><g class=\"shapelayer\"/><g class=\"imagelayer\"/></g><g class=\"gridlayer\"><g class=\"x\"><path class=\"xgrid crisp\" transform=\"translate(631.1892300962379,0)\" d=\"M0,82.79691601049865v337.6353346456693\" style=\"stroke: rgb(0, 0, 0); stroke-opacity: 0.1; stroke-width: 0.5px;\"/><path class=\"xgrid crisp\" transform=\"translate(519.5292300962379,0)\" d=\"M0,82.79691601049865v337.6353346456693\" style=\"stroke: rgb(0, 0, 0); stroke-opacity: 0.1; stroke-width: 0.5px;\"/><path class=\"xgrid crisp\" transform=\"translate(407.86923009623797,0)\" d=\"M0,82.79691601049865v337.6353346456693\" style=\"stroke: rgb(0, 0, 0); stroke-opacity: 0.1; stroke-width: 0.5px;\"/><path class=\"xgrid crisp\" transform=\"translate(296.209230096238,0)\" d=\"M0,82.79691601049865v337.6353346456693\" style=\"stroke: rgb(0, 0, 0); stroke-opacity: 0.1; stroke-width: 0.5px;\"/><path class=\"xgrid crisp\" transform=\"translate(184.55923009623797,0)\" d=\"M0,82.79691601049865v337.6353346456693\" style=\"stroke: rgb(0, 0, 0); stroke-opacity: 0.1; stroke-width: 0.5px;\"/></g><g class=\"y\"><path class=\"ygrid crisp\" transform=\"translate(0,388.12691601049863)\" d=\"M113.65923009623796,0h532.4037620297462\" style=\"stroke: rgb(0, 0, 0); stroke-opacity: 0.1; stroke-width: 0.5px;\"/><path class=\"ygrid crisp\" transform=\"translate(0,331.24691601049864)\" d=\"M113.65923009623796,0h532.4037620297462\" style=\"stroke: rgb(0, 0, 0); stroke-opacity: 0.1; stroke-width: 0.5px;\"/><path class=\"ygrid crisp\" transform=\"translate(0,274.36691601049864)\" d=\"M113.65923009623796,0h532.4037620297462\" style=\"stroke: rgb(0, 0, 0); stroke-opacity: 0.1; stroke-width: 0.5px;\"/><path class=\"ygrid crisp\" transform=\"translate(0,217.48691601049865)\" d=\"M113.65923009623796,0h532.4037620297462\" style=\"stroke: rgb(0, 0, 0); stroke-opacity: 0.1; stroke-width: 0.5px;\"/><path class=\"ygrid crisp\" transform=\"translate(0,160.60691601049865)\" d=\"M113.65923009623796,0h532.4037620297462\" style=\"stroke: rgb(0, 0, 0); stroke-opacity: 0.1; stroke-width: 0.5px;\"/><path class=\"ygrid crisp\" transform=\"translate(0,103.72691601049866)\" d=\"M113.65923009623796,0h532.4037620297462\" style=\"stroke: rgb(0, 0, 0); stroke-opacity: 0.1; stroke-width: 0.5px;\"/></g></g><g class=\"zerolinelayer\"/><path class=\"xlines-below\"/><path class=\"ylines-below\"/><g class=\"overlines-below\"/><g class=\"xaxislayer-below\"/><g class=\"yaxislayer-below\"/><g class=\"overaxes-below\"/><g class=\"plot\" transform=\"translate(113.65923009623796,82.79691601049865)\" clip-path=\"url('#clip68df47xyplot')\"><g class=\"scatterlayer mlayer\"><g class=\"trace scatter trace8ab2ee\" style=\"stroke-miterlimit: 2; opacity: 1;\"><g class=\"fills\"/><g class=\"errorbars\"/><g class=\"lines\"><path class=\"js-line\" d=\"M15.07,328.08L294.21,305.33L350.04,237.07L461.7,146.07L513.06,77.81L517.34,9.56\" style=\"vector-effect: non-scaling-stroke; fill: none; stroke: rgb(0, 154, 250); stroke-opacity: 1; stroke-width: 1px; opacity: 1;\"/></g><g class=\"points\"/><g class=\"text\"/></g><g class=\"trace scatter trace9f0b1e\" style=\"stroke-miterlimit: 2; opacity: 1;\"><g class=\"fills\"/><g class=\"errorbars\"/><g class=\"lines\"/><g class=\"points\"><path class=\"point\" transform=\"translate(15.07,328.08)\" d=\"M4,0A4,4 0 1,1 0,-4A4,4 0 0,1 4,0Z\" style=\"opacity: 1; stroke-width: 1px; fill: rgb(227, 111, 71); fill-opacity: 1; stroke: rgb(0, 0, 0); stroke-opacity: 1;\"/><path class=\"point\" transform=\"translate(294.21,305.33)\" d=\"M4,0A4,4 0 1,1 0,-4A4,4 0 0,1 4,0Z\" style=\"opacity: 1; stroke-width: 1px; fill: rgb(227, 111, 71); fill-opacity: 1; stroke: rgb(0, 0, 0); stroke-opacity: 1;\"/><path class=\"point\" transform=\"translate(350.04,237.07)\" d=\"M4,0A4,4 0 1,1 0,-4A4,4 0 0,1 4,0Z\" style=\"opacity: 1; stroke-width: 1px; fill: rgb(227, 111, 71); fill-opacity: 1; stroke: rgb(0, 0, 0); stroke-opacity: 1;\"/><path class=\"point\" transform=\"translate(461.7,146.07)\" d=\"M4,0A4,4 0 1,1 0,-4A4,4 0 0,1 4,0Z\" style=\"opacity: 1; stroke-width: 1px; fill: rgb(227, 111, 71); fill-opacity: 1; stroke: rgb(0, 0, 0); stroke-opacity: 1;\"/><path class=\"point\" transform=\"translate(513.06,77.81)\" d=\"M4,0A4,4 0 1,1 0,-4A4,4 0 0,1 4,0Z\" style=\"opacity: 1; stroke-width: 1px; fill: rgb(227, 111, 71); fill-opacity: 1; stroke: rgb(0, 0, 0); stroke-opacity: 1;\"/><path class=\"point\" transform=\"translate(517.34,9.56)\" d=\"M4,0A4,4 0 1,1 0,-4A4,4 0 0,1 4,0Z\" style=\"opacity: 1; stroke-width: 1px; fill: rgb(227, 111, 71); fill-opacity: 1; stroke: rgb(0, 0, 0); stroke-opacity: 1;\"/></g><g class=\"text\"/></g></g></g><g class=\"overplot\"/><path class=\"xlines-above crisp\" d=\"M112.65923009623796,420.9322506561679H646.0629921259841\" style=\"fill: none; stroke-width: 1px; stroke: rgb(0, 0, 0); stroke-opacity: 1;\"/><path class=\"ylines-above crisp\" d=\"M113.15923009623796,82.79691601049865V420.4322506561679\" style=\"fill: none; stroke-width: 1px; stroke: rgb(0, 0, 0); stroke-opacity: 1;\"/><g class=\"overlines-above\"/><g class=\"xaxislayer-above\"><path class=\"xtick ticks crisp\" d=\"M0,420.4322506561679v-5\" transform=\"translate(631.1892300962379,0)\" style=\"stroke: rgb(0, 0, 0); stroke-opacity: 1; stroke-width: 1px;\"/><path class=\"xtick ticks crisp\" d=\"M0,420.4322506561679v-5\" transform=\"translate(519.5292300962379,0)\" style=\"stroke: rgb(0, 0, 0); stroke-opacity: 1; stroke-width: 1px;\"/><path class=\"xtick ticks crisp\" d=\"M0,420.4322506561679v-5\" transform=\"translate(407.86923009623797,0)\" style=\"stroke: rgb(0, 0, 0); stroke-opacity: 1; stroke-width: 1px;\"/><path class=\"xtick ticks crisp\" d=\"M0,420.4322506561679v-5\" transform=\"translate(296.209230096238,0)\" style=\"stroke: rgb(0, 0, 0); stroke-opacity: 1; stroke-width: 1px;\"/><path class=\"xtick ticks crisp\" d=\"M0,420.4322506561679v-5\" transform=\"translate(184.55923009623797,0)\" style=\"stroke: rgb(0, 0, 0); stroke-opacity: 1; stroke-width: 1px;\"/><g class=\"xtick\"><text text-anchor=\"middle\" x=\"0\" y=\"434.6322506561679\" transform=\"translate(631.1892300962379,0)\" style=\"font-family: sans-serif; font-size: 11px; fill: rgb(0, 0, 0); fill-opacity: 1; white-space: pre;\">0</text></g><g class=\"xtick\"><text text-anchor=\"middle\" x=\"0\" y=\"434.6322506561679\" transform=\"translate(519.5292300962379,0)\" style=\"font-family: sans-serif; font-size: 11px; fill: rgb(0, 0, 0); fill-opacity: 1; white-space: pre;\">1.0×10⁴</text></g><g class=\"xtick\"><text text-anchor=\"middle\" x=\"0\" y=\"434.6322506561679\" transform=\"translate(407.86923009623797,0)\" style=\"font-family: sans-serif; font-size: 11px; fill: rgb(0, 0, 0); fill-opacity: 1; white-space: pre;\">2.0×10⁴</text></g><g class=\"xtick\"><text text-anchor=\"middle\" x=\"0\" y=\"434.6322506561679\" transform=\"translate(296.209230096238,0)\" style=\"font-family: sans-serif; font-size: 11px; fill: rgb(0, 0, 0); fill-opacity: 1; white-space: pre;\">3.0×10⁴</text></g><g class=\"xtick\"><text text-anchor=\"middle\" x=\"0\" y=\"434.6322506561679\" transform=\"translate(184.55923009623797,0)\" style=\"font-family: sans-serif; font-size: 11px; fill: rgb(0, 0, 0); fill-opacity: 1; white-space: pre;\">4.0×10⁴</text></g></g><g class=\"yaxislayer-above\"><path class=\"ytick ticks crisp\" d=\"M113.65923009623796,0h5\" transform=\"translate(0,388.12691601049863)\" style=\"stroke: rgb(0, 0, 0); stroke-opacity: 1; stroke-width: 1px;\"/><path class=\"ytick ticks crisp\" d=\"M113.65923009623796,0h5\" transform=\"translate(0,331.24691601049864)\" style=\"stroke: rgb(0, 0, 0); stroke-opacity: 1; stroke-width: 1px;\"/><path class=\"ytick ticks crisp\" d=\"M113.65923009623796,0h5\" transform=\"translate(0,274.36691601049864)\" style=\"stroke: rgb(0, 0, 0); stroke-opacity: 1; stroke-width: 1px;\"/><path class=\"ytick ticks crisp\" d=\"M113.65923009623796,0h5\" transform=\"translate(0,217.48691601049865)\" style=\"stroke: rgb(0, 0, 0); stroke-opacity: 1; stroke-width: 1px;\"/><path class=\"ytick ticks crisp\" d=\"M113.65923009623796,0h5\" transform=\"translate(0,160.60691601049865)\" style=\"stroke: rgb(0, 0, 0); stroke-opacity: 1; stroke-width: 1px;\"/><path class=\"ytick ticks crisp\" d=\"M113.65923009623796,0h5\" transform=\"translate(0,103.72691601049866)\" style=\"stroke: rgb(0, 0, 0); stroke-opacity: 1; stroke-width: 1px;\"/><g class=\"ytick\"><text text-anchor=\"end\" x=\"110.45923009623796\" y=\"3.8499999999999996\" transform=\"translate(0,388.12691601049863)\" style=\"font-family: sans-serif; font-size: 11px; fill: rgb(0, 0, 0); fill-opacity: 1; white-space: pre;\">14.50</text></g><g class=\"ytick\"><text text-anchor=\"end\" x=\"110.45923009623796\" y=\"3.8499999999999996\" transform=\"translate(0,331.24691601049864)\" style=\"font-family: sans-serif; font-size: 11px; fill: rgb(0, 0, 0); fill-opacity: 1; white-space: pre;\">14.75</text></g><g class=\"ytick\"><text text-anchor=\"end\" x=\"110.45923009623796\" y=\"3.8499999999999996\" transform=\"translate(0,274.36691601049864)\" style=\"font-family: sans-serif; font-size: 11px; fill: rgb(0, 0, 0); fill-opacity: 1; white-space: pre;\">15.00</text></g><g class=\"ytick\"><text text-anchor=\"end\" x=\"110.45923009623796\" y=\"3.8499999999999996\" transform=\"translate(0,217.48691601049865)\" style=\"font-family: sans-serif; font-size: 11px; fill: rgb(0, 0, 0); fill-opacity: 1; white-space: pre;\">15.25</text></g><g class=\"ytick\"><text text-anchor=\"end\" x=\"110.45923009623796\" y=\"3.8499999999999996\" transform=\"translate(0,160.60691601049865)\" style=\"font-family: sans-serif; font-size: 11px; fill: rgb(0, 0, 0); fill-opacity: 1; white-space: pre;\">15.50</text></g><g class=\"ytick\"><text text-anchor=\"end\" x=\"110.45923009623796\" y=\"3.8499999999999996\" transform=\"translate(0,103.72691601049866)\" style=\"font-family: sans-serif; font-size: 11px; fill: rgb(0, 0, 0); fill-opacity: 1; white-space: pre;\">15.75</text></g></g><g class=\"overaxes-above\"/></g></g><g class=\"polarlayer\"/><g class=\"ternarylayer\"/><g class=\"geolayer\"/><g class=\"funnelarealayer\"/><g class=\"pielayer\"/><g class=\"treemaplayer\"/><g class=\"sunburstlayer\"/><g class=\"glimages\"/><defs id=\"topdefs-68df47\"><g class=\"clips\"/><clipPath id=\"legend68df47\"><rect width=\"75\" height=\"48\" x=\"1\" y=\"1\"/></clipPath></defs><g class=\"layer-above\"><g class=\"imagelayer\"/><g class=\"shapelayer\"/></g><g class=\"infolayer\"><g class=\"legend\" pointer-events=\"all\" transform=\"translate(573,60)\"><rect class=\"bg\" shape-rendering=\"crispEdges\" width=\"76\" height=\"49\" x=\"0.5\" y=\"0.5\" style=\"stroke: rgb(0, 0, 0); stroke-opacity: 1; fill: rgb(255, 255, 255); fill-opacity: 1; stroke-width: 1px;\"/><g class=\"scrollbox\" transform=\"\" clip-path=\"url('#legend68df47')\"><g class=\"groups\"><g class=\"traces\" transform=\"translate(1,15.5)\" style=\"opacity: 1;\"><text class=\"legendtext\" text-anchor=\"start\" x=\"40\" y=\"4.29\" style=\"font-family: sans-serif; font-size: 11px; fill: rgb(0, 0, 0); fill-opacity: 1; white-space: pre;\">line</text><g class=\"layers\" style=\"opacity: 1;\"><g class=\"legendfill\"/><g class=\"legendlines\"><path class=\"js-line\" d=\"M5,0h30\" style=\"fill: none; stroke: rgb(0, 154, 250); stroke-opacity: 1; stroke-width: 1px;\"/></g><g class=\"legendsymbols\"><g class=\"legendpoints\"/></g></g><rect class=\"legendtoggle\" x=\"0\" y=\"-9.5\" width=\"69.859375\" height=\"19\" style=\"fill: rgb(0, 0, 0); fill-opacity: 0;\"/></g><g class=\"traces\" transform=\"translate(1,34.5)\" style=\"opacity: 1;\"><text class=\"legendtext\" text-anchor=\"start\" x=\"40\" y=\"4.29\" style=\"font-family: sans-serif; font-size: 11px; fill: rgb(0, 0, 0); fill-opacity: 1; white-space: pre;\">points</text><g class=\"layers\" style=\"opacity: 1;\"><g class=\"legendfill\"/><g class=\"legendlines\"/><g class=\"legendsymbols\"><g class=\"legendpoints\"><path class=\"scatterpts\" transform=\"translate(20,0)\" d=\"M4,0A4,4 0 1,1 0,-4A4,4 0 0,1 4,0Z\" style=\"opacity: 1; stroke-width: 1px; fill: rgb(227, 111, 71); fill-opacity: 1; stroke: rgb(0, 0, 0); stroke-opacity: 1;\"/></g></g></g><rect class=\"legendtoggle\" x=\"0\" y=\"-9.5\" width=\"69.859375\" height=\"19\" style=\"fill: rgb(0, 0, 0); fill-opacity: 0;\"/></g></g></g><rect class=\"scrollbar\" rx=\"20\" ry=\"3\" width=\"0\" height=\"0\" x=\"0\" y=\"0\" style=\"fill: rgb(128, 139, 164); fill-opacity: 1;\"/></g><g class=\"g-gtitle\"/><g class=\"g-xtitle\"><text class=\"xtitle\" x=\"379.8611111111111\" y=\"462.140625\" text-anchor=\"middle\" style=\"font-family: sans-serif; font-size: 15px; fill: rgb(0, 0, 0); opacity: 1; font-weight: normal; white-space: pre;\">Number of Pirates [Approximate]</text></g><g class=\"g-ytitle\"><text class=\"ytitle\" transform=\"rotate(-90,57.421875,251.6145833333333)\" x=\"57.421875\" y=\"251.6145833333333\" text-anchor=\"middle\" style=\"font-family: sans-serif; font-size: 15px; fill: rgb(0, 0, 0); opacity: 1; font-weight: normal; white-space: pre;\">Global Temperature (C)</text></g><g class=\"annotation\" data-index=\"0\" style=\"opacity: 1;\"><g class=\"annotation-text-g\" transform=\"rotate(0,379.8611111111111,73.00000000000001)\"><g class=\"cursor-pointer\" transform=\"translate(165,60)\"><rect class=\"bg\" x=\"0.5\" y=\"0.5\" width=\"428\" height=\"25\" style=\"stroke-width: 1px; stroke: rgb(0, 0, 0); stroke-opacity: 0; fill: rgb(0, 0, 0); fill-opacity: 0;\"/><text class=\"annotation-text\" text-anchor=\"middle\" x=\"214.375\" y=\"20\" style=\"font-family: sans-serif; font-size: 20px; fill: rgb(0, 0, 0); fill-opacity: 1; white-space: pre;\">Influence of pirate population on global warming</text></g></g></g></g></svg>"
      ],
      "text/html": [
       "    <div id=\"37e43535-6eb0-434b-b4b5-69b33fff74f3\" style=\"width:600px;height:400px;\"></div>\n",
       "    <script>\n",
       "        requirejs.config({\n",
       "        paths: {\n",
       "            plotly: 'https://cdn.plot.ly/plotly-2.6.3.min'\n",
       "        }\n",
       "    });\n",
       "    require(['plotly'], function (Plotly) {\n",
       "\n",
       "    Plotly.newPlot('37e43535-6eb0-434b-b4b5-69b33fff74f3', [\n",
       "    {\n",
       "        \"showlegend\": true,\n",
       "        \"mode\": \"lines\",\n",
       "        \"xaxis\": \"x\",\n",
       "        \"colorbar\": {\n",
       "            \"y\": 0.5086805555555556,\n",
       "            \"title\": \"\",\n",
       "            \"len\": 0.8657316272965879,\n",
       "            \"x\": 0.9934383202099737\n",
       "        },\n",
       "        \"name\": \"line\",\n",
       "        \"yaxis\": \"y\",\n",
       "        \"legendgroup\": \"line\",\n",
       "        \"line\": {\n",
       "            \"color\": \"rgba(0, 154, 250, 1.000)\",\n",
       "            \"shape\": \"linear\",\n",
       "            \"dash\": \"solid\",\n",
       "            \"width\": 1\n",
       "        },\n",
       "        \"y\": [\n",
       "            14.4,\n",
       "            14.5,\n",
       "            14.8,\n",
       "            15.2,\n",
       "            15.5,\n",
       "            15.8\n",
       "        ],\n",
       "        \"type\": \"scatter\",\n",
       "        \"x\": [\n",
       "            45000.0,\n",
       "            20000.0,\n",
       "            15000.0,\n",
       "            5000.0,\n",
       "            400.0,\n",
       "            17.0\n",
       "        ]\n",
       "    },\n",
       "    {\n",
       "        \"showlegend\": true,\n",
       "        \"mode\": \"markers\",\n",
       "        \"xaxis\": \"x\",\n",
       "        \"colorbar\": {\n",
       "            \"y\": 0.5086805555555556,\n",
       "            \"title\": \"\",\n",
       "            \"len\": 0.8657316272965879,\n",
       "            \"x\": 0.9934383202099737\n",
       "        },\n",
       "        \"name\": \"points\",\n",
       "        \"yaxis\": \"y\",\n",
       "        \"legendgroup\": \"points\",\n",
       "        \"marker\": {\n",
       "            \"symbol\": \"circle\",\n",
       "            \"color\": \"rgba(227, 111, 71, 1.000)\",\n",
       "            \"line\": {\n",
       "                \"color\": \"rgba(0, 0, 0, 1.000)\",\n",
       "                \"width\": 1\n",
       "            },\n",
       "            \"size\": 8\n",
       "        },\n",
       "        \"y\": [\n",
       "            14.4,\n",
       "            14.5,\n",
       "            14.8,\n",
       "            15.2,\n",
       "            15.5,\n",
       "            15.8\n",
       "        ],\n",
       "        \"type\": \"scatter\",\n",
       "        \"x\": [\n",
       "            45000.0,\n",
       "            20000.0,\n",
       "            15000.0,\n",
       "            5000.0,\n",
       "            400.0,\n",
       "            17.0\n",
       "        ]\n",
       "    }\n",
       "]\n",
       ", {\n",
       "    \"showlegend\": true,\n",
       "    \"xaxis\": {\n",
       "        \"showticklabels\": true,\n",
       "        \"gridwidth\": 0.5,\n",
       "        \"tickvals\": [\n",
       "            0.0,\n",
       "            10000.0,\n",
       "            20000.0,\n",
       "            30000.0,\n",
       "            40000.0\n",
       "        ],\n",
       "        \"range\": [\n",
       "            46349.490000000005,\n",
       "            -1332.4900000000016\n",
       "        ],\n",
       "        \"domain\": [\n",
       "            0.10609871682706327,\n",
       "            0.9934383202099737\n",
       "        ],\n",
       "        \"mirror\": false,\n",
       "        \"tickangle\": 0,\n",
       "        \"showline\": true,\n",
       "        \"ticktext\": [\n",
       "            \"0\",\n",
       "            \"1.0×10⁴\",\n",
       "            \"2.0×10⁴\",\n",
       "            \"3.0×10⁴\",\n",
       "            \"4.0×10⁴\"\n",
       "        ],\n",
       "        \"zeroline\": false,\n",
       "        \"tickfont\": {\n",
       "            \"color\": \"rgba(0, 0, 0, 1.000)\",\n",
       "            \"family\": \"sans-serif\",\n",
       "            \"size\": 11\n",
       "        },\n",
       "        \"zerolinecolor\": \"rgba(0, 0, 0, 1.000)\",\n",
       "        \"anchor\": \"y\",\n",
       "        \"visible\": true,\n",
       "        \"ticks\": \"inside\",\n",
       "        \"tickmode\": \"array\",\n",
       "        \"linecolor\": \"rgba(0, 0, 0, 1.000)\",\n",
       "        \"showgrid\": true,\n",
       "        \"title\": \"Number of Pirates [Approximate]\",\n",
       "        \"gridcolor\": \"rgba(0, 0, 0, 0.100)\",\n",
       "        \"titlefont\": {\n",
       "            \"color\": \"rgba(0, 0, 0, 1.000)\",\n",
       "            \"family\": \"sans-serif\",\n",
       "            \"size\": 15\n",
       "        },\n",
       "        \"tickcolor\": \"rgb(0, 0, 0)\",\n",
       "        \"type\": \"-\"\n",
       "    },\n",
       "    \"paper_bgcolor\": \"rgba(255, 255, 255, 1.000)\",\n",
       "    \"annotations\": [\n",
       "        {\n",
       "            \"yanchor\": \"top\",\n",
       "            \"xanchor\": \"center\",\n",
       "            \"rotation\": -0.0,\n",
       "            \"y\": 1.0,\n",
       "            \"font\": {\n",
       "                \"color\": \"rgba(0, 0, 0, 1.000)\",\n",
       "                \"family\": \"sans-serif\",\n",
       "                \"size\": 20\n",
       "            },\n",
       "            \"yref\": \"paper\",\n",
       "            \"showarrow\": false,\n",
       "            \"text\": \"Influence of pirate population on global warming\",\n",
       "            \"xref\": \"paper\",\n",
       "            \"x\": 0.5497685185185185\n",
       "        }\n",
       "    ],\n",
       "    \"height\": 400,\n",
       "    \"margin\": {\n",
       "        \"l\": 0,\n",
       "        \"b\": 20,\n",
       "        \"r\": 0,\n",
       "        \"t\": 20\n",
       "    },\n",
       "    \"plot_bgcolor\": \"rgba(255, 255, 255, 1.000)\",\n",
       "    \"yaxis\": {\n",
       "        \"showticklabels\": true,\n",
       "        \"gridwidth\": 0.5,\n",
       "        \"tickvals\": [\n",
       "            14.5,\n",
       "            14.75,\n",
       "            15.0,\n",
       "            15.25,\n",
       "            15.5,\n",
       "            15.75\n",
       "        ],\n",
       "        \"range\": [\n",
       "            14.358,\n",
       "            15.842000000000002\n",
       "        ],\n",
       "        \"domain\": [\n",
       "            0.07581474190726165,\n",
       "            0.9415463692038496\n",
       "        ],\n",
       "        \"mirror\": false,\n",
       "        \"tickangle\": 0,\n",
       "        \"showline\": true,\n",
       "        \"ticktext\": [\n",
       "            \"14.50\",\n",
       "            \"14.75\",\n",
       "            \"15.00\",\n",
       "            \"15.25\",\n",
       "            \"15.50\",\n",
       "            \"15.75\"\n",
       "        ],\n",
       "        \"zeroline\": false,\n",
       "        \"tickfont\": {\n",
       "            \"color\": \"rgba(0, 0, 0, 1.000)\",\n",
       "            \"family\": \"sans-serif\",\n",
       "            \"size\": 11\n",
       "        },\n",
       "        \"zerolinecolor\": \"rgba(0, 0, 0, 1.000)\",\n",
       "        \"anchor\": \"x\",\n",
       "        \"visible\": true,\n",
       "        \"ticks\": \"inside\",\n",
       "        \"tickmode\": \"array\",\n",
       "        \"linecolor\": \"rgba(0, 0, 0, 1.000)\",\n",
       "        \"showgrid\": true,\n",
       "        \"title\": \"Global Temperature (C)\",\n",
       "        \"gridcolor\": \"rgba(0, 0, 0, 0.100)\",\n",
       "        \"titlefont\": {\n",
       "            \"color\": \"rgba(0, 0, 0, 1.000)\",\n",
       "            \"family\": \"sans-serif\",\n",
       "            \"size\": 15\n",
       "        },\n",
       "        \"tickcolor\": \"rgb(0, 0, 0)\",\n",
       "        \"type\": \"-\"\n",
       "    },\n",
       "    \"legend\": {\n",
       "        \"yanchor\": \"auto\",\n",
       "        \"xanchor\": \"auto\",\n",
       "        \"bordercolor\": \"rgba(0, 0, 0, 1.000)\",\n",
       "        \"bgcolor\": \"rgba(255, 255, 255, 1.000)\",\n",
       "        \"borderwidth\": 1,\n",
       "        \"tracegroupgap\": 0,\n",
       "        \"y\": 1.0,\n",
       "        \"font\": {\n",
       "            \"color\": \"rgba(0, 0, 0, 1.000)\",\n",
       "            \"family\": \"sans-serif\",\n",
       "            \"size\": 11\n",
       "        },\n",
       "        \"title\": {\n",
       "            \"font\": {\n",
       "                \"color\": \"rgba(0, 0, 0, 1.000)\",\n",
       "                \"family\": \"sans-serif\",\n",
       "                \"size\": 15\n",
       "            },\n",
       "            \"text\": \"\"\n",
       "        },\n",
       "        \"traceorder\": \"normal\",\n",
       "        \"x\": 1.0\n",
       "    },\n",
       "    \"width\": 600\n",
       "}\n",
       ");\n",
       "    });\n",
       "    </script>\n"
      ]
     },
     "execution_count": 18,
     "metadata": {},
     "output_type": "execute_result"
    }
   ],
   "source": [
    "Pkg.add(\"PlotlyJS\")\n",
    "plotlyjs()\n",
    "\n",
    "# Generate the plot\n",
    "plot(numpirates, globaltemperatures, label=\"line\")\n",
    "scatter!(numpirates, globaltemperatures, label=\"points\")\n",
    "\n",
    "# Add details\n",
    "xlabel!(\"Number of Pirates [Approximate]\")\n",
    "ylabel!(\"Global Temperature (C)\")\n",
    "title!(\"Influence of pirate population on global warming\")\n",
    "\n",
    "# Flip the x axis\n",
    "xflip!()"
   ]
  },
  {
   "cell_type": "markdown",
   "metadata": {},
   "source": [
    "<br>\n",
    "\n",
    "#### Exercises\n",
    "##### 8.1\n",
    "Given, `x = -10:10`, plot y vs. x for $y=x^2$. "
   ]
  },
  {
   "cell_type": "code",
   "execution_count": 25,
   "metadata": {},
   "outputs": [
    {
     "data": {
      "application/vnd.plotly.v1+json": {
       "data": [
        {
         "colorbar": {
          "len": 0.9525371828521435,
          "title": "",
          "x": 0.9934383202099737,
          "y": 0.513888888888889
         },
         "legendgroup": "y=x²",
         "line": {
          "color": "rgba(0, 154, 250, 1.000)",
          "dash": "solid",
          "shape": "linear",
          "width": 1
         },
         "mode": "lines",
         "name": "y=x²",
         "showlegend": true,
         "type": "scatter",
         "x": [
          100,
          81,
          64,
          49,
          36,
          25,
          16,
          9,
          4,
          1,
          0,
          1,
          4,
          9,
          16,
          25,
          36,
          49,
          64,
          81,
          100
         ],
         "xaxis": "x",
         "y": [
          -10,
          -9,
          -8,
          -7,
          -6,
          -5,
          -4,
          -3,
          -2,
          -1,
          0,
          1,
          2,
          3,
          4,
          5,
          6,
          7,
          8,
          9,
          10
         ],
         "yaxis": "y"
        }
       ],
       "layout": {
        "annotations": [],
        "height": 400,
        "legend": {
         "bgcolor": "rgba(255, 255, 255, 1.000)",
         "bordercolor": "rgba(0, 0, 0, 1.000)",
         "borderwidth": 1,
         "font": {
          "color": "rgba(0, 0, 0, 1.000)",
          "family": "sans-serif",
          "size": 11
         },
         "title": {
          "font": {
           "color": "rgba(0, 0, 0, 1.000)",
           "family": "sans-serif",
           "size": 15
          },
          "text": ""
         },
         "tracegroupgap": 0,
         "traceorder": "normal",
         "x": 1,
         "xanchor": "auto",
         "y": 1,
         "yanchor": "auto"
        },
        "margin": {
         "b": 20,
         "l": 0,
         "r": 0,
         "t": 20
        },
        "paper_bgcolor": "rgba(255, 255, 255, 1.000)",
        "plot_bgcolor": "rgba(255, 255, 255, 1.000)",
        "showlegend": true,
        "width": 600,
        "xaxis": {
         "anchor": "y",
         "domain": [
          0.05100612423447069,
          0.9934383202099737
         ],
         "gridcolor": "rgba(0, 0, 0, 0.100)",
         "gridwidth": 0.5,
         "linecolor": "rgba(0, 0, 0, 1.000)",
         "mirror": false,
         "range": [
          -3,
          103
         ],
         "showgrid": true,
         "showline": true,
         "showticklabels": true,
         "tickangle": 0,
         "tickcolor": "rgb(0, 0, 0)",
         "tickfont": {
          "color": "rgba(0, 0, 0, 1.000)",
          "family": "sans-serif",
          "size": 11
         },
         "tickmode": "array",
         "ticks": "inside",
         "ticktext": [
          "0",
          "25",
          "50",
          "75",
          "100"
         ],
         "tickvals": [
          0,
          25,
          50,
          75,
          100
         ],
         "title": "",
         "titlefont": {
          "color": "rgba(0, 0, 0, 1.000)",
          "family": "sans-serif",
          "size": 15
         },
         "type": "-",
         "visible": true,
         "zeroline": false,
         "zerolinecolor": "rgba(0, 0, 0, 1.000)"
        },
        "yaxis": {
         "anchor": "x",
         "domain": [
          0.03762029746281716,
          0.9901574803149606
         ],
         "gridcolor": "rgba(0, 0, 0, 0.100)",
         "gridwidth": 0.5,
         "linecolor": "rgba(0, 0, 0, 1.000)",
         "mirror": false,
         "range": [
          -10.600000000000001,
          10.600000000000001
         ],
         "showgrid": true,
         "showline": true,
         "showticklabels": true,
         "tickangle": 0,
         "tickcolor": "rgb(0, 0, 0)",
         "tickfont": {
          "color": "rgba(0, 0, 0, 1.000)",
          "family": "sans-serif",
          "size": 11
         },
         "tickmode": "array",
         "ticks": "inside",
         "ticktext": [
          "-10",
          "-5",
          "0",
          "5",
          "10"
         ],
         "tickvals": [
          -10,
          -5,
          0,
          5,
          10
         ],
         "title": "",
         "titlefont": {
          "color": "rgba(0, 0, 0, 1.000)",
          "family": "sans-serif",
          "size": 15
         },
         "type": "-",
         "visible": true,
         "zeroline": false,
         "zerolinecolor": "rgba(0, 0, 0, 1.000)"
        }
       }
      },
      "image/png": "[encoded data removed]",
      "image/svg+xml": [
       "<svg class=\"main-svg\" xmlns=\"http://www.w3.org/2000/svg\" xmlns:xlink=\"http://www.w3.org/1999/xlink\" width=\"700\" height=\"500\" style=\"\" viewBox=\"0 0 700 500\"><rect x=\"0\" y=\"0\" width=\"700\" height=\"500\" style=\"fill: rgb(255, 255, 255); fill-opacity: 1;\"/><defs id=\"defs-235749\"><g class=\"clips\"><clipPath id=\"clip235749xyplot\" class=\"plotclip\"><rect width=\"565.4593175853018\" height=\"371.48950131233596\"/></clipPath><clipPath class=\"axesclip\" id=\"clip235749x\"><rect x=\"80.60367454068242\" y=\"0\" width=\"565.4593175853018\" height=\"500\"/></clipPath><clipPath class=\"axesclip\" id=\"clip235749y\"><rect x=\"0\" y=\"63.83858267716535\" width=\"700\" height=\"371.48950131233596\"/></clipPath><clipPath class=\"axesclip\" id=\"clip235749xy\"><rect x=\"80.60367454068242\" y=\"63.83858267716535\" width=\"565.4593175853018\" height=\"371.48950131233596\"/></clipPath></g><g class=\"gradients\"/></defs><g class=\"bglayer\"/><g class=\"layer-below\"><g class=\"imagelayer\"/><g class=\"shapelayer\"/></g><g class=\"cartesianlayer\"><g class=\"subplot xy\"><g class=\"layer-subplot\"><g class=\"shapelayer\"/><g class=\"imagelayer\"/></g><g class=\"gridlayer\"><g class=\"x\"><path class=\"xgrid crisp\" transform=\"translate(96.60367454068242,0)\" d=\"M0,63.83858267716535v371.48950131233596\" style=\"stroke: rgb(0, 0, 0); stroke-opacity: 0.1; stroke-width: 0.5px;\"/><path class=\"xgrid crisp\" transform=\"translate(229.97367454068242,0)\" d=\"M0,63.83858267716535v371.48950131233596\" style=\"stroke: rgb(0, 0, 0); stroke-opacity: 0.1; stroke-width: 0.5px;\"/><path class=\"xgrid crisp\" transform=\"translate(363.3336745406824,0)\" d=\"M0,63.83858267716535v371.48950131233596\" style=\"stroke: rgb(0, 0, 0); stroke-opacity: 0.1; stroke-width: 0.5px;\"/><path class=\"xgrid crisp\" transform=\"translate(496.6936745406824,0)\" d=\"M0,63.83858267716535v371.48950131233596\" style=\"stroke: rgb(0, 0, 0); stroke-opacity: 0.1; stroke-width: 0.5px;\"/><path class=\"xgrid crisp\" transform=\"translate(630.0636745406824,0)\" d=\"M0,63.83858267716535v371.48950131233596\" style=\"stroke: rgb(0, 0, 0); stroke-opacity: 0.1; stroke-width: 0.5px;\"/></g><g class=\"y\"><path class=\"ygrid crisp\" transform=\"translate(0,424.81858267716535)\" d=\"M80.60367454068242,0h565.4593175853018\" style=\"stroke: rgb(0, 0, 0); stroke-opacity: 0.1; stroke-width: 0.5px;\"/><path class=\"ygrid crisp\" transform=\"translate(0,337.19858267716535)\" d=\"M80.60367454068242,0h565.4593175853018\" style=\"stroke: rgb(0, 0, 0); stroke-opacity: 0.1; stroke-width: 0.5px;\"/><path class=\"ygrid crisp\" transform=\"translate(0,249.57858267716534)\" d=\"M80.60367454068242,0h565.4593175853018\" style=\"stroke: rgb(0, 0, 0); stroke-opacity: 0.1; stroke-width: 0.5px;\"/><path class=\"ygrid crisp\" transform=\"translate(0,161.96858267716533)\" d=\"M80.60367454068242,0h565.4593175853018\" style=\"stroke: rgb(0, 0, 0); stroke-opacity: 0.1; stroke-width: 0.5px;\"/><path class=\"ygrid crisp\" transform=\"translate(0,74.34858267716535)\" d=\"M80.60367454068242,0h565.4593175853018\" style=\"stroke: rgb(0, 0, 0); stroke-opacity: 0.1; stroke-width: 0.5px;\"/></g></g><g class=\"zerolinelayer\"/><path class=\"xlines-below\"/><path class=\"ylines-below\"/><g class=\"overlines-below\"/><g class=\"xaxislayer-below\"/><g class=\"yaxislayer-below\"/><g class=\"overaxes-below\"/><g class=\"plot\" transform=\"translate(80.60367454068242,63.83858267716535)\" clip-path=\"url('#clip235749xyplot')\"><g class=\"scatterlayer mlayer\"><g class=\"trace scatter trace4e814d\" style=\"stroke-miterlimit: 2; opacity: 1;\"><g class=\"fills\"/><g class=\"errorbars\"/><g class=\"lines\"><path class=\"js-line\" d=\"M549.46,360.98L448.1,343.45L357.41,325.93L277.4,308.41L208.05,290.88L149.37,273.36L101.36,255.84L64.01,238.31L37.34,220.79L21.34,203.27L16,185.74L21.34,168.22L37.34,150.7L64.01,133.18L101.36,115.65L149.37,98.13L208.05,80.61L277.4,63.08L357.41,45.56L448.1,28.04L549.46,10.51\" style=\"vector-effect: non-scaling-stroke; fill: none; stroke: rgb(0, 154, 250); stroke-opacity: 1; stroke-width: 1px; opacity: 1;\"/></g><g class=\"points\"/><g class=\"text\"/></g></g></g><g class=\"overplot\"/><path class=\"xlines-above crisp\" d=\"M79.60367454068242,435.8280839895013H646.0629921259842\" style=\"fill: none; stroke-width: 1px; stroke: rgb(0, 0, 0); stroke-opacity: 1;\"/><path class=\"ylines-above crisp\" d=\"M80.10367454068242,63.83858267716535V435.3280839895013\" style=\"fill: none; stroke-width: 1px; stroke: rgb(0, 0, 0); stroke-opacity: 1;\"/><g class=\"overlines-above\"/><g class=\"xaxislayer-above\"><path class=\"xtick ticks crisp\" d=\"M0,435.3280839895013v-5\" transform=\"translate(96.60367454068242,0)\" style=\"stroke: rgb(0, 0, 0); stroke-opacity: 1; stroke-width: 1px;\"/><path class=\"xtick ticks crisp\" d=\"M0,435.3280839895013v-5\" transform=\"translate(229.97367454068242,0)\" style=\"stroke: rgb(0, 0, 0); stroke-opacity: 1; stroke-width: 1px;\"/><path class=\"xtick ticks crisp\" d=\"M0,435.3280839895013v-5\" transform=\"translate(363.3336745406824,0)\" style=\"stroke: rgb(0, 0, 0); stroke-opacity: 1; stroke-width: 1px;\"/><path class=\"xtick ticks crisp\" d=\"M0,435.3280839895013v-5\" transform=\"translate(496.6936745406824,0)\" style=\"stroke: rgb(0, 0, 0); stroke-opacity: 1; stroke-width: 1px;\"/><path class=\"xtick ticks crisp\" d=\"M0,435.3280839895013v-5\" transform=\"translate(630.0636745406824,0)\" style=\"stroke: rgb(0, 0, 0); stroke-opacity: 1; stroke-width: 1px;\"/><g class=\"xtick\"><text text-anchor=\"middle\" x=\"0\" y=\"449.5280839895013\" transform=\"translate(96.60367454068242,0)\" style=\"font-family: sans-serif; font-size: 11px; fill: rgb(0, 0, 0); fill-opacity: 1; white-space: pre;\">0</text></g><g class=\"xtick\"><text text-anchor=\"middle\" x=\"0\" y=\"449.5280839895013\" transform=\"translate(229.97367454068242,0)\" style=\"font-family: sans-serif; font-size: 11px; fill: rgb(0, 0, 0); fill-opacity: 1; white-space: pre;\">25</text></g><g class=\"xtick\"><text text-anchor=\"middle\" x=\"0\" y=\"449.5280839895013\" transform=\"translate(363.3336745406824,0)\" style=\"font-family: sans-serif; font-size: 11px; fill: rgb(0, 0, 0); fill-opacity: 1; white-space: pre;\">50</text></g><g class=\"xtick\"><text text-anchor=\"middle\" x=\"0\" y=\"449.5280839895013\" transform=\"translate(496.6936745406824,0)\" style=\"font-family: sans-serif; font-size: 11px; fill: rgb(0, 0, 0); fill-opacity: 1; white-space: pre;\">75</text></g><g class=\"xtick\"><text text-anchor=\"middle\" x=\"0\" y=\"449.5280839895013\" transform=\"translate(630.0636745406824,0)\" style=\"font-family: sans-serif; font-size: 11px; fill: rgb(0, 0, 0); fill-opacity: 1; white-space: pre;\">100</text></g></g><g class=\"yaxislayer-above\"><path class=\"ytick ticks crisp\" d=\"M80.60367454068242,0h5\" transform=\"translate(0,424.81858267716535)\" style=\"stroke: rgb(0, 0, 0); stroke-opacity: 1; stroke-width: 1px;\"/><path class=\"ytick ticks crisp\" d=\"M80.60367454068242,0h5\" transform=\"translate(0,337.19858267716535)\" style=\"stroke: rgb(0, 0, 0); stroke-opacity: 1; stroke-width: 1px;\"/><path class=\"ytick ticks crisp\" d=\"M80.60367454068242,0h5\" transform=\"translate(0,249.57858267716534)\" style=\"stroke: rgb(0, 0, 0); stroke-opacity: 1; stroke-width: 1px;\"/><path class=\"ytick ticks crisp\" d=\"M80.60367454068242,0h5\" transform=\"translate(0,161.96858267716533)\" style=\"stroke: rgb(0, 0, 0); stroke-opacity: 1; stroke-width: 1px;\"/><path class=\"ytick ticks crisp\" d=\"M80.60367454068242,0h5\" transform=\"translate(0,74.34858267716535)\" style=\"stroke: rgb(0, 0, 0); stroke-opacity: 1; stroke-width: 1px;\"/><g class=\"ytick\"><text text-anchor=\"end\" x=\"77.40367454068242\" y=\"3.8499999999999996\" transform=\"translate(0,424.81858267716535)\" style=\"font-family: sans-serif; font-size: 11px; fill: rgb(0, 0, 0); fill-opacity: 1; white-space: pre;\">-10</text></g><g class=\"ytick\"><text text-anchor=\"end\" x=\"77.40367454068242\" y=\"3.8499999999999996\" transform=\"translate(0,337.19858267716535)\" style=\"font-family: sans-serif; font-size: 11px; fill: rgb(0, 0, 0); fill-opacity: 1; white-space: pre;\">-5</text></g><g class=\"ytick\"><text text-anchor=\"end\" x=\"77.40367454068242\" y=\"3.8499999999999996\" transform=\"translate(0,249.57858267716534)\" style=\"font-family: sans-serif; font-size: 11px; fill: rgb(0, 0, 0); fill-opacity: 1; white-space: pre;\">0</text></g><g class=\"ytick\"><text text-anchor=\"end\" x=\"77.40367454068242\" y=\"3.8499999999999996\" transform=\"translate(0,161.96858267716533)\" style=\"font-family: sans-serif; font-size: 11px; fill: rgb(0, 0, 0); fill-opacity: 1; white-space: pre;\">5</text></g><g class=\"ytick\"><text text-anchor=\"end\" x=\"77.40367454068242\" y=\"3.8499999999999996\" transform=\"translate(0,74.34858267716535)\" style=\"font-family: sans-serif; font-size: 11px; fill: rgb(0, 0, 0); fill-opacity: 1; white-space: pre;\">10</text></g></g><g class=\"overaxes-above\"/></g></g><g class=\"polarlayer\"/><g class=\"ternarylayer\"/><g class=\"geolayer\"/><g class=\"funnelarealayer\"/><g class=\"pielayer\"/><g class=\"treemaplayer\"/><g class=\"sunburstlayer\"/><g class=\"glimages\"/><defs id=\"topdefs-235749\"><g class=\"clips\"/><clipPath id=\"legend235749\"><rect width=\"67\" height=\"29\" x=\"1\" y=\"1\"/></clipPath></defs><g class=\"layer-above\"><g class=\"imagelayer\"/><g class=\"shapelayer\"/></g><g class=\"infolayer\"><g class=\"legend\" pointer-events=\"all\" transform=\"translate(581,60)\"><rect class=\"bg\" shape-rendering=\"crispEdges\" width=\"68\" height=\"30\" x=\"0.5\" y=\"0.5\" style=\"stroke: rgb(0, 0, 0); stroke-opacity: 1; fill: rgb(255, 255, 255); fill-opacity: 1; stroke-width: 1px;\"/><g class=\"scrollbox\" transform=\"\" clip-path=\"url('#legend235749')\"><g class=\"groups\"><g class=\"traces\" transform=\"translate(1,15.5)\" style=\"opacity: 1;\"><text class=\"legendtext\" text-anchor=\"start\" x=\"40\" y=\"4.29\" style=\"font-family: sans-serif; font-size: 11px; fill: rgb(0, 0, 0); fill-opacity: 1; white-space: pre;\">y=x²</text><g class=\"layers\" style=\"opacity: 1;\"><g class=\"legendfill\"/><g class=\"legendlines\"><path class=\"js-line\" d=\"M5,0h30\" style=\"fill: none; stroke: rgb(0, 154, 250); stroke-opacity: 1; stroke-width: 1px;\"/></g><g class=\"legendsymbols\"><g class=\"legendpoints\"/></g></g><rect class=\"legendtoggle\" x=\"0\" y=\"-9.5\" width=\"61.4375\" height=\"19\" style=\"fill: rgb(0, 0, 0); fill-opacity: 0;\"/></g></g></g><rect class=\"scrollbar\" rx=\"20\" ry=\"3\" width=\"0\" height=\"0\" x=\"0\" y=\"0\" style=\"fill: rgb(128, 139, 164); fill-opacity: 1;\"/></g><g class=\"g-gtitle\"/><g class=\"g-xtitle\"/><g class=\"g-ytitle\"/></g></svg>"
      ],
      "text/html": [
       "    <div id=\"03e8f36f-e165-4415-a198-81631d2dc28f\" style=\"width:600px;height:400px;\"></div>\n",
       "    <script>\n",
       "        requirejs.config({\n",
       "        paths: {\n",
       "            plotly: 'https://cdn.plot.ly/plotly-2.6.3.min'\n",
       "        }\n",
       "    });\n",
       "    require(['plotly'], function (Plotly) {\n",
       "\n",
       "    Plotly.newPlot('03e8f36f-e165-4415-a198-81631d2dc28f', [\n",
       "    {\n",
       "        \"showlegend\": true,\n",
       "        \"mode\": \"lines\",\n",
       "        \"xaxis\": \"x\",\n",
       "        \"colorbar\": {\n",
       "            \"y\": 0.513888888888889,\n",
       "            \"title\": \"\",\n",
       "            \"len\": 0.9525371828521435,\n",
       "            \"x\": 0.9934383202099737\n",
       "        },\n",
       "        \"name\": \"y=x²\",\n",
       "        \"yaxis\": \"y\",\n",
       "        \"legendgroup\": \"y=x²\",\n",
       "        \"line\": {\n",
       "            \"color\": \"rgba(0, 154, 250, 1.000)\",\n",
       "            \"shape\": \"linear\",\n",
       "            \"dash\": \"solid\",\n",
       "            \"width\": 1\n",
       "        },\n",
       "        \"y\": [\n",
       "            -10,\n",
       "            -9,\n",
       "            -8,\n",
       "            -7,\n",
       "            -6,\n",
       "            -5,\n",
       "            -4,\n",
       "            -3,\n",
       "            -2,\n",
       "            -1,\n",
       "            0,\n",
       "            1,\n",
       "            2,\n",
       "            3,\n",
       "            4,\n",
       "            5,\n",
       "            6,\n",
       "            7,\n",
       "            8,\n",
       "            9,\n",
       "            10\n",
       "        ],\n",
       "        \"type\": \"scatter\",\n",
       "        \"x\": [\n",
       "            100.0,\n",
       "            81.0,\n",
       "            64.0,\n",
       "            49.0,\n",
       "            36.0,\n",
       "            25.0,\n",
       "            16.0,\n",
       "            9.0,\n",
       "            4.0,\n",
       "            1.0,\n",
       "            0.0,\n",
       "            1.0,\n",
       "            4.0,\n",
       "            9.0,\n",
       "            16.0,\n",
       "            25.0,\n",
       "            36.0,\n",
       "            49.0,\n",
       "            64.0,\n",
       "            81.0,\n",
       "            100.0\n",
       "        ]\n",
       "    }\n",
       "]\n",
       ", {\n",
       "    \"showlegend\": true,\n",
       "    \"xaxis\": {\n",
       "        \"showticklabels\": true,\n",
       "        \"gridwidth\": 0.5,\n",
       "        \"tickvals\": [\n",
       "            0.0,\n",
       "            25.0,\n",
       "            50.0,\n",
       "            75.0,\n",
       "            100.0\n",
       "        ],\n",
       "        \"range\": [\n",
       "            -3.0,\n",
       "            103.0\n",
       "        ],\n",
       "        \"domain\": [\n",
       "            0.05100612423447069,\n",
       "            0.9934383202099737\n",
       "        ],\n",
       "        \"mirror\": false,\n",
       "        \"tickangle\": 0,\n",
       "        \"showline\": true,\n",
       "        \"ticktext\": [\n",
       "            \"0\",\n",
       "            \"25\",\n",
       "            \"50\",\n",
       "            \"75\",\n",
       "            \"100\"\n",
       "        ],\n",
       "        \"zeroline\": false,\n",
       "        \"tickfont\": {\n",
       "            \"color\": \"rgba(0, 0, 0, 1.000)\",\n",
       "            \"family\": \"sans-serif\",\n",
       "            \"size\": 11\n",
       "        },\n",
       "        \"zerolinecolor\": \"rgba(0, 0, 0, 1.000)\",\n",
       "        \"anchor\": \"y\",\n",
       "        \"visible\": true,\n",
       "        \"ticks\": \"inside\",\n",
       "        \"tickmode\": \"array\",\n",
       "        \"linecolor\": \"rgba(0, 0, 0, 1.000)\",\n",
       "        \"showgrid\": true,\n",
       "        \"title\": \"\",\n",
       "        \"gridcolor\": \"rgba(0, 0, 0, 0.100)\",\n",
       "        \"titlefont\": {\n",
       "            \"color\": \"rgba(0, 0, 0, 1.000)\",\n",
       "            \"family\": \"sans-serif\",\n",
       "            \"size\": 15\n",
       "        },\n",
       "        \"tickcolor\": \"rgb(0, 0, 0)\",\n",
       "        \"type\": \"-\"\n",
       "    },\n",
       "    \"paper_bgcolor\": \"rgba(255, 255, 255, 1.000)\",\n",
       "    \"annotations\": [],\n",
       "    \"height\": 400,\n",
       "    \"margin\": {\n",
       "        \"l\": 0,\n",
       "        \"b\": 20,\n",
       "        \"r\": 0,\n",
       "        \"t\": 20\n",
       "    },\n",
       "    \"plot_bgcolor\": \"rgba(255, 255, 255, 1.000)\",\n",
       "    \"yaxis\": {\n",
       "        \"showticklabels\": true,\n",
       "        \"gridwidth\": 0.5,\n",
       "        \"tickvals\": [\n",
       "            -10.0,\n",
       "            -5.0,\n",
       "            0.0,\n",
       "            5.0,\n",
       "            10.0\n",
       "        ],\n",
       "        \"range\": [\n",
       "            -10.600000000000001,\n",
       "            10.600000000000001\n",
       "        ],\n",
       "        \"domain\": [\n",
       "            0.03762029746281716,\n",
       "            0.9901574803149606\n",
       "        ],\n",
       "        \"mirror\": false,\n",
       "        \"tickangle\": 0,\n",
       "        \"showline\": true,\n",
       "        \"ticktext\": [\n",
       "            \"-10\",\n",
       "            \"-5\",\n",
       "            \"0\",\n",
       "            \"5\",\n",
       "            \"10\"\n",
       "        ],\n",
       "        \"zeroline\": false,\n",
       "        \"tickfont\": {\n",
       "            \"color\": \"rgba(0, 0, 0, 1.000)\",\n",
       "            \"family\": \"sans-serif\",\n",
       "            \"size\": 11\n",
       "        },\n",
       "        \"zerolinecolor\": \"rgba(0, 0, 0, 1.000)\",\n",
       "        \"anchor\": \"x\",\n",
       "        \"visible\": true,\n",
       "        \"ticks\": \"inside\",\n",
       "        \"tickmode\": \"array\",\n",
       "        \"linecolor\": \"rgba(0, 0, 0, 1.000)\",\n",
       "        \"showgrid\": true,\n",
       "        \"title\": \"\",\n",
       "        \"gridcolor\": \"rgba(0, 0, 0, 0.100)\",\n",
       "        \"titlefont\": {\n",
       "            \"color\": \"rgba(0, 0, 0, 1.000)\",\n",
       "            \"family\": \"sans-serif\",\n",
       "            \"size\": 15\n",
       "        },\n",
       "        \"tickcolor\": \"rgb(0, 0, 0)\",\n",
       "        \"type\": \"-\"\n",
       "    },\n",
       "    \"legend\": {\n",
       "        \"yanchor\": \"auto\",\n",
       "        \"xanchor\": \"auto\",\n",
       "        \"bordercolor\": \"rgba(0, 0, 0, 1.000)\",\n",
       "        \"bgcolor\": \"rgba(255, 255, 255, 1.000)\",\n",
       "        \"borderwidth\": 1,\n",
       "        \"tracegroupgap\": 0,\n",
       "        \"y\": 1.0,\n",
       "        \"font\": {\n",
       "            \"color\": \"rgba(0, 0, 0, 1.000)\",\n",
       "            \"family\": \"sans-serif\",\n",
       "            \"size\": 11\n",
       "        },\n",
       "        \"title\": {\n",
       "            \"font\": {\n",
       "                \"color\": \"rgba(0, 0, 0, 1.000)\",\n",
       "                \"family\": \"sans-serif\",\n",
       "                \"size\": 15\n",
       "            },\n",
       "            \"text\": \"\"\n",
       "        },\n",
       "        \"traceorder\": \"normal\",\n",
       "        \"x\": 1.0\n",
       "    },\n",
       "    \"width\": 600\n",
       "}\n",
       ");\n",
       "    });\n",
       "    </script>\n"
      ]
     },
     "execution_count": 25,
     "metadata": {},
     "output_type": "execute_result"
    }
   ],
   "source": [
    "x = -10:10\n",
    "y = x.^2\n",
    "plot(y, x, label=\"y=x²\")"
   ]
  },
  {
   "cell_type": "markdown",
   "metadata": {},
   "source": [
    "<br>\n",
    "\n",
    "##### 8.2\n",
    "Execute the following code:"
   ]
  },
  {
   "cell_type": "code",
   "execution_count": 26,
   "metadata": {},
   "outputs": [
    {
     "data": {
      "application/vnd.plotly.v1+json": {
       "data": [
        {
         "colorbar": {
          "len": 0.4525371828521435,
          "title": "",
          "x": 0.49343832020997375,
          "y": 0.7638888888888888
         },
         "legendgroup": "y1",
         "line": {
          "color": "rgba(0, 154, 250, 1.000)",
          "dash": "solid",
          "shape": "linear",
          "width": 1
         },
         "mode": "lines",
         "name": "y1",
         "showlegend": true,
         "type": "scatter",
         "x": [
          -10,
          -9,
          -8,
          -7,
          -6,
          -5,
          -4,
          -3,
          -2,
          -1,
          0,
          1,
          2,
          3,
          4,
          5,
          6,
          7,
          8,
          9,
          10
         ],
         "xaxis": "x1",
         "y": [
          -10,
          -9,
          -8,
          -7,
          -6,
          -5,
          -4,
          -3,
          -2,
          -1,
          0,
          1,
          2,
          3,
          4,
          5,
          6,
          7,
          8,
          9,
          10
         ],
         "yaxis": "y1"
        },
        {
         "colorbar": {
          "len": 0.4525371828521435,
          "title": "",
          "x": 0.9934383202099738,
          "y": 0.7638888888888888
         },
         "legendgroup": "y1",
         "line": {
          "color": "rgba(0, 154, 250, 1.000)",
          "dash": "solid",
          "shape": "linear",
          "width": 1
         },
         "mode": "lines",
         "name": "y1",
         "showlegend": true,
         "type": "scatter",
         "x": [
          -10,
          -9,
          -8,
          -7,
          -6,
          -5,
          -4,
          -3,
          -2,
          -1,
          0,
          1,
          2,
          3,
          4,
          5,
          6,
          7,
          8,
          9,
          10
         ],
         "xaxis": "x2",
         "y": [
          100,
          81,
          64,
          49,
          36,
          25,
          16,
          9,
          4,
          1,
          0,
          1,
          4,
          9,
          16,
          25,
          36,
          49,
          64,
          81,
          100
         ],
         "yaxis": "y2"
        },
        {
         "colorbar": {
          "len": 0.45253718285214345,
          "title": "",
          "x": 0.49343832020997375,
          "y": 0.2638888888888889
         },
         "legendgroup": "y1",
         "line": {
          "color": "rgba(0, 154, 250, 1.000)",
          "dash": "solid",
          "shape": "linear",
          "width": 1
         },
         "mode": "lines",
         "name": "y1",
         "showlegend": true,
         "type": "scatter",
         "x": [
          -10,
          -9,
          -8,
          -7,
          -6,
          -5,
          -4,
          -3,
          -2,
          -1,
          0,
          1,
          2,
          3,
          4,
          5,
          6,
          7,
          8,
          9,
          10
         ],
         "xaxis": "x3",
         "y": [
          -1000,
          -729,
          -512,
          -343,
          -216,
          -125,
          -64,
          -27,
          -8,
          -1,
          0,
          1,
          8,
          27,
          64,
          125,
          216,
          343,
          512,
          729,
          1000
         ],
         "yaxis": "y3"
        },
        {
         "colorbar": {
          "len": 0.45253718285214345,
          "title": "",
          "x": 0.9934383202099738,
          "y": 0.2638888888888889
         },
         "legendgroup": "y1",
         "line": {
          "color": "rgba(0, 154, 250, 1.000)",
          "dash": "solid",
          "shape": "linear",
          "width": 1
         },
         "mode": "lines",
         "name": "y1",
         "showlegend": true,
         "type": "scatter",
         "x": [
          -10,
          -9,
          -8,
          -7,
          -6,
          -5,
          -4,
          -3,
          -2,
          -1,
          0,
          1,
          2,
          3,
          4,
          5,
          6,
          7,
          8,
          9,
          10
         ],
         "xaxis": "x4",
         "y": [
          10000,
          6561,
          4096,
          2401,
          1296,
          625,
          256,
          81,
          16,
          1,
          0,
          1,
          16,
          81,
          256,
          625,
          1296,
          2401,
          4096,
          6561,
          10000
         ],
         "yaxis": "y4"
        }
       ],
       "layout": {
        "annotations": [],
        "height": 400,
        "margin": {
         "b": 20,
         "l": 0,
         "r": 0,
         "t": 20
        },
        "paper_bgcolor": "rgba(255, 255, 255, 1.000)",
        "plot_bgcolor": "rgba(255, 255, 255, 1.000)",
        "showlegend": false,
        "width": 600,
        "xaxis1": {
         "anchor": "y1",
         "domain": [
          0.08063575386410031,
          0.49343832020997375
         ],
         "gridcolor": "rgba(0, 0, 0, 0.100)",
         "gridwidth": 0.5,
         "linecolor": "rgba(0, 0, 0, 1.000)",
         "mirror": false,
         "range": [
          -10.600000000000001,
          10.600000000000001
         ],
         "showgrid": true,
         "showline": true,
         "showticklabels": true,
         "tickangle": 0,
         "tickcolor": "rgb(0, 0, 0)",
         "tickfont": {
          "color": "rgba(0, 0, 0, 1.000)",
          "family": "sans-serif",
          "size": 11
         },
         "tickmode": "array",
         "ticks": "inside",
         "ticktext": [
          "-10",
          "-5",
          "0",
          "5",
          "10"
         ],
         "tickvals": [
          -10,
          -5,
          0,
          5,
          10
         ],
         "title": "",
         "titlefont": {
          "color": "rgba(0, 0, 0, 1.000)",
          "family": "sans-serif",
          "size": 15
         },
         "type": "-",
         "visible": true,
         "zeroline": false,
         "zerolinecolor": "rgba(0, 0, 0, 1.000)"
        },
        "xaxis2": {
         "anchor": "y2",
         "domain": [
          0.5806357538641004,
          0.9934383202099738
         ],
         "gridcolor": "rgba(0, 0, 0, 0.100)",
         "gridwidth": 0.5,
         "linecolor": "rgba(0, 0, 0, 1.000)",
         "mirror": false,
         "range": [
          -10.600000000000001,
          10.600000000000001
         ],
         "showgrid": true,
         "showline": true,
         "showticklabels": true,
         "tickangle": 0,
         "tickcolor": "rgb(0, 0, 0)",
         "tickfont": {
          "color": "rgba(0, 0, 0, 1.000)",
          "family": "sans-serif",
          "size": 11
         },
         "tickmode": "array",
         "ticks": "inside",
         "ticktext": [
          "-10",
          "-5",
          "0",
          "5",
          "10"
         ],
         "tickvals": [
          -10,
          -5,
          0,
          5,
          10
         ],
         "title": "",
         "titlefont": {
          "color": "rgba(0, 0, 0, 1.000)",
          "family": "sans-serif",
          "size": 15
         },
         "type": "-",
         "visible": true,
         "zeroline": false,
         "zerolinecolor": "rgba(0, 0, 0, 1.000)"
        },
        "xaxis3": {
         "anchor": "y3",
         "domain": [
          0.08063575386410031,
          0.49343832020997375
         ],
         "gridcolor": "rgba(0, 0, 0, 0.100)",
         "gridwidth": 0.5,
         "linecolor": "rgba(0, 0, 0, 1.000)",
         "mirror": false,
         "range": [
          -10.600000000000001,
          10.600000000000001
         ],
         "showgrid": true,
         "showline": true,
         "showticklabels": true,
         "tickangle": 0,
         "tickcolor": "rgb(0, 0, 0)",
         "tickfont": {
          "color": "rgba(0, 0, 0, 1.000)",
          "family": "sans-serif",
          "size": 11
         },
         "tickmode": "array",
         "ticks": "inside",
         "ticktext": [
          "-10",
          "-5",
          "0",
          "5",
          "10"
         ],
         "tickvals": [
          -10,
          -5,
          0,
          5,
          10
         ],
         "title": "",
         "titlefont": {
          "color": "rgba(0, 0, 0, 1.000)",
          "family": "sans-serif",
          "size": 15
         },
         "type": "-",
         "visible": true,
         "zeroline": false,
         "zerolinecolor": "rgba(0, 0, 0, 1.000)"
        },
        "xaxis4": {
         "anchor": "y4",
         "domain": [
          0.5806357538641004,
          0.9934383202099738
         ],
         "gridcolor": "rgba(0, 0, 0, 0.100)",
         "gridwidth": 0.5,
         "linecolor": "rgba(0, 0, 0, 1.000)",
         "mirror": false,
         "range": [
          -10.600000000000001,
          10.600000000000001
         ],
         "showgrid": true,
         "showline": true,
         "showticklabels": true,
         "tickangle": 0,
         "tickcolor": "rgb(0, 0, 0)",
         "tickfont": {
          "color": "rgba(0, 0, 0, 1.000)",
          "family": "sans-serif",
          "size": 11
         },
         "tickmode": "array",
         "ticks": "inside",
         "ticktext": [
          "-10",
          "-5",
          "0",
          "5",
          "10"
         ],
         "tickvals": [
          -10,
          -5,
          0,
          5,
          10
         ],
         "title": "",
         "titlefont": {
          "color": "rgba(0, 0, 0, 1.000)",
          "family": "sans-serif",
          "size": 15
         },
         "type": "-",
         "visible": true,
         "zeroline": false,
         "zerolinecolor": "rgba(0, 0, 0, 1.000)"
        },
        "yaxis1": {
         "anchor": "x1",
         "domain": [
          0.5376202974628171,
          0.9901574803149606
         ],
         "gridcolor": "rgba(0, 0, 0, 0.100)",
         "gridwidth": 0.5,
         "linecolor": "rgba(0, 0, 0, 1.000)",
         "mirror": false,
         "range": [
          -10.600000000000001,
          10.600000000000001
         ],
         "showgrid": true,
         "showline": true,
         "showticklabels": true,
         "tickangle": 0,
         "tickcolor": "rgb(0, 0, 0)",
         "tickfont": {
          "color": "rgba(0, 0, 0, 1.000)",
          "family": "sans-serif",
          "size": 11
         },
         "tickmode": "array",
         "ticks": "inside",
         "ticktext": [
          "-10",
          "-5",
          "0",
          "5",
          "10"
         ],
         "tickvals": [
          -10,
          -5,
          0,
          5,
          10
         ],
         "title": "",
         "titlefont": {
          "color": "rgba(0, 0, 0, 1.000)",
          "family": "sans-serif",
          "size": 15
         },
         "type": "-",
         "visible": true,
         "zeroline": false,
         "zerolinecolor": "rgba(0, 0, 0, 1.000)"
        },
        "yaxis2": {
         "anchor": "x2",
         "domain": [
          0.5376202974628171,
          0.9901574803149606
         ],
         "gridcolor": "rgba(0, 0, 0, 0.100)",
         "gridwidth": 0.5,
         "linecolor": "rgba(0, 0, 0, 1.000)",
         "mirror": false,
         "range": [
          -3,
          103
         ],
         "showgrid": true,
         "showline": true,
         "showticklabels": true,
         "tickangle": 0,
         "tickcolor": "rgb(0, 0, 0)",
         "tickfont": {
          "color": "rgba(0, 0, 0, 1.000)",
          "family": "sans-serif",
          "size": 11
         },
         "tickmode": "array",
         "ticks": "inside",
         "ticktext": [
          "0",
          "25",
          "50",
          "75",
          "100"
         ],
         "tickvals": [
          0,
          25,
          50,
          75,
          100
         ],
         "title": "",
         "titlefont": {
          "color": "rgba(0, 0, 0, 1.000)",
          "family": "sans-serif",
          "size": 15
         },
         "type": "-",
         "visible": true,
         "zeroline": false,
         "zerolinecolor": "rgba(0, 0, 0, 1.000)"
        },
        "yaxis3": {
         "anchor": "x3",
         "domain": [
          0.03762029746281716,
          0.4901574803149606
         ],
         "gridcolor": "rgba(0, 0, 0, 0.100)",
         "gridwidth": 0.5,
         "linecolor": "rgba(0, 0, 0, 1.000)",
         "mirror": false,
         "range": [
          -1060,
          1060
         ],
         "showgrid": true,
         "showline": true,
         "showticklabels": true,
         "tickangle": 0,
         "tickcolor": "rgb(0, 0, 0)",
         "tickfont": {
          "color": "rgba(0, 0, 0, 1.000)",
          "family": "sans-serif",
          "size": 11
         },
         "tickmode": "array",
         "ticks": "inside",
         "ticktext": [
          "-1000",
          "-500",
          "0",
          "500",
          "1000"
         ],
         "tickvals": [
          -1000,
          -500,
          0,
          500,
          1000
         ],
         "title": "",
         "titlefont": {
          "color": "rgba(0, 0, 0, 1.000)",
          "family": "sans-serif",
          "size": 15
         },
         "type": "-",
         "visible": true,
         "zeroline": false,
         "zerolinecolor": "rgba(0, 0, 0, 1.000)"
        },
        "yaxis4": {
         "anchor": "x4",
         "domain": [
          0.03762029746281716,
          0.4901574803149606
         ],
         "gridcolor": "rgba(0, 0, 0, 0.100)",
         "gridwidth": 0.5,
         "linecolor": "rgba(0, 0, 0, 1.000)",
         "mirror": false,
         "range": [
          -300,
          10300
         ],
         "showgrid": true,
         "showline": true,
         "showticklabels": true,
         "tickangle": 0,
         "tickcolor": "rgb(0, 0, 0)",
         "tickfont": {
          "color": "rgba(0, 0, 0, 1.000)",
          "family": "sans-serif",
          "size": 11
         },
         "tickmode": "array",
         "ticks": "inside",
         "ticktext": [
          "0",
          "2500",
          "5000",
          "7500",
          "10000"
         ],
         "tickvals": [
          0,
          2500,
          5000,
          7500,
          10000
         ],
         "title": "",
         "titlefont": {
          "color": "rgba(0, 0, 0, 1.000)",
          "family": "sans-serif",
          "size": 15
         },
         "type": "-",
         "visible": true,
         "zeroline": false,
         "zerolinecolor": "rgba(0, 0, 0, 1.000)"
        }
       }
      },
      "image/png": "[encoded data removed]",
      "image/svg+xml": [
       "<svg class=\"main-svg\" xmlns=\"http://www.w3.org/2000/svg\" xmlns:xlink=\"http://www.w3.org/1999/xlink\" width=\"700\" height=\"500\" style=\"\" viewBox=\"0 0 700 500\"><rect x=\"0\" y=\"0\" width=\"700\" height=\"500\" style=\"fill: rgb(255, 255, 255); fill-opacity: 1;\"/><defs id=\"defs-e6cbe0\"><g class=\"clips\"><clipPath id=\"clipe6cbe0xyplot\" class=\"plotclip\"><rect width=\"247.68153980752405\" height=\"176.48950131233596\"/></clipPath><clipPath id=\"clipe6cbe0x2y2plot\" class=\"plotclip\"><rect width=\"247.68153980752405\" height=\"176.48950131233596\"/></clipPath><clipPath id=\"clipe6cbe0x3y3plot\" class=\"plotclip\"><rect width=\"247.68153980752405\" height=\"176.48950131233593\"/></clipPath><clipPath id=\"clipe6cbe0x4y4plot\" class=\"plotclip\"><rect width=\"247.68153980752405\" height=\"176.48950131233593\"/></clipPath><clipPath class=\"axesclip\" id=\"clipe6cbe0x\"><rect x=\"98.38145231846019\" y=\"0\" width=\"247.68153980752405\" height=\"500\"/></clipPath><clipPath class=\"axesclip\" id=\"clipe6cbe0y\"><rect x=\"0\" y=\"63.83858267716535\" width=\"700\" height=\"176.48950131233596\"/></clipPath><clipPath class=\"axesclip\" id=\"clipe6cbe0xy\"><rect x=\"98.38145231846019\" y=\"63.83858267716535\" width=\"247.68153980752405\" height=\"176.48950131233596\"/></clipPath><clipPath class=\"axesclip\" id=\"clipe6cbe0y2\"><rect x=\"0\" y=\"63.83858267716535\" width=\"700\" height=\"176.48950131233596\"/></clipPath><clipPath class=\"axesclip\" id=\"clipe6cbe0xy2\"><rect x=\"98.38145231846019\" y=\"63.83858267716535\" width=\"247.68153980752405\" height=\"176.48950131233596\"/></clipPath><clipPath class=\"axesclip\" id=\"clipe6cbe0y3\"><rect x=\"0\" y=\"258.83858267716533\" width=\"700\" height=\"176.48950131233593\"/></clipPath><clipPath class=\"axesclip\" id=\"clipe6cbe0xy3\"><rect x=\"98.38145231846019\" y=\"258.83858267716533\" width=\"247.68153980752405\" height=\"176.48950131233593\"/></clipPath><clipPath class=\"axesclip\" id=\"clipe6cbe0y4\"><rect x=\"0\" y=\"258.83858267716533\" width=\"700\" height=\"176.48950131233593\"/></clipPath><clipPath class=\"axesclip\" id=\"clipe6cbe0xy4\"><rect x=\"98.38145231846019\" y=\"258.83858267716533\" width=\"247.68153980752405\" height=\"176.48950131233593\"/></clipPath><clipPath class=\"axesclip\" id=\"clipe6cbe0x2\"><rect x=\"398.3814523184602\" y=\"0\" width=\"247.68153980752405\" height=\"500\"/></clipPath><clipPath class=\"axesclip\" id=\"clipe6cbe0x2y\"><rect x=\"398.3814523184602\" y=\"63.83858267716535\" width=\"247.68153980752405\" height=\"176.48950131233596\"/></clipPath><clipPath class=\"axesclip\" id=\"clipe6cbe0x2y2\"><rect x=\"398.3814523184602\" y=\"63.83858267716535\" width=\"247.68153980752405\" height=\"176.48950131233596\"/></clipPath><clipPath class=\"axesclip\" id=\"clipe6cbe0x2y3\"><rect x=\"398.3814523184602\" y=\"258.83858267716533\" width=\"247.68153980752405\" height=\"176.48950131233593\"/></clipPath><clipPath class=\"axesclip\" id=\"clipe6cbe0x2y4\"><rect x=\"398.3814523184602\" y=\"258.83858267716533\" width=\"247.68153980752405\" height=\"176.48950131233593\"/></clipPath><clipPath class=\"axesclip\" id=\"clipe6cbe0x3\"><rect x=\"98.38145231846019\" y=\"0\" width=\"247.68153980752405\" height=\"500\"/></clipPath><clipPath class=\"axesclip\" id=\"clipe6cbe0x3y\"><rect x=\"98.38145231846019\" y=\"63.83858267716535\" width=\"247.68153980752405\" height=\"176.48950131233596\"/></clipPath><clipPath class=\"axesclip\" id=\"clipe6cbe0x3y2\"><rect x=\"98.38145231846019\" y=\"63.83858267716535\" width=\"247.68153980752405\" height=\"176.48950131233596\"/></clipPath><clipPath class=\"axesclip\" id=\"clipe6cbe0x3y3\"><rect x=\"98.38145231846019\" y=\"258.83858267716533\" width=\"247.68153980752405\" height=\"176.48950131233593\"/></clipPath><clipPath class=\"axesclip\" id=\"clipe6cbe0x3y4\"><rect x=\"98.38145231846019\" y=\"258.83858267716533\" width=\"247.68153980752405\" height=\"176.48950131233593\"/></clipPath><clipPath class=\"axesclip\" id=\"clipe6cbe0x4\"><rect x=\"398.3814523184602\" y=\"0\" width=\"247.68153980752405\" height=\"500\"/></clipPath><clipPath class=\"axesclip\" id=\"clipe6cbe0x4y\"><rect x=\"398.3814523184602\" y=\"63.83858267716535\" width=\"247.68153980752405\" height=\"176.48950131233596\"/></clipPath><clipPath class=\"axesclip\" id=\"clipe6cbe0x4y2\"><rect x=\"398.3814523184602\" y=\"63.83858267716535\" width=\"247.68153980752405\" height=\"176.48950131233596\"/></clipPath><clipPath class=\"axesclip\" id=\"clipe6cbe0x4y3\"><rect x=\"398.3814523184602\" y=\"258.83858267716533\" width=\"247.68153980752405\" height=\"176.48950131233593\"/></clipPath><clipPath class=\"axesclip\" id=\"clipe6cbe0x4y4\"><rect x=\"398.3814523184602\" y=\"258.83858267716533\" width=\"247.68153980752405\" height=\"176.48950131233593\"/></clipPath></g><g class=\"gradients\"/></defs><g class=\"bglayer\"/><g class=\"layer-below\"><g class=\"imagelayer\"/><g class=\"shapelayer\"/></g><g class=\"cartesianlayer\"><g class=\"subplot xy\"><g class=\"layer-subplot\"><g class=\"shapelayer\"/><g class=\"imagelayer\"/></g><g class=\"gridlayer\"><g class=\"x\"><path class=\"xgrid crisp\" transform=\"translate(105.3914523184602,0)\" d=\"M0,63.83858267716535v176.48950131233596\" style=\"stroke: rgb(0, 0, 0); stroke-opacity: 0.1; stroke-width: 0.5px;\"/><path class=\"xgrid crisp\" transform=\"translate(163.8114523184602,0)\" d=\"M0,63.83858267716535v176.48950131233596\" style=\"stroke: rgb(0, 0, 0); stroke-opacity: 0.1; stroke-width: 0.5px;\"/><path class=\"xgrid crisp\" transform=\"translate(222.2214523184602,0)\" d=\"M0,63.83858267716535v176.48950131233596\" style=\"stroke: rgb(0, 0, 0); stroke-opacity: 0.1; stroke-width: 0.5px;\"/><path class=\"xgrid crisp\" transform=\"translate(280.6414523184602,0)\" d=\"M0,63.83858267716535v176.48950131233596\" style=\"stroke: rgb(0, 0, 0); stroke-opacity: 0.1; stroke-width: 0.5px;\"/><path class=\"xgrid crisp\" transform=\"translate(339.0514523184602,0)\" d=\"M0,63.83858267716535v176.48950131233596\" style=\"stroke: rgb(0, 0, 0); stroke-opacity: 0.1; stroke-width: 0.5px;\"/></g><g class=\"y\"><path class=\"ygrid crisp\" transform=\"translate(0,235.32858267716534)\" d=\"M98.38145231846019,0h247.68153980752405\" style=\"stroke: rgb(0, 0, 0); stroke-opacity: 0.1; stroke-width: 0.5px;\"/><path class=\"ygrid crisp\" transform=\"translate(0,193.70858267716534)\" d=\"M98.38145231846019,0h247.68153980752405\" style=\"stroke: rgb(0, 0, 0); stroke-opacity: 0.1; stroke-width: 0.5px;\"/><path class=\"ygrid crisp\" transform=\"translate(0,152.07858267716534)\" d=\"M98.38145231846019,0h247.68153980752405\" style=\"stroke: rgb(0, 0, 0); stroke-opacity: 0.1; stroke-width: 0.5px;\"/><path class=\"ygrid crisp\" transform=\"translate(0,110.45858267716534)\" d=\"M98.38145231846019,0h247.68153980752405\" style=\"stroke: rgb(0, 0, 0); stroke-opacity: 0.1; stroke-width: 0.5px;\"/><path class=\"ygrid crisp\" transform=\"translate(0,68.82858267716534)\" d=\"M98.38145231846019,0h247.68153980752405\" style=\"stroke: rgb(0, 0, 0); stroke-opacity: 0.1; stroke-width: 0.5px;\"/></g></g><g class=\"zerolinelayer\"/><path class=\"xlines-below\"/><path class=\"ylines-below\"/><g class=\"overlines-below\"/><g class=\"xaxislayer-below\"/><g class=\"yaxislayer-below\"/><g class=\"overaxes-below\"/><g class=\"plot\" transform=\"translate(98.38145231846019,63.83858267716535)\" clip-path=\"url('#clipe6cbe0xyplot')\"><g class=\"scatterlayer mlayer\"><g class=\"trace scatter tracedc9c0e\" style=\"stroke-miterlimit: 2; opacity: 1;\"><g class=\"fills\"/><g class=\"errorbars\"/><g class=\"lines\"><path class=\"js-line\" d=\"M7.01,171.49L240.67,4.99\" style=\"vector-effect: non-scaling-stroke; fill: none; stroke: rgb(0, 154, 250); stroke-opacity: 1; stroke-width: 1px; opacity: 1;\"/></g><g class=\"points\"/><g class=\"text\"/></g></g></g><g class=\"overplot\"/><path class=\"xlines-above crisp\" d=\"M97.38145231846019,240.8280839895013H346.06299212598424\" style=\"fill: none; stroke-width: 1px; stroke: rgb(0, 0, 0); stroke-opacity: 1;\"/><path class=\"ylines-above crisp\" d=\"M97.88145231846019,63.83858267716535V240.3280839895013\" style=\"fill: none; stroke-width: 1px; stroke: rgb(0, 0, 0); stroke-opacity: 1;\"/><g class=\"overlines-above\"/><g class=\"xaxislayer-above\"><path class=\"xtick ticks crisp\" d=\"M0,240.3280839895013v-5\" transform=\"translate(105.3914523184602,0)\" style=\"stroke: rgb(0, 0, 0); stroke-opacity: 1; stroke-width: 1px;\"/><path class=\"xtick ticks crisp\" d=\"M0,240.3280839895013v-5\" transform=\"translate(163.8114523184602,0)\" style=\"stroke: rgb(0, 0, 0); stroke-opacity: 1; stroke-width: 1px;\"/><path class=\"xtick ticks crisp\" d=\"M0,240.3280839895013v-5\" transform=\"translate(222.2214523184602,0)\" style=\"stroke: rgb(0, 0, 0); stroke-opacity: 1; stroke-width: 1px;\"/><path class=\"xtick ticks crisp\" d=\"M0,240.3280839895013v-5\" transform=\"translate(280.6414523184602,0)\" style=\"stroke: rgb(0, 0, 0); stroke-opacity: 1; stroke-width: 1px;\"/><path class=\"xtick ticks crisp\" d=\"M0,240.3280839895013v-5\" transform=\"translate(339.0514523184602,0)\" style=\"stroke: rgb(0, 0, 0); stroke-opacity: 1; stroke-width: 1px;\"/><g class=\"xtick\"><text text-anchor=\"middle\" x=\"0\" y=\"254.52808398950128\" transform=\"translate(105.3914523184602,0)\" style=\"font-family: sans-serif; font-size: 11px; fill: rgb(0, 0, 0); fill-opacity: 1; white-space: pre;\">-10</text></g><g class=\"xtick\"><text text-anchor=\"middle\" x=\"0\" y=\"254.52808398950128\" transform=\"translate(163.8114523184602,0)\" style=\"font-family: sans-serif; font-size: 11px; fill: rgb(0, 0, 0); fill-opacity: 1; white-space: pre;\">-5</text></g><g class=\"xtick\"><text text-anchor=\"middle\" x=\"0\" y=\"254.52808398950128\" transform=\"translate(222.2214523184602,0)\" style=\"font-family: sans-serif; font-size: 11px; fill: rgb(0, 0, 0); fill-opacity: 1; white-space: pre;\">0</text></g><g class=\"xtick\"><text text-anchor=\"middle\" x=\"0\" y=\"254.52808398950128\" transform=\"translate(280.6414523184602,0)\" style=\"font-family: sans-serif; font-size: 11px; fill: rgb(0, 0, 0); fill-opacity: 1; white-space: pre;\">5</text></g><g class=\"xtick\"><text text-anchor=\"middle\" x=\"0\" y=\"254.52808398950128\" transform=\"translate(339.0514523184602,0)\" style=\"font-family: sans-serif; font-size: 11px; fill: rgb(0, 0, 0); fill-opacity: 1; white-space: pre;\">10</text></g></g><g class=\"yaxislayer-above\"><path class=\"ytick ticks crisp\" d=\"M98.38145231846019,0h5\" transform=\"translate(0,235.32858267716534)\" style=\"stroke: rgb(0, 0, 0); stroke-opacity: 1; stroke-width: 1px;\"/><path class=\"ytick ticks crisp\" d=\"M98.38145231846019,0h5\" transform=\"translate(0,193.70858267716534)\" style=\"stroke: rgb(0, 0, 0); stroke-opacity: 1; stroke-width: 1px;\"/><path class=\"ytick ticks crisp\" d=\"M98.38145231846019,0h5\" transform=\"translate(0,152.07858267716534)\" style=\"stroke: rgb(0, 0, 0); stroke-opacity: 1; stroke-width: 1px;\"/><path class=\"ytick ticks crisp\" d=\"M98.38145231846019,0h5\" transform=\"translate(0,110.45858267716534)\" style=\"stroke: rgb(0, 0, 0); stroke-opacity: 1; stroke-width: 1px;\"/><path class=\"ytick ticks crisp\" d=\"M98.38145231846019,0h5\" transform=\"translate(0,68.82858267716534)\" style=\"stroke: rgb(0, 0, 0); stroke-opacity: 1; stroke-width: 1px;\"/><g class=\"ytick\"><text text-anchor=\"end\" x=\"95.18145231846019\" y=\"3.8499999999999996\" transform=\"translate(0,235.32858267716534)\" style=\"font-family: sans-serif; font-size: 11px; fill: rgb(0, 0, 0); fill-opacity: 1; white-space: pre;\">-10</text></g><g class=\"ytick\"><text text-anchor=\"end\" x=\"95.18145231846019\" y=\"3.8499999999999996\" transform=\"translate(0,193.70858267716534)\" style=\"font-family: sans-serif; font-size: 11px; fill: rgb(0, 0, 0); fill-opacity: 1; white-space: pre;\">-5</text></g><g class=\"ytick\"><text text-anchor=\"end\" x=\"95.18145231846019\" y=\"3.8499999999999996\" transform=\"translate(0,152.07858267716534)\" style=\"font-family: sans-serif; font-size: 11px; fill: rgb(0, 0, 0); fill-opacity: 1; white-space: pre;\">0</text></g><g class=\"ytick\"><text text-anchor=\"end\" x=\"95.18145231846019\" y=\"3.8499999999999996\" transform=\"translate(0,110.45858267716534)\" style=\"font-family: sans-serif; font-size: 11px; fill: rgb(0, 0, 0); fill-opacity: 1; white-space: pre;\">5</text></g><g class=\"ytick\"><text text-anchor=\"end\" x=\"95.18145231846019\" y=\"3.8499999999999996\" transform=\"translate(0,68.82858267716534)\" style=\"font-family: sans-serif; font-size: 11px; fill: rgb(0, 0, 0); fill-opacity: 1; white-space: pre;\">10</text></g></g><g class=\"overaxes-above\"/></g><g class=\"subplot x2y2\"><g class=\"layer-subplot\"><g class=\"shapelayer\"/><g class=\"imagelayer\"/></g><g class=\"gridlayer\"><g class=\"x2\"><path class=\"x2grid crisp\" transform=\"translate(405.3914523184602,0)\" d=\"M0,63.83858267716535v176.48950131233596\" style=\"stroke: rgb(0, 0, 0); stroke-opacity: 0.1; stroke-width: 0.5px;\"/><path class=\"x2grid crisp\" transform=\"translate(463.8114523184602,0)\" d=\"M0,63.83858267716535v176.48950131233596\" style=\"stroke: rgb(0, 0, 0); stroke-opacity: 0.1; stroke-width: 0.5px;\"/><path class=\"x2grid crisp\" transform=\"translate(522.2214523184603,0)\" d=\"M0,63.83858267716535v176.48950131233596\" style=\"stroke: rgb(0, 0, 0); stroke-opacity: 0.1; stroke-width: 0.5px;\"/><path class=\"x2grid crisp\" transform=\"translate(580.6414523184602,0)\" d=\"M0,63.83858267716535v176.48950131233596\" style=\"stroke: rgb(0, 0, 0); stroke-opacity: 0.1; stroke-width: 0.5px;\"/><path class=\"x2grid crisp\" transform=\"translate(639.0514523184602,0)\" d=\"M0,63.83858267716535v176.48950131233596\" style=\"stroke: rgb(0, 0, 0); stroke-opacity: 0.1; stroke-width: 0.5px;\"/></g><g class=\"y2\"><path class=\"y2grid crisp\" transform=\"translate(0,235.32858267716534)\" d=\"M398.3814523184602,0h247.68153980752405\" style=\"stroke: rgb(0, 0, 0); stroke-opacity: 0.1; stroke-width: 0.5px;\"/><path class=\"y2grid crisp\" transform=\"translate(0,193.70858267716534)\" d=\"M398.3814523184602,0h247.68153980752405\" style=\"stroke: rgb(0, 0, 0); stroke-opacity: 0.1; stroke-width: 0.5px;\"/><path class=\"y2grid crisp\" transform=\"translate(0,152.07858267716534)\" d=\"M398.3814523184602,0h247.68153980752405\" style=\"stroke: rgb(0, 0, 0); stroke-opacity: 0.1; stroke-width: 0.5px;\"/><path class=\"y2grid crisp\" transform=\"translate(0,110.45858267716534)\" d=\"M398.3814523184602,0h247.68153980752405\" style=\"stroke: rgb(0, 0, 0); stroke-opacity: 0.1; stroke-width: 0.5px;\"/><path class=\"y2grid crisp\" transform=\"translate(0,68.82858267716534)\" d=\"M398.3814523184602,0h247.68153980752405\" style=\"stroke: rgb(0, 0, 0); stroke-opacity: 0.1; stroke-width: 0.5px;\"/></g></g><g class=\"zerolinelayer\"/><path class=\"xlines-below\"/><path class=\"ylines-below\"/><g class=\"overlines-below\"/><g class=\"xaxislayer-below\"/><g class=\"yaxislayer-below\"/><g class=\"overaxes-below\"/><g class=\"plot\" transform=\"translate(398.3814523184602,63.83858267716535)\" clip-path=\"url('#clipe6cbe0x2y2plot')\"><g class=\"scatterlayer mlayer\"><g class=\"trace scatter trace8e8389\" style=\"stroke-miterlimit: 2; opacity: 1;\"><g class=\"fills\"/><g class=\"errorbars\"/><g class=\"lines\"><path class=\"js-line\" d=\"M7.01,4.99L18.69,36.63L30.38,64.93L42.06,89.91L53.74,111.55L65.43,129.87L77.11,144.85L88.79,156.51L100.47,164.83L112.16,169.83L123.84,171.49L135.52,169.83L147.21,164.83L158.89,156.51L170.57,144.85L182.26,129.87L193.94,111.55L205.62,89.91L217.31,64.93L228.99,36.63L240.67,4.99\" style=\"vector-effect: non-scaling-stroke; fill: none; stroke: rgb(0, 154, 250); stroke-opacity: 1; stroke-width: 1px; opacity: 1;\"/></g><g class=\"points\"/><g class=\"text\"/></g></g></g><g class=\"overplot\"/><path class=\"xlines-above crisp\" d=\"M397.3814523184602,240.8280839895013H646.0629921259842\" style=\"fill: none; stroke-width: 1px; stroke: rgb(0, 0, 0); stroke-opacity: 1;\"/><path class=\"ylines-above crisp\" d=\"M397.8814523184602,63.83858267716535V240.3280839895013\" style=\"fill: none; stroke-width: 1px; stroke: rgb(0, 0, 0); stroke-opacity: 1;\"/><g class=\"overlines-above\"/><g class=\"xaxislayer-above\"><path class=\"x2tick ticks crisp\" d=\"M0,240.3280839895013v-5\" transform=\"translate(405.3914523184602,0)\" style=\"stroke: rgb(0, 0, 0); stroke-opacity: 1; stroke-width: 1px;\"/><path class=\"x2tick ticks crisp\" d=\"M0,240.3280839895013v-5\" transform=\"translate(463.8114523184602,0)\" style=\"stroke: rgb(0, 0, 0); stroke-opacity: 1; stroke-width: 1px;\"/><path class=\"x2tick ticks crisp\" d=\"M0,240.3280839895013v-5\" transform=\"translate(522.2214523184603,0)\" style=\"stroke: rgb(0, 0, 0); stroke-opacity: 1; stroke-width: 1px;\"/><path class=\"x2tick ticks crisp\" d=\"M0,240.3280839895013v-5\" transform=\"translate(580.6414523184602,0)\" style=\"stroke: rgb(0, 0, 0); stroke-opacity: 1; stroke-width: 1px;\"/><path class=\"x2tick ticks crisp\" d=\"M0,240.3280839895013v-5\" transform=\"translate(639.0514523184602,0)\" style=\"stroke: rgb(0, 0, 0); stroke-opacity: 1; stroke-width: 1px;\"/><g class=\"x2tick\"><text text-anchor=\"middle\" x=\"0\" y=\"254.52808398950128\" transform=\"translate(405.3914523184602,0)\" style=\"font-family: sans-serif; font-size: 11px; fill: rgb(0, 0, 0); fill-opacity: 1; white-space: pre;\">-10</text></g><g class=\"x2tick\"><text text-anchor=\"middle\" x=\"0\" y=\"254.52808398950128\" transform=\"translate(463.8114523184602,0)\" style=\"font-family: sans-serif; font-size: 11px; fill: rgb(0, 0, 0); fill-opacity: 1; white-space: pre;\">-5</text></g><g class=\"x2tick\"><text text-anchor=\"middle\" x=\"0\" y=\"254.52808398950128\" transform=\"translate(522.2214523184603,0)\" style=\"font-family: sans-serif; font-size: 11px; fill: rgb(0, 0, 0); fill-opacity: 1; white-space: pre;\">0</text></g><g class=\"x2tick\"><text text-anchor=\"middle\" x=\"0\" y=\"254.52808398950128\" transform=\"translate(580.6414523184602,0)\" style=\"font-family: sans-serif; font-size: 11px; fill: rgb(0, 0, 0); fill-opacity: 1; white-space: pre;\">5</text></g><g class=\"x2tick\"><text text-anchor=\"middle\" x=\"0\" y=\"254.52808398950128\" transform=\"translate(639.0514523184602,0)\" style=\"font-family: sans-serif; font-size: 11px; fill: rgb(0, 0, 0); fill-opacity: 1; white-space: pre;\">10</text></g></g><g class=\"yaxislayer-above\"><path class=\"y2tick ticks crisp\" d=\"M398.3814523184602,0h5\" transform=\"translate(0,235.32858267716534)\" style=\"stroke: rgb(0, 0, 0); stroke-opacity: 1; stroke-width: 1px;\"/><path class=\"y2tick ticks crisp\" d=\"M398.3814523184602,0h5\" transform=\"translate(0,193.70858267716534)\" style=\"stroke: rgb(0, 0, 0); stroke-opacity: 1; stroke-width: 1px;\"/><path class=\"y2tick ticks crisp\" d=\"M398.3814523184602,0h5\" transform=\"translate(0,152.07858267716534)\" style=\"stroke: rgb(0, 0, 0); stroke-opacity: 1; stroke-width: 1px;\"/><path class=\"y2tick ticks crisp\" d=\"M398.3814523184602,0h5\" transform=\"translate(0,110.45858267716534)\" style=\"stroke: rgb(0, 0, 0); stroke-opacity: 1; stroke-width: 1px;\"/><path class=\"y2tick ticks crisp\" d=\"M398.3814523184602,0h5\" transform=\"translate(0,68.82858267716534)\" style=\"stroke: rgb(0, 0, 0); stroke-opacity: 1; stroke-width: 1px;\"/><g class=\"y2tick\"><text text-anchor=\"end\" x=\"395.18145231846023\" y=\"3.8499999999999996\" transform=\"translate(0,235.32858267716534)\" style=\"font-family: sans-serif; font-size: 11px; fill: rgb(0, 0, 0); fill-opacity: 1; white-space: pre;\">0</text></g><g class=\"y2tick\"><text text-anchor=\"end\" x=\"395.18145231846023\" y=\"3.8499999999999996\" transform=\"translate(0,193.70858267716534)\" style=\"font-family: sans-serif; font-size: 11px; fill: rgb(0, 0, 0); fill-opacity: 1; white-space: pre;\">25</text></g><g class=\"y2tick\"><text text-anchor=\"end\" x=\"395.18145231846023\" y=\"3.8499999999999996\" transform=\"translate(0,152.07858267716534)\" style=\"font-family: sans-serif; font-size: 11px; fill: rgb(0, 0, 0); fill-opacity: 1; white-space: pre;\">50</text></g><g class=\"y2tick\"><text text-anchor=\"end\" x=\"395.18145231846023\" y=\"3.8499999999999996\" transform=\"translate(0,110.45858267716534)\" style=\"font-family: sans-serif; font-size: 11px; fill: rgb(0, 0, 0); fill-opacity: 1; white-space: pre;\">75</text></g><g class=\"y2tick\"><text text-anchor=\"end\" x=\"395.18145231846023\" y=\"3.8499999999999996\" transform=\"translate(0,68.82858267716534)\" style=\"font-family: sans-serif; font-size: 11px; fill: rgb(0, 0, 0); fill-opacity: 1; white-space: pre;\">100</text></g></g><g class=\"overaxes-above\"/></g><g class=\"subplot x3y3\"><g class=\"layer-subplot\"><g class=\"shapelayer\"/><g class=\"imagelayer\"/></g><g class=\"gridlayer\"><g class=\"x3\"><path class=\"x3grid crisp\" transform=\"translate(105.3914523184602,0)\" d=\"M0,258.83858267716533v176.48950131233593\" style=\"stroke: rgb(0, 0, 0); stroke-opacity: 0.1; stroke-width: 0.5px;\"/><path class=\"x3grid crisp\" transform=\"translate(163.8114523184602,0)\" d=\"M0,258.83858267716533v176.48950131233593\" style=\"stroke: rgb(0, 0, 0); stroke-opacity: 0.1; stroke-width: 0.5px;\"/><path class=\"x3grid crisp\" transform=\"translate(222.2214523184602,0)\" d=\"M0,258.83858267716533v176.48950131233593\" style=\"stroke: rgb(0, 0, 0); stroke-opacity: 0.1; stroke-width: 0.5px;\"/><path class=\"x3grid crisp\" transform=\"translate(280.6414523184602,0)\" d=\"M0,258.83858267716533v176.48950131233593\" style=\"stroke: rgb(0, 0, 0); stroke-opacity: 0.1; stroke-width: 0.5px;\"/><path class=\"x3grid crisp\" transform=\"translate(339.0514523184602,0)\" d=\"M0,258.83858267716533v176.48950131233593\" style=\"stroke: rgb(0, 0, 0); stroke-opacity: 0.1; stroke-width: 0.5px;\"/></g><g class=\"y3\"><path class=\"y3grid crisp\" transform=\"translate(0,430.32858267716534)\" d=\"M98.38145231846019,0h247.68153980752405\" style=\"stroke: rgb(0, 0, 0); stroke-opacity: 0.1; stroke-width: 0.5px;\"/><path class=\"y3grid crisp\" transform=\"translate(0,388.70858267716534)\" d=\"M98.38145231846019,0h247.68153980752405\" style=\"stroke: rgb(0, 0, 0); stroke-opacity: 0.1; stroke-width: 0.5px;\"/><path class=\"y3grid crisp\" transform=\"translate(0,347.07858267716534)\" d=\"M98.38145231846019,0h247.68153980752405\" style=\"stroke: rgb(0, 0, 0); stroke-opacity: 0.1; stroke-width: 0.5px;\"/><path class=\"y3grid crisp\" transform=\"translate(0,305.45858267716534)\" d=\"M98.38145231846019,0h247.68153980752405\" style=\"stroke: rgb(0, 0, 0); stroke-opacity: 0.1; stroke-width: 0.5px;\"/><path class=\"y3grid crisp\" transform=\"translate(0,263.82858267716534)\" d=\"M98.38145231846019,0h247.68153980752405\" style=\"stroke: rgb(0, 0, 0); stroke-opacity: 0.1; stroke-width: 0.5px;\"/></g></g><g class=\"zerolinelayer\"/><path class=\"xlines-below\"/><path class=\"ylines-below\"/><g class=\"overlines-below\"/><g class=\"xaxislayer-below\"/><g class=\"yaxislayer-below\"/><g class=\"overaxes-below\"/><g class=\"plot\" transform=\"translate(98.38145231846019,258.83858267716533)\" clip-path=\"url('#clipe6cbe0x3y3plot')\"><g class=\"scatterlayer mlayer\"><g class=\"trace scatter trace754a8b\" style=\"stroke-miterlimit: 2; opacity: 1;\"><g class=\"fills\"/><g class=\"errorbars\"/><g class=\"lines\"><path class=\"js-line\" d=\"M7.01,171.49L18.69,148.93L30.38,130.87L42.06,116.8L53.74,106.23L65.43,98.65L77.11,93.57L88.79,90.49L100.47,88.91L123.84,88.24L135.52,88.16L147.21,87.58L158.89,86L170.57,82.92L182.26,77.84L193.94,70.26L205.62,59.69L217.31,45.62L228.99,27.56L240.67,4.99\" style=\"vector-effect: non-scaling-stroke; fill: none; stroke: rgb(0, 154, 250); stroke-opacity: 1; stroke-width: 1px; opacity: 1;\"/></g><g class=\"points\"/><g class=\"text\"/></g></g></g><g class=\"overplot\"/><path class=\"xlines-above crisp\" d=\"M97.38145231846019,435.82808398950124H346.06299212598424\" style=\"fill: none; stroke-width: 1px; stroke: rgb(0, 0, 0); stroke-opacity: 1;\"/><path class=\"ylines-above crisp\" d=\"M97.88145231846019,258.83858267716533V435.32808398950124\" style=\"fill: none; stroke-width: 1px; stroke: rgb(0, 0, 0); stroke-opacity: 1;\"/><g class=\"overlines-above\"/><g class=\"xaxislayer-above\"><path class=\"x3tick ticks crisp\" d=\"M0,435.32808398950124v-5\" transform=\"translate(105.3914523184602,0)\" style=\"stroke: rgb(0, 0, 0); stroke-opacity: 1; stroke-width: 1px;\"/><path class=\"x3tick ticks crisp\" d=\"M0,435.32808398950124v-5\" transform=\"translate(163.8114523184602,0)\" style=\"stroke: rgb(0, 0, 0); stroke-opacity: 1; stroke-width: 1px;\"/><path class=\"x3tick ticks crisp\" d=\"M0,435.32808398950124v-5\" transform=\"translate(222.2214523184602,0)\" style=\"stroke: rgb(0, 0, 0); stroke-opacity: 1; stroke-width: 1px;\"/><path class=\"x3tick ticks crisp\" d=\"M0,435.32808398950124v-5\" transform=\"translate(280.6414523184602,0)\" style=\"stroke: rgb(0, 0, 0); stroke-opacity: 1; stroke-width: 1px;\"/><path class=\"x3tick ticks crisp\" d=\"M0,435.32808398950124v-5\" transform=\"translate(339.0514523184602,0)\" style=\"stroke: rgb(0, 0, 0); stroke-opacity: 1; stroke-width: 1px;\"/><g class=\"x3tick\"><text text-anchor=\"middle\" x=\"0\" y=\"449.5280839895012\" transform=\"translate(105.3914523184602,0)\" style=\"font-family: sans-serif; font-size: 11px; fill: rgb(0, 0, 0); fill-opacity: 1; white-space: pre;\">-10</text></g><g class=\"x3tick\"><text text-anchor=\"middle\" x=\"0\" y=\"449.5280839895012\" transform=\"translate(163.8114523184602,0)\" style=\"font-family: sans-serif; font-size: 11px; fill: rgb(0, 0, 0); fill-opacity: 1; white-space: pre;\">-5</text></g><g class=\"x3tick\"><text text-anchor=\"middle\" x=\"0\" y=\"449.5280839895012\" transform=\"translate(222.2214523184602,0)\" style=\"font-family: sans-serif; font-size: 11px; fill: rgb(0, 0, 0); fill-opacity: 1; white-space: pre;\">0</text></g><g class=\"x3tick\"><text text-anchor=\"middle\" x=\"0\" y=\"449.5280839895012\" transform=\"translate(280.6414523184602,0)\" style=\"font-family: sans-serif; font-size: 11px; fill: rgb(0, 0, 0); fill-opacity: 1; white-space: pre;\">5</text></g><g class=\"x3tick\"><text text-anchor=\"middle\" x=\"0\" y=\"449.5280839895012\" transform=\"translate(339.0514523184602,0)\" style=\"font-family: sans-serif; font-size: 11px; fill: rgb(0, 0, 0); fill-opacity: 1; white-space: pre;\">10</text></g></g><g class=\"yaxislayer-above\"><path class=\"y3tick ticks crisp\" d=\"M98.38145231846019,0h5\" transform=\"translate(0,430.32858267716534)\" style=\"stroke: rgb(0, 0, 0); stroke-opacity: 1; stroke-width: 1px;\"/><path class=\"y3tick ticks crisp\" d=\"M98.38145231846019,0h5\" transform=\"translate(0,388.70858267716534)\" style=\"stroke: rgb(0, 0, 0); stroke-opacity: 1; stroke-width: 1px;\"/><path class=\"y3tick ticks crisp\" d=\"M98.38145231846019,0h5\" transform=\"translate(0,347.07858267716534)\" style=\"stroke: rgb(0, 0, 0); stroke-opacity: 1; stroke-width: 1px;\"/><path class=\"y3tick ticks crisp\" d=\"M98.38145231846019,0h5\" transform=\"translate(0,305.45858267716534)\" style=\"stroke: rgb(0, 0, 0); stroke-opacity: 1; stroke-width: 1px;\"/><path class=\"y3tick ticks crisp\" d=\"M98.38145231846019,0h5\" transform=\"translate(0,263.82858267716534)\" style=\"stroke: rgb(0, 0, 0); stroke-opacity: 1; stroke-width: 1px;\"/><g class=\"y3tick\"><text text-anchor=\"end\" x=\"95.18145231846019\" y=\"3.8499999999999996\" transform=\"translate(0,430.32858267716534)\" style=\"font-family: sans-serif; font-size: 11px; fill: rgb(0, 0, 0); fill-opacity: 1; white-space: pre;\">-1000</text></g><g class=\"y3tick\"><text text-anchor=\"end\" x=\"95.18145231846019\" y=\"3.8499999999999996\" transform=\"translate(0,388.70858267716534)\" style=\"font-family: sans-serif; font-size: 11px; fill: rgb(0, 0, 0); fill-opacity: 1; white-space: pre;\">-500</text></g><g class=\"y3tick\"><text text-anchor=\"end\" x=\"95.18145231846019\" y=\"3.8499999999999996\" transform=\"translate(0,347.07858267716534)\" style=\"font-family: sans-serif; font-size: 11px; fill: rgb(0, 0, 0); fill-opacity: 1; white-space: pre;\">0</text></g><g class=\"y3tick\"><text text-anchor=\"end\" x=\"95.18145231846019\" y=\"3.8499999999999996\" transform=\"translate(0,305.45858267716534)\" style=\"font-family: sans-serif; font-size: 11px; fill: rgb(0, 0, 0); fill-opacity: 1; white-space: pre;\">500</text></g><g class=\"y3tick\"><text text-anchor=\"end\" x=\"95.18145231846019\" y=\"3.8499999999999996\" transform=\"translate(0,263.82858267716534)\" style=\"font-family: sans-serif; font-size: 11px; fill: rgb(0, 0, 0); fill-opacity: 1; white-space: pre;\">1000</text></g></g><g class=\"overaxes-above\"/></g><g class=\"subplot x4y4\"><g class=\"layer-subplot\"><g class=\"shapelayer\"/><g class=\"imagelayer\"/></g><g class=\"gridlayer\"><g class=\"x4\"><path class=\"x4grid crisp\" transform=\"translate(405.3914523184602,0)\" d=\"M0,258.83858267716533v176.48950131233593\" style=\"stroke: rgb(0, 0, 0); stroke-opacity: 0.1; stroke-width: 0.5px;\"/><path class=\"x4grid crisp\" transform=\"translate(463.8114523184602,0)\" d=\"M0,258.83858267716533v176.48950131233593\" style=\"stroke: rgb(0, 0, 0); stroke-opacity: 0.1; stroke-width: 0.5px;\"/><path class=\"x4grid crisp\" transform=\"translate(522.2214523184603,0)\" d=\"M0,258.83858267716533v176.48950131233593\" style=\"stroke: rgb(0, 0, 0); stroke-opacity: 0.1; stroke-width: 0.5px;\"/><path class=\"x4grid crisp\" transform=\"translate(580.6414523184602,0)\" d=\"M0,258.83858267716533v176.48950131233593\" style=\"stroke: rgb(0, 0, 0); stroke-opacity: 0.1; stroke-width: 0.5px;\"/><path class=\"x4grid crisp\" transform=\"translate(639.0514523184602,0)\" d=\"M0,258.83858267716533v176.48950131233593\" style=\"stroke: rgb(0, 0, 0); stroke-opacity: 0.1; stroke-width: 0.5px;\"/></g><g class=\"y4\"><path class=\"y4grid crisp\" transform=\"translate(0,430.32858267716534)\" d=\"M398.3814523184602,0h247.68153980752405\" style=\"stroke: rgb(0, 0, 0); stroke-opacity: 0.1; stroke-width: 0.5px;\"/><path class=\"y4grid crisp\" transform=\"translate(0,388.70858267716534)\" d=\"M398.3814523184602,0h247.68153980752405\" style=\"stroke: rgb(0, 0, 0); stroke-opacity: 0.1; stroke-width: 0.5px;\"/><path class=\"y4grid crisp\" transform=\"translate(0,347.07858267716534)\" d=\"M398.3814523184602,0h247.68153980752405\" style=\"stroke: rgb(0, 0, 0); stroke-opacity: 0.1; stroke-width: 0.5px;\"/><path class=\"y4grid crisp\" transform=\"translate(0,305.45858267716534)\" d=\"M398.3814523184602,0h247.68153980752405\" style=\"stroke: rgb(0, 0, 0); stroke-opacity: 0.1; stroke-width: 0.5px;\"/><path class=\"y4grid crisp\" transform=\"translate(0,263.82858267716534)\" d=\"M398.3814523184602,0h247.68153980752405\" style=\"stroke: rgb(0, 0, 0); stroke-opacity: 0.1; stroke-width: 0.5px;\"/></g></g><g class=\"zerolinelayer\"/><path class=\"xlines-below\"/><path class=\"ylines-below\"/><g class=\"overlines-below\"/><g class=\"xaxislayer-below\"/><g class=\"yaxislayer-below\"/><g class=\"overaxes-below\"/><g class=\"plot\" transform=\"translate(398.3814523184602,258.83858267716533)\" clip-path=\"url('#clipe6cbe0x4y4plot')\"><g class=\"scatterlayer mlayer\"><g class=\"trace scatter trace9eb415\" style=\"stroke-miterlimit: 2; opacity: 1;\"><g class=\"fills\"/><g class=\"errorbars\"/><g class=\"lines\"><path class=\"js-line\" d=\"M7.01,4.99L18.69,62.25L30.38,103.3L42.06,131.52L53.74,149.92L65.43,161.09L77.11,167.23L88.79,170.15L100.47,171.23L135.52,171.48L147.21,171.23L158.89,170.15L170.57,167.23L182.26,161.09L193.94,149.92L205.62,131.52L217.31,103.3L228.99,62.25L240.67,4.99\" style=\"vector-effect: non-scaling-stroke; fill: none; stroke: rgb(0, 154, 250); stroke-opacity: 1; stroke-width: 1px; opacity: 1;\"/></g><g class=\"points\"/><g class=\"text\"/></g></g></g><g class=\"overplot\"/><path class=\"xlines-above crisp\" d=\"M397.3814523184602,435.82808398950124H646.0629921259842\" style=\"fill: none; stroke-width: 1px; stroke: rgb(0, 0, 0); stroke-opacity: 1;\"/><path class=\"ylines-above crisp\" d=\"M397.8814523184602,258.83858267716533V435.32808398950124\" style=\"fill: none; stroke-width: 1px; stroke: rgb(0, 0, 0); stroke-opacity: 1;\"/><g class=\"overlines-above\"/><g class=\"xaxislayer-above\"><path class=\"x4tick ticks crisp\" d=\"M0,435.32808398950124v-5\" transform=\"translate(405.3914523184602,0)\" style=\"stroke: rgb(0, 0, 0); stroke-opacity: 1; stroke-width: 1px;\"/><path class=\"x4tick ticks crisp\" d=\"M0,435.32808398950124v-5\" transform=\"translate(463.8114523184602,0)\" style=\"stroke: rgb(0, 0, 0); stroke-opacity: 1; stroke-width: 1px;\"/><path class=\"x4tick ticks crisp\" d=\"M0,435.32808398950124v-5\" transform=\"translate(522.2214523184603,0)\" style=\"stroke: rgb(0, 0, 0); stroke-opacity: 1; stroke-width: 1px;\"/><path class=\"x4tick ticks crisp\" d=\"M0,435.32808398950124v-5\" transform=\"translate(580.6414523184602,0)\" style=\"stroke: rgb(0, 0, 0); stroke-opacity: 1; stroke-width: 1px;\"/><path class=\"x4tick ticks crisp\" d=\"M0,435.32808398950124v-5\" transform=\"translate(639.0514523184602,0)\" style=\"stroke: rgb(0, 0, 0); stroke-opacity: 1; stroke-width: 1px;\"/><g class=\"x4tick\"><text text-anchor=\"middle\" x=\"0\" y=\"449.5280839895012\" transform=\"translate(405.3914523184602,0)\" style=\"font-family: sans-serif; font-size: 11px; fill: rgb(0, 0, 0); fill-opacity: 1; white-space: pre;\">-10</text></g><g class=\"x4tick\"><text text-anchor=\"middle\" x=\"0\" y=\"449.5280839895012\" transform=\"translate(463.8114523184602,0)\" style=\"font-family: sans-serif; font-size: 11px; fill: rgb(0, 0, 0); fill-opacity: 1; white-space: pre;\">-5</text></g><g class=\"x4tick\"><text text-anchor=\"middle\" x=\"0\" y=\"449.5280839895012\" transform=\"translate(522.2214523184603,0)\" style=\"font-family: sans-serif; font-size: 11px; fill: rgb(0, 0, 0); fill-opacity: 1; white-space: pre;\">0</text></g><g class=\"x4tick\"><text text-anchor=\"middle\" x=\"0\" y=\"449.5280839895012\" transform=\"translate(580.6414523184602,0)\" style=\"font-family: sans-serif; font-size: 11px; fill: rgb(0, 0, 0); fill-opacity: 1; white-space: pre;\">5</text></g><g class=\"x4tick\"><text text-anchor=\"middle\" x=\"0\" y=\"449.5280839895012\" transform=\"translate(639.0514523184602,0)\" style=\"font-family: sans-serif; font-size: 11px; fill: rgb(0, 0, 0); fill-opacity: 1; white-space: pre;\">10</text></g></g><g class=\"yaxislayer-above\"><path class=\"y4tick ticks crisp\" d=\"M398.3814523184602,0h5\" transform=\"translate(0,430.32858267716534)\" style=\"stroke: rgb(0, 0, 0); stroke-opacity: 1; stroke-width: 1px;\"/><path class=\"y4tick ticks crisp\" d=\"M398.3814523184602,0h5\" transform=\"translate(0,388.70858267716534)\" style=\"stroke: rgb(0, 0, 0); stroke-opacity: 1; stroke-width: 1px;\"/><path class=\"y4tick ticks crisp\" d=\"M398.3814523184602,0h5\" transform=\"translate(0,347.07858267716534)\" style=\"stroke: rgb(0, 0, 0); stroke-opacity: 1; stroke-width: 1px;\"/><path class=\"y4tick ticks crisp\" d=\"M398.3814523184602,0h5\" transform=\"translate(0,305.45858267716534)\" style=\"stroke: rgb(0, 0, 0); stroke-opacity: 1; stroke-width: 1px;\"/><path class=\"y4tick ticks crisp\" d=\"M398.3814523184602,0h5\" transform=\"translate(0,263.82858267716534)\" style=\"stroke: rgb(0, 0, 0); stroke-opacity: 1; stroke-width: 1px;\"/><g class=\"y4tick\"><text text-anchor=\"end\" x=\"395.18145231846023\" y=\"3.8499999999999996\" transform=\"translate(0,430.32858267716534)\" style=\"font-family: sans-serif; font-size: 11px; fill: rgb(0, 0, 0); fill-opacity: 1; white-space: pre;\">0</text></g><g class=\"y4tick\"><text text-anchor=\"end\" x=\"395.18145231846023\" y=\"3.8499999999999996\" transform=\"translate(0,388.70858267716534)\" style=\"font-family: sans-serif; font-size: 11px; fill: rgb(0, 0, 0); fill-opacity: 1; white-space: pre;\">2500</text></g><g class=\"y4tick\"><text text-anchor=\"end\" x=\"395.18145231846023\" y=\"3.8499999999999996\" transform=\"translate(0,347.07858267716534)\" style=\"font-family: sans-serif; font-size: 11px; fill: rgb(0, 0, 0); fill-opacity: 1; white-space: pre;\">5000</text></g><g class=\"y4tick\"><text text-anchor=\"end\" x=\"395.18145231846023\" y=\"3.8499999999999996\" transform=\"translate(0,305.45858267716534)\" style=\"font-family: sans-serif; font-size: 11px; fill: rgb(0, 0, 0); fill-opacity: 1; white-space: pre;\">7500</text></g><g class=\"y4tick\"><text text-anchor=\"end\" x=\"395.18145231846023\" y=\"3.8499999999999996\" transform=\"translate(0,263.82858267716534)\" style=\"font-family: sans-serif; font-size: 11px; fill: rgb(0, 0, 0); fill-opacity: 1; white-space: pre;\">10000</text></g></g><g class=\"overaxes-above\"/></g></g><g class=\"polarlayer\"/><g class=\"ternarylayer\"/><g class=\"geolayer\"/><g class=\"funnelarealayer\"/><g class=\"pielayer\"/><g class=\"treemaplayer\"/><g class=\"sunburstlayer\"/><g class=\"glimages\"/><defs id=\"topdefs-e6cbe0\"><g class=\"clips\"/></defs><g class=\"layer-above\"><g class=\"imagelayer\"/><g class=\"shapelayer\"/></g><g class=\"infolayer\"><g class=\"g-gtitle\"/><g class=\"g-xtitle\"/><g class=\"g-x2title\"/><g class=\"g-x3title\"/><g class=\"g-x4title\"/><g class=\"g-ytitle\"/><g class=\"g-y2title\"/><g class=\"g-y3title\"/><g class=\"g-y4title\"/></g></svg>"
      ],
      "text/html": [
       "    <div id=\"20d04987-4f8e-4296-a59c-96c5e2005427\" style=\"width:600px;height:400px;\"></div>\n",
       "    <script>\n",
       "        requirejs.config({\n",
       "        paths: {\n",
       "            plotly: 'https://cdn.plot.ly/plotly-2.6.3.min'\n",
       "        }\n",
       "    });\n",
       "    require(['plotly'], function (Plotly) {\n",
       "\n",
       "    Plotly.newPlot('20d04987-4f8e-4296-a59c-96c5e2005427', [\n",
       "    {\n",
       "        \"showlegend\": true,\n",
       "        \"mode\": \"lines\",\n",
       "        \"xaxis\": \"x1\",\n",
       "        \"colorbar\": {\n",
       "            \"y\": 0.7638888888888888,\n",
       "            \"title\": \"\",\n",
       "            \"len\": 0.4525371828521435,\n",
       "            \"x\": 0.49343832020997375\n",
       "        },\n",
       "        \"name\": \"y1\",\n",
       "        \"yaxis\": \"y1\",\n",
       "        \"legendgroup\": \"y1\",\n",
       "        \"line\": {\n",
       "            \"color\": \"rgba(0, 154, 250, 1.000)\",\n",
       "            \"shape\": \"linear\",\n",
       "            \"dash\": \"solid\",\n",
       "            \"width\": 1\n",
       "        },\n",
       "        \"y\": [\n",
       "            -10,\n",
       "            -9,\n",
       "            -8,\n",
       "            -7,\n",
       "            -6,\n",
       "            -5,\n",
       "            -4,\n",
       "            -3,\n",
       "            -2,\n",
       "            -1,\n",
       "            0,\n",
       "            1,\n",
       "            2,\n",
       "            3,\n",
       "            4,\n",
       "            5,\n",
       "            6,\n",
       "            7,\n",
       "            8,\n",
       "            9,\n",
       "            10\n",
       "        ],\n",
       "        \"type\": \"scatter\",\n",
       "        \"x\": [\n",
       "            -10,\n",
       "            -9,\n",
       "            -8,\n",
       "            -7,\n",
       "            -6,\n",
       "            -5,\n",
       "            -4,\n",
       "            -3,\n",
       "            -2,\n",
       "            -1,\n",
       "            0,\n",
       "            1,\n",
       "            2,\n",
       "            3,\n",
       "            4,\n",
       "            5,\n",
       "            6,\n",
       "            7,\n",
       "            8,\n",
       "            9,\n",
       "            10\n",
       "        ]\n",
       "    },\n",
       "    {\n",
       "        \"showlegend\": true,\n",
       "        \"mode\": \"lines\",\n",
       "        \"xaxis\": \"x2\",\n",
       "        \"colorbar\": {\n",
       "            \"y\": 0.7638888888888888,\n",
       "            \"title\": \"\",\n",
       "            \"len\": 0.4525371828521435,\n",
       "            \"x\": 0.9934383202099738\n",
       "        },\n",
       "        \"name\": \"y1\",\n",
       "        \"yaxis\": \"y2\",\n",
       "        \"legendgroup\": \"y1\",\n",
       "        \"line\": {\n",
       "            \"color\": \"rgba(0, 154, 250, 1.000)\",\n",
       "            \"shape\": \"linear\",\n",
       "            \"dash\": \"solid\",\n",
       "            \"width\": 1\n",
       "        },\n",
       "        \"y\": [\n",
       "            100.0,\n",
       "            81.0,\n",
       "            64.0,\n",
       "            49.0,\n",
       "            36.0,\n",
       "            25.0,\n",
       "            16.0,\n",
       "            9.0,\n",
       "            4.0,\n",
       "            1.0,\n",
       "            0.0,\n",
       "            1.0,\n",
       "            4.0,\n",
       "            9.0,\n",
       "            16.0,\n",
       "            25.0,\n",
       "            36.0,\n",
       "            49.0,\n",
       "            64.0,\n",
       "            81.0,\n",
       "            100.0\n",
       "        ],\n",
       "        \"type\": \"scatter\",\n",
       "        \"x\": [\n",
       "            -10,\n",
       "            -9,\n",
       "            -8,\n",
       "            -7,\n",
       "            -6,\n",
       "            -5,\n",
       "            -4,\n",
       "            -3,\n",
       "            -2,\n",
       "            -1,\n",
       "            0,\n",
       "            1,\n",
       "            2,\n",
       "            3,\n",
       "            4,\n",
       "            5,\n",
       "            6,\n",
       "            7,\n",
       "            8,\n",
       "            9,\n",
       "            10\n",
       "        ]\n",
       "    },\n",
       "    {\n",
       "        \"showlegend\": true,\n",
       "        \"mode\": \"lines\",\n",
       "        \"xaxis\": \"x3\",\n",
       "        \"colorbar\": {\n",
       "            \"y\": 0.2638888888888889,\n",
       "            \"title\": \"\",\n",
       "            \"len\": 0.45253718285214345,\n",
       "            \"x\": 0.49343832020997375\n",
       "        },\n",
       "        \"name\": \"y1\",\n",
       "        \"yaxis\": \"y3\",\n",
       "        \"legendgroup\": \"y1\",\n",
       "        \"line\": {\n",
       "            \"color\": \"rgba(0, 154, 250, 1.000)\",\n",
       "            \"shape\": \"linear\",\n",
       "            \"dash\": \"solid\",\n",
       "            \"width\": 1\n",
       "        },\n",
       "        \"y\": [\n",
       "            -1000.0,\n",
       "            -729.0,\n",
       "            -512.0,\n",
       "            -343.0,\n",
       "            -216.0,\n",
       "            -125.0,\n",
       "            -64.0,\n",
       "            -27.0,\n",
       "            -8.0,\n",
       "            -1.0,\n",
       "            0.0,\n",
       "            1.0,\n",
       "            8.0,\n",
       "            27.0,\n",
       "            64.0,\n",
       "            125.0,\n",
       "            216.0,\n",
       "            343.0,\n",
       "            512.0,\n",
       "            729.0,\n",
       "            1000.0\n",
       "        ],\n",
       "        \"type\": \"scatter\",\n",
       "        \"x\": [\n",
       "            -10,\n",
       "            -9,\n",
       "            -8,\n",
       "            -7,\n",
       "            -6,\n",
       "            -5,\n",
       "            -4,\n",
       "            -3,\n",
       "            -2,\n",
       "            -1,\n",
       "            0,\n",
       "            1,\n",
       "            2,\n",
       "            3,\n",
       "            4,\n",
       "            5,\n",
       "            6,\n",
       "            7,\n",
       "            8,\n",
       "            9,\n",
       "            10\n",
       "        ]\n",
       "    },\n",
       "    {\n",
       "        \"showlegend\": true,\n",
       "        \"mode\": \"lines\",\n",
       "        \"xaxis\": \"x4\",\n",
       "        \"colorbar\": {\n",
       "            \"y\": 0.2638888888888889,\n",
       "            \"title\": \"\",\n",
       "            \"len\": 0.45253718285214345,\n",
       "            \"x\": 0.9934383202099738\n",
       "        },\n",
       "        \"name\": \"y1\",\n",
       "        \"yaxis\": \"y4\",\n",
       "        \"legendgroup\": \"y1\",\n",
       "        \"line\": {\n",
       "            \"color\": \"rgba(0, 154, 250, 1.000)\",\n",
       "            \"shape\": \"linear\",\n",
       "            \"dash\": \"solid\",\n",
       "            \"width\": 1\n",
       "        },\n",
       "        \"y\": [\n",
       "            10000.0,\n",
       "            6561.0,\n",
       "            4096.0,\n",
       "            2401.0,\n",
       "            1296.0,\n",
       "            625.0,\n",
       "            256.0,\n",
       "            81.0,\n",
       "            16.0,\n",
       "            1.0,\n",
       "            0.0,\n",
       "            1.0,\n",
       "            16.0,\n",
       "            81.0,\n",
       "            256.0,\n",
       "            625.0,\n",
       "            1296.0,\n",
       "            2401.0,\n",
       "            4096.0,\n",
       "            6561.0,\n",
       "            10000.0\n",
       "        ],\n",
       "        \"type\": \"scatter\",\n",
       "        \"x\": [\n",
       "            -10,\n",
       "            -9,\n",
       "            -8,\n",
       "            -7,\n",
       "            -6,\n",
       "            -5,\n",
       "            -4,\n",
       "            -3,\n",
       "            -2,\n",
       "            -1,\n",
       "            0,\n",
       "            1,\n",
       "            2,\n",
       "            3,\n",
       "            4,\n",
       "            5,\n",
       "            6,\n",
       "            7,\n",
       "            8,\n",
       "            9,\n",
       "            10\n",
       "        ]\n",
       "    }\n",
       "]\n",
       ", {\n",
       "    \"showlegend\": false,\n",
       "    \"paper_bgcolor\": \"rgba(255, 255, 255, 1.000)\",\n",
       "    \"xaxis1\": {\n",
       "        \"showticklabels\": true,\n",
       "        \"gridwidth\": 0.5,\n",
       "        \"tickvals\": [\n",
       "            -10.0,\n",
       "            -5.0,\n",
       "            0.0,\n",
       "            5.0,\n",
       "            10.0\n",
       "        ],\n",
       "        \"range\": [\n",
       "            -10.600000000000001,\n",
       "            10.600000000000001\n",
       "        ],\n",
       "        \"domain\": [\n",
       "            0.08063575386410031,\n",
       "            0.49343832020997375\n",
       "        ],\n",
       "        \"mirror\": false,\n",
       "        \"tickangle\": 0,\n",
       "        \"showline\": true,\n",
       "        \"ticktext\": [\n",
       "            \"-10\",\n",
       "            \"-5\",\n",
       "            \"0\",\n",
       "            \"5\",\n",
       "            \"10\"\n",
       "        ],\n",
       "        \"zeroline\": false,\n",
       "        \"tickfont\": {\n",
       "            \"color\": \"rgba(0, 0, 0, 1.000)\",\n",
       "            \"family\": \"sans-serif\",\n",
       "            \"size\": 11\n",
       "        },\n",
       "        \"zerolinecolor\": \"rgba(0, 0, 0, 1.000)\",\n",
       "        \"anchor\": \"y1\",\n",
       "        \"visible\": true,\n",
       "        \"ticks\": \"inside\",\n",
       "        \"tickmode\": \"array\",\n",
       "        \"linecolor\": \"rgba(0, 0, 0, 1.000)\",\n",
       "        \"showgrid\": true,\n",
       "        \"title\": \"\",\n",
       "        \"gridcolor\": \"rgba(0, 0, 0, 0.100)\",\n",
       "        \"titlefont\": {\n",
       "            \"color\": \"rgba(0, 0, 0, 1.000)\",\n",
       "            \"family\": \"sans-serif\",\n",
       "            \"size\": 15\n",
       "        },\n",
       "        \"tickcolor\": \"rgb(0, 0, 0)\",\n",
       "        \"type\": \"-\"\n",
       "    },\n",
       "    \"yaxis3\": {\n",
       "        \"showticklabels\": true,\n",
       "        \"gridwidth\": 0.5,\n",
       "        \"tickvals\": [\n",
       "            -1000.0,\n",
       "            -500.0,\n",
       "            0.0,\n",
       "            500.0,\n",
       "            1000.0\n",
       "        ],\n",
       "        \"range\": [\n",
       "            -1060.0,\n",
       "            1060.0\n",
       "        ],\n",
       "        \"domain\": [\n",
       "            0.03762029746281716,\n",
       "            0.4901574803149606\n",
       "        ],\n",
       "        \"mirror\": false,\n",
       "        \"tickangle\": 0,\n",
       "        \"showline\": true,\n",
       "        \"ticktext\": [\n",
       "            \"-1000\",\n",
       "            \"-500\",\n",
       "            \"0\",\n",
       "            \"500\",\n",
       "            \"1000\"\n",
       "        ],\n",
       "        \"zeroline\": false,\n",
       "        \"tickfont\": {\n",
       "            \"color\": \"rgba(0, 0, 0, 1.000)\",\n",
       "            \"family\": \"sans-serif\",\n",
       "            \"size\": 11\n",
       "        },\n",
       "        \"zerolinecolor\": \"rgba(0, 0, 0, 1.000)\",\n",
       "        \"anchor\": \"x3\",\n",
       "        \"visible\": true,\n",
       "        \"ticks\": \"inside\",\n",
       "        \"tickmode\": \"array\",\n",
       "        \"linecolor\": \"rgba(0, 0, 0, 1.000)\",\n",
       "        \"showgrid\": true,\n",
       "        \"title\": \"\",\n",
       "        \"gridcolor\": \"rgba(0, 0, 0, 0.100)\",\n",
       "        \"titlefont\": {\n",
       "            \"color\": \"rgba(0, 0, 0, 1.000)\",\n",
       "            \"family\": \"sans-serif\",\n",
       "            \"size\": 15\n",
       "        },\n",
       "        \"tickcolor\": \"rgb(0, 0, 0)\",\n",
       "        \"type\": \"-\"\n",
       "    },\n",
       "    \"height\": 400,\n",
       "    \"yaxis4\": {\n",
       "        \"showticklabels\": true,\n",
       "        \"gridwidth\": 0.5,\n",
       "        \"tickvals\": [\n",
       "            0.0,\n",
       "            2500.0,\n",
       "            5000.0,\n",
       "            7500.0,\n",
       "            10000.0\n",
       "        ],\n",
       "        \"range\": [\n",
       "            -300.0,\n",
       "            10300.0\n",
       "        ],\n",
       "        \"domain\": [\n",
       "            0.03762029746281716,\n",
       "            0.4901574803149606\n",
       "        ],\n",
       "        \"mirror\": false,\n",
       "        \"tickangle\": 0,\n",
       "        \"showline\": true,\n",
       "        \"ticktext\": [\n",
       "            \"0\",\n",
       "            \"2500\",\n",
       "            \"5000\",\n",
       "            \"7500\",\n",
       "            \"10000\"\n",
       "        ],\n",
       "        \"zeroline\": false,\n",
       "        \"tickfont\": {\n",
       "            \"color\": \"rgba(0, 0, 0, 1.000)\",\n",
       "            \"family\": \"sans-serif\",\n",
       "            \"size\": 11\n",
       "        },\n",
       "        \"zerolinecolor\": \"rgba(0, 0, 0, 1.000)\",\n",
       "        \"anchor\": \"x4\",\n",
       "        \"visible\": true,\n",
       "        \"ticks\": \"inside\",\n",
       "        \"tickmode\": \"array\",\n",
       "        \"linecolor\": \"rgba(0, 0, 0, 1.000)\",\n",
       "        \"showgrid\": true,\n",
       "        \"title\": \"\",\n",
       "        \"gridcolor\": \"rgba(0, 0, 0, 0.100)\",\n",
       "        \"titlefont\": {\n",
       "            \"color\": \"rgba(0, 0, 0, 1.000)\",\n",
       "            \"family\": \"sans-serif\",\n",
       "            \"size\": 15\n",
       "        },\n",
       "        \"tickcolor\": \"rgb(0, 0, 0)\",\n",
       "        \"type\": \"-\"\n",
       "    },\n",
       "    \"yaxis2\": {\n",
       "        \"showticklabels\": true,\n",
       "        \"gridwidth\": 0.5,\n",
       "        \"tickvals\": [\n",
       "            0.0,\n",
       "            25.0,\n",
       "            50.0,\n",
       "            75.0,\n",
       "            100.0\n",
       "        ],\n",
       "        \"range\": [\n",
       "            -3.0,\n",
       "            103.0\n",
       "        ],\n",
       "        \"domain\": [\n",
       "            0.5376202974628171,\n",
       "            0.9901574803149606\n",
       "        ],\n",
       "        \"mirror\": false,\n",
       "        \"tickangle\": 0,\n",
       "        \"showline\": true,\n",
       "        \"ticktext\": [\n",
       "            \"0\",\n",
       "            \"25\",\n",
       "            \"50\",\n",
       "            \"75\",\n",
       "            \"100\"\n",
       "        ],\n",
       "        \"zeroline\": false,\n",
       "        \"tickfont\": {\n",
       "            \"color\": \"rgba(0, 0, 0, 1.000)\",\n",
       "            \"family\": \"sans-serif\",\n",
       "            \"size\": 11\n",
       "        },\n",
       "        \"zerolinecolor\": \"rgba(0, 0, 0, 1.000)\",\n",
       "        \"anchor\": \"x2\",\n",
       "        \"visible\": true,\n",
       "        \"ticks\": \"inside\",\n",
       "        \"tickmode\": \"array\",\n",
       "        \"linecolor\": \"rgba(0, 0, 0, 1.000)\",\n",
       "        \"showgrid\": true,\n",
       "        \"title\": \"\",\n",
       "        \"gridcolor\": \"rgba(0, 0, 0, 0.100)\",\n",
       "        \"titlefont\": {\n",
       "            \"color\": \"rgba(0, 0, 0, 1.000)\",\n",
       "            \"family\": \"sans-serif\",\n",
       "            \"size\": 15\n",
       "        },\n",
       "        \"tickcolor\": \"rgb(0, 0, 0)\",\n",
       "        \"type\": \"-\"\n",
       "    },\n",
       "    \"xaxis3\": {\n",
       "        \"showticklabels\": true,\n",
       "        \"gridwidth\": 0.5,\n",
       "        \"tickvals\": [\n",
       "            -10.0,\n",
       "            -5.0,\n",
       "            0.0,\n",
       "            5.0,\n",
       "            10.0\n",
       "        ],\n",
       "        \"range\": [\n",
       "            -10.600000000000001,\n",
       "            10.600000000000001\n",
       "        ],\n",
       "        \"domain\": [\n",
       "            0.08063575386410031,\n",
       "            0.49343832020997375\n",
       "        ],\n",
       "        \"mirror\": false,\n",
       "        \"tickangle\": 0,\n",
       "        \"showline\": true,\n",
       "        \"ticktext\": [\n",
       "            \"-10\",\n",
       "            \"-5\",\n",
       "            \"0\",\n",
       "            \"5\",\n",
       "            \"10\"\n",
       "        ],\n",
       "        \"zeroline\": false,\n",
       "        \"tickfont\": {\n",
       "            \"color\": \"rgba(0, 0, 0, 1.000)\",\n",
       "            \"family\": \"sans-serif\",\n",
       "            \"size\": 11\n",
       "        },\n",
       "        \"zerolinecolor\": \"rgba(0, 0, 0, 1.000)\",\n",
       "        \"anchor\": \"y3\",\n",
       "        \"visible\": true,\n",
       "        \"ticks\": \"inside\",\n",
       "        \"tickmode\": \"array\",\n",
       "        \"linecolor\": \"rgba(0, 0, 0, 1.000)\",\n",
       "        \"showgrid\": true,\n",
       "        \"title\": \"\",\n",
       "        \"gridcolor\": \"rgba(0, 0, 0, 0.100)\",\n",
       "        \"titlefont\": {\n",
       "            \"color\": \"rgba(0, 0, 0, 1.000)\",\n",
       "            \"family\": \"sans-serif\",\n",
       "            \"size\": 15\n",
       "        },\n",
       "        \"tickcolor\": \"rgb(0, 0, 0)\",\n",
       "        \"type\": \"-\"\n",
       "    },\n",
       "    \"xaxis4\": {\n",
       "        \"showticklabels\": true,\n",
       "        \"gridwidth\": 0.5,\n",
       "        \"tickvals\": [\n",
       "            -10.0,\n",
       "            -5.0,\n",
       "            0.0,\n",
       "            5.0,\n",
       "            10.0\n",
       "        ],\n",
       "        \"range\": [\n",
       "            -10.600000000000001,\n",
       "            10.600000000000001\n",
       "        ],\n",
       "        \"domain\": [\n",
       "            0.5806357538641004,\n",
       "            0.9934383202099738\n",
       "        ],\n",
       "        \"mirror\": false,\n",
       "        \"tickangle\": 0,\n",
       "        \"showline\": true,\n",
       "        \"ticktext\": [\n",
       "            \"-10\",\n",
       "            \"-5\",\n",
       "            \"0\",\n",
       "            \"5\",\n",
       "            \"10\"\n",
       "        ],\n",
       "        \"zeroline\": false,\n",
       "        \"tickfont\": {\n",
       "            \"color\": \"rgba(0, 0, 0, 1.000)\",\n",
       "            \"family\": \"sans-serif\",\n",
       "            \"size\": 11\n",
       "        },\n",
       "        \"zerolinecolor\": \"rgba(0, 0, 0, 1.000)\",\n",
       "        \"anchor\": \"y4\",\n",
       "        \"visible\": true,\n",
       "        \"ticks\": \"inside\",\n",
       "        \"tickmode\": \"array\",\n",
       "        \"linecolor\": \"rgba(0, 0, 0, 1.000)\",\n",
       "        \"showgrid\": true,\n",
       "        \"title\": \"\",\n",
       "        \"gridcolor\": \"rgba(0, 0, 0, 0.100)\",\n",
       "        \"titlefont\": {\n",
       "            \"color\": \"rgba(0, 0, 0, 1.000)\",\n",
       "            \"family\": \"sans-serif\",\n",
       "            \"size\": 15\n",
       "        },\n",
       "        \"tickcolor\": \"rgb(0, 0, 0)\",\n",
       "        \"type\": \"-\"\n",
       "    },\n",
       "    \"yaxis1\": {\n",
       "        \"showticklabels\": true,\n",
       "        \"gridwidth\": 0.5,\n",
       "        \"tickvals\": [\n",
       "            -10.0,\n",
       "            -5.0,\n",
       "            0.0,\n",
       "            5.0,\n",
       "            10.0\n",
       "        ],\n",
       "        \"range\": [\n",
       "            -10.600000000000001,\n",
       "            10.600000000000001\n",
       "        ],\n",
       "        \"domain\": [\n",
       "            0.5376202974628171,\n",
       "            0.9901574803149606\n",
       "        ],\n",
       "        \"mirror\": false,\n",
       "        \"tickangle\": 0,\n",
       "        \"showline\": true,\n",
       "        \"ticktext\": [\n",
       "            \"-10\",\n",
       "            \"-5\",\n",
       "            \"0\",\n",
       "            \"5\",\n",
       "            \"10\"\n",
       "        ],\n",
       "        \"zeroline\": false,\n",
       "        \"tickfont\": {\n",
       "            \"color\": \"rgba(0, 0, 0, 1.000)\",\n",
       "            \"family\": \"sans-serif\",\n",
       "            \"size\": 11\n",
       "        },\n",
       "        \"zerolinecolor\": \"rgba(0, 0, 0, 1.000)\",\n",
       "        \"anchor\": \"x1\",\n",
       "        \"visible\": true,\n",
       "        \"ticks\": \"inside\",\n",
       "        \"tickmode\": \"array\",\n",
       "        \"linecolor\": \"rgba(0, 0, 0, 1.000)\",\n",
       "        \"showgrid\": true,\n",
       "        \"title\": \"\",\n",
       "        \"gridcolor\": \"rgba(0, 0, 0, 0.100)\",\n",
       "        \"titlefont\": {\n",
       "            \"color\": \"rgba(0, 0, 0, 1.000)\",\n",
       "            \"family\": \"sans-serif\",\n",
       "            \"size\": 15\n",
       "        },\n",
       "        \"tickcolor\": \"rgb(0, 0, 0)\",\n",
       "        \"type\": \"-\"\n",
       "    },\n",
       "    \"annotations\": [],\n",
       "    \"xaxis2\": {\n",
       "        \"showticklabels\": true,\n",
       "        \"gridwidth\": 0.5,\n",
       "        \"tickvals\": [\n",
       "            -10.0,\n",
       "            -5.0,\n",
       "            0.0,\n",
       "            5.0,\n",
       "            10.0\n",
       "        ],\n",
       "        \"range\": [\n",
       "            -10.600000000000001,\n",
       "            10.600000000000001\n",
       "        ],\n",
       "        \"domain\": [\n",
       "            0.5806357538641004,\n",
       "            0.9934383202099738\n",
       "        ],\n",
       "        \"mirror\": false,\n",
       "        \"tickangle\": 0,\n",
       "        \"showline\": true,\n",
       "        \"ticktext\": [\n",
       "            \"-10\",\n",
       "            \"-5\",\n",
       "            \"0\",\n",
       "            \"5\",\n",
       "            \"10\"\n",
       "        ],\n",
       "        \"zeroline\": false,\n",
       "        \"tickfont\": {\n",
       "            \"color\": \"rgba(0, 0, 0, 1.000)\",\n",
       "            \"family\": \"sans-serif\",\n",
       "            \"size\": 11\n",
       "        },\n",
       "        \"zerolinecolor\": \"rgba(0, 0, 0, 1.000)\",\n",
       "        \"anchor\": \"y2\",\n",
       "        \"visible\": true,\n",
       "        \"ticks\": \"inside\",\n",
       "        \"tickmode\": \"array\",\n",
       "        \"linecolor\": \"rgba(0, 0, 0, 1.000)\",\n",
       "        \"showgrid\": true,\n",
       "        \"title\": \"\",\n",
       "        \"gridcolor\": \"rgba(0, 0, 0, 0.100)\",\n",
       "        \"titlefont\": {\n",
       "            \"color\": \"rgba(0, 0, 0, 1.000)\",\n",
       "            \"family\": \"sans-serif\",\n",
       "            \"size\": 15\n",
       "        },\n",
       "        \"tickcolor\": \"rgb(0, 0, 0)\",\n",
       "        \"type\": \"-\"\n",
       "    },\n",
       "    \"plot_bgcolor\": \"rgba(255, 255, 255, 1.000)\",\n",
       "    \"margin\": {\n",
       "        \"l\": 0,\n",
       "        \"b\": 20,\n",
       "        \"r\": 0,\n",
       "        \"t\": 20\n",
       "    },\n",
       "    \"width\": 600\n",
       "}\n",
       ");\n",
       "    });\n",
       "    </script>\n"
      ]
     },
     "execution_count": 26,
     "metadata": {},
     "output_type": "execute_result"
    }
   ],
   "source": [
    "p1 = plot(x, x)\n",
    "p2 = plot(x, x.^2)\n",
    "p3 = plot(x, x.^3)\n",
    "p4 = plot(x, x.^4)\n",
    "plot(p1, p2, p3, p4, layout = (2, 2), legend = false)"
   ]
  },
  {
   "cell_type": "markdown",
   "metadata": {},
   "source": [
    "Create a 4x1 plot that uses `p1`, `p2`, `p3`, and `p4` as subplots."
   ]
  },
  {
   "cell_type": "code",
   "execution_count": 27,
   "metadata": {},
   "outputs": [
    {
     "data": {
      "application/vnd.plotly.v1+json": {
       "data": [
        {
         "colorbar": {
          "len": 0.2025371828521435,
          "title": "",
          "x": 0.9934383202099737,
          "y": 0.8888888888888888
         },
         "legendgroup": "y1",
         "line": {
          "color": "rgba(0, 154, 250, 1.000)",
          "dash": "solid",
          "shape": "linear",
          "width": 1
         },
         "mode": "lines",
         "name": "y1",
         "showlegend": true,
         "type": "scatter",
         "x": [
          -10,
          -9,
          -8,
          -7,
          -6,
          -5,
          -4,
          -3,
          -2,
          -1,
          0,
          1,
          2,
          3,
          4,
          5,
          6,
          7,
          8,
          9,
          10
         ],
         "xaxis": "x1",
         "y": [
          -10,
          -9,
          -8,
          -7,
          -6,
          -5,
          -4,
          -3,
          -2,
          -1,
          0,
          1,
          2,
          3,
          4,
          5,
          6,
          7,
          8,
          9,
          10
         ],
         "yaxis": "y1"
        },
        {
         "colorbar": {
          "len": 0.2025371828521435,
          "title": "",
          "x": 0.9934383202099737,
          "y": 0.6388888888888888
         },
         "legendgroup": "y1",
         "line": {
          "color": "rgba(0, 154, 250, 1.000)",
          "dash": "solid",
          "shape": "linear",
          "width": 1
         },
         "mode": "lines",
         "name": "y1",
         "showlegend": true,
         "type": "scatter",
         "x": [
          -10,
          -9,
          -8,
          -7,
          -6,
          -5,
          -4,
          -3,
          -2,
          -1,
          0,
          1,
          2,
          3,
          4,
          5,
          6,
          7,
          8,
          9,
          10
         ],
         "xaxis": "x2",
         "y": [
          100,
          81,
          64,
          49,
          36,
          25,
          16,
          9,
          4,
          1,
          0,
          1,
          4,
          9,
          16,
          25,
          36,
          49,
          64,
          81,
          100
         ],
         "yaxis": "y2"
        },
        {
         "colorbar": {
          "len": 0.2025371828521435,
          "title": "",
          "x": 0.9934383202099737,
          "y": 0.388888888888889
         },
         "legendgroup": "y1",
         "line": {
          "color": "rgba(0, 154, 250, 1.000)",
          "dash": "solid",
          "shape": "linear",
          "width": 1
         },
         "mode": "lines",
         "name": "y1",
         "showlegend": true,
         "type": "scatter",
         "x": [
          -10,
          -9,
          -8,
          -7,
          -6,
          -5,
          -4,
          -3,
          -2,
          -1,
          0,
          1,
          2,
          3,
          4,
          5,
          6,
          7,
          8,
          9,
          10
         ],
         "xaxis": "x3",
         "y": [
          -1000,
          -729,
          -512,
          -343,
          -216,
          -125,
          -64,
          -27,
          -8,
          -1,
          0,
          1,
          8,
          27,
          64,
          125,
          216,
          343,
          512,
          729,
          1000
         ],
         "yaxis": "y3"
        },
        {
         "colorbar": {
          "len": 0.2025371828521435,
          "title": "",
          "x": 0.9934383202099737,
          "y": 0.1388888888888889
         },
         "legendgroup": "y1",
         "line": {
          "color": "rgba(0, 154, 250, 1.000)",
          "dash": "solid",
          "shape": "linear",
          "width": 1
         },
         "mode": "lines",
         "name": "y1",
         "showlegend": true,
         "type": "scatter",
         "x": [
          -10,
          -9,
          -8,
          -7,
          -6,
          -5,
          -4,
          -3,
          -2,
          -1,
          0,
          1,
          2,
          3,
          4,
          5,
          6,
          7,
          8,
          9,
          10
         ],
         "xaxis": "x4",
         "y": [
          10000,
          6561,
          4096,
          2401,
          1296,
          625,
          256,
          81,
          16,
          1,
          0,
          1,
          16,
          81,
          256,
          625,
          1296,
          2401,
          4096,
          6561,
          10000
         ],
         "yaxis": "y4"
        }
       ],
       "layout": {
        "annotations": [],
        "height": 400,
        "margin": {
         "b": 20,
         "l": 0,
         "r": 0,
         "t": 20
        },
        "paper_bgcolor": "rgba(255, 255, 255, 1.000)",
        "plot_bgcolor": "rgba(255, 255, 255, 1.000)",
        "showlegend": false,
        "width": 600,
        "xaxis1": {
         "anchor": "y1",
         "domain": [
          0.08063575386410031,
          0.9934383202099737
         ],
         "gridcolor": "rgba(0, 0, 0, 0.100)",
         "gridwidth": 0.5,
         "linecolor": "rgba(0, 0, 0, 1.000)",
         "mirror": false,
         "range": [
          -10.600000000000001,
          10.600000000000001
         ],
         "showgrid": true,
         "showline": true,
         "showticklabels": true,
         "tickangle": 0,
         "tickcolor": "rgb(0, 0, 0)",
         "tickfont": {
          "color": "rgba(0, 0, 0, 1.000)",
          "family": "sans-serif",
          "size": 11
         },
         "tickmode": "array",
         "ticks": "inside",
         "ticktext": [
          "-10",
          "-5",
          "0",
          "5",
          "10"
         ],
         "tickvals": [
          -10,
          -5,
          0,
          5,
          10
         ],
         "title": "",
         "titlefont": {
          "color": "rgba(0, 0, 0, 1.000)",
          "family": "sans-serif",
          "size": 15
         },
         "type": "-",
         "visible": true,
         "zeroline": false,
         "zerolinecolor": "rgba(0, 0, 0, 1.000)"
        },
        "xaxis2": {
         "anchor": "y2",
         "domain": [
          0.08063575386410031,
          0.9934383202099737
         ],
         "gridcolor": "rgba(0, 0, 0, 0.100)",
         "gridwidth": 0.5,
         "linecolor": "rgba(0, 0, 0, 1.000)",
         "mirror": false,
         "range": [
          -10.600000000000001,
          10.600000000000001
         ],
         "showgrid": true,
         "showline": true,
         "showticklabels": true,
         "tickangle": 0,
         "tickcolor": "rgb(0, 0, 0)",
         "tickfont": {
          "color": "rgba(0, 0, 0, 1.000)",
          "family": "sans-serif",
          "size": 11
         },
         "tickmode": "array",
         "ticks": "inside",
         "ticktext": [
          "-10",
          "-5",
          "0",
          "5",
          "10"
         ],
         "tickvals": [
          -10,
          -5,
          0,
          5,
          10
         ],
         "title": "",
         "titlefont": {
          "color": "rgba(0, 0, 0, 1.000)",
          "family": "sans-serif",
          "size": 15
         },
         "type": "-",
         "visible": true,
         "zeroline": false,
         "zerolinecolor": "rgba(0, 0, 0, 1.000)"
        },
        "xaxis3": {
         "anchor": "y3",
         "domain": [
          0.08063575386410031,
          0.9934383202099737
         ],
         "gridcolor": "rgba(0, 0, 0, 0.100)",
         "gridwidth": 0.5,
         "linecolor": "rgba(0, 0, 0, 1.000)",
         "mirror": false,
         "range": [
          -10.600000000000001,
          10.600000000000001
         ],
         "showgrid": true,
         "showline": true,
         "showticklabels": true,
         "tickangle": 0,
         "tickcolor": "rgb(0, 0, 0)",
         "tickfont": {
          "color": "rgba(0, 0, 0, 1.000)",
          "family": "sans-serif",
          "size": 11
         },
         "tickmode": "array",
         "ticks": "inside",
         "ticktext": [
          "-10",
          "-5",
          "0",
          "5",
          "10"
         ],
         "tickvals": [
          -10,
          -5,
          0,
          5,
          10
         ],
         "title": "",
         "titlefont": {
          "color": "rgba(0, 0, 0, 1.000)",
          "family": "sans-serif",
          "size": 15
         },
         "type": "-",
         "visible": true,
         "zeroline": false,
         "zerolinecolor": "rgba(0, 0, 0, 1.000)"
        },
        "xaxis4": {
         "anchor": "y4",
         "domain": [
          0.08063575386410031,
          0.9934383202099737
         ],
         "gridcolor": "rgba(0, 0, 0, 0.100)",
         "gridwidth": 0.5,
         "linecolor": "rgba(0, 0, 0, 1.000)",
         "mirror": false,
         "range": [
          -10.600000000000001,
          10.600000000000001
         ],
         "showgrid": true,
         "showline": true,
         "showticklabels": true,
         "tickangle": 0,
         "tickcolor": "rgb(0, 0, 0)",
         "tickfont": {
          "color": "rgba(0, 0, 0, 1.000)",
          "family": "sans-serif",
          "size": 11
         },
         "tickmode": "array",
         "ticks": "inside",
         "ticktext": [
          "-10",
          "-5",
          "0",
          "5",
          "10"
         ],
         "tickvals": [
          -10,
          -5,
          0,
          5,
          10
         ],
         "title": "",
         "titlefont": {
          "color": "rgba(0, 0, 0, 1.000)",
          "family": "sans-serif",
          "size": 15
         },
         "type": "-",
         "visible": true,
         "zeroline": false,
         "zerolinecolor": "rgba(0, 0, 0, 1.000)"
        },
        "yaxis1": {
         "anchor": "x1",
         "domain": [
          0.787620297462817,
          0.9901574803149605
         ],
         "gridcolor": "rgba(0, 0, 0, 0.100)",
         "gridwidth": 0.5,
         "linecolor": "rgba(0, 0, 0, 1.000)",
         "mirror": false,
         "range": [
          -10.600000000000001,
          10.600000000000001
         ],
         "showgrid": true,
         "showline": true,
         "showticklabels": true,
         "tickangle": 0,
         "tickcolor": "rgb(0, 0, 0)",
         "tickfont": {
          "color": "rgba(0, 0, 0, 1.000)",
          "family": "sans-serif",
          "size": 11
         },
         "tickmode": "array",
         "ticks": "inside",
         "ticktext": [
          "-10",
          "-5",
          "0",
          "5",
          "10"
         ],
         "tickvals": [
          -10,
          -5,
          0,
          5,
          10
         ],
         "title": "",
         "titlefont": {
          "color": "rgba(0, 0, 0, 1.000)",
          "family": "sans-serif",
          "size": 15
         },
         "type": "-",
         "visible": true,
         "zeroline": false,
         "zerolinecolor": "rgba(0, 0, 0, 1.000)"
        },
        "yaxis2": {
         "anchor": "x2",
         "domain": [
          0.5376202974628171,
          0.7401574803149606
         ],
         "gridcolor": "rgba(0, 0, 0, 0.100)",
         "gridwidth": 0.5,
         "linecolor": "rgba(0, 0, 0, 1.000)",
         "mirror": false,
         "range": [
          -3,
          103
         ],
         "showgrid": true,
         "showline": true,
         "showticklabels": true,
         "tickangle": 0,
         "tickcolor": "rgb(0, 0, 0)",
         "tickfont": {
          "color": "rgba(0, 0, 0, 1.000)",
          "family": "sans-serif",
          "size": 11
         },
         "tickmode": "array",
         "ticks": "inside",
         "ticktext": [
          "0",
          "25",
          "50",
          "75",
          "100"
         ],
         "tickvals": [
          0,
          25,
          50,
          75,
          100
         ],
         "title": "",
         "titlefont": {
          "color": "rgba(0, 0, 0, 1.000)",
          "family": "sans-serif",
          "size": 15
         },
         "type": "-",
         "visible": true,
         "zeroline": false,
         "zerolinecolor": "rgba(0, 0, 0, 1.000)"
        },
        "yaxis3": {
         "anchor": "x3",
         "domain": [
          0.28762029746281725,
          0.49015748031496076
         ],
         "gridcolor": "rgba(0, 0, 0, 0.100)",
         "gridwidth": 0.5,
         "linecolor": "rgba(0, 0, 0, 1.000)",
         "mirror": false,
         "range": [
          -1060,
          1060
         ],
         "showgrid": true,
         "showline": true,
         "showticklabels": true,
         "tickangle": 0,
         "tickcolor": "rgb(0, 0, 0)",
         "tickfont": {
          "color": "rgba(0, 0, 0, 1.000)",
          "family": "sans-serif",
          "size": 11
         },
         "tickmode": "array",
         "ticks": "inside",
         "ticktext": [
          "-1000",
          "-500",
          "0",
          "500",
          "1000"
         ],
         "tickvals": [
          -1000,
          -500,
          0,
          500,
          1000
         ],
         "title": "",
         "titlefont": {
          "color": "rgba(0, 0, 0, 1.000)",
          "family": "sans-serif",
          "size": 15
         },
         "type": "-",
         "visible": true,
         "zeroline": false,
         "zerolinecolor": "rgba(0, 0, 0, 1.000)"
        },
        "yaxis4": {
         "anchor": "x4",
         "domain": [
          0.03762029746281716,
          0.24015748031496065
         ],
         "gridcolor": "rgba(0, 0, 0, 0.100)",
         "gridwidth": 0.5,
         "linecolor": "rgba(0, 0, 0, 1.000)",
         "mirror": false,
         "range": [
          -300,
          10300
         ],
         "showgrid": true,
         "showline": true,
         "showticklabels": true,
         "tickangle": 0,
         "tickcolor": "rgb(0, 0, 0)",
         "tickfont": {
          "color": "rgba(0, 0, 0, 1.000)",
          "family": "sans-serif",
          "size": 11
         },
         "tickmode": "array",
         "ticks": "inside",
         "ticktext": [
          "0",
          "2500",
          "5000",
          "7500",
          "10000"
         ],
         "tickvals": [
          0,
          2500,
          5000,
          7500,
          10000
         ],
         "title": "",
         "titlefont": {
          "color": "rgba(0, 0, 0, 1.000)",
          "family": "sans-serif",
          "size": 15
         },
         "type": "-",
         "visible": true,
         "zeroline": false,
         "zerolinecolor": "rgba(0, 0, 0, 1.000)"
        }
       }
      },
      "image/png": "[encoded data removed]",
      "image/svg+xml": [
       "<svg class=\"main-svg\" xmlns=\"http://www.w3.org/2000/svg\" xmlns:xlink=\"http://www.w3.org/1999/xlink\" width=\"700\" height=\"500\" style=\"\" viewBox=\"0 0 700 500\"><rect x=\"0\" y=\"0\" width=\"700\" height=\"500\" style=\"fill: rgb(255, 255, 255); fill-opacity: 1;\"/><defs id=\"defs-c33356\"><g class=\"clips\"><clipPath id=\"clipc33356xyplot\" class=\"plotclip\"><rect width=\"547.681539807524\" height=\"78.98950131233596\"/></clipPath><clipPath id=\"clipc33356x2y2plot\" class=\"plotclip\"><rect width=\"547.681539807524\" height=\"78.98950131233596\"/></clipPath><clipPath id=\"clipc33356x3y3plot\" class=\"plotclip\"><rect width=\"547.681539807524\" height=\"78.98950131233596\"/></clipPath><clipPath id=\"clipc33356x4y4plot\" class=\"plotclip\"><rect width=\"547.681539807524\" height=\"78.98950131233596\"/></clipPath><clipPath class=\"axesclip\" id=\"clipc33356x\"><rect x=\"98.38145231846019\" y=\"0\" width=\"547.681539807524\" height=\"500\"/></clipPath><clipPath class=\"axesclip\" id=\"clipc33356y\"><rect x=\"0\" y=\"63.83858267716539\" width=\"700\" height=\"78.98950131233596\"/></clipPath><clipPath class=\"axesclip\" id=\"clipc33356xy\"><rect x=\"98.38145231846019\" y=\"63.83858267716539\" width=\"547.681539807524\" height=\"78.98950131233596\"/></clipPath><clipPath class=\"axesclip\" id=\"clipc33356y2\"><rect x=\"0\" y=\"161.33858267716533\" width=\"700\" height=\"78.98950131233596\"/></clipPath><clipPath class=\"axesclip\" id=\"clipc33356xy2\"><rect x=\"98.38145231846019\" y=\"161.33858267716533\" width=\"547.681539807524\" height=\"78.98950131233596\"/></clipPath><clipPath class=\"axesclip\" id=\"clipc33356y3\"><rect x=\"0\" y=\"258.8385826771653\" width=\"700\" height=\"78.98950131233596\"/></clipPath><clipPath class=\"axesclip\" id=\"clipc33356xy3\"><rect x=\"98.38145231846019\" y=\"258.8385826771653\" width=\"547.681539807524\" height=\"78.98950131233596\"/></clipPath><clipPath class=\"axesclip\" id=\"clipc33356y4\"><rect x=\"0\" y=\"356.33858267716533\" width=\"700\" height=\"78.98950131233596\"/></clipPath><clipPath class=\"axesclip\" id=\"clipc33356xy4\"><rect x=\"98.38145231846019\" y=\"356.33858267716533\" width=\"547.681539807524\" height=\"78.98950131233596\"/></clipPath><clipPath class=\"axesclip\" id=\"clipc33356x2\"><rect x=\"98.38145231846019\" y=\"0\" width=\"547.681539807524\" height=\"500\"/></clipPath><clipPath class=\"axesclip\" id=\"clipc33356x2y\"><rect x=\"98.38145231846019\" y=\"63.83858267716539\" width=\"547.681539807524\" height=\"78.98950131233596\"/></clipPath><clipPath class=\"axesclip\" id=\"clipc33356x2y2\"><rect x=\"98.38145231846019\" y=\"161.33858267716533\" width=\"547.681539807524\" height=\"78.98950131233596\"/></clipPath><clipPath class=\"axesclip\" id=\"clipc33356x2y3\"><rect x=\"98.38145231846019\" y=\"258.8385826771653\" width=\"547.681539807524\" height=\"78.98950131233596\"/></clipPath><clipPath class=\"axesclip\" id=\"clipc33356x2y4\"><rect x=\"98.38145231846019\" y=\"356.33858267716533\" width=\"547.681539807524\" height=\"78.98950131233596\"/></clipPath><clipPath class=\"axesclip\" id=\"clipc33356x3\"><rect x=\"98.38145231846019\" y=\"0\" width=\"547.681539807524\" height=\"500\"/></clipPath><clipPath class=\"axesclip\" id=\"clipc33356x3y\"><rect x=\"98.38145231846019\" y=\"63.83858267716539\" width=\"547.681539807524\" height=\"78.98950131233596\"/></clipPath><clipPath class=\"axesclip\" id=\"clipc33356x3y2\"><rect x=\"98.38145231846019\" y=\"161.33858267716533\" width=\"547.681539807524\" height=\"78.98950131233596\"/></clipPath><clipPath class=\"axesclip\" id=\"clipc33356x3y3\"><rect x=\"98.38145231846019\" y=\"258.8385826771653\" width=\"547.681539807524\" height=\"78.98950131233596\"/></clipPath><clipPath class=\"axesclip\" id=\"clipc33356x3y4\"><rect x=\"98.38145231846019\" y=\"356.33858267716533\" width=\"547.681539807524\" height=\"78.98950131233596\"/></clipPath><clipPath class=\"axesclip\" id=\"clipc33356x4\"><rect x=\"98.38145231846019\" y=\"0\" width=\"547.681539807524\" height=\"500\"/></clipPath><clipPath class=\"axesclip\" id=\"clipc33356x4y\"><rect x=\"98.38145231846019\" y=\"63.83858267716539\" width=\"547.681539807524\" height=\"78.98950131233596\"/></clipPath><clipPath class=\"axesclip\" id=\"clipc33356x4y2\"><rect x=\"98.38145231846019\" y=\"161.33858267716533\" width=\"547.681539807524\" height=\"78.98950131233596\"/></clipPath><clipPath class=\"axesclip\" id=\"clipc33356x4y3\"><rect x=\"98.38145231846019\" y=\"258.8385826771653\" width=\"547.681539807524\" height=\"78.98950131233596\"/></clipPath><clipPath class=\"axesclip\" id=\"clipc33356x4y4\"><rect x=\"98.38145231846019\" y=\"356.33858267716533\" width=\"547.681539807524\" height=\"78.98950131233596\"/></clipPath></g><g class=\"gradients\"/></defs><g class=\"bglayer\"/><g class=\"layer-below\"><g class=\"imagelayer\"/><g class=\"shapelayer\"/></g><g class=\"cartesianlayer\"><g class=\"subplot xy\"><g class=\"layer-subplot\"><g class=\"shapelayer\"/><g class=\"imagelayer\"/></g><g class=\"gridlayer\"><g class=\"x\"><path class=\"xgrid crisp\" transform=\"translate(113.88145231846019,0)\" d=\"M0,63.83858267716539v78.98950131233596\" style=\"stroke: rgb(0, 0, 0); stroke-opacity: 0.1; stroke-width: 0.5px;\"/><path class=\"xgrid crisp\" transform=\"translate(243.05145231846018,0)\" d=\"M0,63.83858267716539v78.98950131233596\" style=\"stroke: rgb(0, 0, 0); stroke-opacity: 0.1; stroke-width: 0.5px;\"/><path class=\"xgrid crisp\" transform=\"translate(372.22145231846014,0)\" d=\"M0,63.83858267716539v78.98950131233596\" style=\"stroke: rgb(0, 0, 0); stroke-opacity: 0.1; stroke-width: 0.5px;\"/><path class=\"xgrid crisp\" transform=\"translate(501.3914523184602,0)\" d=\"M0,63.83858267716539v78.98950131233596\" style=\"stroke: rgb(0, 0, 0); stroke-opacity: 0.1; stroke-width: 0.5px;\"/><path class=\"xgrid crisp\" transform=\"translate(630.5614523184602,0)\" d=\"M0,63.83858267716539v78.98950131233596\" style=\"stroke: rgb(0, 0, 0); stroke-opacity: 0.1; stroke-width: 0.5px;\"/></g><g class=\"y\"><path class=\"ygrid crisp\" transform=\"translate(0,140.5885826771654)\" d=\"M98.38145231846019,0h547.681539807524\" style=\"stroke: rgb(0, 0, 0); stroke-opacity: 0.1; stroke-width: 0.5px;\"/><path class=\"ygrid crisp\" transform=\"translate(0,121.9585826771654)\" d=\"M98.38145231846019,0h547.681539807524\" style=\"stroke: rgb(0, 0, 0); stroke-opacity: 0.1; stroke-width: 0.5px;\"/><path class=\"ygrid crisp\" transform=\"translate(0,103.3285826771654)\" d=\"M98.38145231846019,0h547.681539807524\" style=\"stroke: rgb(0, 0, 0); stroke-opacity: 0.1; stroke-width: 0.5px;\"/><path class=\"ygrid crisp\" transform=\"translate(0,84.7085826771654)\" d=\"M98.38145231846019,0h547.681539807524\" style=\"stroke: rgb(0, 0, 0); stroke-opacity: 0.1; stroke-width: 0.5px;\"/><path class=\"ygrid crisp\" transform=\"translate(0,66.07858267716539)\" d=\"M98.38145231846019,0h547.681539807524\" style=\"stroke: rgb(0, 0, 0); stroke-opacity: 0.1; stroke-width: 0.5px;\"/></g></g><g class=\"zerolinelayer\"/><path class=\"xlines-below\"/><path class=\"ylines-below\"/><g class=\"overlines-below\"/><g class=\"xaxislayer-below\"/><g class=\"yaxislayer-below\"/><g class=\"overaxes-below\"/><g class=\"plot\" transform=\"translate(98.38145231846019,63.83858267716539)\" clip-path=\"url('#clipc33356xyplot')\"><g class=\"scatterlayer mlayer\"><g class=\"trace scatter trace06c385\" style=\"stroke-miterlimit: 2; opacity: 1;\"><g class=\"fills\"/><g class=\"errorbars\"/><g class=\"lines\"><path class=\"js-line\" d=\"M15.5,76.75L532.18,2.24\" style=\"vector-effect: non-scaling-stroke; fill: none; stroke: rgb(0, 154, 250); stroke-opacity: 1; stroke-width: 1px; opacity: 1;\"/></g><g class=\"points\"/><g class=\"text\"/></g></g></g><g class=\"overplot\"/><path class=\"xlines-above crisp\" d=\"M97.38145231846019,143.32808398950135H646.0629921259842\" style=\"fill: none; stroke-width: 1px; stroke: rgb(0, 0, 0); stroke-opacity: 1;\"/><path class=\"ylines-above crisp\" d=\"M97.88145231846019,63.83858267716539V142.82808398950135\" style=\"fill: none; stroke-width: 1px; stroke: rgb(0, 0, 0); stroke-opacity: 1;\"/><g class=\"overlines-above\"/><g class=\"xaxislayer-above\"><path class=\"xtick ticks crisp\" d=\"M0,142.82808398950135v-5\" transform=\"translate(113.88145231846019,0)\" style=\"stroke: rgb(0, 0, 0); stroke-opacity: 1; stroke-width: 1px;\"/><path class=\"xtick ticks crisp\" d=\"M0,142.82808398950135v-5\" transform=\"translate(243.05145231846018,0)\" style=\"stroke: rgb(0, 0, 0); stroke-opacity: 1; stroke-width: 1px;\"/><path class=\"xtick ticks crisp\" d=\"M0,142.82808398950135v-5\" transform=\"translate(372.22145231846014,0)\" style=\"stroke: rgb(0, 0, 0); stroke-opacity: 1; stroke-width: 1px;\"/><path class=\"xtick ticks crisp\" d=\"M0,142.82808398950135v-5\" transform=\"translate(501.3914523184602,0)\" style=\"stroke: rgb(0, 0, 0); stroke-opacity: 1; stroke-width: 1px;\"/><path class=\"xtick ticks crisp\" d=\"M0,142.82808398950135v-5\" transform=\"translate(630.5614523184602,0)\" style=\"stroke: rgb(0, 0, 0); stroke-opacity: 1; stroke-width: 1px;\"/><g class=\"xtick\"><text text-anchor=\"middle\" x=\"0\" y=\"157.02808398950134\" transform=\"translate(113.88145231846019,0)\" style=\"font-family: sans-serif; font-size: 11px; fill: rgb(0, 0, 0); fill-opacity: 1; white-space: pre;\">-10</text></g><g class=\"xtick\"><text text-anchor=\"middle\" x=\"0\" y=\"157.02808398950134\" transform=\"translate(243.05145231846018,0)\" style=\"font-family: sans-serif; font-size: 11px; fill: rgb(0, 0, 0); fill-opacity: 1; white-space: pre;\">-5</text></g><g class=\"xtick\"><text text-anchor=\"middle\" x=\"0\" y=\"157.02808398950134\" transform=\"translate(372.22145231846014,0)\" style=\"font-family: sans-serif; font-size: 11px; fill: rgb(0, 0, 0); fill-opacity: 1; white-space: pre;\">0</text></g><g class=\"xtick\"><text text-anchor=\"middle\" x=\"0\" y=\"157.02808398950134\" transform=\"translate(501.3914523184602,0)\" style=\"font-family: sans-serif; font-size: 11px; fill: rgb(0, 0, 0); fill-opacity: 1; white-space: pre;\">5</text></g><g class=\"xtick\"><text text-anchor=\"middle\" x=\"0\" y=\"157.02808398950134\" transform=\"translate(630.5614523184602,0)\" style=\"font-family: sans-serif; font-size: 11px; fill: rgb(0, 0, 0); fill-opacity: 1; white-space: pre;\">10</text></g></g><g class=\"yaxislayer-above\"><path class=\"ytick ticks crisp\" d=\"M98.38145231846019,0h5\" transform=\"translate(0,140.5885826771654)\" style=\"stroke: rgb(0, 0, 0); stroke-opacity: 1; stroke-width: 1px;\"/><path class=\"ytick ticks crisp\" d=\"M98.38145231846019,0h5\" transform=\"translate(0,121.9585826771654)\" style=\"stroke: rgb(0, 0, 0); stroke-opacity: 1; stroke-width: 1px;\"/><path class=\"ytick ticks crisp\" d=\"M98.38145231846019,0h5\" transform=\"translate(0,103.3285826771654)\" style=\"stroke: rgb(0, 0, 0); stroke-opacity: 1; stroke-width: 1px;\"/><path class=\"ytick ticks crisp\" d=\"M98.38145231846019,0h5\" transform=\"translate(0,84.7085826771654)\" style=\"stroke: rgb(0, 0, 0); stroke-opacity: 1; stroke-width: 1px;\"/><path class=\"ytick ticks crisp\" d=\"M98.38145231846019,0h5\" transform=\"translate(0,66.07858267716539)\" style=\"stroke: rgb(0, 0, 0); stroke-opacity: 1; stroke-width: 1px;\"/><g class=\"ytick\"><text text-anchor=\"end\" x=\"95.18145231846019\" y=\"3.8499999999999996\" transform=\"translate(0,140.5885826771654)\" style=\"font-family: sans-serif; font-size: 11px; fill: rgb(0, 0, 0); fill-opacity: 1; white-space: pre;\">-10</text></g><g class=\"ytick\"><text text-anchor=\"end\" x=\"95.18145231846019\" y=\"3.8499999999999996\" transform=\"translate(0,121.9585826771654)\" style=\"font-family: sans-serif; font-size: 11px; fill: rgb(0, 0, 0); fill-opacity: 1; white-space: pre;\">-5</text></g><g class=\"ytick\"><text text-anchor=\"end\" x=\"95.18145231846019\" y=\"3.8499999999999996\" transform=\"translate(0,103.3285826771654)\" style=\"font-family: sans-serif; font-size: 11px; fill: rgb(0, 0, 0); fill-opacity: 1; white-space: pre;\">0</text></g><g class=\"ytick\"><text text-anchor=\"end\" x=\"95.18145231846019\" y=\"3.8499999999999996\" transform=\"translate(0,84.7085826771654)\" style=\"font-family: sans-serif; font-size: 11px; fill: rgb(0, 0, 0); fill-opacity: 1; white-space: pre;\">5</text></g><g class=\"ytick\"><text text-anchor=\"end\" x=\"95.18145231846019\" y=\"3.8499999999999996\" transform=\"translate(0,66.07858267716539)\" style=\"font-family: sans-serif; font-size: 11px; fill: rgb(0, 0, 0); fill-opacity: 1; white-space: pre;\">10</text></g></g><g class=\"overaxes-above\"/></g><g class=\"subplot x2y2\"><g class=\"layer-subplot\"><g class=\"shapelayer\"/><g class=\"imagelayer\"/></g><g class=\"gridlayer\"><g class=\"x2\"><path class=\"x2grid crisp\" transform=\"translate(113.88145231846019,0)\" d=\"M0,161.33858267716533v78.98950131233596\" style=\"stroke: rgb(0, 0, 0); stroke-opacity: 0.1; stroke-width: 0.5px;\"/><path class=\"x2grid crisp\" transform=\"translate(243.05145231846018,0)\" d=\"M0,161.33858267716533v78.98950131233596\" style=\"stroke: rgb(0, 0, 0); stroke-opacity: 0.1; stroke-width: 0.5px;\"/><path class=\"x2grid crisp\" transform=\"translate(372.22145231846014,0)\" d=\"M0,161.33858267716533v78.98950131233596\" style=\"stroke: rgb(0, 0, 0); stroke-opacity: 0.1; stroke-width: 0.5px;\"/><path class=\"x2grid crisp\" transform=\"translate(501.3914523184602,0)\" d=\"M0,161.33858267716533v78.98950131233596\" style=\"stroke: rgb(0, 0, 0); stroke-opacity: 0.1; stroke-width: 0.5px;\"/><path class=\"x2grid crisp\" transform=\"translate(630.5614523184602,0)\" d=\"M0,161.33858267716533v78.98950131233596\" style=\"stroke: rgb(0, 0, 0); stroke-opacity: 0.1; stroke-width: 0.5px;\"/></g><g class=\"y2\"><path class=\"y2grid crisp\" transform=\"translate(0,238.08858267716533)\" d=\"M98.38145231846019,0h547.681539807524\" style=\"stroke: rgb(0, 0, 0); stroke-opacity: 0.1; stroke-width: 0.5px;\"/><path class=\"y2grid crisp\" transform=\"translate(0,219.45858267716534)\" d=\"M98.38145231846019,0h547.681539807524\" style=\"stroke: rgb(0, 0, 0); stroke-opacity: 0.1; stroke-width: 0.5px;\"/><path class=\"y2grid crisp\" transform=\"translate(0,200.82858267716534)\" d=\"M98.38145231846019,0h547.681539807524\" style=\"stroke: rgb(0, 0, 0); stroke-opacity: 0.1; stroke-width: 0.5px;\"/><path class=\"y2grid crisp\" transform=\"translate(0,182.20858267716534)\" d=\"M98.38145231846019,0h547.681539807524\" style=\"stroke: rgb(0, 0, 0); stroke-opacity: 0.1; stroke-width: 0.5px;\"/><path class=\"y2grid crisp\" transform=\"translate(0,163.57858267716534)\" d=\"M98.38145231846019,0h547.681539807524\" style=\"stroke: rgb(0, 0, 0); stroke-opacity: 0.1; stroke-width: 0.5px;\"/></g></g><g class=\"zerolinelayer\"/><path class=\"xlines-below\"/><path class=\"ylines-below\"/><g class=\"overlines-below\"/><g class=\"xaxislayer-below\"/><g class=\"yaxislayer-below\"/><g class=\"overaxes-below\"/><g class=\"plot\" transform=\"translate(98.38145231846019,161.33858267716533)\" clip-path=\"url('#clipc33356x2y2plot')\"><g class=\"scatterlayer mlayer\"><g class=\"trace scatter trace14b768\" style=\"stroke-miterlimit: 2; opacity: 1;\"><g class=\"fills\"/><g class=\"errorbars\"/><g class=\"lines\"><path class=\"js-line\" d=\"M15.5,2.24L41.33,16.39L67.17,29.06L93,40.24L118.84,49.93L144.67,58.12L170.5,64.83L196.34,70.05L222.17,73.77L248.01,76.01L273.84,76.75L299.67,76.01L325.51,73.77L351.34,70.05L377.18,64.83L403.01,58.12L428.84,49.93L454.68,40.24L480.51,29.06L506.35,16.39L532.18,2.24\" style=\"vector-effect: non-scaling-stroke; fill: none; stroke: rgb(0, 154, 250); stroke-opacity: 1; stroke-width: 1px; opacity: 1;\"/></g><g class=\"points\"/><g class=\"text\"/></g></g></g><g class=\"overplot\"/><path class=\"xlines-above crisp\" d=\"M97.38145231846019,240.8280839895013H646.0629921259842\" style=\"fill: none; stroke-width: 1px; stroke: rgb(0, 0, 0); stroke-opacity: 1;\"/><path class=\"ylines-above crisp\" d=\"M97.88145231846019,161.33858267716533V240.3280839895013\" style=\"fill: none; stroke-width: 1px; stroke: rgb(0, 0, 0); stroke-opacity: 1;\"/><g class=\"overlines-above\"/><g class=\"xaxislayer-above\"><path class=\"x2tick ticks crisp\" d=\"M0,240.3280839895013v-5\" transform=\"translate(113.88145231846019,0)\" style=\"stroke: rgb(0, 0, 0); stroke-opacity: 1; stroke-width: 1px;\"/><path class=\"x2tick ticks crisp\" d=\"M0,240.3280839895013v-5\" transform=\"translate(243.05145231846018,0)\" style=\"stroke: rgb(0, 0, 0); stroke-opacity: 1; stroke-width: 1px;\"/><path class=\"x2tick ticks crisp\" d=\"M0,240.3280839895013v-5\" transform=\"translate(372.22145231846014,0)\" style=\"stroke: rgb(0, 0, 0); stroke-opacity: 1; stroke-width: 1px;\"/><path class=\"x2tick ticks crisp\" d=\"M0,240.3280839895013v-5\" transform=\"translate(501.3914523184602,0)\" style=\"stroke: rgb(0, 0, 0); stroke-opacity: 1; stroke-width: 1px;\"/><path class=\"x2tick ticks crisp\" d=\"M0,240.3280839895013v-5\" transform=\"translate(630.5614523184602,0)\" style=\"stroke: rgb(0, 0, 0); stroke-opacity: 1; stroke-width: 1px;\"/><g class=\"x2tick\"><text text-anchor=\"middle\" x=\"0\" y=\"254.52808398950128\" transform=\"translate(113.88145231846019,0)\" style=\"font-family: sans-serif; font-size: 11px; fill: rgb(0, 0, 0); fill-opacity: 1; white-space: pre;\">-10</text></g><g class=\"x2tick\"><text text-anchor=\"middle\" x=\"0\" y=\"254.52808398950128\" transform=\"translate(243.05145231846018,0)\" style=\"font-family: sans-serif; font-size: 11px; fill: rgb(0, 0, 0); fill-opacity: 1; white-space: pre;\">-5</text></g><g class=\"x2tick\"><text text-anchor=\"middle\" x=\"0\" y=\"254.52808398950128\" transform=\"translate(372.22145231846014,0)\" style=\"font-family: sans-serif; font-size: 11px; fill: rgb(0, 0, 0); fill-opacity: 1; white-space: pre;\">0</text></g><g class=\"x2tick\"><text text-anchor=\"middle\" x=\"0\" y=\"254.52808398950128\" transform=\"translate(501.3914523184602,0)\" style=\"font-family: sans-serif; font-size: 11px; fill: rgb(0, 0, 0); fill-opacity: 1; white-space: pre;\">5</text></g><g class=\"x2tick\"><text text-anchor=\"middle\" x=\"0\" y=\"254.52808398950128\" transform=\"translate(630.5614523184602,0)\" style=\"font-family: sans-serif; font-size: 11px; fill: rgb(0, 0, 0); fill-opacity: 1; white-space: pre;\">10</text></g></g><g class=\"yaxislayer-above\"><path class=\"y2tick ticks crisp\" d=\"M98.38145231846019,0h5\" transform=\"translate(0,238.08858267716533)\" style=\"stroke: rgb(0, 0, 0); stroke-opacity: 1; stroke-width: 1px;\"/><path class=\"y2tick ticks crisp\" d=\"M98.38145231846019,0h5\" transform=\"translate(0,219.45858267716534)\" style=\"stroke: rgb(0, 0, 0); stroke-opacity: 1; stroke-width: 1px;\"/><path class=\"y2tick ticks crisp\" d=\"M98.38145231846019,0h5\" transform=\"translate(0,200.82858267716534)\" style=\"stroke: rgb(0, 0, 0); stroke-opacity: 1; stroke-width: 1px;\"/><path class=\"y2tick ticks crisp\" d=\"M98.38145231846019,0h5\" transform=\"translate(0,182.20858267716534)\" style=\"stroke: rgb(0, 0, 0); stroke-opacity: 1; stroke-width: 1px;\"/><path class=\"y2tick ticks crisp\" d=\"M98.38145231846019,0h5\" transform=\"translate(0,163.57858267716534)\" style=\"stroke: rgb(0, 0, 0); stroke-opacity: 1; stroke-width: 1px;\"/><g class=\"y2tick\"><text text-anchor=\"end\" x=\"95.18145231846019\" y=\"3.8499999999999996\" transform=\"translate(0,238.08858267716533)\" style=\"font-family: sans-serif; font-size: 11px; fill: rgb(0, 0, 0); fill-opacity: 1; white-space: pre;\">0</text></g><g class=\"y2tick\"><text text-anchor=\"end\" x=\"95.18145231846019\" y=\"3.8499999999999996\" transform=\"translate(0,219.45858267716534)\" style=\"font-family: sans-serif; font-size: 11px; fill: rgb(0, 0, 0); fill-opacity: 1; white-space: pre;\">25</text></g><g class=\"y2tick\"><text text-anchor=\"end\" x=\"95.18145231846019\" y=\"3.8499999999999996\" transform=\"translate(0,200.82858267716534)\" style=\"font-family: sans-serif; font-size: 11px; fill: rgb(0, 0, 0); fill-opacity: 1; white-space: pre;\">50</text></g><g class=\"y2tick\"><text text-anchor=\"end\" x=\"95.18145231846019\" y=\"3.8499999999999996\" transform=\"translate(0,182.20858267716534)\" style=\"font-family: sans-serif; font-size: 11px; fill: rgb(0, 0, 0); fill-opacity: 1; white-space: pre;\">75</text></g><g class=\"y2tick\"><text text-anchor=\"end\" x=\"95.18145231846019\" y=\"3.8499999999999996\" transform=\"translate(0,163.57858267716534)\" style=\"font-family: sans-serif; font-size: 11px; fill: rgb(0, 0, 0); fill-opacity: 1; white-space: pre;\">100</text></g></g><g class=\"overaxes-above\"/></g><g class=\"subplot x3y3\"><g class=\"layer-subplot\"><g class=\"shapelayer\"/><g class=\"imagelayer\"/></g><g class=\"gridlayer\"><g class=\"x3\"><path class=\"x3grid crisp\" transform=\"translate(113.88145231846019,0)\" d=\"M0,258.8385826771653v78.98950131233596\" style=\"stroke: rgb(0, 0, 0); stroke-opacity: 0.1; stroke-width: 0.5px;\"/><path class=\"x3grid crisp\" transform=\"translate(243.05145231846018,0)\" d=\"M0,258.8385826771653v78.98950131233596\" style=\"stroke: rgb(0, 0, 0); stroke-opacity: 0.1; stroke-width: 0.5px;\"/><path class=\"x3grid crisp\" transform=\"translate(372.22145231846014,0)\" d=\"M0,258.8385826771653v78.98950131233596\" style=\"stroke: rgb(0, 0, 0); stroke-opacity: 0.1; stroke-width: 0.5px;\"/><path class=\"x3grid crisp\" transform=\"translate(501.3914523184602,0)\" d=\"M0,258.8385826771653v78.98950131233596\" style=\"stroke: rgb(0, 0, 0); stroke-opacity: 0.1; stroke-width: 0.5px;\"/><path class=\"x3grid crisp\" transform=\"translate(630.5614523184602,0)\" d=\"M0,258.8385826771653v78.98950131233596\" style=\"stroke: rgb(0, 0, 0); stroke-opacity: 0.1; stroke-width: 0.5px;\"/></g><g class=\"y3\"><path class=\"y3grid crisp\" transform=\"translate(0,335.5885826771653)\" d=\"M98.38145231846019,0h547.681539807524\" style=\"stroke: rgb(0, 0, 0); stroke-opacity: 0.1; stroke-width: 0.5px;\"/><path class=\"y3grid crisp\" transform=\"translate(0,316.9585826771653)\" d=\"M98.38145231846019,0h547.681539807524\" style=\"stroke: rgb(0, 0, 0); stroke-opacity: 0.1; stroke-width: 0.5px;\"/><path class=\"y3grid crisp\" transform=\"translate(0,298.3285826771653)\" d=\"M98.38145231846019,0h547.681539807524\" style=\"stroke: rgb(0, 0, 0); stroke-opacity: 0.1; stroke-width: 0.5px;\"/><path class=\"y3grid crisp\" transform=\"translate(0,279.7085826771653)\" d=\"M98.38145231846019,0h547.681539807524\" style=\"stroke: rgb(0, 0, 0); stroke-opacity: 0.1; stroke-width: 0.5px;\"/><path class=\"y3grid crisp\" transform=\"translate(0,261.0785826771653)\" d=\"M98.38145231846019,0h547.681539807524\" style=\"stroke: rgb(0, 0, 0); stroke-opacity: 0.1; stroke-width: 0.5px;\"/></g></g><g class=\"zerolinelayer\"/><path class=\"xlines-below\"/><path class=\"ylines-below\"/><g class=\"overlines-below\"/><g class=\"xaxislayer-below\"/><g class=\"yaxislayer-below\"/><g class=\"overaxes-below\"/><g class=\"plot\" transform=\"translate(98.38145231846019,258.8385826771653)\" clip-path=\"url('#clipc33356x3y3plot')\"><g class=\"scatterlayer mlayer\"><g class=\"trace scatter trace5c3a63\" style=\"stroke-miterlimit: 2; opacity: 1;\"><g class=\"fills\"/><g class=\"errorbars\"/><g class=\"lines\"><path class=\"js-line\" d=\"M15.5,76.75L41.33,66.66L67.17,58.57L93,52.27L118.84,47.54L144.67,44.15L170.5,41.88L222.17,39.79L248.01,39.53L325.51,39.2L351.34,38.49L377.18,37.11L403.01,34.84L428.84,31.45L454.68,26.71L480.51,20.42L506.35,12.33L532.18,2.24\" style=\"vector-effect: non-scaling-stroke; fill: none; stroke: rgb(0, 154, 250); stroke-opacity: 1; stroke-width: 1px; opacity: 1;\"/></g><g class=\"points\"/><g class=\"text\"/></g></g></g><g class=\"overplot\"/><path class=\"xlines-above crisp\" d=\"M97.38145231846019,338.32808398950124H646.0629921259842\" style=\"fill: none; stroke-width: 1px; stroke: rgb(0, 0, 0); stroke-opacity: 1;\"/><path class=\"ylines-above crisp\" d=\"M97.88145231846019,258.8385826771653V337.82808398950124\" style=\"fill: none; stroke-width: 1px; stroke: rgb(0, 0, 0); stroke-opacity: 1;\"/><g class=\"overlines-above\"/><g class=\"xaxislayer-above\"><path class=\"x3tick ticks crisp\" d=\"M0,337.82808398950124v-5\" transform=\"translate(113.88145231846019,0)\" style=\"stroke: rgb(0, 0, 0); stroke-opacity: 1; stroke-width: 1px;\"/><path class=\"x3tick ticks crisp\" d=\"M0,337.82808398950124v-5\" transform=\"translate(243.05145231846018,0)\" style=\"stroke: rgb(0, 0, 0); stroke-opacity: 1; stroke-width: 1px;\"/><path class=\"x3tick ticks crisp\" d=\"M0,337.82808398950124v-5\" transform=\"translate(372.22145231846014,0)\" style=\"stroke: rgb(0, 0, 0); stroke-opacity: 1; stroke-width: 1px;\"/><path class=\"x3tick ticks crisp\" d=\"M0,337.82808398950124v-5\" transform=\"translate(501.3914523184602,0)\" style=\"stroke: rgb(0, 0, 0); stroke-opacity: 1; stroke-width: 1px;\"/><path class=\"x3tick ticks crisp\" d=\"M0,337.82808398950124v-5\" transform=\"translate(630.5614523184602,0)\" style=\"stroke: rgb(0, 0, 0); stroke-opacity: 1; stroke-width: 1px;\"/><g class=\"x3tick\"><text text-anchor=\"middle\" x=\"0\" y=\"352.0280839895012\" transform=\"translate(113.88145231846019,0)\" style=\"font-family: sans-serif; font-size: 11px; fill: rgb(0, 0, 0); fill-opacity: 1; white-space: pre;\">-10</text></g><g class=\"x3tick\"><text text-anchor=\"middle\" x=\"0\" y=\"352.0280839895012\" transform=\"translate(243.05145231846018,0)\" style=\"font-family: sans-serif; font-size: 11px; fill: rgb(0, 0, 0); fill-opacity: 1; white-space: pre;\">-5</text></g><g class=\"x3tick\"><text text-anchor=\"middle\" x=\"0\" y=\"352.0280839895012\" transform=\"translate(372.22145231846014,0)\" style=\"font-family: sans-serif; font-size: 11px; fill: rgb(0, 0, 0); fill-opacity: 1; white-space: pre;\">0</text></g><g class=\"x3tick\"><text text-anchor=\"middle\" x=\"0\" y=\"352.0280839895012\" transform=\"translate(501.3914523184602,0)\" style=\"font-family: sans-serif; font-size: 11px; fill: rgb(0, 0, 0); fill-opacity: 1; white-space: pre;\">5</text></g><g class=\"x3tick\"><text text-anchor=\"middle\" x=\"0\" y=\"352.0280839895012\" transform=\"translate(630.5614523184602,0)\" style=\"font-family: sans-serif; font-size: 11px; fill: rgb(0, 0, 0); fill-opacity: 1; white-space: pre;\">10</text></g></g><g class=\"yaxislayer-above\"><path class=\"y3tick ticks crisp\" d=\"M98.38145231846019,0h5\" transform=\"translate(0,335.5885826771653)\" style=\"stroke: rgb(0, 0, 0); stroke-opacity: 1; stroke-width: 1px;\"/><path class=\"y3tick ticks crisp\" d=\"M98.38145231846019,0h5\" transform=\"translate(0,316.9585826771653)\" style=\"stroke: rgb(0, 0, 0); stroke-opacity: 1; stroke-width: 1px;\"/><path class=\"y3tick ticks crisp\" d=\"M98.38145231846019,0h5\" transform=\"translate(0,298.3285826771653)\" style=\"stroke: rgb(0, 0, 0); stroke-opacity: 1; stroke-width: 1px;\"/><path class=\"y3tick ticks crisp\" d=\"M98.38145231846019,0h5\" transform=\"translate(0,279.7085826771653)\" style=\"stroke: rgb(0, 0, 0); stroke-opacity: 1; stroke-width: 1px;\"/><path class=\"y3tick ticks crisp\" d=\"M98.38145231846019,0h5\" transform=\"translate(0,261.0785826771653)\" style=\"stroke: rgb(0, 0, 0); stroke-opacity: 1; stroke-width: 1px;\"/><g class=\"y3tick\"><text text-anchor=\"end\" x=\"95.18145231846019\" y=\"3.8499999999999996\" transform=\"translate(0,335.5885826771653)\" style=\"font-family: sans-serif; font-size: 11px; fill: rgb(0, 0, 0); fill-opacity: 1; white-space: pre;\">-1000</text></g><g class=\"y3tick\"><text text-anchor=\"end\" x=\"95.18145231846019\" y=\"3.8499999999999996\" transform=\"translate(0,316.9585826771653)\" style=\"font-family: sans-serif; font-size: 11px; fill: rgb(0, 0, 0); fill-opacity: 1; white-space: pre;\">-500</text></g><g class=\"y3tick\"><text text-anchor=\"end\" x=\"95.18145231846019\" y=\"3.8499999999999996\" transform=\"translate(0,298.3285826771653)\" style=\"font-family: sans-serif; font-size: 11px; fill: rgb(0, 0, 0); fill-opacity: 1; white-space: pre;\">0</text></g><g class=\"y3tick\"><text text-anchor=\"end\" x=\"95.18145231846019\" y=\"3.8499999999999996\" transform=\"translate(0,279.7085826771653)\" style=\"font-family: sans-serif; font-size: 11px; fill: rgb(0, 0, 0); fill-opacity: 1; white-space: pre;\">500</text></g><g class=\"y3tick\"><text text-anchor=\"end\" x=\"95.18145231846019\" y=\"3.8499999999999996\" transform=\"translate(0,261.0785826771653)\" style=\"font-family: sans-serif; font-size: 11px; fill: rgb(0, 0, 0); fill-opacity: 1; white-space: pre;\">1000</text></g></g><g class=\"overaxes-above\"/></g><g class=\"subplot x4y4\"><g class=\"layer-subplot\"><g class=\"shapelayer\"/><g class=\"imagelayer\"/></g><g class=\"gridlayer\"><g class=\"x4\"><path class=\"x4grid crisp\" transform=\"translate(113.88145231846019,0)\" d=\"M0,356.33858267716533v78.98950131233596\" style=\"stroke: rgb(0, 0, 0); stroke-opacity: 0.1; stroke-width: 0.5px;\"/><path class=\"x4grid crisp\" transform=\"translate(243.05145231846018,0)\" d=\"M0,356.33858267716533v78.98950131233596\" style=\"stroke: rgb(0, 0, 0); stroke-opacity: 0.1; stroke-width: 0.5px;\"/><path class=\"x4grid crisp\" transform=\"translate(372.22145231846014,0)\" d=\"M0,356.33858267716533v78.98950131233596\" style=\"stroke: rgb(0, 0, 0); stroke-opacity: 0.1; stroke-width: 0.5px;\"/><path class=\"x4grid crisp\" transform=\"translate(501.3914523184602,0)\" d=\"M0,356.33858267716533v78.98950131233596\" style=\"stroke: rgb(0, 0, 0); stroke-opacity: 0.1; stroke-width: 0.5px;\"/><path class=\"x4grid crisp\" transform=\"translate(630.5614523184602,0)\" d=\"M0,356.33858267716533v78.98950131233596\" style=\"stroke: rgb(0, 0, 0); stroke-opacity: 0.1; stroke-width: 0.5px;\"/></g><g class=\"y4\"><path class=\"y4grid crisp\" transform=\"translate(0,433.08858267716533)\" d=\"M98.38145231846019,0h547.681539807524\" style=\"stroke: rgb(0, 0, 0); stroke-opacity: 0.1; stroke-width: 0.5px;\"/><path class=\"y4grid crisp\" transform=\"translate(0,414.45858267716534)\" d=\"M98.38145231846019,0h547.681539807524\" style=\"stroke: rgb(0, 0, 0); stroke-opacity: 0.1; stroke-width: 0.5px;\"/><path class=\"y4grid crisp\" transform=\"translate(0,395.82858267716534)\" d=\"M98.38145231846019,0h547.681539807524\" style=\"stroke: rgb(0, 0, 0); stroke-opacity: 0.1; stroke-width: 0.5px;\"/><path class=\"y4grid crisp\" transform=\"translate(0,377.20858267716534)\" d=\"M98.38145231846019,0h547.681539807524\" style=\"stroke: rgb(0, 0, 0); stroke-opacity: 0.1; stroke-width: 0.5px;\"/><path class=\"y4grid crisp\" transform=\"translate(0,358.57858267716534)\" d=\"M98.38145231846019,0h547.681539807524\" style=\"stroke: rgb(0, 0, 0); stroke-opacity: 0.1; stroke-width: 0.5px;\"/></g></g><g class=\"zerolinelayer\"/><path class=\"xlines-below\"/><path class=\"ylines-below\"/><g class=\"overlines-below\"/><g class=\"xaxislayer-below\"/><g class=\"yaxislayer-below\"/><g class=\"overaxes-below\"/><g class=\"plot\" transform=\"translate(98.38145231846019,356.33858267716533)\" clip-path=\"url('#clipc33356x4y4plot')\"><g class=\"scatterlayer mlayer\"><g class=\"trace scatter trace0bf397\" style=\"stroke-miterlimit: 2; opacity: 1;\"><g class=\"fills\"/><g class=\"errorbars\"/><g class=\"lines\"><path class=\"js-line\" d=\"M15.5,2.24L41.33,27.86L67.17,46.23L93,58.86L118.84,67.1L144.67,72.1L170.5,74.85L196.34,76.15L222.17,76.63L325.51,76.63L351.34,76.15L377.18,74.85L403.01,72.1L428.84,67.1L454.68,58.86L480.51,46.23L506.35,27.86L532.18,2.24\" style=\"vector-effect: non-scaling-stroke; fill: none; stroke: rgb(0, 154, 250); stroke-opacity: 1; stroke-width: 1px; opacity: 1;\"/></g><g class=\"points\"/><g class=\"text\"/></g></g></g><g class=\"overplot\"/><path class=\"xlines-above crisp\" d=\"M97.38145231846019,435.8280839895013H646.0629921259842\" style=\"fill: none; stroke-width: 1px; stroke: rgb(0, 0, 0); stroke-opacity: 1;\"/><path class=\"ylines-above crisp\" d=\"M97.88145231846019,356.33858267716533V435.3280839895013\" style=\"fill: none; stroke-width: 1px; stroke: rgb(0, 0, 0); stroke-opacity: 1;\"/><g class=\"overlines-above\"/><g class=\"xaxislayer-above\"><path class=\"x4tick ticks crisp\" d=\"M0,435.3280839895013v-5\" transform=\"translate(113.88145231846019,0)\" style=\"stroke: rgb(0, 0, 0); stroke-opacity: 1; stroke-width: 1px;\"/><path class=\"x4tick ticks crisp\" d=\"M0,435.3280839895013v-5\" transform=\"translate(243.05145231846018,0)\" style=\"stroke: rgb(0, 0, 0); stroke-opacity: 1; stroke-width: 1px;\"/><path class=\"x4tick ticks crisp\" d=\"M0,435.3280839895013v-5\" transform=\"translate(372.22145231846014,0)\" style=\"stroke: rgb(0, 0, 0); stroke-opacity: 1; stroke-width: 1px;\"/><path class=\"x4tick ticks crisp\" d=\"M0,435.3280839895013v-5\" transform=\"translate(501.3914523184602,0)\" style=\"stroke: rgb(0, 0, 0); stroke-opacity: 1; stroke-width: 1px;\"/><path class=\"x4tick ticks crisp\" d=\"M0,435.3280839895013v-5\" transform=\"translate(630.5614523184602,0)\" style=\"stroke: rgb(0, 0, 0); stroke-opacity: 1; stroke-width: 1px;\"/><g class=\"x4tick\"><text text-anchor=\"middle\" x=\"0\" y=\"449.5280839895013\" transform=\"translate(113.88145231846019,0)\" style=\"font-family: sans-serif; font-size: 11px; fill: rgb(0, 0, 0); fill-opacity: 1; white-space: pre;\">-10</text></g><g class=\"x4tick\"><text text-anchor=\"middle\" x=\"0\" y=\"449.5280839895013\" transform=\"translate(243.05145231846018,0)\" style=\"font-family: sans-serif; font-size: 11px; fill: rgb(0, 0, 0); fill-opacity: 1; white-space: pre;\">-5</text></g><g class=\"x4tick\"><text text-anchor=\"middle\" x=\"0\" y=\"449.5280839895013\" transform=\"translate(372.22145231846014,0)\" style=\"font-family: sans-serif; font-size: 11px; fill: rgb(0, 0, 0); fill-opacity: 1; white-space: pre;\">0</text></g><g class=\"x4tick\"><text text-anchor=\"middle\" x=\"0\" y=\"449.5280839895013\" transform=\"translate(501.3914523184602,0)\" style=\"font-family: sans-serif; font-size: 11px; fill: rgb(0, 0, 0); fill-opacity: 1; white-space: pre;\">5</text></g><g class=\"x4tick\"><text text-anchor=\"middle\" x=\"0\" y=\"449.5280839895013\" transform=\"translate(630.5614523184602,0)\" style=\"font-family: sans-serif; font-size: 11px; fill: rgb(0, 0, 0); fill-opacity: 1; white-space: pre;\">10</text></g></g><g class=\"yaxislayer-above\"><path class=\"y4tick ticks crisp\" d=\"M98.38145231846019,0h5\" transform=\"translate(0,433.08858267716533)\" style=\"stroke: rgb(0, 0, 0); stroke-opacity: 1; stroke-width: 1px;\"/><path class=\"y4tick ticks crisp\" d=\"M98.38145231846019,0h5\" transform=\"translate(0,414.45858267716534)\" style=\"stroke: rgb(0, 0, 0); stroke-opacity: 1; stroke-width: 1px;\"/><path class=\"y4tick ticks crisp\" d=\"M98.38145231846019,0h5\" transform=\"translate(0,395.82858267716534)\" style=\"stroke: rgb(0, 0, 0); stroke-opacity: 1; stroke-width: 1px;\"/><path class=\"y4tick ticks crisp\" d=\"M98.38145231846019,0h5\" transform=\"translate(0,377.20858267716534)\" style=\"stroke: rgb(0, 0, 0); stroke-opacity: 1; stroke-width: 1px;\"/><path class=\"y4tick ticks crisp\" d=\"M98.38145231846019,0h5\" transform=\"translate(0,358.57858267716534)\" style=\"stroke: rgb(0, 0, 0); stroke-opacity: 1; stroke-width: 1px;\"/><g class=\"y4tick\"><text text-anchor=\"end\" x=\"95.18145231846019\" y=\"3.8499999999999996\" transform=\"translate(0,433.08858267716533)\" style=\"font-family: sans-serif; font-size: 11px; fill: rgb(0, 0, 0); fill-opacity: 1; white-space: pre;\">0</text></g><g class=\"y4tick\"><text text-anchor=\"end\" x=\"95.18145231846019\" y=\"3.8499999999999996\" transform=\"translate(0,414.45858267716534)\" style=\"font-family: sans-serif; font-size: 11px; fill: rgb(0, 0, 0); fill-opacity: 1; white-space: pre;\">2500</text></g><g class=\"y4tick\"><text text-anchor=\"end\" x=\"95.18145231846019\" y=\"3.8499999999999996\" transform=\"translate(0,395.82858267716534)\" style=\"font-family: sans-serif; font-size: 11px; fill: rgb(0, 0, 0); fill-opacity: 1; white-space: pre;\">5000</text></g><g class=\"y4tick\"><text text-anchor=\"end\" x=\"95.18145231846019\" y=\"3.8499999999999996\" transform=\"translate(0,377.20858267716534)\" style=\"font-family: sans-serif; font-size: 11px; fill: rgb(0, 0, 0); fill-opacity: 1; white-space: pre;\">7500</text></g><g class=\"y4tick\"><text text-anchor=\"end\" x=\"95.18145231846019\" y=\"3.8499999999999996\" transform=\"translate(0,358.57858267716534)\" style=\"font-family: sans-serif; font-size: 11px; fill: rgb(0, 0, 0); fill-opacity: 1; white-space: pre;\">10000</text></g></g><g class=\"overaxes-above\"/></g></g><g class=\"polarlayer\"/><g class=\"ternarylayer\"/><g class=\"geolayer\"/><g class=\"funnelarealayer\"/><g class=\"pielayer\"/><g class=\"treemaplayer\"/><g class=\"sunburstlayer\"/><g class=\"glimages\"/><defs id=\"topdefs-c33356\"><g class=\"clips\"/></defs><g class=\"layer-above\"><g class=\"imagelayer\"/><g class=\"shapelayer\"/></g><g class=\"infolayer\"><g class=\"g-gtitle\"/><g class=\"g-xtitle\"/><g class=\"g-x2title\"/><g class=\"g-x3title\"/><g class=\"g-x4title\"/><g class=\"g-ytitle\"/><g class=\"g-y2title\"/><g class=\"g-y3title\"/><g class=\"g-y4title\"/></g></svg>"
      ],
      "text/html": [
       "    <div id=\"d5941b7d-f927-4ab7-a8d3-d1f62e44d373\" style=\"width:600px;height:400px;\"></div>\n",
       "    <script>\n",
       "        requirejs.config({\n",
       "        paths: {\n",
       "            plotly: 'https://cdn.plot.ly/plotly-2.6.3.min'\n",
       "        }\n",
       "    });\n",
       "    require(['plotly'], function (Plotly) {\n",
       "\n",
       "    Plotly.newPlot('d5941b7d-f927-4ab7-a8d3-d1f62e44d373', [\n",
       "    {\n",
       "        \"showlegend\": true,\n",
       "        \"mode\": \"lines\",\n",
       "        \"xaxis\": \"x1\",\n",
       "        \"colorbar\": {\n",
       "            \"y\": 0.8888888888888888,\n",
       "            \"title\": \"\",\n",
       "            \"len\": 0.2025371828521435,\n",
       "            \"x\": 0.9934383202099737\n",
       "        },\n",
       "        \"name\": \"y1\",\n",
       "        \"yaxis\": \"y1\",\n",
       "        \"legendgroup\": \"y1\",\n",
       "        \"line\": {\n",
       "            \"color\": \"rgba(0, 154, 250, 1.000)\",\n",
       "            \"shape\": \"linear\",\n",
       "            \"dash\": \"solid\",\n",
       "            \"width\": 1\n",
       "        },\n",
       "        \"y\": [\n",
       "            -10,\n",
       "            -9,\n",
       "            -8,\n",
       "            -7,\n",
       "            -6,\n",
       "            -5,\n",
       "            -4,\n",
       "            -3,\n",
       "            -2,\n",
       "            -1,\n",
       "            0,\n",
       "            1,\n",
       "            2,\n",
       "            3,\n",
       "            4,\n",
       "            5,\n",
       "            6,\n",
       "            7,\n",
       "            8,\n",
       "            9,\n",
       "            10\n",
       "        ],\n",
       "        \"type\": \"scatter\",\n",
       "        \"x\": [\n",
       "            -10,\n",
       "            -9,\n",
       "            -8,\n",
       "            -7,\n",
       "            -6,\n",
       "            -5,\n",
       "            -4,\n",
       "            -3,\n",
       "            -2,\n",
       "            -1,\n",
       "            0,\n",
       "            1,\n",
       "            2,\n",
       "            3,\n",
       "            4,\n",
       "            5,\n",
       "            6,\n",
       "            7,\n",
       "            8,\n",
       "            9,\n",
       "            10\n",
       "        ]\n",
       "    },\n",
       "    {\n",
       "        \"showlegend\": true,\n",
       "        \"mode\": \"lines\",\n",
       "        \"xaxis\": \"x2\",\n",
       "        \"colorbar\": {\n",
       "            \"y\": 0.6388888888888888,\n",
       "            \"title\": \"\",\n",
       "            \"len\": 0.2025371828521435,\n",
       "            \"x\": 0.9934383202099737\n",
       "        },\n",
       "        \"name\": \"y1\",\n",
       "        \"yaxis\": \"y2\",\n",
       "        \"legendgroup\": \"y1\",\n",
       "        \"line\": {\n",
       "            \"color\": \"rgba(0, 154, 250, 1.000)\",\n",
       "            \"shape\": \"linear\",\n",
       "            \"dash\": \"solid\",\n",
       "            \"width\": 1\n",
       "        },\n",
       "        \"y\": [\n",
       "            100.0,\n",
       "            81.0,\n",
       "            64.0,\n",
       "            49.0,\n",
       "            36.0,\n",
       "            25.0,\n",
       "            16.0,\n",
       "            9.0,\n",
       "            4.0,\n",
       "            1.0,\n",
       "            0.0,\n",
       "            1.0,\n",
       "            4.0,\n",
       "            9.0,\n",
       "            16.0,\n",
       "            25.0,\n",
       "            36.0,\n",
       "            49.0,\n",
       "            64.0,\n",
       "            81.0,\n",
       "            100.0\n",
       "        ],\n",
       "        \"type\": \"scatter\",\n",
       "        \"x\": [\n",
       "            -10,\n",
       "            -9,\n",
       "            -8,\n",
       "            -7,\n",
       "            -6,\n",
       "            -5,\n",
       "            -4,\n",
       "            -3,\n",
       "            -2,\n",
       "            -1,\n",
       "            0,\n",
       "            1,\n",
       "            2,\n",
       "            3,\n",
       "            4,\n",
       "            5,\n",
       "            6,\n",
       "            7,\n",
       "            8,\n",
       "            9,\n",
       "            10\n",
       "        ]\n",
       "    },\n",
       "    {\n",
       "        \"showlegend\": true,\n",
       "        \"mode\": \"lines\",\n",
       "        \"xaxis\": \"x3\",\n",
       "        \"colorbar\": {\n",
       "            \"y\": 0.388888888888889,\n",
       "            \"title\": \"\",\n",
       "            \"len\": 0.2025371828521435,\n",
       "            \"x\": 0.9934383202099737\n",
       "        },\n",
       "        \"name\": \"y1\",\n",
       "        \"yaxis\": \"y3\",\n",
       "        \"legendgroup\": \"y1\",\n",
       "        \"line\": {\n",
       "            \"color\": \"rgba(0, 154, 250, 1.000)\",\n",
       "            \"shape\": \"linear\",\n",
       "            \"dash\": \"solid\",\n",
       "            \"width\": 1\n",
       "        },\n",
       "        \"y\": [\n",
       "            -1000.0,\n",
       "            -729.0,\n",
       "            -512.0,\n",
       "            -343.0,\n",
       "            -216.0,\n",
       "            -125.0,\n",
       "            -64.0,\n",
       "            -27.0,\n",
       "            -8.0,\n",
       "            -1.0,\n",
       "            0.0,\n",
       "            1.0,\n",
       "            8.0,\n",
       "            27.0,\n",
       "            64.0,\n",
       "            125.0,\n",
       "            216.0,\n",
       "            343.0,\n",
       "            512.0,\n",
       "            729.0,\n",
       "            1000.0\n",
       "        ],\n",
       "        \"type\": \"scatter\",\n",
       "        \"x\": [\n",
       "            -10,\n",
       "            -9,\n",
       "            -8,\n",
       "            -7,\n",
       "            -6,\n",
       "            -5,\n",
       "            -4,\n",
       "            -3,\n",
       "            -2,\n",
       "            -1,\n",
       "            0,\n",
       "            1,\n",
       "            2,\n",
       "            3,\n",
       "            4,\n",
       "            5,\n",
       "            6,\n",
       "            7,\n",
       "            8,\n",
       "            9,\n",
       "            10\n",
       "        ]\n",
       "    },\n",
       "    {\n",
       "        \"showlegend\": true,\n",
       "        \"mode\": \"lines\",\n",
       "        \"xaxis\": \"x4\",\n",
       "        \"colorbar\": {\n",
       "            \"y\": 0.1388888888888889,\n",
       "            \"title\": \"\",\n",
       "            \"len\": 0.2025371828521435,\n",
       "            \"x\": 0.9934383202099737\n",
       "        },\n",
       "        \"name\": \"y1\",\n",
       "        \"yaxis\": \"y4\",\n",
       "        \"legendgroup\": \"y1\",\n",
       "        \"line\": {\n",
       "            \"color\": \"rgba(0, 154, 250, 1.000)\",\n",
       "            \"shape\": \"linear\",\n",
       "            \"dash\": \"solid\",\n",
       "            \"width\": 1\n",
       "        },\n",
       "        \"y\": [\n",
       "            10000.0,\n",
       "            6561.0,\n",
       "            4096.0,\n",
       "            2401.0,\n",
       "            1296.0,\n",
       "            625.0,\n",
       "            256.0,\n",
       "            81.0,\n",
       "            16.0,\n",
       "            1.0,\n",
       "            0.0,\n",
       "            1.0,\n",
       "            16.0,\n",
       "            81.0,\n",
       "            256.0,\n",
       "            625.0,\n",
       "            1296.0,\n",
       "            2401.0,\n",
       "            4096.0,\n",
       "            6561.0,\n",
       "            10000.0\n",
       "        ],\n",
       "        \"type\": \"scatter\",\n",
       "        \"x\": [\n",
       "            -10,\n",
       "            -9,\n",
       "            -8,\n",
       "            -7,\n",
       "            -6,\n",
       "            -5,\n",
       "            -4,\n",
       "            -3,\n",
       "            -2,\n",
       "            -1,\n",
       "            0,\n",
       "            1,\n",
       "            2,\n",
       "            3,\n",
       "            4,\n",
       "            5,\n",
       "            6,\n",
       "            7,\n",
       "            8,\n",
       "            9,\n",
       "            10\n",
       "        ]\n",
       "    }\n",
       "]\n",
       ", {\n",
       "    \"showlegend\": false,\n",
       "    \"paper_bgcolor\": \"rgba(255, 255, 255, 1.000)\",\n",
       "    \"xaxis1\": {\n",
       "        \"showticklabels\": true,\n",
       "        \"gridwidth\": 0.5,\n",
       "        \"tickvals\": [\n",
       "            -10.0,\n",
       "            -5.0,\n",
       "            0.0,\n",
       "            5.0,\n",
       "            10.0\n",
       "        ],\n",
       "        \"range\": [\n",
       "            -10.600000000000001,\n",
       "            10.600000000000001\n",
       "        ],\n",
       "        \"domain\": [\n",
       "            0.08063575386410031,\n",
       "            0.9934383202099737\n",
       "        ],\n",
       "        \"mirror\": false,\n",
       "        \"tickangle\": 0,\n",
       "        \"showline\": true,\n",
       "        \"ticktext\": [\n",
       "            \"-10\",\n",
       "            \"-5\",\n",
       "            \"0\",\n",
       "            \"5\",\n",
       "            \"10\"\n",
       "        ],\n",
       "        \"zeroline\": false,\n",
       "        \"tickfont\": {\n",
       "            \"color\": \"rgba(0, 0, 0, 1.000)\",\n",
       "            \"family\": \"sans-serif\",\n",
       "            \"size\": 11\n",
       "        },\n",
       "        \"zerolinecolor\": \"rgba(0, 0, 0, 1.000)\",\n",
       "        \"anchor\": \"y1\",\n",
       "        \"visible\": true,\n",
       "        \"ticks\": \"inside\",\n",
       "        \"tickmode\": \"array\",\n",
       "        \"linecolor\": \"rgba(0, 0, 0, 1.000)\",\n",
       "        \"showgrid\": true,\n",
       "        \"title\": \"\",\n",
       "        \"gridcolor\": \"rgba(0, 0, 0, 0.100)\",\n",
       "        \"titlefont\": {\n",
       "            \"color\": \"rgba(0, 0, 0, 1.000)\",\n",
       "            \"family\": \"sans-serif\",\n",
       "            \"size\": 15\n",
       "        },\n",
       "        \"tickcolor\": \"rgb(0, 0, 0)\",\n",
       "        \"type\": \"-\"\n",
       "    },\n",
       "    \"yaxis3\": {\n",
       "        \"showticklabels\": true,\n",
       "        \"gridwidth\": 0.5,\n",
       "        \"tickvals\": [\n",
       "            -1000.0,\n",
       "            -500.0,\n",
       "            0.0,\n",
       "            500.0,\n",
       "            1000.0\n",
       "        ],\n",
       "        \"range\": [\n",
       "            -1060.0,\n",
       "            1060.0\n",
       "        ],\n",
       "        \"domain\": [\n",
       "            0.28762029746281725,\n",
       "            0.49015748031496076\n",
       "        ],\n",
       "        \"mirror\": false,\n",
       "        \"tickangle\": 0,\n",
       "        \"showline\": true,\n",
       "        \"ticktext\": [\n",
       "            \"-1000\",\n",
       "            \"-500\",\n",
       "            \"0\",\n",
       "            \"500\",\n",
       "            \"1000\"\n",
       "        ],\n",
       "        \"zeroline\": false,\n",
       "        \"tickfont\": {\n",
       "            \"color\": \"rgba(0, 0, 0, 1.000)\",\n",
       "            \"family\": \"sans-serif\",\n",
       "            \"size\": 11\n",
       "        },\n",
       "        \"zerolinecolor\": \"rgba(0, 0, 0, 1.000)\",\n",
       "        \"anchor\": \"x3\",\n",
       "        \"visible\": true,\n",
       "        \"ticks\": \"inside\",\n",
       "        \"tickmode\": \"array\",\n",
       "        \"linecolor\": \"rgba(0, 0, 0, 1.000)\",\n",
       "        \"showgrid\": true,\n",
       "        \"title\": \"\",\n",
       "        \"gridcolor\": \"rgba(0, 0, 0, 0.100)\",\n",
       "        \"titlefont\": {\n",
       "            \"color\": \"rgba(0, 0, 0, 1.000)\",\n",
       "            \"family\": \"sans-serif\",\n",
       "            \"size\": 15\n",
       "        },\n",
       "        \"tickcolor\": \"rgb(0, 0, 0)\",\n",
       "        \"type\": \"-\"\n",
       "    },\n",
       "    \"height\": 400,\n",
       "    \"yaxis4\": {\n",
       "        \"showticklabels\": true,\n",
       "        \"gridwidth\": 0.5,\n",
       "        \"tickvals\": [\n",
       "            0.0,\n",
       "            2500.0,\n",
       "            5000.0,\n",
       "            7500.0,\n",
       "            10000.0\n",
       "        ],\n",
       "        \"range\": [\n",
       "            -300.0,\n",
       "            10300.0\n",
       "        ],\n",
       "        \"domain\": [\n",
       "            0.03762029746281716,\n",
       "            0.24015748031496065\n",
       "        ],\n",
       "        \"mirror\": false,\n",
       "        \"tickangle\": 0,\n",
       "        \"showline\": true,\n",
       "        \"ticktext\": [\n",
       "            \"0\",\n",
       "            \"2500\",\n",
       "            \"5000\",\n",
       "            \"7500\",\n",
       "            \"10000\"\n",
       "        ],\n",
       "        \"zeroline\": false,\n",
       "        \"tickfont\": {\n",
       "            \"color\": \"rgba(0, 0, 0, 1.000)\",\n",
       "            \"family\": \"sans-serif\",\n",
       "            \"size\": 11\n",
       "        },\n",
       "        \"zerolinecolor\": \"rgba(0, 0, 0, 1.000)\",\n",
       "        \"anchor\": \"x4\",\n",
       "        \"visible\": true,\n",
       "        \"ticks\": \"inside\",\n",
       "        \"tickmode\": \"array\",\n",
       "        \"linecolor\": \"rgba(0, 0, 0, 1.000)\",\n",
       "        \"showgrid\": true,\n",
       "        \"title\": \"\",\n",
       "        \"gridcolor\": \"rgba(0, 0, 0, 0.100)\",\n",
       "        \"titlefont\": {\n",
       "            \"color\": \"rgba(0, 0, 0, 1.000)\",\n",
       "            \"family\": \"sans-serif\",\n",
       "            \"size\": 15\n",
       "        },\n",
       "        \"tickcolor\": \"rgb(0, 0, 0)\",\n",
       "        \"type\": \"-\"\n",
       "    },\n",
       "    \"yaxis2\": {\n",
       "        \"showticklabels\": true,\n",
       "        \"gridwidth\": 0.5,\n",
       "        \"tickvals\": [\n",
       "            0.0,\n",
       "            25.0,\n",
       "            50.0,\n",
       "            75.0,\n",
       "            100.0\n",
       "        ],\n",
       "        \"range\": [\n",
       "            -3.0,\n",
       "            103.0\n",
       "        ],\n",
       "        \"domain\": [\n",
       "            0.5376202974628171,\n",
       "            0.7401574803149606\n",
       "        ],\n",
       "        \"mirror\": false,\n",
       "        \"tickangle\": 0,\n",
       "        \"showline\": true,\n",
       "        \"ticktext\": [\n",
       "            \"0\",\n",
       "            \"25\",\n",
       "            \"50\",\n",
       "            \"75\",\n",
       "            \"100\"\n",
       "        ],\n",
       "        \"zeroline\": false,\n",
       "        \"tickfont\": {\n",
       "            \"color\": \"rgba(0, 0, 0, 1.000)\",\n",
       "            \"family\": \"sans-serif\",\n",
       "            \"size\": 11\n",
       "        },\n",
       "        \"zerolinecolor\": \"rgba(0, 0, 0, 1.000)\",\n",
       "        \"anchor\": \"x2\",\n",
       "        \"visible\": true,\n",
       "        \"ticks\": \"inside\",\n",
       "        \"tickmode\": \"array\",\n",
       "        \"linecolor\": \"rgba(0, 0, 0, 1.000)\",\n",
       "        \"showgrid\": true,\n",
       "        \"title\": \"\",\n",
       "        \"gridcolor\": \"rgba(0, 0, 0, 0.100)\",\n",
       "        \"titlefont\": {\n",
       "            \"color\": \"rgba(0, 0, 0, 1.000)\",\n",
       "            \"family\": \"sans-serif\",\n",
       "            \"size\": 15\n",
       "        },\n",
       "        \"tickcolor\": \"rgb(0, 0, 0)\",\n",
       "        \"type\": \"-\"\n",
       "    },\n",
       "    \"xaxis3\": {\n",
       "        \"showticklabels\": true,\n",
       "        \"gridwidth\": 0.5,\n",
       "        \"tickvals\": [\n",
       "            -10.0,\n",
       "            -5.0,\n",
       "            0.0,\n",
       "            5.0,\n",
       "            10.0\n",
       "        ],\n",
       "        \"range\": [\n",
       "            -10.600000000000001,\n",
       "            10.600000000000001\n",
       "        ],\n",
       "        \"domain\": [\n",
       "            0.08063575386410031,\n",
       "            0.9934383202099737\n",
       "        ],\n",
       "        \"mirror\": false,\n",
       "        \"tickangle\": 0,\n",
       "        \"showline\": true,\n",
       "        \"ticktext\": [\n",
       "            \"-10\",\n",
       "            \"-5\",\n",
       "            \"0\",\n",
       "            \"5\",\n",
       "            \"10\"\n",
       "        ],\n",
       "        \"zeroline\": false,\n",
       "        \"tickfont\": {\n",
       "            \"color\": \"rgba(0, 0, 0, 1.000)\",\n",
       "            \"family\": \"sans-serif\",\n",
       "            \"size\": 11\n",
       "        },\n",
       "        \"zerolinecolor\": \"rgba(0, 0, 0, 1.000)\",\n",
       "        \"anchor\": \"y3\",\n",
       "        \"visible\": true,\n",
       "        \"ticks\": \"inside\",\n",
       "        \"tickmode\": \"array\",\n",
       "        \"linecolor\": \"rgba(0, 0, 0, 1.000)\",\n",
       "        \"showgrid\": true,\n",
       "        \"title\": \"\",\n",
       "        \"gridcolor\": \"rgba(0, 0, 0, 0.100)\",\n",
       "        \"titlefont\": {\n",
       "            \"color\": \"rgba(0, 0, 0, 1.000)\",\n",
       "            \"family\": \"sans-serif\",\n",
       "            \"size\": 15\n",
       "        },\n",
       "        \"tickcolor\": \"rgb(0, 0, 0)\",\n",
       "        \"type\": \"-\"\n",
       "    },\n",
       "    \"xaxis4\": {\n",
       "        \"showticklabels\": true,\n",
       "        \"gridwidth\": 0.5,\n",
       "        \"tickvals\": [\n",
       "            -10.0,\n",
       "            -5.0,\n",
       "            0.0,\n",
       "            5.0,\n",
       "            10.0\n",
       "        ],\n",
       "        \"range\": [\n",
       "            -10.600000000000001,\n",
       "            10.600000000000001\n",
       "        ],\n",
       "        \"domain\": [\n",
       "            0.08063575386410031,\n",
       "            0.9934383202099737\n",
       "        ],\n",
       "        \"mirror\": false,\n",
       "        \"tickangle\": 0,\n",
       "        \"showline\": true,\n",
       "        \"ticktext\": [\n",
       "            \"-10\",\n",
       "            \"-5\",\n",
       "            \"0\",\n",
       "            \"5\",\n",
       "            \"10\"\n",
       "        ],\n",
       "        \"zeroline\": false,\n",
       "        \"tickfont\": {\n",
       "            \"color\": \"rgba(0, 0, 0, 1.000)\",\n",
       "            \"family\": \"sans-serif\",\n",
       "            \"size\": 11\n",
       "        },\n",
       "        \"zerolinecolor\": \"rgba(0, 0, 0, 1.000)\",\n",
       "        \"anchor\": \"y4\",\n",
       "        \"visible\": true,\n",
       "        \"ticks\": \"inside\",\n",
       "        \"tickmode\": \"array\",\n",
       "        \"linecolor\": \"rgba(0, 0, 0, 1.000)\",\n",
       "        \"showgrid\": true,\n",
       "        \"title\": \"\",\n",
       "        \"gridcolor\": \"rgba(0, 0, 0, 0.100)\",\n",
       "        \"titlefont\": {\n",
       "            \"color\": \"rgba(0, 0, 0, 1.000)\",\n",
       "            \"family\": \"sans-serif\",\n",
       "            \"size\": 15\n",
       "        },\n",
       "        \"tickcolor\": \"rgb(0, 0, 0)\",\n",
       "        \"type\": \"-\"\n",
       "    },\n",
       "    \"yaxis1\": {\n",
       "        \"showticklabels\": true,\n",
       "        \"gridwidth\": 0.5,\n",
       "        \"tickvals\": [\n",
       "            -10.0,\n",
       "            -5.0,\n",
       "            0.0,\n",
       "            5.0,\n",
       "            10.0\n",
       "        ],\n",
       "        \"range\": [\n",
       "            -10.600000000000001,\n",
       "            10.600000000000001\n",
       "        ],\n",
       "        \"domain\": [\n",
       "            0.787620297462817,\n",
       "            0.9901574803149605\n",
       "        ],\n",
       "        \"mirror\": false,\n",
       "        \"tickangle\": 0,\n",
       "        \"showline\": true,\n",
       "        \"ticktext\": [\n",
       "            \"-10\",\n",
       "            \"-5\",\n",
       "            \"0\",\n",
       "            \"5\",\n",
       "            \"10\"\n",
       "        ],\n",
       "        \"zeroline\": false,\n",
       "        \"tickfont\": {\n",
       "            \"color\": \"rgba(0, 0, 0, 1.000)\",\n",
       "            \"family\": \"sans-serif\",\n",
       "            \"size\": 11\n",
       "        },\n",
       "        \"zerolinecolor\": \"rgba(0, 0, 0, 1.000)\",\n",
       "        \"anchor\": \"x1\",\n",
       "        \"visible\": true,\n",
       "        \"ticks\": \"inside\",\n",
       "        \"tickmode\": \"array\",\n",
       "        \"linecolor\": \"rgba(0, 0, 0, 1.000)\",\n",
       "        \"showgrid\": true,\n",
       "        \"title\": \"\",\n",
       "        \"gridcolor\": \"rgba(0, 0, 0, 0.100)\",\n",
       "        \"titlefont\": {\n",
       "            \"color\": \"rgba(0, 0, 0, 1.000)\",\n",
       "            \"family\": \"sans-serif\",\n",
       "            \"size\": 15\n",
       "        },\n",
       "        \"tickcolor\": \"rgb(0, 0, 0)\",\n",
       "        \"type\": \"-\"\n",
       "    },\n",
       "    \"annotations\": [],\n",
       "    \"xaxis2\": {\n",
       "        \"showticklabels\": true,\n",
       "        \"gridwidth\": 0.5,\n",
       "        \"tickvals\": [\n",
       "            -10.0,\n",
       "            -5.0,\n",
       "            0.0,\n",
       "            5.0,\n",
       "            10.0\n",
       "        ],\n",
       "        \"range\": [\n",
       "            -10.600000000000001,\n",
       "            10.600000000000001\n",
       "        ],\n",
       "        \"domain\": [\n",
       "            0.08063575386410031,\n",
       "            0.9934383202099737\n",
       "        ],\n",
       "        \"mirror\": false,\n",
       "        \"tickangle\": 0,\n",
       "        \"showline\": true,\n",
       "        \"ticktext\": [\n",
       "            \"-10\",\n",
       "            \"-5\",\n",
       "            \"0\",\n",
       "            \"5\",\n",
       "            \"10\"\n",
       "        ],\n",
       "        \"zeroline\": false,\n",
       "        \"tickfont\": {\n",
       "            \"color\": \"rgba(0, 0, 0, 1.000)\",\n",
       "            \"family\": \"sans-serif\",\n",
       "            \"size\": 11\n",
       "        },\n",
       "        \"zerolinecolor\": \"rgba(0, 0, 0, 1.000)\",\n",
       "        \"anchor\": \"y2\",\n",
       "        \"visible\": true,\n",
       "        \"ticks\": \"inside\",\n",
       "        \"tickmode\": \"array\",\n",
       "        \"linecolor\": \"rgba(0, 0, 0, 1.000)\",\n",
       "        \"showgrid\": true,\n",
       "        \"title\": \"\",\n",
       "        \"gridcolor\": \"rgba(0, 0, 0, 0.100)\",\n",
       "        \"titlefont\": {\n",
       "            \"color\": \"rgba(0, 0, 0, 1.000)\",\n",
       "            \"family\": \"sans-serif\",\n",
       "            \"size\": 15\n",
       "        },\n",
       "        \"tickcolor\": \"rgb(0, 0, 0)\",\n",
       "        \"type\": \"-\"\n",
       "    },\n",
       "    \"plot_bgcolor\": \"rgba(255, 255, 255, 1.000)\",\n",
       "    \"margin\": {\n",
       "        \"l\": 0,\n",
       "        \"b\": 20,\n",
       "        \"r\": 0,\n",
       "        \"t\": 20\n",
       "    },\n",
       "    \"width\": 600\n",
       "}\n",
       ");\n",
       "    });\n",
       "    </script>\n"
      ]
     },
     "execution_count": 27,
     "metadata": {},
     "output_type": "execute_result"
    }
   ],
   "source": [
    "plot(p1, p2, p3, p4, layout = (4, 1), legend = false)"
   ]
  },
  {
   "cell_type": "markdown",
   "metadata": {},
   "source": [
    "<br>\n",
    "\n",
    "## Other useful topics\n",
    "### [Multiple Dispatch](https://juliaacademy.com/courses/375479/lectures/5863643)\n",
    "#### Starting with the familiar\n",
    "We can declare functions in Julia without giving Julia any information about the types of the input arguments that function will receive. Then, Julia will determine on its own which input argument types make sense and which do not:"
   ]
  },
  {
   "cell_type": "code",
   "execution_count": 28,
   "metadata": {},
   "outputs": [
    {
     "name": "stdout",
     "output_type": "stream",
     "text": [
      "100\n",
      "[1, 4, 9]\n"
     ]
    }
   ],
   "source": [
    "f(x) = x.^2\n",
    "println(f(10))\n",
    "println(f([1, 2, 3]))"
   ]
  },
  {
   "cell_type": "markdown",
   "metadata": {},
   "source": [
    "<br>\n",
    "\n",
    "#### Specifying the types of our input arguments\n",
    "We can also explicitly state which types the input arguments are allowed to have. This is done by following the input argument name by a double colon and then the type keyword. For example:"
   ]
  },
  {
   "cell_type": "code",
   "execution_count": 29,
   "metadata": {},
   "outputs": [
    {
     "data": {
      "text/plain": [
       "foo (generic function with 1 method)"
      ]
     },
     "execution_count": 29,
     "metadata": {},
     "output_type": "execute_result"
    }
   ],
   "source": [
    "foo(x::String, y::String) = println(\"My inputs x and y are both strings!\")"
   ]
  },
  {
   "cell_type": "markdown",
   "metadata": {},
   "source": [
    "Using other input argument types raises an error:"
   ]
  },
  {
   "cell_type": "code",
   "execution_count": 30,
   "metadata": {},
   "outputs": [
    {
     "ename": "LoadError",
     "evalue": "MethodError: no method matching foo(::Int64, ::Int64)",
     "output_type": "error",
     "traceback": [
      "MethodError: no method matching foo(::Int64, ::Int64)",
      "",
      "Stacktrace:",
      " [1] top-level scope",
      "   @ In[30]:1"
     ]
    }
   ],
   "source": [
    "foo(3, 4)"
   ]
  },
  {
   "cell_type": "markdown",
   "metadata": {},
   "source": [
    "If you re-declare the function using another type, the old declaration doesn't get overwritten - it gets updated, so you can use multiple input types:"
   ]
  },
  {
   "cell_type": "code",
   "execution_count": 31,
   "metadata": {},
   "outputs": [
    {
     "name": "stdout",
     "output_type": "stream",
     "text": [
      "My inputs x and y are both integers!\n",
      "My inputs x and y are both strings!\n"
     ]
    }
   ],
   "source": [
    "foo(x::Int, y::Int) = println(\"My inputs x and y are both integers!\")\n",
    "\n",
    "foo(3, 4)\n",
    "foo(\"hello\", \"hi!\")"
   ]
  },
  {
   "cell_type": "markdown",
   "metadata": {},
   "source": [
    "What was done here is that an additional ***method*** was added to the ***generic function*** `foo`. \\\n",
    "A **generic** function is the abstract concept associated with a particular operation. \\\n",
    "A **method** is a specific implementation of a generic function for particular argument types. \\\n",
    "These are the methods for `foo`:"
   ]
  },
  {
   "cell_type": "code",
   "execution_count": 32,
   "metadata": {},
   "outputs": [
    {
     "data": {
      "text/html": [
       "# 2 methods for generic function <b>foo</b> from \u001b[33mMain\u001b[39m:<ul><li> foo(x::<b>Int64</b>, y::<b>Int64</b>) in Main at In[31]:1</li> <li> foo(x::<b>String</b>, y::<b>String</b>) in Main at In[29]:1</li> </ul>"
      ],
      "text/plain": [
       "# 2 methods for generic function \"foo\" from \u001b[33mMain\u001b[39m:\n",
       " [1] foo(\u001b[90mx\u001b[39m::\u001b[1mInt64\u001b[22m, \u001b[90my\u001b[39m::\u001b[1mInt64\u001b[22m)\n",
       "\u001b[90m     @\u001b[39m \u001b[90m\u001b[4mIn[31]:1\u001b[24m\u001b[39m\n",
       " [2] foo(\u001b[90mx\u001b[39m::\u001b[1mString\u001b[22m, \u001b[90my\u001b[39m::\u001b[1mString\u001b[22m)\n",
       "\u001b[90m     @\u001b[39m \u001b[90m\u001b[4mIn[29]:1\u001b[24m\u001b[39m"
      ]
     },
     "execution_count": 32,
     "metadata": {},
     "output_type": "execute_result"
    }
   ],
   "source": [
    "methods(foo)"
   ]
  },
  {
   "cell_type": "markdown",
   "metadata": {},
   "source": [
    "So, we now can call `foo` on integers or strings. When you call `foo` on a particular set of arguments, Julia will infer the types of the inputs and dispatch the appropriate method. \\\n",
    "**This is multiple dispatch.**\n",
    "\n",
    "<br>\n",
    "\n",
    "To see which method is being dispatched when we call a generic function, we can use the @which macro:"
   ]
  },
  {
   "cell_type": "code",
   "execution_count": 33,
   "metadata": {},
   "outputs": [
    {
     "data": {
      "text/html": [
       "foo(x::<b>Int64</b>, y::<b>Int64</b>) in Main at In[31]:1"
      ],
      "text/plain": [
       "foo(\u001b[90mx\u001b[39m::\u001b[1mInt64\u001b[22m, \u001b[90my\u001b[39m::\u001b[1mInt64\u001b[22m)\n",
       "\u001b[90m     @\u001b[39m \u001b[90mMain\u001b[39m \u001b[90m\u001b[4mIn[31]:1\u001b[24m\u001b[39m"
      ]
     },
     "execution_count": 33,
     "metadata": {},
     "output_type": "execute_result"
    }
   ],
   "source": [
    "@which foo(3, 4)"
   ]
  },
  {
   "cell_type": "markdown",
   "metadata": {},
   "source": [
    "We can also add a fallback, duck-typed method for foo that takes inputs of any type:"
   ]
  },
  {
   "cell_type": "code",
   "execution_count": 35,
   "metadata": {},
   "outputs": [
    {
     "name": "stdout",
     "output_type": "stream",
     "text": [
      "I accept inputs of any type!\n"
     ]
    }
   ],
   "source": [
    "foo(x, y) = println(\"I accept inputs of any type!\")\n",
    "v = rand(3)\n",
    "foo(v, v)"
   ]
  },
  {
   "cell_type": "markdown",
   "metadata": {},
   "source": [
    "<br>\n",
    "\n",
    "#### Exercises\n",
    "##### 9.2\n",
    "Extend the function `foo`, adding a method that takes only one input argument, which is of type `Bool`, and returns `\"foo with one boolean!\"`"
   ]
  },
  {
   "cell_type": "code",
   "execution_count": 46,
   "metadata": {},
   "outputs": [
    {
     "data": {
      "text/plain": [
       "foo (generic function with 4 methods)"
      ]
     },
     "execution_count": 46,
     "metadata": {},
     "output_type": "execute_result"
    }
   ],
   "source": [
    "foo(x::Bool) = \"foo with one boolean!\""
   ]
  },
  {
   "cell_type": "markdown",
   "metadata": {},
   "source": [
    "<br>\n",
    "\n",
    "##### 9.2\n",
    "Check that the method being dispatched when you execute\n",
    "\n",
    "```julia\n",
    "foo(true)\n",
    "```\n",
    "\n",
    "is the one you wrote."
   ]
  },
  {
   "cell_type": "code",
   "execution_count": 47,
   "metadata": {},
   "outputs": [],
   "source": [
    "@assert foo(true) == \"foo with one boolean!\""
   ]
  },
  {
   "cell_type": "markdown",
   "metadata": {},
   "source": [
    "<br>\n",
    "\n",
    "### [Structs in Julia](https://juliaacademy.com/courses/375479/lectures/38884488)\n",
    "Structs are the most commonly used type in Julia as they allow us to odefine other custom types, similar to classes in OOP languages. \\\n",
    "A simple example:"
   ]
  },
  {
   "cell_type": "code",
   "execution_count": 1,
   "metadata": {},
   "outputs": [],
   "source": [
    "struct MyObj\n",
    "    field1\n",
    "    field2\n",
    "end"
   ]
  },
  {
   "cell_type": "code",
   "execution_count": 2,
   "metadata": {},
   "outputs": [
    {
     "data": {
      "text/plain": [
       "MyObj(\"Hello\", \"World\")"
      ]
     },
     "execution_count": 2,
     "metadata": {},
     "output_type": "execute_result"
    }
   ],
   "source": [
    "myobj1 = MyObj(\"Hello\",\"World\")"
   ]
  },
  {
   "cell_type": "markdown",
   "metadata": {},
   "source": [
    "You can access the specific fields by name:"
   ]
  },
  {
   "cell_type": "code",
   "execution_count": 3,
   "metadata": {},
   "outputs": [
    {
     "data": {
      "text/plain": [
       "\"Hello\""
      ]
     },
     "execution_count": 3,
     "metadata": {},
     "output_type": "execute_result"
    }
   ],
   "source": [
    "myobj1.field1"
   ]
  },
  {
   "cell_type": "markdown",
   "metadata": {},
   "source": [
    "Structs are immutable by default, so in order to make a mutable struct you need to use the homonymous keyword:"
   ]
  },
  {
   "cell_type": "code",
   "execution_count": 5,
   "metadata": {},
   "outputs": [],
   "source": [
    "# We define which types the fields must take. If this is not respected, an error will occur.\n",
    "mutable struct Person \n",
    "    name::String \n",
    "    age::Float64 \n",
    "end"
   ]
  },
  {
   "cell_type": "markdown",
   "metadata": {},
   "source": [
    "Now you can create a Person and change their characteristics:"
   ]
  },
  {
   "cell_type": "code",
   "execution_count": 15,
   "metadata": {},
   "outputs": [
    {
     "data": {
      "text/plain": [
       "28.0"
      ]
     },
     "execution_count": 15,
     "metadata": {},
     "output_type": "execute_result"
    }
   ],
   "source": [
    "john = Person(\"John\", 27)\n",
    "john.age += 1"
   ]
  },
  {
   "cell_type": "markdown",
   "metadata": {},
   "source": [
    "The `Base.@kwdef` macro is a helpful tool that enables the use of default values in structs, and also keyword-based constructors."
   ]
  },
  {
   "cell_type": "code",
   "execution_count": 16,
   "metadata": {},
   "outputs": [
    {
     "data": {
      "text/plain": [
       "Person(\"John Doe\", 30.0)"
      ]
     },
     "execution_count": 16,
     "metadata": {},
     "output_type": "execute_result"
    }
   ],
   "source": [
    "@kwdef mutable struct Person \n",
    "    name::String = \"John Doe\"\n",
    "    age::Float64 = 30\n",
    "end\n",
    "\n",
    "Person()"
   ]
  },
  {
   "cell_type": "markdown",
   "metadata": {},
   "source": [
    "You can also create functions that work directly with structs:"
   ]
  },
  {
   "cell_type": "code",
   "execution_count": 17,
   "metadata": {},
   "outputs": [
    {
     "data": {
      "text/plain": [
       "29.0"
      ]
     },
     "execution_count": 17,
     "metadata": {},
     "output_type": "execute_result"
    }
   ],
   "source": [
    "function birthday(person::Person)\n",
    "    person.age += 1\n",
    "end\n",
    "\n",
    "birthday(john)"
   ]
  },
  {
   "cell_type": "markdown",
   "metadata": {},
   "source": [
    "<br>\n",
    "\n",
    "### [Julia is fast!](https://juliaacademy.com/courses/375479/lectures/5863644)\n",
    "You can check the time a code line takes to run with the `@time` macro:"
   ]
  },
  {
   "cell_type": "code",
   "execution_count": 29,
   "metadata": {},
   "outputs": [
    {
     "name": "stdout",
     "output_type": "stream",
     "text": [
      "  0.068690 seconds (2 allocations: 76.294 MiB, 26.92% gc time)\n"
     ]
    },
    {
     "data": {
      "text/plain": [
       "5.000563883384865e6"
      ]
     },
     "execution_count": 29,
     "metadata": {},
     "output_type": "execute_result"
    }
   ],
   "source": [
    "@time sum(rand(10^7))"
   ]
  },
  {
   "cell_type": "markdown",
   "metadata": {},
   "source": [
    "<br>\n",
    "\n",
    "### [Basic Linear Algebra](https://juliaacademy.com/courses/375479/lectures/5863646)\n",
    "First, define a random matrix and a vector of ones:"
   ]
  },
  {
   "cell_type": "code",
   "execution_count": 30,
   "metadata": {},
   "outputs": [
    {
     "data": {
      "text/plain": [
       "3-element Vector{Float64}:\n",
       " 1.0\n",
       " 1.0\n",
       " 1.0"
      ]
     },
     "execution_count": 30,
     "metadata": {},
     "output_type": "execute_result"
    }
   ],
   "source": [
    "A = rand(1:4,3,3) # Define a random matrix\n",
    "x = fill(1.0, (3,)) # Define a vector of ones"
   ]
  },
  {
   "cell_type": "markdown",
   "metadata": {},
   "source": [
    "#### Multiplication"
   ]
  },
  {
   "cell_type": "code",
   "execution_count": 31,
   "metadata": {},
   "outputs": [
    {
     "data": {
      "text/plain": [
       "3-element Vector{Float64}:\n",
       " 8.0\n",
       " 9.0\n",
       " 8.0"
      ]
     },
     "execution_count": 31,
     "metadata": {},
     "output_type": "execute_result"
    }
   ],
   "source": [
    "b = A*x"
   ]
  },
  {
   "cell_type": "markdown",
   "metadata": {},
   "source": [
    "#### Transposition\n",
    "There are two methods, either the function or the `'` operator:"
   ]
  },
  {
   "cell_type": "code",
   "execution_count": 34,
   "metadata": {},
   "outputs": [
    {
     "data": {
      "text/plain": [
       "3×3 transpose(::Matrix{Int64}) with eltype Int64:\n",
       " 1  4  4\n",
       " 3  4  3\n",
       " 4  1  1"
      ]
     },
     "execution_count": 34,
     "metadata": {},
     "output_type": "execute_result"
    }
   ],
   "source": [
    "transpose(A)"
   ]
  },
  {
   "cell_type": "code",
   "execution_count": 32,
   "metadata": {},
   "outputs": [
    {
     "data": {
      "text/plain": [
       "3×3 adjoint(::Matrix{Int64}) with eltype Int64:\n",
       " 1  4  4\n",
       " 3  4  3\n",
       " 4  1  1"
      ]
     },
     "execution_count": 32,
     "metadata": {},
     "output_type": "execute_result"
    }
   ],
   "source": [
    "A'"
   ]
  },
  {
   "cell_type": "markdown",
   "metadata": {},
   "source": [
    "#### Transposed Multiplication"
   ]
  },
  {
   "cell_type": "code",
   "execution_count": 35,
   "metadata": {},
   "outputs": [
    {
     "data": {
      "text/plain": [
       "3×3 Matrix{Int64}:\n",
       " 33  31  12\n",
       " 31  34  19\n",
       " 12  19  18"
      ]
     },
     "execution_count": 35,
     "metadata": {},
     "output_type": "execute_result"
    }
   ],
   "source": [
    "A'A"
   ]
  },
  {
   "cell_type": "markdown",
   "metadata": {},
   "source": [
    "#### Solving linear systems\n",
    "The `\\` function solves the problem $Ax = b$ for a square matrix $A$:"
   ]
  },
  {
   "cell_type": "code",
   "execution_count": 36,
   "metadata": {},
   "outputs": [
    {
     "data": {
      "text/plain": [
       "3-element Vector{Float64}:\n",
       " 1.0\n",
       " 1.0\n",
       " 1.0"
      ]
     },
     "execution_count": 36,
     "metadata": {},
     "output_type": "execute_result"
    }
   ],
   "source": [
    "A\\b"
   ]
  },
  {
   "cell_type": "markdown",
   "metadata": {},
   "source": [
    "For a *tall* matrix, `A\\b` gives the least squares solution:"
   ]
  },
  {
   "cell_type": "code",
   "execution_count": 37,
   "metadata": {},
   "outputs": [
    {
     "data": {
      "text/plain": [
       "2-element Vector{Float64}:\n",
       " 15.648867165050692\n",
       " -1.5108975977499264"
      ]
     },
     "execution_count": 37,
     "metadata": {},
     "output_type": "execute_result"
    }
   ],
   "source": [
    "Atall = rand(3,2)\n",
    "Atall\\b"
   ]
  },
  {
   "cell_type": "markdown",
   "metadata": {},
   "source": [
    "and the minimum norm least squares solution if we have a rank-deficient least squares problem"
   ]
  },
  {
   "cell_type": "code",
   "execution_count": 42,
   "metadata": {},
   "outputs": [
    {
     "data": {
      "text/plain": [
       "3×2 Matrix{Float64}:\n",
       " 0.013071  0.013071\n",
       " 0.602779  0.602779\n",
       " 0.705198  0.705198"
      ]
     },
     "execution_count": 42,
     "metadata": {},
     "output_type": "execute_result"
    }
   ],
   "source": [
    "v = rand(3)\n",
    "rankdef = hcat(v, v)"
   ]
  },
  {
   "cell_type": "markdown",
   "metadata": {},
   "source": [
    "Julia also gives us the minimum norm solution when we have an underdetermined solution (a \"short\" matrix)"
   ]
  },
  {
   "cell_type": "code",
   "execution_count": 43,
   "metadata": {},
   "outputs": [
    {
     "data": {
      "text/plain": [
       "2-element Vector{Float64}:\n",
       " 6.488693222912399\n",
       " 6.488693222912399"
      ]
     },
     "execution_count": 43,
     "metadata": {},
     "output_type": "execute_result"
    }
   ],
   "source": [
    "rankdef\\b"
   ]
  },
  {
   "cell_type": "code",
   "execution_count": 44,
   "metadata": {},
   "outputs": [
    {
     "data": {
      "text/plain": [
       "2×3 Matrix{Float64}:\n",
       " 0.991731    0.828396  0.724847\n",
       " 0.00584106  0.620233  0.677617"
      ]
     },
     "execution_count": 44,
     "metadata": {},
     "output_type": "execute_result"
    }
   ],
   "source": [
    "bshort = rand(2)\n",
    "Ashort = rand(2, 3)"
   ]
  },
  {
   "cell_type": "code",
   "execution_count": 45,
   "metadata": {},
   "outputs": [
    {
     "data": {
      "text/plain": [
       "3-element Vector{Float64}:\n",
       " -0.21290269435647918\n",
       "  0.5460091696689091\n",
       "  0.6364576671824542"
      ]
     },
     "execution_count": 45,
     "metadata": {},
     "output_type": "execute_result"
    }
   ],
   "source": [
    "Ashort\\bshort"
   ]
  },
  {
   "cell_type": "markdown",
   "metadata": {},
   "source": [
    "<br>\n",
    "\n",
    "#### Exercises\n",
    "##### 10.1\n",
    "Take the inner product (or \"dot\" product) of a vector `v` with itself and assign it to variable `dot_v`."
   ]
  },
  {
   "cell_type": "code",
   "execution_count": 54,
   "metadata": {},
   "outputs": [],
   "source": [
    "v = [1,2,3]\n",
    "dot_v = v'v\n",
    "@assert dot_v == 14"
   ]
  },
  {
   "cell_type": "markdown",
   "metadata": {},
   "source": [
    "<br>\n",
    "\n",
    "##### 10.2\n",
    "Take the outer product of a vector v with itself and assign it to variable `outer_v`."
   ]
  },
  {
   "cell_type": "code",
   "execution_count": 62,
   "metadata": {},
   "outputs": [],
   "source": [
    "outer_v = v.*v'\n",
    "@assert outer_v == [1 2 3\n",
    "                    2 4 6\n",
    "                    3 6 9]"
   ]
  },
  {
   "cell_type": "markdown",
   "metadata": {},
   "source": [
    "<br>\n",
    "\n",
    "##### 10.3\n",
    "Use [LinearAlgebra.cross](https://docs.julialang.org/en/v1/stdlib/LinearAlgebra/#LinearAlgebra.cross) to compute the cross product of a vector v with itself and assign it to variable `cross_v`."
   ]
  },
  {
   "cell_type": "code",
   "execution_count": 64,
   "metadata": {},
   "outputs": [
    {
     "name": "stderr",
     "output_type": "stream",
     "text": [
      "\u001b[32m\u001b[1m    Updating\u001b[22m\u001b[39m registry at `~/.julia/registries/General.toml`\n",
      "\u001b[32m\u001b[1m   Resolving\u001b[22m\u001b[39m package versions...\n",
      "\u001b[32m\u001b[1m    Updating\u001b[22m\u001b[39m `~/.julia/environments/v1.10/Project.toml`\n",
      "  \u001b[90m[37e2e46d] \u001b[39m\u001b[92m+ LinearAlgebra\u001b[39m\n",
      "\u001b[32m\u001b[1m  No Changes\u001b[22m\u001b[39m to `~/.julia/environments/v1.10/Manifest.toml`\n"
     ]
    }
   ],
   "source": [
    "using Pkg\n",
    "Pkg.add(\"LinearAlgebra\")\n",
    "using LinearAlgebra"
   ]
  },
  {
   "cell_type": "code",
   "execution_count": 65,
   "metadata": {},
   "outputs": [],
   "source": [
    "cross_v = cross(v,v)\n",
    "@assert cross_v == [0, 0, 0]"
   ]
  },
  {
   "cell_type": "markdown",
   "metadata": {},
   "source": [
    "<br>\n",
    "\n",
    "### [Factorisations](https://juliaacademy.com/courses/375479/lectures/5863649)\n",
    "Follow [here.](https://github.com/JuliaAcademy/Introduction-to-Julia/blob/main/11%20-%20Factorizations%20and%20other%20fun.ipynb)"
   ]
  },
  {
   "cell_type": "markdown",
   "metadata": {},
   "source": []
  }
 ],
 "metadata": {
  "kernelspec": {
   "display_name": "Julia 1.10.3",
   "language": "julia",
   "name": "julia-1.10"
  },
  "language_info": {
   "file_extension": ".jl",
   "mimetype": "application/julia",
   "name": "julia",
   "version": "1.10.3"
  }
 },
 "nbformat": 4,
 "nbformat_minor": 2
}
